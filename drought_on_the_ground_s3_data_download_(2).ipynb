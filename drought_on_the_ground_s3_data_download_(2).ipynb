{
  "cells": [
    {
      "cell_type": "markdown",
      "metadata": {
        "id": "view-in-github",
        "colab_type": "text"
      },
      "source": [
        "<a href=\"https://colab.research.google.com/github/ilovec8763/Atrial-Fibrillation-AFib-binary-classifier/blob/main/drought_on_the_ground_s3_data_download_(2).ipynb\" target=\"_parent\"><img src=\"https://colab.research.google.com/assets/colab-badge.svg\" alt=\"Open In Colab\"/></a>"
      ]
    },
    {
      "cell_type": "code",
      "source": [
        "\"\"\"\n",
        "-content(原本colab 已經存在的根目錄)\n",
        "  |\n",
        "  |\n",
        "  |-dataset\n",
        "  |  |--split_train\n",
        "  |  |\n",
        "  |  |--split_validation\n",
        "  |-Test.csv\n",
        "  |-Train.csv\n",
        "\"\"\""
      ],
      "metadata": {
        "id": "RERp8dwmVWP9",
        "colab": {
          "base_uri": "https://localhost:8080/",
          "height": 53
        },
        "outputId": "7dd72bfd-270a-4d55-917b-0e1cec64ed5b"
      },
      "execution_count": null,
      "outputs": [
        {
          "output_type": "execute_result",
          "data": {
            "text/plain": [
              "'\\n-content(原本colab 已經存在的根目錄)\\n  |\\n  |\\n  |-dataset\\n  |  |--split_train\\n  |  |\\n  |  |--split_validation\\n  |-Test.csv\\n  |-Train.csv\\n'"
            ],
            "application/vnd.google.colaboratory.intrinsic+json": {
              "type": "string"
            }
          },
          "metadata": {},
          "execution_count": 1
        }
      ]
    },
    {
      "cell_type": "code",
      "execution_count": 1,
      "metadata": {
        "colab": {
          "base_uri": "https://localhost:8080/"
        },
        "id": "4cMQHfMj5og5",
        "outputId": "d3abd1bb-34a9-4ccc-e66c-25ff247909b9"
      },
      "outputs": [
        {
          "output_type": "stream",
          "name": "stdout",
          "text": [
            "Drive already mounted at /gdrive; to attempt to forcibly remount, call drive.mount(\"/gdrive\", force_remount=True).\n"
          ]
        }
      ],
      "source": [
        "from google.colab import drive\n",
        "drive.mount('/gdrive')\n"
      ]
    },
    {
      "cell_type": "code",
      "execution_count": null,
      "metadata": {
        "colab": {
          "base_uri": "https://localhost:8080/"
        },
        "id": "Kh5DtERa6MAY",
        "outputId": "70f0ff8c-b488-4df0-d446-cfb0c7a0f9dd"
      },
      "outputs": [
        {
          "output_type": "stream",
          "name": "stdout",
          "text": [
            "/gdrive/My Drive\n"
          ]
        }
      ],
      "source": [
        "%cd /gdrive/My Drive/"
      ]
    },
    {
      "cell_type": "code",
      "source": [
        "import os\n",
        "\n",
        "# 獲取當前工作目錄\n",
        "current_directory = os.getcwd()\n",
        "\n",
        "# 列出當前目錄中的檔案和資料夾\n",
        "contents = os.listdir(current_directory)\n",
        "\n",
        "# 顯示列表中的檔案和資料夾\n",
        "for item in contents:\n",
        "    print(item)\n",
        "\n"
      ],
      "metadata": {
        "colab": {
          "base_uri": "https://localhost:8080/"
        },
        "id": "su4e3AjvnFCT",
        "outputId": "bce478fe-3ee7-4da2-cf73-d52c4269aa2c"
      },
      "execution_count": 2,
      "outputs": [
        {
          "output_type": "stream",
          "name": "stdout",
          "text": [
            ".config\n",
            "dataset\n",
            ".ipynb_checkpoints\n",
            "catboost_info\n",
            "Test.csv\n",
            "Train.csv\n",
            "sample_data\n"
          ]
        }
      ]
    },
    {
      "cell_type": "code",
      "execution_count": null,
      "metadata": {
        "colab": {
          "base_uri": "https://localhost:8080/"
        },
        "id": "3v5uzuNj2rUo",
        "outputId": "9133574c-d283-4837-807d-10436ae7c3c6"
      },
      "outputs": [
        {
          "output_type": "stream",
          "name": "stdout",
          "text": [
            " \u001b[0m\u001b[01;34mblogger/\u001b[0m/                     \u001b[01;34m'ml paper/'\u001b[0m/      \u001b[01;34m照片/\u001b[0m/\n",
            " \u001b[01;34mcatboost_info/\u001b[0m/                \u001b[01;34mN5/\u001b[0m/            \u001b[01;34m'照片 (1)/'\u001b[0m/\n",
            "\u001b[01;34m'Colab Notebooks/'\u001b[0m/             \u001b[01;34mZindi_photos/\u001b[0m/   \u001b[01;34m陳老師祝福影片/\u001b[0m/\n",
            " \u001b[01;34mECG-HRV/\u001b[0m/                      \u001b[01;34m單純覺得有趣/\u001b[0m/\n",
            "\u001b[01;34m'First step for everything/'\u001b[0m/   \u001b[01;34m影印/\u001b[0m/\n",
            "************\n",
            "\u001b[0m\u001b[01;34mZindi_photos/train/\u001b[0m/\n"
          ]
        }
      ],
      "source": [
        "# 創建新文件夾\n",
        "#%mkdir Zindi_photos\n",
        "# 並列出當前目錄下的文件夾\n",
        "%ls -d */\n",
        "print(\"************\")\n",
        "# 列出新建目錄下的文件夾\n",
        "%ls -d Zindi_photos/*/"
      ]
    },
    {
      "cell_type": "code",
      "execution_count": 4,
      "metadata": {
        "colab": {
          "base_uri": "https://localhost:8080/",
          "height": 36
        },
        "id": "ngaz28q78ZnJ",
        "outputId": "57ea8690-7e4a-41bc-b931-aa6c021b3940"
      },
      "outputs": [
        {
          "output_type": "execute_result",
          "data": {
            "text/plain": [
              "'/content'"
            ],
            "application/vnd.google.colaboratory.intrinsic+json": {
              "type": "string"
            }
          },
          "metadata": {},
          "execution_count": 4
        }
      ],
      "source": [
        "\n",
        "import os\n",
        "os.getcwd()"
      ]
    },
    {
      "cell_type": "code",
      "source": [
        "# 刪除特定目錄下、特定副檔名的檔案，不會遞迴地刪除子目錄下的檔案\n",
        "\n",
        "def delete_files_with_extension(folder_path, target_extension):\n",
        "    try:\n",
        "        # 檢查資料夾是否存在\n",
        "        if not os.path.exists(folder_path):\n",
        "            print(f\"資料夾 '{folder_path}' 不存在。\")\n",
        "            return\n",
        "\n",
        "        # 遍歷資料夾中的所有檔案\n",
        "        for filename in os.listdir(folder_path):\n",
        "            file_path = os.path.join(folder_path, filename)\n",
        "\n",
        "            # 檢查是否為指定副檔名的檔案\n",
        "            if filename.endswith(target_extension):\n",
        "                # 刪除檔案\n",
        "                os.remove(file_path)\n",
        "                print(f\"已刪除檔案: {file_path}\")\n",
        "\n",
        "        print(\"刪除完成。\")\n",
        "\n",
        "    except Exception as e:\n",
        "        print(f\"刪除檔案時出現錯誤: {str(e)}\")\n",
        "\n",
        "# 要刪除的副檔名和目標資料夾的路徑\n",
        "folder_path = 'your_folder_path'  # 請替換成目標資料夾的實際路徑\n",
        "target_extension = '.txt'  # 請替換成要刪除的副檔名，例如 '.txt'、'.jpg' 等\n",
        "\n",
        "\"\"\"\n",
        "# 呼叫函數以刪除檔案\n",
        "delete_files_with_extension(folder_path, target_extension)\n",
        "\"\"\""
      ],
      "metadata": {
        "colab": {
          "base_uri": "https://localhost:8080/",
          "height": 36
        },
        "id": "aCNFyQMAjG8w",
        "outputId": "acbfb8b7-925a-4746-f541-db67f5d39d81"
      },
      "execution_count": null,
      "outputs": [
        {
          "output_type": "execute_result",
          "data": {
            "text/plain": [
              "'\\n# 呼叫函數以刪除檔案\\ndelete_files_with_extension(folder_path, target_extension)\\n'"
            ],
            "application/vnd.google.colaboratory.intrinsic+json": {
              "type": "string"
            }
          },
          "metadata": {},
          "execution_count": 7
        }
      ]
    },
    {
      "cell_type": "code",
      "source": [
        "\"\"\"\n",
        "這裡刪掉不小心存到My Drive根目錄的jpg檔\n",
        "\"\"\"\n",
        "#target_extension = 'JPG'\n",
        "#delete_files_with_extension('/gdrive/My Drive',target_extension )"
      ],
      "metadata": {
        "colab": {
          "base_uri": "https://localhost:8080/",
          "height": 36
        },
        "id": "RNCbgxs-jODb",
        "outputId": "2559a90f-d1fd-4c09-e663-5c040514535e"
      },
      "execution_count": null,
      "outputs": [
        {
          "output_type": "execute_result",
          "data": {
            "text/plain": [
              "'\\n這裡刪掉不小心存到My Drive根目錄的jpg檔\\n'"
            ],
            "application/vnd.google.colaboratory.intrinsic+json": {
              "type": "string"
            }
          },
          "metadata": {},
          "execution_count": 8
        }
      ]
    },
    {
      "cell_type": "code",
      "source": [
        "# 這個用一次之後，若沒有要重新上傳就不要動\n",
        "\"\"\"\n",
        "import zipfile\n",
        "import os\n",
        "\n",
        "# 要解壓縮的ZIP文件的路徑\n",
        "zip_file_path = 'Zindi_photos/train.zip' # 這是我雲端硬碟的路徑\n",
        "\n",
        "# 要存儲解壓縮內容的目標資料夾\n",
        "target_folder = 'Zindi_photos/train'\n",
        "\n",
        "# 創建目標資料夾（如果不存在）\n",
        "if not os.path.exists(target_folder):\n",
        "    os.makedirs(target_folder)\n",
        "\n",
        "# 使用 zipfile 模組打開 ZIP 文件\n",
        "with zipfile.ZipFile(zip_file_path, 'r') as zip_ref:\n",
        "    # 解壓縮 ZIP 文件中的所有內容到目標資料夾\n",
        "    zip_ref.extractall(target_folder)\n",
        "\n",
        "print(f'已解壓縮至目標資料夾: {target_folder}')\n",
        "\"\"\""
      ],
      "metadata": {
        "colab": {
          "base_uri": "https://localhost:8080/",
          "height": 88
        },
        "id": "JOsbYsJhOl_o",
        "outputId": "b4151fc6-be19-4ba0-e2a5-75b6e9412c69"
      },
      "execution_count": null,
      "outputs": [
        {
          "output_type": "execute_result",
          "data": {
            "text/plain": [
              "\"\\nimport zipfile\\nimport os\\n\\n# 要解壓縮的ZIP文件的路徑\\nzip_file_path = 'Zindi_photos/train.zip' # 這是我雲端硬碟的路徑\\n\\n# 要存儲解壓縮內容的目標資料夾\\ntarget_folder = 'Zindi_photos/train'\\n\\n# 創建目標資料夾（如果不存在）\\nif not os.path.exists(target_folder):\\n    os.makedirs(target_folder)\\n\\n# 使用 zipfile 模組打開 ZIP 文件\\nwith zipfile.ZipFile(zip_file_path, 'r') as zip_ref:\\n    # 解壓縮 ZIP 文件中的所有內容到目標資料夾\\n    zip_ref.extractall(target_folder)\\n\\nprint(f'已解壓縮至目標資料夾: {target_folder}')\\n\""
            ],
            "application/vnd.google.colaboratory.intrinsic+json": {
              "type": "string"
            }
          },
          "metadata": {},
          "execution_count": 9
        }
      ]
    },
    {
      "cell_type": "code",
      "execution_count": 5,
      "metadata": {
        "id": "V8ITAaOgPKcl"
      },
      "outputs": [],
      "source": [
        "import pandas as pd"
      ]
    },
    {
      "cell_type": "code",
      "execution_count": 6,
      "metadata": {
        "colab": {
          "base_uri": "https://localhost:8080/",
          "height": 423
        },
        "id": "9kTzQH-LPNS6",
        "outputId": "0a9a648b-228d-4d3a-ca16-46e58b3eaa21",
        "scrolled": true
      },
      "outputs": [
        {
          "output_type": "display_data",
          "data": {
            "text/plain": [
              "                  ID                         filename growth_stage damage  \\\n",
              "0      ID_1S8OOWQYCB   L427F01330C01S03961Rp02052.jpg            S     WD   \n",
              "1      ID_0MD959MIZ0       L1083F00930C39S12674Ip.jpg            V      G   \n",
              "2      ID_JRJCI4Q11V       24_initial_1_1463_1463.JPG            V      G   \n",
              "3      ID_DBO3ZGI1GM   L341F00167C01S00324Rp14178.jpg            M     DR   \n",
              "4      ID_ORZLWTEUUS       L1084F02394C39S13931Ip.jpg            V      G   \n",
              "...              ...                              ...          ...    ...   \n",
              "26063  ID_3II1SXC0ZO  L1084F03259C39S12149Rp41671.jpg            M     DR   \n",
              "26064  ID_OE7OU9ZF4U   L406F04369C01S07190Rp22847.jpg            V      G   \n",
              "26065  ID_20M531UIZZ   L134F00766C01S09784Rp26034.jpg            M      G   \n",
              "26066  ID_BZBV2FH0KL  L1153F02464C01S00194Rp01561.jpg            F      G   \n",
              "26067  ID_ZVBF61EA0I   L406F00362C01S00614Rp06760.jpg            V      G   \n",
              "\n",
              "       extent  season  \n",
              "0           0  SR2020  \n",
              "1           0  SR2021  \n",
              "2           0  LR2020  \n",
              "3          60  SR2020  \n",
              "4           0  SR2021  \n",
              "...       ...     ...  \n",
              "26063      30  SR2021  \n",
              "26064       0  LR2021  \n",
              "26065       0  LR2021  \n",
              "26066       0  SR2020  \n",
              "26067       0  SR2020  \n",
              "\n",
              "[26068 rows x 6 columns]"
            ],
            "text/html": [
              "\n",
              "  <div id=\"df-44de2c47-e84d-47bf-af61-a8b06b2fa019\" class=\"colab-df-container\">\n",
              "    <div>\n",
              "<style scoped>\n",
              "    .dataframe tbody tr th:only-of-type {\n",
              "        vertical-align: middle;\n",
              "    }\n",
              "\n",
              "    .dataframe tbody tr th {\n",
              "        vertical-align: top;\n",
              "    }\n",
              "\n",
              "    .dataframe thead th {\n",
              "        text-align: right;\n",
              "    }\n",
              "</style>\n",
              "<table border=\"1\" class=\"dataframe\">\n",
              "  <thead>\n",
              "    <tr style=\"text-align: right;\">\n",
              "      <th></th>\n",
              "      <th>ID</th>\n",
              "      <th>filename</th>\n",
              "      <th>growth_stage</th>\n",
              "      <th>damage</th>\n",
              "      <th>extent</th>\n",
              "      <th>season</th>\n",
              "    </tr>\n",
              "  </thead>\n",
              "  <tbody>\n",
              "    <tr>\n",
              "      <th>0</th>\n",
              "      <td>ID_1S8OOWQYCB</td>\n",
              "      <td>L427F01330C01S03961Rp02052.jpg</td>\n",
              "      <td>S</td>\n",
              "      <td>WD</td>\n",
              "      <td>0</td>\n",
              "      <td>SR2020</td>\n",
              "    </tr>\n",
              "    <tr>\n",
              "      <th>1</th>\n",
              "      <td>ID_0MD959MIZ0</td>\n",
              "      <td>L1083F00930C39S12674Ip.jpg</td>\n",
              "      <td>V</td>\n",
              "      <td>G</td>\n",
              "      <td>0</td>\n",
              "      <td>SR2021</td>\n",
              "    </tr>\n",
              "    <tr>\n",
              "      <th>2</th>\n",
              "      <td>ID_JRJCI4Q11V</td>\n",
              "      <td>24_initial_1_1463_1463.JPG</td>\n",
              "      <td>V</td>\n",
              "      <td>G</td>\n",
              "      <td>0</td>\n",
              "      <td>LR2020</td>\n",
              "    </tr>\n",
              "    <tr>\n",
              "      <th>3</th>\n",
              "      <td>ID_DBO3ZGI1GM</td>\n",
              "      <td>L341F00167C01S00324Rp14178.jpg</td>\n",
              "      <td>M</td>\n",
              "      <td>DR</td>\n",
              "      <td>60</td>\n",
              "      <td>SR2020</td>\n",
              "    </tr>\n",
              "    <tr>\n",
              "      <th>4</th>\n",
              "      <td>ID_ORZLWTEUUS</td>\n",
              "      <td>L1084F02394C39S13931Ip.jpg</td>\n",
              "      <td>V</td>\n",
              "      <td>G</td>\n",
              "      <td>0</td>\n",
              "      <td>SR2021</td>\n",
              "    </tr>\n",
              "    <tr>\n",
              "      <th>...</th>\n",
              "      <td>...</td>\n",
              "      <td>...</td>\n",
              "      <td>...</td>\n",
              "      <td>...</td>\n",
              "      <td>...</td>\n",
              "      <td>...</td>\n",
              "    </tr>\n",
              "    <tr>\n",
              "      <th>26063</th>\n",
              "      <td>ID_3II1SXC0ZO</td>\n",
              "      <td>L1084F03259C39S12149Rp41671.jpg</td>\n",
              "      <td>M</td>\n",
              "      <td>DR</td>\n",
              "      <td>30</td>\n",
              "      <td>SR2021</td>\n",
              "    </tr>\n",
              "    <tr>\n",
              "      <th>26064</th>\n",
              "      <td>ID_OE7OU9ZF4U</td>\n",
              "      <td>L406F04369C01S07190Rp22847.jpg</td>\n",
              "      <td>V</td>\n",
              "      <td>G</td>\n",
              "      <td>0</td>\n",
              "      <td>LR2021</td>\n",
              "    </tr>\n",
              "    <tr>\n",
              "      <th>26065</th>\n",
              "      <td>ID_20M531UIZZ</td>\n",
              "      <td>L134F00766C01S09784Rp26034.jpg</td>\n",
              "      <td>M</td>\n",
              "      <td>G</td>\n",
              "      <td>0</td>\n",
              "      <td>LR2021</td>\n",
              "    </tr>\n",
              "    <tr>\n",
              "      <th>26066</th>\n",
              "      <td>ID_BZBV2FH0KL</td>\n",
              "      <td>L1153F02464C01S00194Rp01561.jpg</td>\n",
              "      <td>F</td>\n",
              "      <td>G</td>\n",
              "      <td>0</td>\n",
              "      <td>SR2020</td>\n",
              "    </tr>\n",
              "    <tr>\n",
              "      <th>26067</th>\n",
              "      <td>ID_ZVBF61EA0I</td>\n",
              "      <td>L406F00362C01S00614Rp06760.jpg</td>\n",
              "      <td>V</td>\n",
              "      <td>G</td>\n",
              "      <td>0</td>\n",
              "      <td>SR2020</td>\n",
              "    </tr>\n",
              "  </tbody>\n",
              "</table>\n",
              "<p>26068 rows × 6 columns</p>\n",
              "</div>\n",
              "    <div class=\"colab-df-buttons\">\n",
              "\n",
              "  <div class=\"colab-df-container\">\n",
              "    <button class=\"colab-df-convert\" onclick=\"convertToInteractive('df-44de2c47-e84d-47bf-af61-a8b06b2fa019')\"\n",
              "            title=\"Convert this dataframe to an interactive table.\"\n",
              "            style=\"display:none;\">\n",
              "\n",
              "  <svg xmlns=\"http://www.w3.org/2000/svg\" height=\"24px\" viewBox=\"0 -960 960 960\">\n",
              "    <path d=\"M120-120v-720h720v720H120Zm60-500h600v-160H180v160Zm220 220h160v-160H400v160Zm0 220h160v-160H400v160ZM180-400h160v-160H180v160Zm440 0h160v-160H620v160ZM180-180h160v-160H180v160Zm440 0h160v-160H620v160Z\"/>\n",
              "  </svg>\n",
              "    </button>\n",
              "\n",
              "  <style>\n",
              "    .colab-df-container {\n",
              "      display:flex;\n",
              "      gap: 12px;\n",
              "    }\n",
              "\n",
              "    .colab-df-convert {\n",
              "      background-color: #E8F0FE;\n",
              "      border: none;\n",
              "      border-radius: 50%;\n",
              "      cursor: pointer;\n",
              "      display: none;\n",
              "      fill: #1967D2;\n",
              "      height: 32px;\n",
              "      padding: 0 0 0 0;\n",
              "      width: 32px;\n",
              "    }\n",
              "\n",
              "    .colab-df-convert:hover {\n",
              "      background-color: #E2EBFA;\n",
              "      box-shadow: 0px 1px 2px rgba(60, 64, 67, 0.3), 0px 1px 3px 1px rgba(60, 64, 67, 0.15);\n",
              "      fill: #174EA6;\n",
              "    }\n",
              "\n",
              "    .colab-df-buttons div {\n",
              "      margin-bottom: 4px;\n",
              "    }\n",
              "\n",
              "    [theme=dark] .colab-df-convert {\n",
              "      background-color: #3B4455;\n",
              "      fill: #D2E3FC;\n",
              "    }\n",
              "\n",
              "    [theme=dark] .colab-df-convert:hover {\n",
              "      background-color: #434B5C;\n",
              "      box-shadow: 0px 1px 3px 1px rgba(0, 0, 0, 0.15);\n",
              "      filter: drop-shadow(0px 1px 2px rgba(0, 0, 0, 0.3));\n",
              "      fill: #FFFFFF;\n",
              "    }\n",
              "  </style>\n",
              "\n",
              "    <script>\n",
              "      const buttonEl =\n",
              "        document.querySelector('#df-44de2c47-e84d-47bf-af61-a8b06b2fa019 button.colab-df-convert');\n",
              "      buttonEl.style.display =\n",
              "        google.colab.kernel.accessAllowed ? 'block' : 'none';\n",
              "\n",
              "      async function convertToInteractive(key) {\n",
              "        const element = document.querySelector('#df-44de2c47-e84d-47bf-af61-a8b06b2fa019');\n",
              "        const dataTable =\n",
              "          await google.colab.kernel.invokeFunction('convertToInteractive',\n",
              "                                                    [key], {});\n",
              "        if (!dataTable) return;\n",
              "\n",
              "        const docLinkHtml = 'Like what you see? Visit the ' +\n",
              "          '<a target=\"_blank\" href=https://colab.research.google.com/notebooks/data_table.ipynb>data table notebook</a>'\n",
              "          + ' to learn more about interactive tables.';\n",
              "        element.innerHTML = '';\n",
              "        dataTable['output_type'] = 'display_data';\n",
              "        await google.colab.output.renderOutput(dataTable, element);\n",
              "        const docLink = document.createElement('div');\n",
              "        docLink.innerHTML = docLinkHtml;\n",
              "        element.appendChild(docLink);\n",
              "      }\n",
              "    </script>\n",
              "  </div>\n",
              "\n",
              "\n",
              "<div id=\"df-9885e204-4080-436b-93b8-77eb821260d0\">\n",
              "  <button class=\"colab-df-quickchart\" onclick=\"quickchart('df-9885e204-4080-436b-93b8-77eb821260d0')\"\n",
              "            title=\"Suggest charts.\"\n",
              "            style=\"display:none;\">\n",
              "\n",
              "<svg xmlns=\"http://www.w3.org/2000/svg\" height=\"24px\"viewBox=\"0 0 24 24\"\n",
              "     width=\"24px\">\n",
              "    <g>\n",
              "        <path d=\"M19 3H5c-1.1 0-2 .9-2 2v14c0 1.1.9 2 2 2h14c1.1 0 2-.9 2-2V5c0-1.1-.9-2-2-2zM9 17H7v-7h2v7zm4 0h-2V7h2v10zm4 0h-2v-4h2v4z\"/>\n",
              "    </g>\n",
              "</svg>\n",
              "  </button>\n",
              "\n",
              "<style>\n",
              "  .colab-df-quickchart {\n",
              "      --bg-color: #E8F0FE;\n",
              "      --fill-color: #1967D2;\n",
              "      --hover-bg-color: #E2EBFA;\n",
              "      --hover-fill-color: #174EA6;\n",
              "      --disabled-fill-color: #AAA;\n",
              "      --disabled-bg-color: #DDD;\n",
              "  }\n",
              "\n",
              "  [theme=dark] .colab-df-quickchart {\n",
              "      --bg-color: #3B4455;\n",
              "      --fill-color: #D2E3FC;\n",
              "      --hover-bg-color: #434B5C;\n",
              "      --hover-fill-color: #FFFFFF;\n",
              "      --disabled-bg-color: #3B4455;\n",
              "      --disabled-fill-color: #666;\n",
              "  }\n",
              "\n",
              "  .colab-df-quickchart {\n",
              "    background-color: var(--bg-color);\n",
              "    border: none;\n",
              "    border-radius: 50%;\n",
              "    cursor: pointer;\n",
              "    display: none;\n",
              "    fill: var(--fill-color);\n",
              "    height: 32px;\n",
              "    padding: 0;\n",
              "    width: 32px;\n",
              "  }\n",
              "\n",
              "  .colab-df-quickchart:hover {\n",
              "    background-color: var(--hover-bg-color);\n",
              "    box-shadow: 0 1px 2px rgba(60, 64, 67, 0.3), 0 1px 3px 1px rgba(60, 64, 67, 0.15);\n",
              "    fill: var(--button-hover-fill-color);\n",
              "  }\n",
              "\n",
              "  .colab-df-quickchart-complete:disabled,\n",
              "  .colab-df-quickchart-complete:disabled:hover {\n",
              "    background-color: var(--disabled-bg-color);\n",
              "    fill: var(--disabled-fill-color);\n",
              "    box-shadow: none;\n",
              "  }\n",
              "\n",
              "  .colab-df-spinner {\n",
              "    border: 2px solid var(--fill-color);\n",
              "    border-color: transparent;\n",
              "    border-bottom-color: var(--fill-color);\n",
              "    animation:\n",
              "      spin 1s steps(1) infinite;\n",
              "  }\n",
              "\n",
              "  @keyframes spin {\n",
              "    0% {\n",
              "      border-color: transparent;\n",
              "      border-bottom-color: var(--fill-color);\n",
              "      border-left-color: var(--fill-color);\n",
              "    }\n",
              "    20% {\n",
              "      border-color: transparent;\n",
              "      border-left-color: var(--fill-color);\n",
              "      border-top-color: var(--fill-color);\n",
              "    }\n",
              "    30% {\n",
              "      border-color: transparent;\n",
              "      border-left-color: var(--fill-color);\n",
              "      border-top-color: var(--fill-color);\n",
              "      border-right-color: var(--fill-color);\n",
              "    }\n",
              "    40% {\n",
              "      border-color: transparent;\n",
              "      border-right-color: var(--fill-color);\n",
              "      border-top-color: var(--fill-color);\n",
              "    }\n",
              "    60% {\n",
              "      border-color: transparent;\n",
              "      border-right-color: var(--fill-color);\n",
              "    }\n",
              "    80% {\n",
              "      border-color: transparent;\n",
              "      border-right-color: var(--fill-color);\n",
              "      border-bottom-color: var(--fill-color);\n",
              "    }\n",
              "    90% {\n",
              "      border-color: transparent;\n",
              "      border-bottom-color: var(--fill-color);\n",
              "    }\n",
              "  }\n",
              "</style>\n",
              "\n",
              "  <script>\n",
              "    async function quickchart(key) {\n",
              "      const quickchartButtonEl =\n",
              "        document.querySelector('#' + key + ' button');\n",
              "      quickchartButtonEl.disabled = true;  // To prevent multiple clicks.\n",
              "      quickchartButtonEl.classList.add('colab-df-spinner');\n",
              "      try {\n",
              "        const charts = await google.colab.kernel.invokeFunction(\n",
              "            'suggestCharts', [key], {});\n",
              "      } catch (error) {\n",
              "        console.error('Error during call to suggestCharts:', error);\n",
              "      }\n",
              "      quickchartButtonEl.classList.remove('colab-df-spinner');\n",
              "      quickchartButtonEl.classList.add('colab-df-quickchart-complete');\n",
              "    }\n",
              "    (() => {\n",
              "      let quickchartButtonEl =\n",
              "        document.querySelector('#df-9885e204-4080-436b-93b8-77eb821260d0 button');\n",
              "      quickchartButtonEl.style.display =\n",
              "        google.colab.kernel.accessAllowed ? 'block' : 'none';\n",
              "    })();\n",
              "  </script>\n",
              "</div>\n",
              "    </div>\n",
              "  </div>\n"
            ]
          },
          "metadata": {}
        }
      ],
      "source": [
        "# 我先將檔案存到colab的根目錄，再讀取成dataframe\n",
        "train_df = pd.read_csv('/content/Train.csv')\n",
        "display(train_df)\n",
        "\n"
      ]
    },
    {
      "cell_type": "code",
      "execution_count": 7,
      "metadata": {
        "id": "L6aHenQ1RW1Y"
      },
      "outputs": [],
      "source": [
        "\"\"\"\n",
        "用於split_data函數\n",
        "\"\"\"\n",
        "import random\n",
        "from shutil import copyfile\n",
        "def split_data(SOURCE_DIR, TRAINING_DIR, VALIDATION_DIR, SPLIT_SIZE):\n",
        "    \"\"\"\n",
        "    Splits the data into train and test sets\n",
        "\n",
        "    Args:\n",
        "    SOURCE_DIR (string): directory path containing the images\n",
        "    TRAINING_DIR (string): directory path to be used for training\n",
        "    VALIDATION_DIR (string): directory path to be used for validation\n",
        "    SPLIT_SIZE (float): proportion of the dataset to be used for training\n",
        "\n",
        "    Returns:\n",
        "    None\n",
        "    \"\"\"\n",
        "    listdir_image_source = os.listdir(SOURCE_DIR)\n",
        "\n",
        "    for dir in listdir_image_source:\n",
        "        if os.path.getsize(os.path.join(SOURCE_DIR,dir)) == 0:\n",
        "            listdir_image_source.remove(dir)\n",
        "            filename = dir\n",
        "            print(f'{filename} is zero length, so ignoring.')\n",
        "\n",
        "    number_of_available_images = len(listdir_image_source)\n",
        "    file_to_training_dir = random.sample( listdir_image_source, int(len(listdir_image_source) * SPLIT_SIZE) )\n",
        "    file_to_validation_dir = list( set(listdir_image_source).difference(set(file_to_training_dir)) )\n",
        "    for dir in file_to_training_dir:\n",
        "        source = os.path.join(SOURCE_DIR, dir)\n",
        "        destination = TRAINING_DIR\n",
        "        copyfile(source, os.path.join(destination, dir))\n",
        "\n",
        "    for dir in file_to_validation_dir:\n",
        "        source = os.path.join(SOURCE_DIR, dir)\n",
        "        destination = VALIDATION_DIR\n",
        "        copyfile(source, os.path.join(destination, dir))"
      ]
    },
    {
      "cell_type": "code",
      "execution_count": 8,
      "metadata": {
        "id": "tprUlgWXSn8z"
      },
      "outputs": [],
      "source": [
        "SOURCE_DIR = 'Zindi_photos/train' # 描述google drive 目錄時，你不需要在Zindi_photos前面加上\"/\"符號，不然會認不出來。\n",
        "TRAINING_DIR = '/content/dataset/split_train' # 但是colab上面卻可以在最前面加上\"/\"符號，這是一個不同之處。\n",
        "VALIDATION_DIR = '/content/dataset/split_validation'\n",
        "SPLIT_SIZE = 0.8\n"
      ]
    },
    {
      "cell_type": "code",
      "execution_count": null,
      "metadata": {
        "id": "EGhHy8i4UIGw"
      },
      "outputs": [],
      "source": [
        "\"\"\"\n",
        "勿刪!!!!\n",
        "\"\"\"\n",
        "# 你不要在laptop上一直用這個函數，否則會重複load檔案!!!\n",
        "split_data(SOURCE_DIR, TRAINING_DIR, VALIDATION_DIR, SPLIT_SIZE)"
      ]
    },
    {
      "cell_type": "code",
      "execution_count": 9,
      "metadata": {
        "id": "KjbZwsD8PqqI",
        "outputId": "0a79cd91-b9e1-4fbf-dbd0-e4dcd064608b",
        "colab": {
          "base_uri": "https://localhost:8080/",
          "height": 423
        }
      },
      "outputs": [
        {
          "output_type": "display_data",
          "data": {
            "text/plain": [
              "                 ID                         filename growth_stage damage  \\\n",
              "0     ID_ROOWKB90UZ   L122F00315C01S02151Rp04021.jpg            V     WD   \n",
              "1     ID_PTEDRY0CYM  L1089F03254C01S08845Rp25119.jpg            F     WD   \n",
              "2     ID_5WJXDV96R4   L365F01913C39S12578Rp42918.jpg            V     WD   \n",
              "3     ID_DM4AQLXXYG  223_repeat_2_2230_3599_2343.JPG            F      G   \n",
              "4     ID_V6YTIT7I2S   L354F00276C01S08045Rp23693.jpg            F      G   \n",
              "...             ...                              ...          ...    ...   \n",
              "8658  ID_VYEB1ABJYA  L1122F01093C01S10236Rp20455.jpg            V     WD   \n",
              "8659  ID_HQT6T7QYA4   L322F03389C39S14157Rp40614.jpg            V     WD   \n",
              "8660  ID_FKC93FVGL1   L134F00855C01S05273Rp06412.jpg            V     WD   \n",
              "8661  ID_EEJLBVEFGI   L410F02877C01S02293Rp01971.jpg            V     WD   \n",
              "8662  ID_2B1IP642X1  L1089F01682C01S08539Rp27300.jpg            F      G   \n",
              "\n",
              "      season  \n",
              "0     SR2020  \n",
              "1     LR2021  \n",
              "2     SR2021  \n",
              "3     LR2020  \n",
              "4     LR2021  \n",
              "...      ...  \n",
              "8658  LR2021  \n",
              "8659  SR2021  \n",
              "8660  SR2020  \n",
              "8661  SR2020  \n",
              "8662  LR2021  \n",
              "\n",
              "[8663 rows x 5 columns]"
            ],
            "text/html": [
              "\n",
              "  <div id=\"df-3e57548e-da34-4664-ba92-4f5efae2142e\" class=\"colab-df-container\">\n",
              "    <div>\n",
              "<style scoped>\n",
              "    .dataframe tbody tr th:only-of-type {\n",
              "        vertical-align: middle;\n",
              "    }\n",
              "\n",
              "    .dataframe tbody tr th {\n",
              "        vertical-align: top;\n",
              "    }\n",
              "\n",
              "    .dataframe thead th {\n",
              "        text-align: right;\n",
              "    }\n",
              "</style>\n",
              "<table border=\"1\" class=\"dataframe\">\n",
              "  <thead>\n",
              "    <tr style=\"text-align: right;\">\n",
              "      <th></th>\n",
              "      <th>ID</th>\n",
              "      <th>filename</th>\n",
              "      <th>growth_stage</th>\n",
              "      <th>damage</th>\n",
              "      <th>season</th>\n",
              "    </tr>\n",
              "  </thead>\n",
              "  <tbody>\n",
              "    <tr>\n",
              "      <th>0</th>\n",
              "      <td>ID_ROOWKB90UZ</td>\n",
              "      <td>L122F00315C01S02151Rp04021.jpg</td>\n",
              "      <td>V</td>\n",
              "      <td>WD</td>\n",
              "      <td>SR2020</td>\n",
              "    </tr>\n",
              "    <tr>\n",
              "      <th>1</th>\n",
              "      <td>ID_PTEDRY0CYM</td>\n",
              "      <td>L1089F03254C01S08845Rp25119.jpg</td>\n",
              "      <td>F</td>\n",
              "      <td>WD</td>\n",
              "      <td>LR2021</td>\n",
              "    </tr>\n",
              "    <tr>\n",
              "      <th>2</th>\n",
              "      <td>ID_5WJXDV96R4</td>\n",
              "      <td>L365F01913C39S12578Rp42918.jpg</td>\n",
              "      <td>V</td>\n",
              "      <td>WD</td>\n",
              "      <td>SR2021</td>\n",
              "    </tr>\n",
              "    <tr>\n",
              "      <th>3</th>\n",
              "      <td>ID_DM4AQLXXYG</td>\n",
              "      <td>223_repeat_2_2230_3599_2343.JPG</td>\n",
              "      <td>F</td>\n",
              "      <td>G</td>\n",
              "      <td>LR2020</td>\n",
              "    </tr>\n",
              "    <tr>\n",
              "      <th>4</th>\n",
              "      <td>ID_V6YTIT7I2S</td>\n",
              "      <td>L354F00276C01S08045Rp23693.jpg</td>\n",
              "      <td>F</td>\n",
              "      <td>G</td>\n",
              "      <td>LR2021</td>\n",
              "    </tr>\n",
              "    <tr>\n",
              "      <th>...</th>\n",
              "      <td>...</td>\n",
              "      <td>...</td>\n",
              "      <td>...</td>\n",
              "      <td>...</td>\n",
              "      <td>...</td>\n",
              "    </tr>\n",
              "    <tr>\n",
              "      <th>8658</th>\n",
              "      <td>ID_VYEB1ABJYA</td>\n",
              "      <td>L1122F01093C01S10236Rp20455.jpg</td>\n",
              "      <td>V</td>\n",
              "      <td>WD</td>\n",
              "      <td>LR2021</td>\n",
              "    </tr>\n",
              "    <tr>\n",
              "      <th>8659</th>\n",
              "      <td>ID_HQT6T7QYA4</td>\n",
              "      <td>L322F03389C39S14157Rp40614.jpg</td>\n",
              "      <td>V</td>\n",
              "      <td>WD</td>\n",
              "      <td>SR2021</td>\n",
              "    </tr>\n",
              "    <tr>\n",
              "      <th>8660</th>\n",
              "      <td>ID_FKC93FVGL1</td>\n",
              "      <td>L134F00855C01S05273Rp06412.jpg</td>\n",
              "      <td>V</td>\n",
              "      <td>WD</td>\n",
              "      <td>SR2020</td>\n",
              "    </tr>\n",
              "    <tr>\n",
              "      <th>8661</th>\n",
              "      <td>ID_EEJLBVEFGI</td>\n",
              "      <td>L410F02877C01S02293Rp01971.jpg</td>\n",
              "      <td>V</td>\n",
              "      <td>WD</td>\n",
              "      <td>SR2020</td>\n",
              "    </tr>\n",
              "    <tr>\n",
              "      <th>8662</th>\n",
              "      <td>ID_2B1IP642X1</td>\n",
              "      <td>L1089F01682C01S08539Rp27300.jpg</td>\n",
              "      <td>F</td>\n",
              "      <td>G</td>\n",
              "      <td>LR2021</td>\n",
              "    </tr>\n",
              "  </tbody>\n",
              "</table>\n",
              "<p>8663 rows × 5 columns</p>\n",
              "</div>\n",
              "    <div class=\"colab-df-buttons\">\n",
              "\n",
              "  <div class=\"colab-df-container\">\n",
              "    <button class=\"colab-df-convert\" onclick=\"convertToInteractive('df-3e57548e-da34-4664-ba92-4f5efae2142e')\"\n",
              "            title=\"Convert this dataframe to an interactive table.\"\n",
              "            style=\"display:none;\">\n",
              "\n",
              "  <svg xmlns=\"http://www.w3.org/2000/svg\" height=\"24px\" viewBox=\"0 -960 960 960\">\n",
              "    <path d=\"M120-120v-720h720v720H120Zm60-500h600v-160H180v160Zm220 220h160v-160H400v160Zm0 220h160v-160H400v160ZM180-400h160v-160H180v160Zm440 0h160v-160H620v160ZM180-180h160v-160H180v160Zm440 0h160v-160H620v160Z\"/>\n",
              "  </svg>\n",
              "    </button>\n",
              "\n",
              "  <style>\n",
              "    .colab-df-container {\n",
              "      display:flex;\n",
              "      gap: 12px;\n",
              "    }\n",
              "\n",
              "    .colab-df-convert {\n",
              "      background-color: #E8F0FE;\n",
              "      border: none;\n",
              "      border-radius: 50%;\n",
              "      cursor: pointer;\n",
              "      display: none;\n",
              "      fill: #1967D2;\n",
              "      height: 32px;\n",
              "      padding: 0 0 0 0;\n",
              "      width: 32px;\n",
              "    }\n",
              "\n",
              "    .colab-df-convert:hover {\n",
              "      background-color: #E2EBFA;\n",
              "      box-shadow: 0px 1px 2px rgba(60, 64, 67, 0.3), 0px 1px 3px 1px rgba(60, 64, 67, 0.15);\n",
              "      fill: #174EA6;\n",
              "    }\n",
              "\n",
              "    .colab-df-buttons div {\n",
              "      margin-bottom: 4px;\n",
              "    }\n",
              "\n",
              "    [theme=dark] .colab-df-convert {\n",
              "      background-color: #3B4455;\n",
              "      fill: #D2E3FC;\n",
              "    }\n",
              "\n",
              "    [theme=dark] .colab-df-convert:hover {\n",
              "      background-color: #434B5C;\n",
              "      box-shadow: 0px 1px 3px 1px rgba(0, 0, 0, 0.15);\n",
              "      filter: drop-shadow(0px 1px 2px rgba(0, 0, 0, 0.3));\n",
              "      fill: #FFFFFF;\n",
              "    }\n",
              "  </style>\n",
              "\n",
              "    <script>\n",
              "      const buttonEl =\n",
              "        document.querySelector('#df-3e57548e-da34-4664-ba92-4f5efae2142e button.colab-df-convert');\n",
              "      buttonEl.style.display =\n",
              "        google.colab.kernel.accessAllowed ? 'block' : 'none';\n",
              "\n",
              "      async function convertToInteractive(key) {\n",
              "        const element = document.querySelector('#df-3e57548e-da34-4664-ba92-4f5efae2142e');\n",
              "        const dataTable =\n",
              "          await google.colab.kernel.invokeFunction('convertToInteractive',\n",
              "                                                    [key], {});\n",
              "        if (!dataTable) return;\n",
              "\n",
              "        const docLinkHtml = 'Like what you see? Visit the ' +\n",
              "          '<a target=\"_blank\" href=https://colab.research.google.com/notebooks/data_table.ipynb>data table notebook</a>'\n",
              "          + ' to learn more about interactive tables.';\n",
              "        element.innerHTML = '';\n",
              "        dataTable['output_type'] = 'display_data';\n",
              "        await google.colab.output.renderOutput(dataTable, element);\n",
              "        const docLink = document.createElement('div');\n",
              "        docLink.innerHTML = docLinkHtml;\n",
              "        element.appendChild(docLink);\n",
              "      }\n",
              "    </script>\n",
              "  </div>\n",
              "\n",
              "\n",
              "<div id=\"df-91358bac-d9e5-4442-8569-6c75f9171319\">\n",
              "  <button class=\"colab-df-quickchart\" onclick=\"quickchart('df-91358bac-d9e5-4442-8569-6c75f9171319')\"\n",
              "            title=\"Suggest charts.\"\n",
              "            style=\"display:none;\">\n",
              "\n",
              "<svg xmlns=\"http://www.w3.org/2000/svg\" height=\"24px\"viewBox=\"0 0 24 24\"\n",
              "     width=\"24px\">\n",
              "    <g>\n",
              "        <path d=\"M19 3H5c-1.1 0-2 .9-2 2v14c0 1.1.9 2 2 2h14c1.1 0 2-.9 2-2V5c0-1.1-.9-2-2-2zM9 17H7v-7h2v7zm4 0h-2V7h2v10zm4 0h-2v-4h2v4z\"/>\n",
              "    </g>\n",
              "</svg>\n",
              "  </button>\n",
              "\n",
              "<style>\n",
              "  .colab-df-quickchart {\n",
              "      --bg-color: #E8F0FE;\n",
              "      --fill-color: #1967D2;\n",
              "      --hover-bg-color: #E2EBFA;\n",
              "      --hover-fill-color: #174EA6;\n",
              "      --disabled-fill-color: #AAA;\n",
              "      --disabled-bg-color: #DDD;\n",
              "  }\n",
              "\n",
              "  [theme=dark] .colab-df-quickchart {\n",
              "      --bg-color: #3B4455;\n",
              "      --fill-color: #D2E3FC;\n",
              "      --hover-bg-color: #434B5C;\n",
              "      --hover-fill-color: #FFFFFF;\n",
              "      --disabled-bg-color: #3B4455;\n",
              "      --disabled-fill-color: #666;\n",
              "  }\n",
              "\n",
              "  .colab-df-quickchart {\n",
              "    background-color: var(--bg-color);\n",
              "    border: none;\n",
              "    border-radius: 50%;\n",
              "    cursor: pointer;\n",
              "    display: none;\n",
              "    fill: var(--fill-color);\n",
              "    height: 32px;\n",
              "    padding: 0;\n",
              "    width: 32px;\n",
              "  }\n",
              "\n",
              "  .colab-df-quickchart:hover {\n",
              "    background-color: var(--hover-bg-color);\n",
              "    box-shadow: 0 1px 2px rgba(60, 64, 67, 0.3), 0 1px 3px 1px rgba(60, 64, 67, 0.15);\n",
              "    fill: var(--button-hover-fill-color);\n",
              "  }\n",
              "\n",
              "  .colab-df-quickchart-complete:disabled,\n",
              "  .colab-df-quickchart-complete:disabled:hover {\n",
              "    background-color: var(--disabled-bg-color);\n",
              "    fill: var(--disabled-fill-color);\n",
              "    box-shadow: none;\n",
              "  }\n",
              "\n",
              "  .colab-df-spinner {\n",
              "    border: 2px solid var(--fill-color);\n",
              "    border-color: transparent;\n",
              "    border-bottom-color: var(--fill-color);\n",
              "    animation:\n",
              "      spin 1s steps(1) infinite;\n",
              "  }\n",
              "\n",
              "  @keyframes spin {\n",
              "    0% {\n",
              "      border-color: transparent;\n",
              "      border-bottom-color: var(--fill-color);\n",
              "      border-left-color: var(--fill-color);\n",
              "    }\n",
              "    20% {\n",
              "      border-color: transparent;\n",
              "      border-left-color: var(--fill-color);\n",
              "      border-top-color: var(--fill-color);\n",
              "    }\n",
              "    30% {\n",
              "      border-color: transparent;\n",
              "      border-left-color: var(--fill-color);\n",
              "      border-top-color: var(--fill-color);\n",
              "      border-right-color: var(--fill-color);\n",
              "    }\n",
              "    40% {\n",
              "      border-color: transparent;\n",
              "      border-right-color: var(--fill-color);\n",
              "      border-top-color: var(--fill-color);\n",
              "    }\n",
              "    60% {\n",
              "      border-color: transparent;\n",
              "      border-right-color: var(--fill-color);\n",
              "    }\n",
              "    80% {\n",
              "      border-color: transparent;\n",
              "      border-right-color: var(--fill-color);\n",
              "      border-bottom-color: var(--fill-color);\n",
              "    }\n",
              "    90% {\n",
              "      border-color: transparent;\n",
              "      border-bottom-color: var(--fill-color);\n",
              "    }\n",
              "  }\n",
              "</style>\n",
              "\n",
              "  <script>\n",
              "    async function quickchart(key) {\n",
              "      const quickchartButtonEl =\n",
              "        document.querySelector('#' + key + ' button');\n",
              "      quickchartButtonEl.disabled = true;  // To prevent multiple clicks.\n",
              "      quickchartButtonEl.classList.add('colab-df-spinner');\n",
              "      try {\n",
              "        const charts = await google.colab.kernel.invokeFunction(\n",
              "            'suggestCharts', [key], {});\n",
              "      } catch (error) {\n",
              "        console.error('Error during call to suggestCharts:', error);\n",
              "      }\n",
              "      quickchartButtonEl.classList.remove('colab-df-spinner');\n",
              "      quickchartButtonEl.classList.add('colab-df-quickchart-complete');\n",
              "    }\n",
              "    (() => {\n",
              "      let quickchartButtonEl =\n",
              "        document.querySelector('#df-91358bac-d9e5-4442-8569-6c75f9171319 button');\n",
              "      quickchartButtonEl.style.display =\n",
              "        google.colab.kernel.accessAllowed ? 'block' : 'none';\n",
              "    })();\n",
              "  </script>\n",
              "</div>\n",
              "    </div>\n",
              "  </div>\n"
            ]
          },
          "metadata": {}
        }
      ],
      "source": [
        "test_df = pd.read_csv('/content/Test.csv') # 沒有labels\n",
        "display(test_df)"
      ]
    },
    {
      "cell_type": "code",
      "execution_count": 10,
      "metadata": {
        "id": "xYuar9HEQBTp"
      },
      "outputs": [],
      "source": [
        "# 你這裡要重新生成一個特別給split_train和split_test的 list_file\n",
        "# 而且標籤的順序還要跟list裡面的順序一樣\n",
        "list_split_train = os.listdir(TRAINING_DIR)\n",
        "list_split_validation = os.listdir(VALIDATION_DIR)"
      ]
    },
    {
      "cell_type": "code",
      "source": [
        "list_split_train[:10]"
      ],
      "metadata": {
        "colab": {
          "base_uri": "https://localhost:8080/"
        },
        "id": "DetrpWeWR2Vn",
        "outputId": "6360f3e7-7a49-4e60-96aa-1f49d03ec549"
      },
      "execution_count": 11,
      "outputs": [
        {
          "output_type": "execute_result",
          "data": {
            "text/plain": [
              "['L121F01775C42S13161Rp48926.jpg',\n",
              " 'L125F03406C01S13955Rp47279.jpg',\n",
              " 'L342F02139C01S04766Rp11511.jpg',\n",
              " 'L406F01517C01S14394Rp47371.jpg',\n",
              " 'L133F00737C01S03192Rp05796.jpg',\n",
              " 'L231F00513C03S08763Rp30308.jpg',\n",
              " 'L354F01030C01S02832Rp01652.jpg',\n",
              " 'L415F01039C39S12723Rp39327.jpg',\n",
              " 'L1094F00681C01S00711Rp01768.jpg',\n",
              " 'L361F03428C39S13044Ip.jpg']"
            ]
          },
          "metadata": {},
          "execution_count": 11
        }
      ]
    },
    {
      "cell_type": "code",
      "source": [
        "# 資料順序跟train_df相同，只是不在list_split_train中的會排除掉。\n",
        "split_train_df = train_df[train_df['filename'].isin(list_split_train)]\n",
        "# 只留下['filename', 'extent'] 做成訓練集\n",
        "train_data = split_train_df[['filename', 'extent']]\n",
        "train_data.shape\n",
        "train_data.head(10)"
      ],
      "metadata": {
        "colab": {
          "base_uri": "https://localhost:8080/",
          "height": 363
        },
        "id": "1e_8zXeLR5qI",
        "outputId": "65d9ba39-65cb-48b3-d01d-b202f1e860b1"
      },
      "execution_count": 12,
      "outputs": [
        {
          "output_type": "execute_result",
          "data": {
            "text/plain": [
              "                           filename  extent\n",
              "0    L427F01330C01S03961Rp02052.jpg       0\n",
              "1        L1083F00930C39S12674Ip.jpg       0\n",
              "2        24_initial_1_1463_1463.JPG       0\n",
              "3    L341F00167C01S00324Rp14178.jpg      60\n",
              "4        L1084F02394C39S13931Ip.jpg       0\n",
              "5    L361F02347C01S10018Rp27925.jpg       0\n",
              "6   L1122F02114C01S09921Rp29452.jpg       0\n",
              "7    L321F03728C01S07028Rp24013.jpg       0\n",
              "9    L133F00737C01S06945Rp25674.jpg      60\n",
              "11   L141F00095C01S07755Rp23002.jpg       0"
            ],
            "text/html": [
              "\n",
              "  <div id=\"df-5f16ba79-35fa-4fc3-99cf-1f18b0ed49ba\" class=\"colab-df-container\">\n",
              "    <div>\n",
              "<style scoped>\n",
              "    .dataframe tbody tr th:only-of-type {\n",
              "        vertical-align: middle;\n",
              "    }\n",
              "\n",
              "    .dataframe tbody tr th {\n",
              "        vertical-align: top;\n",
              "    }\n",
              "\n",
              "    .dataframe thead th {\n",
              "        text-align: right;\n",
              "    }\n",
              "</style>\n",
              "<table border=\"1\" class=\"dataframe\">\n",
              "  <thead>\n",
              "    <tr style=\"text-align: right;\">\n",
              "      <th></th>\n",
              "      <th>filename</th>\n",
              "      <th>extent</th>\n",
              "    </tr>\n",
              "  </thead>\n",
              "  <tbody>\n",
              "    <tr>\n",
              "      <th>0</th>\n",
              "      <td>L427F01330C01S03961Rp02052.jpg</td>\n",
              "      <td>0</td>\n",
              "    </tr>\n",
              "    <tr>\n",
              "      <th>1</th>\n",
              "      <td>L1083F00930C39S12674Ip.jpg</td>\n",
              "      <td>0</td>\n",
              "    </tr>\n",
              "    <tr>\n",
              "      <th>2</th>\n",
              "      <td>24_initial_1_1463_1463.JPG</td>\n",
              "      <td>0</td>\n",
              "    </tr>\n",
              "    <tr>\n",
              "      <th>3</th>\n",
              "      <td>L341F00167C01S00324Rp14178.jpg</td>\n",
              "      <td>60</td>\n",
              "    </tr>\n",
              "    <tr>\n",
              "      <th>4</th>\n",
              "      <td>L1084F02394C39S13931Ip.jpg</td>\n",
              "      <td>0</td>\n",
              "    </tr>\n",
              "    <tr>\n",
              "      <th>5</th>\n",
              "      <td>L361F02347C01S10018Rp27925.jpg</td>\n",
              "      <td>0</td>\n",
              "    </tr>\n",
              "    <tr>\n",
              "      <th>6</th>\n",
              "      <td>L1122F02114C01S09921Rp29452.jpg</td>\n",
              "      <td>0</td>\n",
              "    </tr>\n",
              "    <tr>\n",
              "      <th>7</th>\n",
              "      <td>L321F03728C01S07028Rp24013.jpg</td>\n",
              "      <td>0</td>\n",
              "    </tr>\n",
              "    <tr>\n",
              "      <th>9</th>\n",
              "      <td>L133F00737C01S06945Rp25674.jpg</td>\n",
              "      <td>60</td>\n",
              "    </tr>\n",
              "    <tr>\n",
              "      <th>11</th>\n",
              "      <td>L141F00095C01S07755Rp23002.jpg</td>\n",
              "      <td>0</td>\n",
              "    </tr>\n",
              "  </tbody>\n",
              "</table>\n",
              "</div>\n",
              "    <div class=\"colab-df-buttons\">\n",
              "\n",
              "  <div class=\"colab-df-container\">\n",
              "    <button class=\"colab-df-convert\" onclick=\"convertToInteractive('df-5f16ba79-35fa-4fc3-99cf-1f18b0ed49ba')\"\n",
              "            title=\"Convert this dataframe to an interactive table.\"\n",
              "            style=\"display:none;\">\n",
              "\n",
              "  <svg xmlns=\"http://www.w3.org/2000/svg\" height=\"24px\" viewBox=\"0 -960 960 960\">\n",
              "    <path d=\"M120-120v-720h720v720H120Zm60-500h600v-160H180v160Zm220 220h160v-160H400v160Zm0 220h160v-160H400v160ZM180-400h160v-160H180v160Zm440 0h160v-160H620v160ZM180-180h160v-160H180v160Zm440 0h160v-160H620v160Z\"/>\n",
              "  </svg>\n",
              "    </button>\n",
              "\n",
              "  <style>\n",
              "    .colab-df-container {\n",
              "      display:flex;\n",
              "      gap: 12px;\n",
              "    }\n",
              "\n",
              "    .colab-df-convert {\n",
              "      background-color: #E8F0FE;\n",
              "      border: none;\n",
              "      border-radius: 50%;\n",
              "      cursor: pointer;\n",
              "      display: none;\n",
              "      fill: #1967D2;\n",
              "      height: 32px;\n",
              "      padding: 0 0 0 0;\n",
              "      width: 32px;\n",
              "    }\n",
              "\n",
              "    .colab-df-convert:hover {\n",
              "      background-color: #E2EBFA;\n",
              "      box-shadow: 0px 1px 2px rgba(60, 64, 67, 0.3), 0px 1px 3px 1px rgba(60, 64, 67, 0.15);\n",
              "      fill: #174EA6;\n",
              "    }\n",
              "\n",
              "    .colab-df-buttons div {\n",
              "      margin-bottom: 4px;\n",
              "    }\n",
              "\n",
              "    [theme=dark] .colab-df-convert {\n",
              "      background-color: #3B4455;\n",
              "      fill: #D2E3FC;\n",
              "    }\n",
              "\n",
              "    [theme=dark] .colab-df-convert:hover {\n",
              "      background-color: #434B5C;\n",
              "      box-shadow: 0px 1px 3px 1px rgba(0, 0, 0, 0.15);\n",
              "      filter: drop-shadow(0px 1px 2px rgba(0, 0, 0, 0.3));\n",
              "      fill: #FFFFFF;\n",
              "    }\n",
              "  </style>\n",
              "\n",
              "    <script>\n",
              "      const buttonEl =\n",
              "        document.querySelector('#df-5f16ba79-35fa-4fc3-99cf-1f18b0ed49ba button.colab-df-convert');\n",
              "      buttonEl.style.display =\n",
              "        google.colab.kernel.accessAllowed ? 'block' : 'none';\n",
              "\n",
              "      async function convertToInteractive(key) {\n",
              "        const element = document.querySelector('#df-5f16ba79-35fa-4fc3-99cf-1f18b0ed49ba');\n",
              "        const dataTable =\n",
              "          await google.colab.kernel.invokeFunction('convertToInteractive',\n",
              "                                                    [key], {});\n",
              "        if (!dataTable) return;\n",
              "\n",
              "        const docLinkHtml = 'Like what you see? Visit the ' +\n",
              "          '<a target=\"_blank\" href=https://colab.research.google.com/notebooks/data_table.ipynb>data table notebook</a>'\n",
              "          + ' to learn more about interactive tables.';\n",
              "        element.innerHTML = '';\n",
              "        dataTable['output_type'] = 'display_data';\n",
              "        await google.colab.output.renderOutput(dataTable, element);\n",
              "        const docLink = document.createElement('div');\n",
              "        docLink.innerHTML = docLinkHtml;\n",
              "        element.appendChild(docLink);\n",
              "      }\n",
              "    </script>\n",
              "  </div>\n",
              "\n",
              "\n",
              "<div id=\"df-1aa8d114-1525-44f0-837a-ae8ee8ef7ac2\">\n",
              "  <button class=\"colab-df-quickchart\" onclick=\"quickchart('df-1aa8d114-1525-44f0-837a-ae8ee8ef7ac2')\"\n",
              "            title=\"Suggest charts.\"\n",
              "            style=\"display:none;\">\n",
              "\n",
              "<svg xmlns=\"http://www.w3.org/2000/svg\" height=\"24px\"viewBox=\"0 0 24 24\"\n",
              "     width=\"24px\">\n",
              "    <g>\n",
              "        <path d=\"M19 3H5c-1.1 0-2 .9-2 2v14c0 1.1.9 2 2 2h14c1.1 0 2-.9 2-2V5c0-1.1-.9-2-2-2zM9 17H7v-7h2v7zm4 0h-2V7h2v10zm4 0h-2v-4h2v4z\"/>\n",
              "    </g>\n",
              "</svg>\n",
              "  </button>\n",
              "\n",
              "<style>\n",
              "  .colab-df-quickchart {\n",
              "      --bg-color: #E8F0FE;\n",
              "      --fill-color: #1967D2;\n",
              "      --hover-bg-color: #E2EBFA;\n",
              "      --hover-fill-color: #174EA6;\n",
              "      --disabled-fill-color: #AAA;\n",
              "      --disabled-bg-color: #DDD;\n",
              "  }\n",
              "\n",
              "  [theme=dark] .colab-df-quickchart {\n",
              "      --bg-color: #3B4455;\n",
              "      --fill-color: #D2E3FC;\n",
              "      --hover-bg-color: #434B5C;\n",
              "      --hover-fill-color: #FFFFFF;\n",
              "      --disabled-bg-color: #3B4455;\n",
              "      --disabled-fill-color: #666;\n",
              "  }\n",
              "\n",
              "  .colab-df-quickchart {\n",
              "    background-color: var(--bg-color);\n",
              "    border: none;\n",
              "    border-radius: 50%;\n",
              "    cursor: pointer;\n",
              "    display: none;\n",
              "    fill: var(--fill-color);\n",
              "    height: 32px;\n",
              "    padding: 0;\n",
              "    width: 32px;\n",
              "  }\n",
              "\n",
              "  .colab-df-quickchart:hover {\n",
              "    background-color: var(--hover-bg-color);\n",
              "    box-shadow: 0 1px 2px rgba(60, 64, 67, 0.3), 0 1px 3px 1px rgba(60, 64, 67, 0.15);\n",
              "    fill: var(--button-hover-fill-color);\n",
              "  }\n",
              "\n",
              "  .colab-df-quickchart-complete:disabled,\n",
              "  .colab-df-quickchart-complete:disabled:hover {\n",
              "    background-color: var(--disabled-bg-color);\n",
              "    fill: var(--disabled-fill-color);\n",
              "    box-shadow: none;\n",
              "  }\n",
              "\n",
              "  .colab-df-spinner {\n",
              "    border: 2px solid var(--fill-color);\n",
              "    border-color: transparent;\n",
              "    border-bottom-color: var(--fill-color);\n",
              "    animation:\n",
              "      spin 1s steps(1) infinite;\n",
              "  }\n",
              "\n",
              "  @keyframes spin {\n",
              "    0% {\n",
              "      border-color: transparent;\n",
              "      border-bottom-color: var(--fill-color);\n",
              "      border-left-color: var(--fill-color);\n",
              "    }\n",
              "    20% {\n",
              "      border-color: transparent;\n",
              "      border-left-color: var(--fill-color);\n",
              "      border-top-color: var(--fill-color);\n",
              "    }\n",
              "    30% {\n",
              "      border-color: transparent;\n",
              "      border-left-color: var(--fill-color);\n",
              "      border-top-color: var(--fill-color);\n",
              "      border-right-color: var(--fill-color);\n",
              "    }\n",
              "    40% {\n",
              "      border-color: transparent;\n",
              "      border-right-color: var(--fill-color);\n",
              "      border-top-color: var(--fill-color);\n",
              "    }\n",
              "    60% {\n",
              "      border-color: transparent;\n",
              "      border-right-color: var(--fill-color);\n",
              "    }\n",
              "    80% {\n",
              "      border-color: transparent;\n",
              "      border-right-color: var(--fill-color);\n",
              "      border-bottom-color: var(--fill-color);\n",
              "    }\n",
              "    90% {\n",
              "      border-color: transparent;\n",
              "      border-bottom-color: var(--fill-color);\n",
              "    }\n",
              "  }\n",
              "</style>\n",
              "\n",
              "  <script>\n",
              "    async function quickchart(key) {\n",
              "      const quickchartButtonEl =\n",
              "        document.querySelector('#' + key + ' button');\n",
              "      quickchartButtonEl.disabled = true;  // To prevent multiple clicks.\n",
              "      quickchartButtonEl.classList.add('colab-df-spinner');\n",
              "      try {\n",
              "        const charts = await google.colab.kernel.invokeFunction(\n",
              "            'suggestCharts', [key], {});\n",
              "      } catch (error) {\n",
              "        console.error('Error during call to suggestCharts:', error);\n",
              "      }\n",
              "      quickchartButtonEl.classList.remove('colab-df-spinner');\n",
              "      quickchartButtonEl.classList.add('colab-df-quickchart-complete');\n",
              "    }\n",
              "    (() => {\n",
              "      let quickchartButtonEl =\n",
              "        document.querySelector('#df-1aa8d114-1525-44f0-837a-ae8ee8ef7ac2 button');\n",
              "      quickchartButtonEl.style.display =\n",
              "        google.colab.kernel.accessAllowed ? 'block' : 'none';\n",
              "    })();\n",
              "  </script>\n",
              "</div>\n",
              "    </div>\n",
              "  </div>\n"
            ]
          },
          "metadata": {},
          "execution_count": 12
        }
      ]
    },
    {
      "cell_type": "code",
      "source": [
        "display(split_train_df[\"extent\"].value_counts())\n",
        "protion_of_zeros_in_data = split_train_df[\"extent\"].value_counts()[0]/split_train_df[\"extent\"].value_counts().sum()\n",
        "print(\"About \",protion_of_zeros_in_data * 100, \"% of pictures with extent 0.\")"
      ],
      "metadata": {
        "colab": {
          "base_uri": "https://localhost:8080/",
          "height": 243
        },
        "id": "HgkDZJgrM7lQ",
        "outputId": "f4905434-7d65-4a7a-a1dd-ed7fa769308d"
      },
      "execution_count": 43,
      "outputs": [
        {
          "output_type": "display_data",
          "data": {
            "text/plain": [
              "0      17243\n",
              "10       589\n",
              "30       576\n",
              "40       553\n",
              "20       542\n",
              "50       356\n",
              "60       319\n",
              "90       251\n",
              "80       230\n",
              "70       156\n",
              "100       39\n",
              "Name: extent, dtype: int64"
            ]
          },
          "metadata": {}
        },
        {
          "output_type": "stream",
          "name": "stdout",
          "text": [
            "About  82.68437709791885 % of pictures with extent 0.\n"
          ]
        }
      ]
    },
    {
      "cell_type": "code",
      "source": [
        "# 資料順序跟train_df相同，只是不在list_split_validation中的會排除掉。\n",
        "split_valid_df = train_df[train_df['filename'].isin(list_split_validation)]\n",
        "# 只留下['filename', 'extent'] 做成訓練集\n",
        "valid_data = split_valid_df[['filename', 'extent']]\n",
        "valid_data.shape\n",
        "valid_data.head(10)"
      ],
      "metadata": {
        "colab": {
          "base_uri": "https://localhost:8080/",
          "height": 363
        },
        "id": "4AbXQN3MSIRo",
        "outputId": "cd36920a-1b9f-4a6e-a2f6-780830efdecd"
      },
      "execution_count": 13,
      "outputs": [
        {
          "output_type": "execute_result",
          "data": {
            "text/plain": [
              "                           filename  extent\n",
              "8    L331F04678C01S11060Rp30683.jpg      40\n",
              "10   L231F02301C41S13792Rp36019.jpg       0\n",
              "18   L325F01429C01S07301Rp19436.jpg       0\n",
              "30   L406F00362C01S14389Rp40939.jpg       0\n",
              "31   L121F00577C01S04002Rp08500.jpg       0\n",
              "37  L1093F03320C01S06792Rp29181.jpg       0\n",
              "38   L134F00875C01S01078Rp01371.jpg       0\n",
              "41   L134F00762C01S05370Rp14099.jpg      70\n",
              "45   L134F04228C01S09707Rp19925.jpg       0\n",
              "46  L1144F04460C39S12064Rp34619.jpg       0"
            ],
            "text/html": [
              "\n",
              "  <div id=\"df-f56e3c8a-4ac3-4337-af13-cc8bdabbf1be\" class=\"colab-df-container\">\n",
              "    <div>\n",
              "<style scoped>\n",
              "    .dataframe tbody tr th:only-of-type {\n",
              "        vertical-align: middle;\n",
              "    }\n",
              "\n",
              "    .dataframe tbody tr th {\n",
              "        vertical-align: top;\n",
              "    }\n",
              "\n",
              "    .dataframe thead th {\n",
              "        text-align: right;\n",
              "    }\n",
              "</style>\n",
              "<table border=\"1\" class=\"dataframe\">\n",
              "  <thead>\n",
              "    <tr style=\"text-align: right;\">\n",
              "      <th></th>\n",
              "      <th>filename</th>\n",
              "      <th>extent</th>\n",
              "    </tr>\n",
              "  </thead>\n",
              "  <tbody>\n",
              "    <tr>\n",
              "      <th>8</th>\n",
              "      <td>L331F04678C01S11060Rp30683.jpg</td>\n",
              "      <td>40</td>\n",
              "    </tr>\n",
              "    <tr>\n",
              "      <th>10</th>\n",
              "      <td>L231F02301C41S13792Rp36019.jpg</td>\n",
              "      <td>0</td>\n",
              "    </tr>\n",
              "    <tr>\n",
              "      <th>18</th>\n",
              "      <td>L325F01429C01S07301Rp19436.jpg</td>\n",
              "      <td>0</td>\n",
              "    </tr>\n",
              "    <tr>\n",
              "      <th>30</th>\n",
              "      <td>L406F00362C01S14389Rp40939.jpg</td>\n",
              "      <td>0</td>\n",
              "    </tr>\n",
              "    <tr>\n",
              "      <th>31</th>\n",
              "      <td>L121F00577C01S04002Rp08500.jpg</td>\n",
              "      <td>0</td>\n",
              "    </tr>\n",
              "    <tr>\n",
              "      <th>37</th>\n",
              "      <td>L1093F03320C01S06792Rp29181.jpg</td>\n",
              "      <td>0</td>\n",
              "    </tr>\n",
              "    <tr>\n",
              "      <th>38</th>\n",
              "      <td>L134F00875C01S01078Rp01371.jpg</td>\n",
              "      <td>0</td>\n",
              "    </tr>\n",
              "    <tr>\n",
              "      <th>41</th>\n",
              "      <td>L134F00762C01S05370Rp14099.jpg</td>\n",
              "      <td>70</td>\n",
              "    </tr>\n",
              "    <tr>\n",
              "      <th>45</th>\n",
              "      <td>L134F04228C01S09707Rp19925.jpg</td>\n",
              "      <td>0</td>\n",
              "    </tr>\n",
              "    <tr>\n",
              "      <th>46</th>\n",
              "      <td>L1144F04460C39S12064Rp34619.jpg</td>\n",
              "      <td>0</td>\n",
              "    </tr>\n",
              "  </tbody>\n",
              "</table>\n",
              "</div>\n",
              "    <div class=\"colab-df-buttons\">\n",
              "\n",
              "  <div class=\"colab-df-container\">\n",
              "    <button class=\"colab-df-convert\" onclick=\"convertToInteractive('df-f56e3c8a-4ac3-4337-af13-cc8bdabbf1be')\"\n",
              "            title=\"Convert this dataframe to an interactive table.\"\n",
              "            style=\"display:none;\">\n",
              "\n",
              "  <svg xmlns=\"http://www.w3.org/2000/svg\" height=\"24px\" viewBox=\"0 -960 960 960\">\n",
              "    <path d=\"M120-120v-720h720v720H120Zm60-500h600v-160H180v160Zm220 220h160v-160H400v160Zm0 220h160v-160H400v160ZM180-400h160v-160H180v160Zm440 0h160v-160H620v160ZM180-180h160v-160H180v160Zm440 0h160v-160H620v160Z\"/>\n",
              "  </svg>\n",
              "    </button>\n",
              "\n",
              "  <style>\n",
              "    .colab-df-container {\n",
              "      display:flex;\n",
              "      gap: 12px;\n",
              "    }\n",
              "\n",
              "    .colab-df-convert {\n",
              "      background-color: #E8F0FE;\n",
              "      border: none;\n",
              "      border-radius: 50%;\n",
              "      cursor: pointer;\n",
              "      display: none;\n",
              "      fill: #1967D2;\n",
              "      height: 32px;\n",
              "      padding: 0 0 0 0;\n",
              "      width: 32px;\n",
              "    }\n",
              "\n",
              "    .colab-df-convert:hover {\n",
              "      background-color: #E2EBFA;\n",
              "      box-shadow: 0px 1px 2px rgba(60, 64, 67, 0.3), 0px 1px 3px 1px rgba(60, 64, 67, 0.15);\n",
              "      fill: #174EA6;\n",
              "    }\n",
              "\n",
              "    .colab-df-buttons div {\n",
              "      margin-bottom: 4px;\n",
              "    }\n",
              "\n",
              "    [theme=dark] .colab-df-convert {\n",
              "      background-color: #3B4455;\n",
              "      fill: #D2E3FC;\n",
              "    }\n",
              "\n",
              "    [theme=dark] .colab-df-convert:hover {\n",
              "      background-color: #434B5C;\n",
              "      box-shadow: 0px 1px 3px 1px rgba(0, 0, 0, 0.15);\n",
              "      filter: drop-shadow(0px 1px 2px rgba(0, 0, 0, 0.3));\n",
              "      fill: #FFFFFF;\n",
              "    }\n",
              "  </style>\n",
              "\n",
              "    <script>\n",
              "      const buttonEl =\n",
              "        document.querySelector('#df-f56e3c8a-4ac3-4337-af13-cc8bdabbf1be button.colab-df-convert');\n",
              "      buttonEl.style.display =\n",
              "        google.colab.kernel.accessAllowed ? 'block' : 'none';\n",
              "\n",
              "      async function convertToInteractive(key) {\n",
              "        const element = document.querySelector('#df-f56e3c8a-4ac3-4337-af13-cc8bdabbf1be');\n",
              "        const dataTable =\n",
              "          await google.colab.kernel.invokeFunction('convertToInteractive',\n",
              "                                                    [key], {});\n",
              "        if (!dataTable) return;\n",
              "\n",
              "        const docLinkHtml = 'Like what you see? Visit the ' +\n",
              "          '<a target=\"_blank\" href=https://colab.research.google.com/notebooks/data_table.ipynb>data table notebook</a>'\n",
              "          + ' to learn more about interactive tables.';\n",
              "        element.innerHTML = '';\n",
              "        dataTable['output_type'] = 'display_data';\n",
              "        await google.colab.output.renderOutput(dataTable, element);\n",
              "        const docLink = document.createElement('div');\n",
              "        docLink.innerHTML = docLinkHtml;\n",
              "        element.appendChild(docLink);\n",
              "      }\n",
              "    </script>\n",
              "  </div>\n",
              "\n",
              "\n",
              "<div id=\"df-0253bce0-9202-44c3-8531-445986ed767c\">\n",
              "  <button class=\"colab-df-quickchart\" onclick=\"quickchart('df-0253bce0-9202-44c3-8531-445986ed767c')\"\n",
              "            title=\"Suggest charts.\"\n",
              "            style=\"display:none;\">\n",
              "\n",
              "<svg xmlns=\"http://www.w3.org/2000/svg\" height=\"24px\"viewBox=\"0 0 24 24\"\n",
              "     width=\"24px\">\n",
              "    <g>\n",
              "        <path d=\"M19 3H5c-1.1 0-2 .9-2 2v14c0 1.1.9 2 2 2h14c1.1 0 2-.9 2-2V5c0-1.1-.9-2-2-2zM9 17H7v-7h2v7zm4 0h-2V7h2v10zm4 0h-2v-4h2v4z\"/>\n",
              "    </g>\n",
              "</svg>\n",
              "  </button>\n",
              "\n",
              "<style>\n",
              "  .colab-df-quickchart {\n",
              "      --bg-color: #E8F0FE;\n",
              "      --fill-color: #1967D2;\n",
              "      --hover-bg-color: #E2EBFA;\n",
              "      --hover-fill-color: #174EA6;\n",
              "      --disabled-fill-color: #AAA;\n",
              "      --disabled-bg-color: #DDD;\n",
              "  }\n",
              "\n",
              "  [theme=dark] .colab-df-quickchart {\n",
              "      --bg-color: #3B4455;\n",
              "      --fill-color: #D2E3FC;\n",
              "      --hover-bg-color: #434B5C;\n",
              "      --hover-fill-color: #FFFFFF;\n",
              "      --disabled-bg-color: #3B4455;\n",
              "      --disabled-fill-color: #666;\n",
              "  }\n",
              "\n",
              "  .colab-df-quickchart {\n",
              "    background-color: var(--bg-color);\n",
              "    border: none;\n",
              "    border-radius: 50%;\n",
              "    cursor: pointer;\n",
              "    display: none;\n",
              "    fill: var(--fill-color);\n",
              "    height: 32px;\n",
              "    padding: 0;\n",
              "    width: 32px;\n",
              "  }\n",
              "\n",
              "  .colab-df-quickchart:hover {\n",
              "    background-color: var(--hover-bg-color);\n",
              "    box-shadow: 0 1px 2px rgba(60, 64, 67, 0.3), 0 1px 3px 1px rgba(60, 64, 67, 0.15);\n",
              "    fill: var(--button-hover-fill-color);\n",
              "  }\n",
              "\n",
              "  .colab-df-quickchart-complete:disabled,\n",
              "  .colab-df-quickchart-complete:disabled:hover {\n",
              "    background-color: var(--disabled-bg-color);\n",
              "    fill: var(--disabled-fill-color);\n",
              "    box-shadow: none;\n",
              "  }\n",
              "\n",
              "  .colab-df-spinner {\n",
              "    border: 2px solid var(--fill-color);\n",
              "    border-color: transparent;\n",
              "    border-bottom-color: var(--fill-color);\n",
              "    animation:\n",
              "      spin 1s steps(1) infinite;\n",
              "  }\n",
              "\n",
              "  @keyframes spin {\n",
              "    0% {\n",
              "      border-color: transparent;\n",
              "      border-bottom-color: var(--fill-color);\n",
              "      border-left-color: var(--fill-color);\n",
              "    }\n",
              "    20% {\n",
              "      border-color: transparent;\n",
              "      border-left-color: var(--fill-color);\n",
              "      border-top-color: var(--fill-color);\n",
              "    }\n",
              "    30% {\n",
              "      border-color: transparent;\n",
              "      border-left-color: var(--fill-color);\n",
              "      border-top-color: var(--fill-color);\n",
              "      border-right-color: var(--fill-color);\n",
              "    }\n",
              "    40% {\n",
              "      border-color: transparent;\n",
              "      border-right-color: var(--fill-color);\n",
              "      border-top-color: var(--fill-color);\n",
              "    }\n",
              "    60% {\n",
              "      border-color: transparent;\n",
              "      border-right-color: var(--fill-color);\n",
              "    }\n",
              "    80% {\n",
              "      border-color: transparent;\n",
              "      border-right-color: var(--fill-color);\n",
              "      border-bottom-color: var(--fill-color);\n",
              "    }\n",
              "    90% {\n",
              "      border-color: transparent;\n",
              "      border-bottom-color: var(--fill-color);\n",
              "    }\n",
              "  }\n",
              "</style>\n",
              "\n",
              "  <script>\n",
              "    async function quickchart(key) {\n",
              "      const quickchartButtonEl =\n",
              "        document.querySelector('#' + key + ' button');\n",
              "      quickchartButtonEl.disabled = true;  // To prevent multiple clicks.\n",
              "      quickchartButtonEl.classList.add('colab-df-spinner');\n",
              "      try {\n",
              "        const charts = await google.colab.kernel.invokeFunction(\n",
              "            'suggestCharts', [key], {});\n",
              "      } catch (error) {\n",
              "        console.error('Error during call to suggestCharts:', error);\n",
              "      }\n",
              "      quickchartButtonEl.classList.remove('colab-df-spinner');\n",
              "      quickchartButtonEl.classList.add('colab-df-quickchart-complete');\n",
              "    }\n",
              "    (() => {\n",
              "      let quickchartButtonEl =\n",
              "        document.querySelector('#df-0253bce0-9202-44c3-8531-445986ed767c button');\n",
              "      quickchartButtonEl.style.display =\n",
              "        google.colab.kernel.accessAllowed ? 'block' : 'none';\n",
              "    })();\n",
              "  </script>\n",
              "</div>\n",
              "    </div>\n",
              "  </div>\n"
            ]
          },
          "metadata": {},
          "execution_count": 13
        }
      ]
    },
    {
      "cell_type": "code",
      "source": [
        "INPUT_SHAPE = (250, 250, 3)\n",
        "TARGET_SIZE = (250, 250)"
      ],
      "metadata": {
        "id": "t4zrUWA9TYfF"
      },
      "execution_count": 14,
      "outputs": []
    },
    {
      "cell_type": "code",
      "source": [
        "from tensorflow.keras.preprocessing.image import ImageDataGenerator\n",
        "\n",
        "train_datagen = ImageDataGenerator(rescale=1./255)\n",
        "validation_datagen = ImageDataGenerator(rescale=1./255)\n",
        "\n",
        "# data 是一個包含 'filename'和 'extent'的dataframe，x_col 設為'filename', y_col設為'extent'\n",
        "train_generator = train_datagen.flow_from_dataframe(dataframe=train_data, directory=TRAINING_DIR,\n",
        "                                              x_col=\"filename\", y_col=\"extent\", has_ext=True,\n",
        "                                              class_mode=\"other\", target_size=TARGET_SIZE,\n",
        "                                              batch_size=128, shuffle=False\n",
        "                                                    )\n",
        "\n",
        "# valid_data 是一個包含 'filename'和 'extent'的dataframe，x_col 設為'filename', y_col設為'extent'\n",
        "validation_generator = validation_datagen.flow_from_dataframe(dataframe=valid_data, directory=VALIDATION_DIR,\n",
        "                                              x_col=\"filename\", y_col=\"extent\", has_ext=True,\n",
        "                                              class_mode=\"other\", target_size=TARGET_SIZE,\n",
        "                                              batch_size=128, shuffle=False)\n",
        "\n",
        "\n",
        "\"\"\"\n",
        "資料格式train_generator 和 validation_generator的資料格式 :\n",
        "(一個批次的圖像陣列, 一個批次的標籤)\n",
        "假如#chennels = 3\n",
        "形狀 : ((batch_size, width, height, #chennels), (batch_size,))\n",
        "\"\"\""
      ],
      "metadata": {
        "colab": {
          "base_uri": "https://localhost:8080/",
          "height": 88
        },
        "id": "N_htik-XSRI2",
        "outputId": "cebd0f31-dfe6-4f28-b447-78ee60851a04"
      },
      "execution_count": 47,
      "outputs": [
        {
          "output_type": "stream",
          "name": "stdout",
          "text": [
            "Found 20854 validated image filenames.\n",
            "Found 5214 validated image filenames.\n"
          ]
        },
        {
          "output_type": "execute_result",
          "data": {
            "text/plain": [
              "'\\n資料格式train_generator 和 validation_generator的資料格式 :\\n(一個批次的圖像陣列, 一個批次的標籤)\\n假如#chennels = 3\\n形狀 : ((batch_size, width, height, #chennels), (batch_size,))\\n'"
            ],
            "application/vnd.google.colaboratory.intrinsic+json": {
              "type": "string"
            }
          },
          "metadata": {},
          "execution_count": 47
        }
      ]
    },
    {
      "cell_type": "code",
      "source": [
        "\n",
        "# Download the pre-trained weights. No top means it excludes the fully connected layer it uses for classification.\n",
        "!wget --no-check-certificate \\\n",
        "    https://storage.googleapis.com/mledu-datasets/inception_v3_weights_tf_dim_ordering_tf_kernels_notop.h5 \\\n",
        "    -O /tmp/inception_v3_weights_tf_dim_ordering_tf_kernels_notop.h5\n"
      ],
      "metadata": {
        "colab": {
          "base_uri": "https://localhost:8080/"
        },
        "id": "1s3n_5zYSWnw",
        "outputId": "08f8a5ee-7fe1-45e4-b1ec-8754c362f5e1"
      },
      "execution_count": 26,
      "outputs": [
        {
          "output_type": "stream",
          "name": "stdout",
          "text": [
            "--2023-09-09 13:59:52--  https://storage.googleapis.com/mledu-datasets/inception_v3_weights_tf_dim_ordering_tf_kernels_notop.h5\n",
            "Resolving storage.googleapis.com (storage.googleapis.com)... 172.217.212.207, 172.253.114.207, 172.217.214.207, ...\n",
            "Connecting to storage.googleapis.com (storage.googleapis.com)|172.217.212.207|:443... connected.\n",
            "HTTP request sent, awaiting response... 200 OK\n",
            "Length: 87910968 (84M) [application/x-hdf]\n",
            "Saving to: ‘/tmp/inception_v3_weights_tf_dim_ordering_tf_kernels_notop.h5’\n",
            "\n",
            "/tmp/inception_v3_w 100%[===================>]  83.84M   224MB/s    in 0.4s    \n",
            "\n",
            "2023-09-09 13:59:52 (224 MB/s) - ‘/tmp/inception_v3_weights_tf_dim_ordering_tf_kernels_notop.h5’ saved [87910968/87910968]\n",
            "\n"
          ]
        }
      ]
    },
    {
      "cell_type": "code",
      "source": [
        "import tensorflow as tf\n",
        "from tensorflow.keras.applications.inception_v3 import InceptionV3\n",
        "from tensorflow.keras import layers\n",
        "\n",
        "# Set the weights file you downloaded into a variable\n",
        "local_weights_file = '/tmp/inception_v3_weights_tf_dim_ordering_tf_kernels_notop.h5'\n",
        "\n",
        "# Initialize the base model.\n",
        "# Set the input shape and remove the dense layers.\n",
        "pre_trained_model = InceptionV3(input_shape = INPUT_SHAPE,\n",
        "                                include_top = False,\n",
        "                                weights = None)\n",
        "\n",
        "# Load the pre-trained weights you downloaded.\n",
        "pre_trained_model.load_weights(local_weights_file)\n",
        "\n",
        "# Freeze the weights of the layers.\n",
        "for layer in pre_trained_model.layers:\n",
        "  layer.trainable = False"
      ],
      "metadata": {
        "id": "g5LHB8GUYED4"
      },
      "execution_count": 48,
      "outputs": []
    },
    {
      "cell_type": "code",
      "source": [
        "pre_trained_model.summary()"
      ],
      "metadata": {
        "id": "onQlDpTjYLEO",
        "colab": {
          "base_uri": "https://localhost:8080/"
        },
        "outputId": "838685ae-9bd6-4a30-cc5f-713279423be0"
      },
      "execution_count": 49,
      "outputs": [
        {
          "output_type": "stream",
          "name": "stdout",
          "text": [
            "Model: \"inception_v3\"\n",
            "__________________________________________________________________________________________________\n",
            " Layer (type)                Output Shape                 Param #   Connected to                  \n",
            "==================================================================================================\n",
            " input_2 (InputLayer)        [(None, 250, 250, 3)]        0         []                            \n",
            "                                                                                                  \n",
            " conv2d_94 (Conv2D)          (None, 124, 124, 32)         864       ['input_2[0][0]']             \n",
            "                                                                                                  \n",
            " batch_normalization_94 (Ba  (None, 124, 124, 32)         96        ['conv2d_94[0][0]']           \n",
            " tchNormalization)                                                                                \n",
            "                                                                                                  \n",
            " activation_94 (Activation)  (None, 124, 124, 32)         0         ['batch_normalization_94[0][0]\n",
            "                                                                    ']                            \n",
            "                                                                                                  \n",
            " conv2d_95 (Conv2D)          (None, 122, 122, 32)         9216      ['activation_94[0][0]']       \n",
            "                                                                                                  \n",
            " batch_normalization_95 (Ba  (None, 122, 122, 32)         96        ['conv2d_95[0][0]']           \n",
            " tchNormalization)                                                                                \n",
            "                                                                                                  \n",
            " activation_95 (Activation)  (None, 122, 122, 32)         0         ['batch_normalization_95[0][0]\n",
            "                                                                    ']                            \n",
            "                                                                                                  \n",
            " conv2d_96 (Conv2D)          (None, 122, 122, 64)         18432     ['activation_95[0][0]']       \n",
            "                                                                                                  \n",
            " batch_normalization_96 (Ba  (None, 122, 122, 64)         192       ['conv2d_96[0][0]']           \n",
            " tchNormalization)                                                                                \n",
            "                                                                                                  \n",
            " activation_96 (Activation)  (None, 122, 122, 64)         0         ['batch_normalization_96[0][0]\n",
            "                                                                    ']                            \n",
            "                                                                                                  \n",
            " max_pooling2d_5 (MaxPoolin  (None, 60, 60, 64)           0         ['activation_96[0][0]']       \n",
            " g2D)                                                                                             \n",
            "                                                                                                  \n",
            " conv2d_97 (Conv2D)          (None, 60, 60, 80)           5120      ['max_pooling2d_5[0][0]']     \n",
            "                                                                                                  \n",
            " batch_normalization_97 (Ba  (None, 60, 60, 80)           240       ['conv2d_97[0][0]']           \n",
            " tchNormalization)                                                                                \n",
            "                                                                                                  \n",
            " activation_97 (Activation)  (None, 60, 60, 80)           0         ['batch_normalization_97[0][0]\n",
            "                                                                    ']                            \n",
            "                                                                                                  \n",
            " conv2d_98 (Conv2D)          (None, 58, 58, 192)          138240    ['activation_97[0][0]']       \n",
            "                                                                                                  \n",
            " batch_normalization_98 (Ba  (None, 58, 58, 192)          576       ['conv2d_98[0][0]']           \n",
            " tchNormalization)                                                                                \n",
            "                                                                                                  \n",
            " activation_98 (Activation)  (None, 58, 58, 192)          0         ['batch_normalization_98[0][0]\n",
            "                                                                    ']                            \n",
            "                                                                                                  \n",
            " max_pooling2d_6 (MaxPoolin  (None, 28, 28, 192)          0         ['activation_98[0][0]']       \n",
            " g2D)                                                                                             \n",
            "                                                                                                  \n",
            " conv2d_102 (Conv2D)         (None, 28, 28, 64)           12288     ['max_pooling2d_6[0][0]']     \n",
            "                                                                                                  \n",
            " batch_normalization_102 (B  (None, 28, 28, 64)           192       ['conv2d_102[0][0]']          \n",
            " atchNormalization)                                                                               \n",
            "                                                                                                  \n",
            " activation_102 (Activation  (None, 28, 28, 64)           0         ['batch_normalization_102[0][0\n",
            " )                                                                  ]']                           \n",
            "                                                                                                  \n",
            " conv2d_100 (Conv2D)         (None, 28, 28, 48)           9216      ['max_pooling2d_6[0][0]']     \n",
            "                                                                                                  \n",
            " conv2d_103 (Conv2D)         (None, 28, 28, 96)           55296     ['activation_102[0][0]']      \n",
            "                                                                                                  \n",
            " batch_normalization_100 (B  (None, 28, 28, 48)           144       ['conv2d_100[0][0]']          \n",
            " atchNormalization)                                                                               \n",
            "                                                                                                  \n",
            " batch_normalization_103 (B  (None, 28, 28, 96)           288       ['conv2d_103[0][0]']          \n",
            " atchNormalization)                                                                               \n",
            "                                                                                                  \n",
            " activation_100 (Activation  (None, 28, 28, 48)           0         ['batch_normalization_100[0][0\n",
            " )                                                                  ]']                           \n",
            "                                                                                                  \n",
            " activation_103 (Activation  (None, 28, 28, 96)           0         ['batch_normalization_103[0][0\n",
            " )                                                                  ]']                           \n",
            "                                                                                                  \n",
            " average_pooling2d_9 (Avera  (None, 28, 28, 192)          0         ['max_pooling2d_6[0][0]']     \n",
            " gePooling2D)                                                                                     \n",
            "                                                                                                  \n",
            " conv2d_99 (Conv2D)          (None, 28, 28, 64)           12288     ['max_pooling2d_6[0][0]']     \n",
            "                                                                                                  \n",
            " conv2d_101 (Conv2D)         (None, 28, 28, 64)           76800     ['activation_100[0][0]']      \n",
            "                                                                                                  \n",
            " conv2d_104 (Conv2D)         (None, 28, 28, 96)           82944     ['activation_103[0][0]']      \n",
            "                                                                                                  \n",
            " conv2d_105 (Conv2D)         (None, 28, 28, 32)           6144      ['average_pooling2d_9[0][0]'] \n",
            "                                                                                                  \n",
            " batch_normalization_99 (Ba  (None, 28, 28, 64)           192       ['conv2d_99[0][0]']           \n",
            " tchNormalization)                                                                                \n",
            "                                                                                                  \n",
            " batch_normalization_101 (B  (None, 28, 28, 64)           192       ['conv2d_101[0][0]']          \n",
            " atchNormalization)                                                                               \n",
            "                                                                                                  \n",
            " batch_normalization_104 (B  (None, 28, 28, 96)           288       ['conv2d_104[0][0]']          \n",
            " atchNormalization)                                                                               \n",
            "                                                                                                  \n",
            " batch_normalization_105 (B  (None, 28, 28, 32)           96        ['conv2d_105[0][0]']          \n",
            " atchNormalization)                                                                               \n",
            "                                                                                                  \n",
            " activation_99 (Activation)  (None, 28, 28, 64)           0         ['batch_normalization_99[0][0]\n",
            "                                                                    ']                            \n",
            "                                                                                                  \n",
            " activation_101 (Activation  (None, 28, 28, 64)           0         ['batch_normalization_101[0][0\n",
            " )                                                                  ]']                           \n",
            "                                                                                                  \n",
            " activation_104 (Activation  (None, 28, 28, 96)           0         ['batch_normalization_104[0][0\n",
            " )                                                                  ]']                           \n",
            "                                                                                                  \n",
            " activation_105 (Activation  (None, 28, 28, 32)           0         ['batch_normalization_105[0][0\n",
            " )                                                                  ]']                           \n",
            "                                                                                                  \n",
            " mixed0 (Concatenate)        (None, 28, 28, 256)          0         ['activation_99[0][0]',       \n",
            "                                                                     'activation_101[0][0]',      \n",
            "                                                                     'activation_104[0][0]',      \n",
            "                                                                     'activation_105[0][0]']      \n",
            "                                                                                                  \n",
            " conv2d_109 (Conv2D)         (None, 28, 28, 64)           16384     ['mixed0[0][0]']              \n",
            "                                                                                                  \n",
            " batch_normalization_109 (B  (None, 28, 28, 64)           192       ['conv2d_109[0][0]']          \n",
            " atchNormalization)                                                                               \n",
            "                                                                                                  \n",
            " activation_109 (Activation  (None, 28, 28, 64)           0         ['batch_normalization_109[0][0\n",
            " )                                                                  ]']                           \n",
            "                                                                                                  \n",
            " conv2d_107 (Conv2D)         (None, 28, 28, 48)           12288     ['mixed0[0][0]']              \n",
            "                                                                                                  \n",
            " conv2d_110 (Conv2D)         (None, 28, 28, 96)           55296     ['activation_109[0][0]']      \n",
            "                                                                                                  \n",
            " batch_normalization_107 (B  (None, 28, 28, 48)           144       ['conv2d_107[0][0]']          \n",
            " atchNormalization)                                                                               \n",
            "                                                                                                  \n",
            " batch_normalization_110 (B  (None, 28, 28, 96)           288       ['conv2d_110[0][0]']          \n",
            " atchNormalization)                                                                               \n",
            "                                                                                                  \n",
            " activation_107 (Activation  (None, 28, 28, 48)           0         ['batch_normalization_107[0][0\n",
            " )                                                                  ]']                           \n",
            "                                                                                                  \n",
            " activation_110 (Activation  (None, 28, 28, 96)           0         ['batch_normalization_110[0][0\n",
            " )                                                                  ]']                           \n",
            "                                                                                                  \n",
            " average_pooling2d_10 (Aver  (None, 28, 28, 256)          0         ['mixed0[0][0]']              \n",
            " agePooling2D)                                                                                    \n",
            "                                                                                                  \n",
            " conv2d_106 (Conv2D)         (None, 28, 28, 64)           16384     ['mixed0[0][0]']              \n",
            "                                                                                                  \n",
            " conv2d_108 (Conv2D)         (None, 28, 28, 64)           76800     ['activation_107[0][0]']      \n",
            "                                                                                                  \n",
            " conv2d_111 (Conv2D)         (None, 28, 28, 96)           82944     ['activation_110[0][0]']      \n",
            "                                                                                                  \n",
            " conv2d_112 (Conv2D)         (None, 28, 28, 64)           16384     ['average_pooling2d_10[0][0]']\n",
            "                                                                                                  \n",
            " batch_normalization_106 (B  (None, 28, 28, 64)           192       ['conv2d_106[0][0]']          \n",
            " atchNormalization)                                                                               \n",
            "                                                                                                  \n",
            " batch_normalization_108 (B  (None, 28, 28, 64)           192       ['conv2d_108[0][0]']          \n",
            " atchNormalization)                                                                               \n",
            "                                                                                                  \n",
            " batch_normalization_111 (B  (None, 28, 28, 96)           288       ['conv2d_111[0][0]']          \n",
            " atchNormalization)                                                                               \n",
            "                                                                                                  \n",
            " batch_normalization_112 (B  (None, 28, 28, 64)           192       ['conv2d_112[0][0]']          \n",
            " atchNormalization)                                                                               \n",
            "                                                                                                  \n",
            " activation_106 (Activation  (None, 28, 28, 64)           0         ['batch_normalization_106[0][0\n",
            " )                                                                  ]']                           \n",
            "                                                                                                  \n",
            " activation_108 (Activation  (None, 28, 28, 64)           0         ['batch_normalization_108[0][0\n",
            " )                                                                  ]']                           \n",
            "                                                                                                  \n",
            " activation_111 (Activation  (None, 28, 28, 96)           0         ['batch_normalization_111[0][0\n",
            " )                                                                  ]']                           \n",
            "                                                                                                  \n",
            " activation_112 (Activation  (None, 28, 28, 64)           0         ['batch_normalization_112[0][0\n",
            " )                                                                  ]']                           \n",
            "                                                                                                  \n",
            " mixed1 (Concatenate)        (None, 28, 28, 288)          0         ['activation_106[0][0]',      \n",
            "                                                                     'activation_108[0][0]',      \n",
            "                                                                     'activation_111[0][0]',      \n",
            "                                                                     'activation_112[0][0]']      \n",
            "                                                                                                  \n",
            " conv2d_116 (Conv2D)         (None, 28, 28, 64)           18432     ['mixed1[0][0]']              \n",
            "                                                                                                  \n",
            " batch_normalization_116 (B  (None, 28, 28, 64)           192       ['conv2d_116[0][0]']          \n",
            " atchNormalization)                                                                               \n",
            "                                                                                                  \n",
            " activation_116 (Activation  (None, 28, 28, 64)           0         ['batch_normalization_116[0][0\n",
            " )                                                                  ]']                           \n",
            "                                                                                                  \n",
            " conv2d_114 (Conv2D)         (None, 28, 28, 48)           13824     ['mixed1[0][0]']              \n",
            "                                                                                                  \n",
            " conv2d_117 (Conv2D)         (None, 28, 28, 96)           55296     ['activation_116[0][0]']      \n",
            "                                                                                                  \n",
            " batch_normalization_114 (B  (None, 28, 28, 48)           144       ['conv2d_114[0][0]']          \n",
            " atchNormalization)                                                                               \n",
            "                                                                                                  \n",
            " batch_normalization_117 (B  (None, 28, 28, 96)           288       ['conv2d_117[0][0]']          \n",
            " atchNormalization)                                                                               \n",
            "                                                                                                  \n",
            " activation_114 (Activation  (None, 28, 28, 48)           0         ['batch_normalization_114[0][0\n",
            " )                                                                  ]']                           \n",
            "                                                                                                  \n",
            " activation_117 (Activation  (None, 28, 28, 96)           0         ['batch_normalization_117[0][0\n",
            " )                                                                  ]']                           \n",
            "                                                                                                  \n",
            " average_pooling2d_11 (Aver  (None, 28, 28, 288)          0         ['mixed1[0][0]']              \n",
            " agePooling2D)                                                                                    \n",
            "                                                                                                  \n",
            " conv2d_113 (Conv2D)         (None, 28, 28, 64)           18432     ['mixed1[0][0]']              \n",
            "                                                                                                  \n",
            " conv2d_115 (Conv2D)         (None, 28, 28, 64)           76800     ['activation_114[0][0]']      \n",
            "                                                                                                  \n",
            " conv2d_118 (Conv2D)         (None, 28, 28, 96)           82944     ['activation_117[0][0]']      \n",
            "                                                                                                  \n",
            " conv2d_119 (Conv2D)         (None, 28, 28, 64)           18432     ['average_pooling2d_11[0][0]']\n",
            "                                                                                                  \n",
            " batch_normalization_113 (B  (None, 28, 28, 64)           192       ['conv2d_113[0][0]']          \n",
            " atchNormalization)                                                                               \n",
            "                                                                                                  \n",
            " batch_normalization_115 (B  (None, 28, 28, 64)           192       ['conv2d_115[0][0]']          \n",
            " atchNormalization)                                                                               \n",
            "                                                                                                  \n",
            " batch_normalization_118 (B  (None, 28, 28, 96)           288       ['conv2d_118[0][0]']          \n",
            " atchNormalization)                                                                               \n",
            "                                                                                                  \n",
            " batch_normalization_119 (B  (None, 28, 28, 64)           192       ['conv2d_119[0][0]']          \n",
            " atchNormalization)                                                                               \n",
            "                                                                                                  \n",
            " activation_113 (Activation  (None, 28, 28, 64)           0         ['batch_normalization_113[0][0\n",
            " )                                                                  ]']                           \n",
            "                                                                                                  \n",
            " activation_115 (Activation  (None, 28, 28, 64)           0         ['batch_normalization_115[0][0\n",
            " )                                                                  ]']                           \n",
            "                                                                                                  \n",
            " activation_118 (Activation  (None, 28, 28, 96)           0         ['batch_normalization_118[0][0\n",
            " )                                                                  ]']                           \n",
            "                                                                                                  \n",
            " activation_119 (Activation  (None, 28, 28, 64)           0         ['batch_normalization_119[0][0\n",
            " )                                                                  ]']                           \n",
            "                                                                                                  \n",
            " mixed2 (Concatenate)        (None, 28, 28, 288)          0         ['activation_113[0][0]',      \n",
            "                                                                     'activation_115[0][0]',      \n",
            "                                                                     'activation_118[0][0]',      \n",
            "                                                                     'activation_119[0][0]']      \n",
            "                                                                                                  \n",
            " conv2d_121 (Conv2D)         (None, 28, 28, 64)           18432     ['mixed2[0][0]']              \n",
            "                                                                                                  \n",
            " batch_normalization_121 (B  (None, 28, 28, 64)           192       ['conv2d_121[0][0]']          \n",
            " atchNormalization)                                                                               \n",
            "                                                                                                  \n",
            " activation_121 (Activation  (None, 28, 28, 64)           0         ['batch_normalization_121[0][0\n",
            " )                                                                  ]']                           \n",
            "                                                                                                  \n",
            " conv2d_122 (Conv2D)         (None, 28, 28, 96)           55296     ['activation_121[0][0]']      \n",
            "                                                                                                  \n",
            " batch_normalization_122 (B  (None, 28, 28, 96)           288       ['conv2d_122[0][0]']          \n",
            " atchNormalization)                                                                               \n",
            "                                                                                                  \n",
            " activation_122 (Activation  (None, 28, 28, 96)           0         ['batch_normalization_122[0][0\n",
            " )                                                                  ]']                           \n",
            "                                                                                                  \n",
            " conv2d_120 (Conv2D)         (None, 13, 13, 384)          995328    ['mixed2[0][0]']              \n",
            "                                                                                                  \n",
            " conv2d_123 (Conv2D)         (None, 13, 13, 96)           82944     ['activation_122[0][0]']      \n",
            "                                                                                                  \n",
            " batch_normalization_120 (B  (None, 13, 13, 384)          1152      ['conv2d_120[0][0]']          \n",
            " atchNormalization)                                                                               \n",
            "                                                                                                  \n",
            " batch_normalization_123 (B  (None, 13, 13, 96)           288       ['conv2d_123[0][0]']          \n",
            " atchNormalization)                                                                               \n",
            "                                                                                                  \n",
            " activation_120 (Activation  (None, 13, 13, 384)          0         ['batch_normalization_120[0][0\n",
            " )                                                                  ]']                           \n",
            "                                                                                                  \n",
            " activation_123 (Activation  (None, 13, 13, 96)           0         ['batch_normalization_123[0][0\n",
            " )                                                                  ]']                           \n",
            "                                                                                                  \n",
            " max_pooling2d_7 (MaxPoolin  (None, 13, 13, 288)          0         ['mixed2[0][0]']              \n",
            " g2D)                                                                                             \n",
            "                                                                                                  \n",
            " mixed3 (Concatenate)        (None, 13, 13, 768)          0         ['activation_120[0][0]',      \n",
            "                                                                     'activation_123[0][0]',      \n",
            "                                                                     'max_pooling2d_7[0][0]']     \n",
            "                                                                                                  \n",
            " conv2d_128 (Conv2D)         (None, 13, 13, 128)          98304     ['mixed3[0][0]']              \n",
            "                                                                                                  \n",
            " batch_normalization_128 (B  (None, 13, 13, 128)          384       ['conv2d_128[0][0]']          \n",
            " atchNormalization)                                                                               \n",
            "                                                                                                  \n",
            " activation_128 (Activation  (None, 13, 13, 128)          0         ['batch_normalization_128[0][0\n",
            " )                                                                  ]']                           \n",
            "                                                                                                  \n",
            " conv2d_129 (Conv2D)         (None, 13, 13, 128)          114688    ['activation_128[0][0]']      \n",
            "                                                                                                  \n",
            " batch_normalization_129 (B  (None, 13, 13, 128)          384       ['conv2d_129[0][0]']          \n",
            " atchNormalization)                                                                               \n",
            "                                                                                                  \n",
            " activation_129 (Activation  (None, 13, 13, 128)          0         ['batch_normalization_129[0][0\n",
            " )                                                                  ]']                           \n",
            "                                                                                                  \n",
            " conv2d_125 (Conv2D)         (None, 13, 13, 128)          98304     ['mixed3[0][0]']              \n",
            "                                                                                                  \n",
            " conv2d_130 (Conv2D)         (None, 13, 13, 128)          114688    ['activation_129[0][0]']      \n",
            "                                                                                                  \n",
            " batch_normalization_125 (B  (None, 13, 13, 128)          384       ['conv2d_125[0][0]']          \n",
            " atchNormalization)                                                                               \n",
            "                                                                                                  \n",
            " batch_normalization_130 (B  (None, 13, 13, 128)          384       ['conv2d_130[0][0]']          \n",
            " atchNormalization)                                                                               \n",
            "                                                                                                  \n",
            " activation_125 (Activation  (None, 13, 13, 128)          0         ['batch_normalization_125[0][0\n",
            " )                                                                  ]']                           \n",
            "                                                                                                  \n",
            " activation_130 (Activation  (None, 13, 13, 128)          0         ['batch_normalization_130[0][0\n",
            " )                                                                  ]']                           \n",
            "                                                                                                  \n",
            " conv2d_126 (Conv2D)         (None, 13, 13, 128)          114688    ['activation_125[0][0]']      \n",
            "                                                                                                  \n",
            " conv2d_131 (Conv2D)         (None, 13, 13, 128)          114688    ['activation_130[0][0]']      \n",
            "                                                                                                  \n",
            " batch_normalization_126 (B  (None, 13, 13, 128)          384       ['conv2d_126[0][0]']          \n",
            " atchNormalization)                                                                               \n",
            "                                                                                                  \n",
            " batch_normalization_131 (B  (None, 13, 13, 128)          384       ['conv2d_131[0][0]']          \n",
            " atchNormalization)                                                                               \n",
            "                                                                                                  \n",
            " activation_126 (Activation  (None, 13, 13, 128)          0         ['batch_normalization_126[0][0\n",
            " )                                                                  ]']                           \n",
            "                                                                                                  \n",
            " activation_131 (Activation  (None, 13, 13, 128)          0         ['batch_normalization_131[0][0\n",
            " )                                                                  ]']                           \n",
            "                                                                                                  \n",
            " average_pooling2d_12 (Aver  (None, 13, 13, 768)          0         ['mixed3[0][0]']              \n",
            " agePooling2D)                                                                                    \n",
            "                                                                                                  \n",
            " conv2d_124 (Conv2D)         (None, 13, 13, 192)          147456    ['mixed3[0][0]']              \n",
            "                                                                                                  \n",
            " conv2d_127 (Conv2D)         (None, 13, 13, 192)          172032    ['activation_126[0][0]']      \n",
            "                                                                                                  \n",
            " conv2d_132 (Conv2D)         (None, 13, 13, 192)          172032    ['activation_131[0][0]']      \n",
            "                                                                                                  \n",
            " conv2d_133 (Conv2D)         (None, 13, 13, 192)          147456    ['average_pooling2d_12[0][0]']\n",
            "                                                                                                  \n",
            " batch_normalization_124 (B  (None, 13, 13, 192)          576       ['conv2d_124[0][0]']          \n",
            " atchNormalization)                                                                               \n",
            "                                                                                                  \n",
            " batch_normalization_127 (B  (None, 13, 13, 192)          576       ['conv2d_127[0][0]']          \n",
            " atchNormalization)                                                                               \n",
            "                                                                                                  \n",
            " batch_normalization_132 (B  (None, 13, 13, 192)          576       ['conv2d_132[0][0]']          \n",
            " atchNormalization)                                                                               \n",
            "                                                                                                  \n",
            " batch_normalization_133 (B  (None, 13, 13, 192)          576       ['conv2d_133[0][0]']          \n",
            " atchNormalization)                                                                               \n",
            "                                                                                                  \n",
            " activation_124 (Activation  (None, 13, 13, 192)          0         ['batch_normalization_124[0][0\n",
            " )                                                                  ]']                           \n",
            "                                                                                                  \n",
            " activation_127 (Activation  (None, 13, 13, 192)          0         ['batch_normalization_127[0][0\n",
            " )                                                                  ]']                           \n",
            "                                                                                                  \n",
            " activation_132 (Activation  (None, 13, 13, 192)          0         ['batch_normalization_132[0][0\n",
            " )                                                                  ]']                           \n",
            "                                                                                                  \n",
            " activation_133 (Activation  (None, 13, 13, 192)          0         ['batch_normalization_133[0][0\n",
            " )                                                                  ]']                           \n",
            "                                                                                                  \n",
            " mixed4 (Concatenate)        (None, 13, 13, 768)          0         ['activation_124[0][0]',      \n",
            "                                                                     'activation_127[0][0]',      \n",
            "                                                                     'activation_132[0][0]',      \n",
            "                                                                     'activation_133[0][0]']      \n",
            "                                                                                                  \n",
            " conv2d_138 (Conv2D)         (None, 13, 13, 160)          122880    ['mixed4[0][0]']              \n",
            "                                                                                                  \n",
            " batch_normalization_138 (B  (None, 13, 13, 160)          480       ['conv2d_138[0][0]']          \n",
            " atchNormalization)                                                                               \n",
            "                                                                                                  \n",
            " activation_138 (Activation  (None, 13, 13, 160)          0         ['batch_normalization_138[0][0\n",
            " )                                                                  ]']                           \n",
            "                                                                                                  \n",
            " conv2d_139 (Conv2D)         (None, 13, 13, 160)          179200    ['activation_138[0][0]']      \n",
            "                                                                                                  \n",
            " batch_normalization_139 (B  (None, 13, 13, 160)          480       ['conv2d_139[0][0]']          \n",
            " atchNormalization)                                                                               \n",
            "                                                                                                  \n",
            " activation_139 (Activation  (None, 13, 13, 160)          0         ['batch_normalization_139[0][0\n",
            " )                                                                  ]']                           \n",
            "                                                                                                  \n",
            " conv2d_135 (Conv2D)         (None, 13, 13, 160)          122880    ['mixed4[0][0]']              \n",
            "                                                                                                  \n",
            " conv2d_140 (Conv2D)         (None, 13, 13, 160)          179200    ['activation_139[0][0]']      \n",
            "                                                                                                  \n",
            " batch_normalization_135 (B  (None, 13, 13, 160)          480       ['conv2d_135[0][0]']          \n",
            " atchNormalization)                                                                               \n",
            "                                                                                                  \n",
            " batch_normalization_140 (B  (None, 13, 13, 160)          480       ['conv2d_140[0][0]']          \n",
            " atchNormalization)                                                                               \n",
            "                                                                                                  \n",
            " activation_135 (Activation  (None, 13, 13, 160)          0         ['batch_normalization_135[0][0\n",
            " )                                                                  ]']                           \n",
            "                                                                                                  \n",
            " activation_140 (Activation  (None, 13, 13, 160)          0         ['batch_normalization_140[0][0\n",
            " )                                                                  ]']                           \n",
            "                                                                                                  \n",
            " conv2d_136 (Conv2D)         (None, 13, 13, 160)          179200    ['activation_135[0][0]']      \n",
            "                                                                                                  \n",
            " conv2d_141 (Conv2D)         (None, 13, 13, 160)          179200    ['activation_140[0][0]']      \n",
            "                                                                                                  \n",
            " batch_normalization_136 (B  (None, 13, 13, 160)          480       ['conv2d_136[0][0]']          \n",
            " atchNormalization)                                                                               \n",
            "                                                                                                  \n",
            " batch_normalization_141 (B  (None, 13, 13, 160)          480       ['conv2d_141[0][0]']          \n",
            " atchNormalization)                                                                               \n",
            "                                                                                                  \n",
            " activation_136 (Activation  (None, 13, 13, 160)          0         ['batch_normalization_136[0][0\n",
            " )                                                                  ]']                           \n",
            "                                                                                                  \n",
            " activation_141 (Activation  (None, 13, 13, 160)          0         ['batch_normalization_141[0][0\n",
            " )                                                                  ]']                           \n",
            "                                                                                                  \n",
            " average_pooling2d_13 (Aver  (None, 13, 13, 768)          0         ['mixed4[0][0]']              \n",
            " agePooling2D)                                                                                    \n",
            "                                                                                                  \n",
            " conv2d_134 (Conv2D)         (None, 13, 13, 192)          147456    ['mixed4[0][0]']              \n",
            "                                                                                                  \n",
            " conv2d_137 (Conv2D)         (None, 13, 13, 192)          215040    ['activation_136[0][0]']      \n",
            "                                                                                                  \n",
            " conv2d_142 (Conv2D)         (None, 13, 13, 192)          215040    ['activation_141[0][0]']      \n",
            "                                                                                                  \n",
            " conv2d_143 (Conv2D)         (None, 13, 13, 192)          147456    ['average_pooling2d_13[0][0]']\n",
            "                                                                                                  \n",
            " batch_normalization_134 (B  (None, 13, 13, 192)          576       ['conv2d_134[0][0]']          \n",
            " atchNormalization)                                                                               \n",
            "                                                                                                  \n",
            " batch_normalization_137 (B  (None, 13, 13, 192)          576       ['conv2d_137[0][0]']          \n",
            " atchNormalization)                                                                               \n",
            "                                                                                                  \n",
            " batch_normalization_142 (B  (None, 13, 13, 192)          576       ['conv2d_142[0][0]']          \n",
            " atchNormalization)                                                                               \n",
            "                                                                                                  \n",
            " batch_normalization_143 (B  (None, 13, 13, 192)          576       ['conv2d_143[0][0]']          \n",
            " atchNormalization)                                                                               \n",
            "                                                                                                  \n",
            " activation_134 (Activation  (None, 13, 13, 192)          0         ['batch_normalization_134[0][0\n",
            " )                                                                  ]']                           \n",
            "                                                                                                  \n",
            " activation_137 (Activation  (None, 13, 13, 192)          0         ['batch_normalization_137[0][0\n",
            " )                                                                  ]']                           \n",
            "                                                                                                  \n",
            " activation_142 (Activation  (None, 13, 13, 192)          0         ['batch_normalization_142[0][0\n",
            " )                                                                  ]']                           \n",
            "                                                                                                  \n",
            " activation_143 (Activation  (None, 13, 13, 192)          0         ['batch_normalization_143[0][0\n",
            " )                                                                  ]']                           \n",
            "                                                                                                  \n",
            " mixed5 (Concatenate)        (None, 13, 13, 768)          0         ['activation_134[0][0]',      \n",
            "                                                                     'activation_137[0][0]',      \n",
            "                                                                     'activation_142[0][0]',      \n",
            "                                                                     'activation_143[0][0]']      \n",
            "                                                                                                  \n",
            " conv2d_148 (Conv2D)         (None, 13, 13, 160)          122880    ['mixed5[0][0]']              \n",
            "                                                                                                  \n",
            " batch_normalization_148 (B  (None, 13, 13, 160)          480       ['conv2d_148[0][0]']          \n",
            " atchNormalization)                                                                               \n",
            "                                                                                                  \n",
            " activation_148 (Activation  (None, 13, 13, 160)          0         ['batch_normalization_148[0][0\n",
            " )                                                                  ]']                           \n",
            "                                                                                                  \n",
            " conv2d_149 (Conv2D)         (None, 13, 13, 160)          179200    ['activation_148[0][0]']      \n",
            "                                                                                                  \n",
            " batch_normalization_149 (B  (None, 13, 13, 160)          480       ['conv2d_149[0][0]']          \n",
            " atchNormalization)                                                                               \n",
            "                                                                                                  \n",
            " activation_149 (Activation  (None, 13, 13, 160)          0         ['batch_normalization_149[0][0\n",
            " )                                                                  ]']                           \n",
            "                                                                                                  \n",
            " conv2d_145 (Conv2D)         (None, 13, 13, 160)          122880    ['mixed5[0][0]']              \n",
            "                                                                                                  \n",
            " conv2d_150 (Conv2D)         (None, 13, 13, 160)          179200    ['activation_149[0][0]']      \n",
            "                                                                                                  \n",
            " batch_normalization_145 (B  (None, 13, 13, 160)          480       ['conv2d_145[0][0]']          \n",
            " atchNormalization)                                                                               \n",
            "                                                                                                  \n",
            " batch_normalization_150 (B  (None, 13, 13, 160)          480       ['conv2d_150[0][0]']          \n",
            " atchNormalization)                                                                               \n",
            "                                                                                                  \n",
            " activation_145 (Activation  (None, 13, 13, 160)          0         ['batch_normalization_145[0][0\n",
            " )                                                                  ]']                           \n",
            "                                                                                                  \n",
            " activation_150 (Activation  (None, 13, 13, 160)          0         ['batch_normalization_150[0][0\n",
            " )                                                                  ]']                           \n",
            "                                                                                                  \n",
            " conv2d_146 (Conv2D)         (None, 13, 13, 160)          179200    ['activation_145[0][0]']      \n",
            "                                                                                                  \n",
            " conv2d_151 (Conv2D)         (None, 13, 13, 160)          179200    ['activation_150[0][0]']      \n",
            "                                                                                                  \n",
            " batch_normalization_146 (B  (None, 13, 13, 160)          480       ['conv2d_146[0][0]']          \n",
            " atchNormalization)                                                                               \n",
            "                                                                                                  \n",
            " batch_normalization_151 (B  (None, 13, 13, 160)          480       ['conv2d_151[0][0]']          \n",
            " atchNormalization)                                                                               \n",
            "                                                                                                  \n",
            " activation_146 (Activation  (None, 13, 13, 160)          0         ['batch_normalization_146[0][0\n",
            " )                                                                  ]']                           \n",
            "                                                                                                  \n",
            " activation_151 (Activation  (None, 13, 13, 160)          0         ['batch_normalization_151[0][0\n",
            " )                                                                  ]']                           \n",
            "                                                                                                  \n",
            " average_pooling2d_14 (Aver  (None, 13, 13, 768)          0         ['mixed5[0][0]']              \n",
            " agePooling2D)                                                                                    \n",
            "                                                                                                  \n",
            " conv2d_144 (Conv2D)         (None, 13, 13, 192)          147456    ['mixed5[0][0]']              \n",
            "                                                                                                  \n",
            " conv2d_147 (Conv2D)         (None, 13, 13, 192)          215040    ['activation_146[0][0]']      \n",
            "                                                                                                  \n",
            " conv2d_152 (Conv2D)         (None, 13, 13, 192)          215040    ['activation_151[0][0]']      \n",
            "                                                                                                  \n",
            " conv2d_153 (Conv2D)         (None, 13, 13, 192)          147456    ['average_pooling2d_14[0][0]']\n",
            "                                                                                                  \n",
            " batch_normalization_144 (B  (None, 13, 13, 192)          576       ['conv2d_144[0][0]']          \n",
            " atchNormalization)                                                                               \n",
            "                                                                                                  \n",
            " batch_normalization_147 (B  (None, 13, 13, 192)          576       ['conv2d_147[0][0]']          \n",
            " atchNormalization)                                                                               \n",
            "                                                                                                  \n",
            " batch_normalization_152 (B  (None, 13, 13, 192)          576       ['conv2d_152[0][0]']          \n",
            " atchNormalization)                                                                               \n",
            "                                                                                                  \n",
            " batch_normalization_153 (B  (None, 13, 13, 192)          576       ['conv2d_153[0][0]']          \n",
            " atchNormalization)                                                                               \n",
            "                                                                                                  \n",
            " activation_144 (Activation  (None, 13, 13, 192)          0         ['batch_normalization_144[0][0\n",
            " )                                                                  ]']                           \n",
            "                                                                                                  \n",
            " activation_147 (Activation  (None, 13, 13, 192)          0         ['batch_normalization_147[0][0\n",
            " )                                                                  ]']                           \n",
            "                                                                                                  \n",
            " activation_152 (Activation  (None, 13, 13, 192)          0         ['batch_normalization_152[0][0\n",
            " )                                                                  ]']                           \n",
            "                                                                                                  \n",
            " activation_153 (Activation  (None, 13, 13, 192)          0         ['batch_normalization_153[0][0\n",
            " )                                                                  ]']                           \n",
            "                                                                                                  \n",
            " mixed6 (Concatenate)        (None, 13, 13, 768)          0         ['activation_144[0][0]',      \n",
            "                                                                     'activation_147[0][0]',      \n",
            "                                                                     'activation_152[0][0]',      \n",
            "                                                                     'activation_153[0][0]']      \n",
            "                                                                                                  \n",
            " conv2d_158 (Conv2D)         (None, 13, 13, 192)          147456    ['mixed6[0][0]']              \n",
            "                                                                                                  \n",
            " batch_normalization_158 (B  (None, 13, 13, 192)          576       ['conv2d_158[0][0]']          \n",
            " atchNormalization)                                                                               \n",
            "                                                                                                  \n",
            " activation_158 (Activation  (None, 13, 13, 192)          0         ['batch_normalization_158[0][0\n",
            " )                                                                  ]']                           \n",
            "                                                                                                  \n",
            " conv2d_159 (Conv2D)         (None, 13, 13, 192)          258048    ['activation_158[0][0]']      \n",
            "                                                                                                  \n",
            " batch_normalization_159 (B  (None, 13, 13, 192)          576       ['conv2d_159[0][0]']          \n",
            " atchNormalization)                                                                               \n",
            "                                                                                                  \n",
            " activation_159 (Activation  (None, 13, 13, 192)          0         ['batch_normalization_159[0][0\n",
            " )                                                                  ]']                           \n",
            "                                                                                                  \n",
            " conv2d_155 (Conv2D)         (None, 13, 13, 192)          147456    ['mixed6[0][0]']              \n",
            "                                                                                                  \n",
            " conv2d_160 (Conv2D)         (None, 13, 13, 192)          258048    ['activation_159[0][0]']      \n",
            "                                                                                                  \n",
            " batch_normalization_155 (B  (None, 13, 13, 192)          576       ['conv2d_155[0][0]']          \n",
            " atchNormalization)                                                                               \n",
            "                                                                                                  \n",
            " batch_normalization_160 (B  (None, 13, 13, 192)          576       ['conv2d_160[0][0]']          \n",
            " atchNormalization)                                                                               \n",
            "                                                                                                  \n",
            " activation_155 (Activation  (None, 13, 13, 192)          0         ['batch_normalization_155[0][0\n",
            " )                                                                  ]']                           \n",
            "                                                                                                  \n",
            " activation_160 (Activation  (None, 13, 13, 192)          0         ['batch_normalization_160[0][0\n",
            " )                                                                  ]']                           \n",
            "                                                                                                  \n",
            " conv2d_156 (Conv2D)         (None, 13, 13, 192)          258048    ['activation_155[0][0]']      \n",
            "                                                                                                  \n",
            " conv2d_161 (Conv2D)         (None, 13, 13, 192)          258048    ['activation_160[0][0]']      \n",
            "                                                                                                  \n",
            " batch_normalization_156 (B  (None, 13, 13, 192)          576       ['conv2d_156[0][0]']          \n",
            " atchNormalization)                                                                               \n",
            "                                                                                                  \n",
            " batch_normalization_161 (B  (None, 13, 13, 192)          576       ['conv2d_161[0][0]']          \n",
            " atchNormalization)                                                                               \n",
            "                                                                                                  \n",
            " activation_156 (Activation  (None, 13, 13, 192)          0         ['batch_normalization_156[0][0\n",
            " )                                                                  ]']                           \n",
            "                                                                                                  \n",
            " activation_161 (Activation  (None, 13, 13, 192)          0         ['batch_normalization_161[0][0\n",
            " )                                                                  ]']                           \n",
            "                                                                                                  \n",
            " average_pooling2d_15 (Aver  (None, 13, 13, 768)          0         ['mixed6[0][0]']              \n",
            " agePooling2D)                                                                                    \n",
            "                                                                                                  \n",
            " conv2d_154 (Conv2D)         (None, 13, 13, 192)          147456    ['mixed6[0][0]']              \n",
            "                                                                                                  \n",
            " conv2d_157 (Conv2D)         (None, 13, 13, 192)          258048    ['activation_156[0][0]']      \n",
            "                                                                                                  \n",
            " conv2d_162 (Conv2D)         (None, 13, 13, 192)          258048    ['activation_161[0][0]']      \n",
            "                                                                                                  \n",
            " conv2d_163 (Conv2D)         (None, 13, 13, 192)          147456    ['average_pooling2d_15[0][0]']\n",
            "                                                                                                  \n",
            " batch_normalization_154 (B  (None, 13, 13, 192)          576       ['conv2d_154[0][0]']          \n",
            " atchNormalization)                                                                               \n",
            "                                                                                                  \n",
            " batch_normalization_157 (B  (None, 13, 13, 192)          576       ['conv2d_157[0][0]']          \n",
            " atchNormalization)                                                                               \n",
            "                                                                                                  \n",
            " batch_normalization_162 (B  (None, 13, 13, 192)          576       ['conv2d_162[0][0]']          \n",
            " atchNormalization)                                                                               \n",
            "                                                                                                  \n",
            " batch_normalization_163 (B  (None, 13, 13, 192)          576       ['conv2d_163[0][0]']          \n",
            " atchNormalization)                                                                               \n",
            "                                                                                                  \n",
            " activation_154 (Activation  (None, 13, 13, 192)          0         ['batch_normalization_154[0][0\n",
            " )                                                                  ]']                           \n",
            "                                                                                                  \n",
            " activation_157 (Activation  (None, 13, 13, 192)          0         ['batch_normalization_157[0][0\n",
            " )                                                                  ]']                           \n",
            "                                                                                                  \n",
            " activation_162 (Activation  (None, 13, 13, 192)          0         ['batch_normalization_162[0][0\n",
            " )                                                                  ]']                           \n",
            "                                                                                                  \n",
            " activation_163 (Activation  (None, 13, 13, 192)          0         ['batch_normalization_163[0][0\n",
            " )                                                                  ]']                           \n",
            "                                                                                                  \n",
            " mixed7 (Concatenate)        (None, 13, 13, 768)          0         ['activation_154[0][0]',      \n",
            "                                                                     'activation_157[0][0]',      \n",
            "                                                                     'activation_162[0][0]',      \n",
            "                                                                     'activation_163[0][0]']      \n",
            "                                                                                                  \n",
            " conv2d_166 (Conv2D)         (None, 13, 13, 192)          147456    ['mixed7[0][0]']              \n",
            "                                                                                                  \n",
            " batch_normalization_166 (B  (None, 13, 13, 192)          576       ['conv2d_166[0][0]']          \n",
            " atchNormalization)                                                                               \n",
            "                                                                                                  \n",
            " activation_166 (Activation  (None, 13, 13, 192)          0         ['batch_normalization_166[0][0\n",
            " )                                                                  ]']                           \n",
            "                                                                                                  \n",
            " conv2d_167 (Conv2D)         (None, 13, 13, 192)          258048    ['activation_166[0][0]']      \n",
            "                                                                                                  \n",
            " batch_normalization_167 (B  (None, 13, 13, 192)          576       ['conv2d_167[0][0]']          \n",
            " atchNormalization)                                                                               \n",
            "                                                                                                  \n",
            " activation_167 (Activation  (None, 13, 13, 192)          0         ['batch_normalization_167[0][0\n",
            " )                                                                  ]']                           \n",
            "                                                                                                  \n",
            " conv2d_164 (Conv2D)         (None, 13, 13, 192)          147456    ['mixed7[0][0]']              \n",
            "                                                                                                  \n",
            " conv2d_168 (Conv2D)         (None, 13, 13, 192)          258048    ['activation_167[0][0]']      \n",
            "                                                                                                  \n",
            " batch_normalization_164 (B  (None, 13, 13, 192)          576       ['conv2d_164[0][0]']          \n",
            " atchNormalization)                                                                               \n",
            "                                                                                                  \n",
            " batch_normalization_168 (B  (None, 13, 13, 192)          576       ['conv2d_168[0][0]']          \n",
            " atchNormalization)                                                                               \n",
            "                                                                                                  \n",
            " activation_164 (Activation  (None, 13, 13, 192)          0         ['batch_normalization_164[0][0\n",
            " )                                                                  ]']                           \n",
            "                                                                                                  \n",
            " activation_168 (Activation  (None, 13, 13, 192)          0         ['batch_normalization_168[0][0\n",
            " )                                                                  ]']                           \n",
            "                                                                                                  \n",
            " conv2d_165 (Conv2D)         (None, 6, 6, 320)            552960    ['activation_164[0][0]']      \n",
            "                                                                                                  \n",
            " conv2d_169 (Conv2D)         (None, 6, 6, 192)            331776    ['activation_168[0][0]']      \n",
            "                                                                                                  \n",
            " batch_normalization_165 (B  (None, 6, 6, 320)            960       ['conv2d_165[0][0]']          \n",
            " atchNormalization)                                                                               \n",
            "                                                                                                  \n",
            " batch_normalization_169 (B  (None, 6, 6, 192)            576       ['conv2d_169[0][0]']          \n",
            " atchNormalization)                                                                               \n",
            "                                                                                                  \n",
            " activation_165 (Activation  (None, 6, 6, 320)            0         ['batch_normalization_165[0][0\n",
            " )                                                                  ]']                           \n",
            "                                                                                                  \n",
            " activation_169 (Activation  (None, 6, 6, 192)            0         ['batch_normalization_169[0][0\n",
            " )                                                                  ]']                           \n",
            "                                                                                                  \n",
            " max_pooling2d_8 (MaxPoolin  (None, 6, 6, 768)            0         ['mixed7[0][0]']              \n",
            " g2D)                                                                                             \n",
            "                                                                                                  \n",
            " mixed8 (Concatenate)        (None, 6, 6, 1280)           0         ['activation_165[0][0]',      \n",
            "                                                                     'activation_169[0][0]',      \n",
            "                                                                     'max_pooling2d_8[0][0]']     \n",
            "                                                                                                  \n",
            " conv2d_174 (Conv2D)         (None, 6, 6, 448)            573440    ['mixed8[0][0]']              \n",
            "                                                                                                  \n",
            " batch_normalization_174 (B  (None, 6, 6, 448)            1344      ['conv2d_174[0][0]']          \n",
            " atchNormalization)                                                                               \n",
            "                                                                                                  \n",
            " activation_174 (Activation  (None, 6, 6, 448)            0         ['batch_normalization_174[0][0\n",
            " )                                                                  ]']                           \n",
            "                                                                                                  \n",
            " conv2d_171 (Conv2D)         (None, 6, 6, 384)            491520    ['mixed8[0][0]']              \n",
            "                                                                                                  \n",
            " conv2d_175 (Conv2D)         (None, 6, 6, 384)            1548288   ['activation_174[0][0]']      \n",
            "                                                                                                  \n",
            " batch_normalization_171 (B  (None, 6, 6, 384)            1152      ['conv2d_171[0][0]']          \n",
            " atchNormalization)                                                                               \n",
            "                                                                                                  \n",
            " batch_normalization_175 (B  (None, 6, 6, 384)            1152      ['conv2d_175[0][0]']          \n",
            " atchNormalization)                                                                               \n",
            "                                                                                                  \n",
            " activation_171 (Activation  (None, 6, 6, 384)            0         ['batch_normalization_171[0][0\n",
            " )                                                                  ]']                           \n",
            "                                                                                                  \n",
            " activation_175 (Activation  (None, 6, 6, 384)            0         ['batch_normalization_175[0][0\n",
            " )                                                                  ]']                           \n",
            "                                                                                                  \n",
            " conv2d_172 (Conv2D)         (None, 6, 6, 384)            442368    ['activation_171[0][0]']      \n",
            "                                                                                                  \n",
            " conv2d_173 (Conv2D)         (None, 6, 6, 384)            442368    ['activation_171[0][0]']      \n",
            "                                                                                                  \n",
            " conv2d_176 (Conv2D)         (None, 6, 6, 384)            442368    ['activation_175[0][0]']      \n",
            "                                                                                                  \n",
            " conv2d_177 (Conv2D)         (None, 6, 6, 384)            442368    ['activation_175[0][0]']      \n",
            "                                                                                                  \n",
            " average_pooling2d_16 (Aver  (None, 6, 6, 1280)           0         ['mixed8[0][0]']              \n",
            " agePooling2D)                                                                                    \n",
            "                                                                                                  \n",
            " conv2d_170 (Conv2D)         (None, 6, 6, 320)            409600    ['mixed8[0][0]']              \n",
            "                                                                                                  \n",
            " batch_normalization_172 (B  (None, 6, 6, 384)            1152      ['conv2d_172[0][0]']          \n",
            " atchNormalization)                                                                               \n",
            "                                                                                                  \n",
            " batch_normalization_173 (B  (None, 6, 6, 384)            1152      ['conv2d_173[0][0]']          \n",
            " atchNormalization)                                                                               \n",
            "                                                                                                  \n",
            " batch_normalization_176 (B  (None, 6, 6, 384)            1152      ['conv2d_176[0][0]']          \n",
            " atchNormalization)                                                                               \n",
            "                                                                                                  \n",
            " batch_normalization_177 (B  (None, 6, 6, 384)            1152      ['conv2d_177[0][0]']          \n",
            " atchNormalization)                                                                               \n",
            "                                                                                                  \n",
            " conv2d_178 (Conv2D)         (None, 6, 6, 192)            245760    ['average_pooling2d_16[0][0]']\n",
            "                                                                                                  \n",
            " batch_normalization_170 (B  (None, 6, 6, 320)            960       ['conv2d_170[0][0]']          \n",
            " atchNormalization)                                                                               \n",
            "                                                                                                  \n",
            " activation_172 (Activation  (None, 6, 6, 384)            0         ['batch_normalization_172[0][0\n",
            " )                                                                  ]']                           \n",
            "                                                                                                  \n",
            " activation_173 (Activation  (None, 6, 6, 384)            0         ['batch_normalization_173[0][0\n",
            " )                                                                  ]']                           \n",
            "                                                                                                  \n",
            " activation_176 (Activation  (None, 6, 6, 384)            0         ['batch_normalization_176[0][0\n",
            " )                                                                  ]']                           \n",
            "                                                                                                  \n",
            " activation_177 (Activation  (None, 6, 6, 384)            0         ['batch_normalization_177[0][0\n",
            " )                                                                  ]']                           \n",
            "                                                                                                  \n",
            " batch_normalization_178 (B  (None, 6, 6, 192)            576       ['conv2d_178[0][0]']          \n",
            " atchNormalization)                                                                               \n",
            "                                                                                                  \n",
            " activation_170 (Activation  (None, 6, 6, 320)            0         ['batch_normalization_170[0][0\n",
            " )                                                                  ]']                           \n",
            "                                                                                                  \n",
            " mixed9_0 (Concatenate)      (None, 6, 6, 768)            0         ['activation_172[0][0]',      \n",
            "                                                                     'activation_173[0][0]']      \n",
            "                                                                                                  \n",
            " concatenate_2 (Concatenate  (None, 6, 6, 768)            0         ['activation_176[0][0]',      \n",
            " )                                                                   'activation_177[0][0]']      \n",
            "                                                                                                  \n",
            " activation_178 (Activation  (None, 6, 6, 192)            0         ['batch_normalization_178[0][0\n",
            " )                                                                  ]']                           \n",
            "                                                                                                  \n",
            " mixed9 (Concatenate)        (None, 6, 6, 2048)           0         ['activation_170[0][0]',      \n",
            "                                                                     'mixed9_0[0][0]',            \n",
            "                                                                     'concatenate_2[0][0]',       \n",
            "                                                                     'activation_178[0][0]']      \n",
            "                                                                                                  \n",
            " conv2d_183 (Conv2D)         (None, 6, 6, 448)            917504    ['mixed9[0][0]']              \n",
            "                                                                                                  \n",
            " batch_normalization_183 (B  (None, 6, 6, 448)            1344      ['conv2d_183[0][0]']          \n",
            " atchNormalization)                                                                               \n",
            "                                                                                                  \n",
            " activation_183 (Activation  (None, 6, 6, 448)            0         ['batch_normalization_183[0][0\n",
            " )                                                                  ]']                           \n",
            "                                                                                                  \n",
            " conv2d_180 (Conv2D)         (None, 6, 6, 384)            786432    ['mixed9[0][0]']              \n",
            "                                                                                                  \n",
            " conv2d_184 (Conv2D)         (None, 6, 6, 384)            1548288   ['activation_183[0][0]']      \n",
            "                                                                                                  \n",
            " batch_normalization_180 (B  (None, 6, 6, 384)            1152      ['conv2d_180[0][0]']          \n",
            " atchNormalization)                                                                               \n",
            "                                                                                                  \n",
            " batch_normalization_184 (B  (None, 6, 6, 384)            1152      ['conv2d_184[0][0]']          \n",
            " atchNormalization)                                                                               \n",
            "                                                                                                  \n",
            " activation_180 (Activation  (None, 6, 6, 384)            0         ['batch_normalization_180[0][0\n",
            " )                                                                  ]']                           \n",
            "                                                                                                  \n",
            " activation_184 (Activation  (None, 6, 6, 384)            0         ['batch_normalization_184[0][0\n",
            " )                                                                  ]']                           \n",
            "                                                                                                  \n",
            " conv2d_181 (Conv2D)         (None, 6, 6, 384)            442368    ['activation_180[0][0]']      \n",
            "                                                                                                  \n",
            " conv2d_182 (Conv2D)         (None, 6, 6, 384)            442368    ['activation_180[0][0]']      \n",
            "                                                                                                  \n",
            " conv2d_185 (Conv2D)         (None, 6, 6, 384)            442368    ['activation_184[0][0]']      \n",
            "                                                                                                  \n",
            " conv2d_186 (Conv2D)         (None, 6, 6, 384)            442368    ['activation_184[0][0]']      \n",
            "                                                                                                  \n",
            " average_pooling2d_17 (Aver  (None, 6, 6, 2048)           0         ['mixed9[0][0]']              \n",
            " agePooling2D)                                                                                    \n",
            "                                                                                                  \n",
            " conv2d_179 (Conv2D)         (None, 6, 6, 320)            655360    ['mixed9[0][0]']              \n",
            "                                                                                                  \n",
            " batch_normalization_181 (B  (None, 6, 6, 384)            1152      ['conv2d_181[0][0]']          \n",
            " atchNormalization)                                                                               \n",
            "                                                                                                  \n",
            " batch_normalization_182 (B  (None, 6, 6, 384)            1152      ['conv2d_182[0][0]']          \n",
            " atchNormalization)                                                                               \n",
            "                                                                                                  \n",
            " batch_normalization_185 (B  (None, 6, 6, 384)            1152      ['conv2d_185[0][0]']          \n",
            " atchNormalization)                                                                               \n",
            "                                                                                                  \n",
            " batch_normalization_186 (B  (None, 6, 6, 384)            1152      ['conv2d_186[0][0]']          \n",
            " atchNormalization)                                                                               \n",
            "                                                                                                  \n",
            " conv2d_187 (Conv2D)         (None, 6, 6, 192)            393216    ['average_pooling2d_17[0][0]']\n",
            "                                                                                                  \n",
            " batch_normalization_179 (B  (None, 6, 6, 320)            960       ['conv2d_179[0][0]']          \n",
            " atchNormalization)                                                                               \n",
            "                                                                                                  \n",
            " activation_181 (Activation  (None, 6, 6, 384)            0         ['batch_normalization_181[0][0\n",
            " )                                                                  ]']                           \n",
            "                                                                                                  \n",
            " activation_182 (Activation  (None, 6, 6, 384)            0         ['batch_normalization_182[0][0\n",
            " )                                                                  ]']                           \n",
            "                                                                                                  \n",
            " activation_185 (Activation  (None, 6, 6, 384)            0         ['batch_normalization_185[0][0\n",
            " )                                                                  ]']                           \n",
            "                                                                                                  \n",
            " activation_186 (Activation  (None, 6, 6, 384)            0         ['batch_normalization_186[0][0\n",
            " )                                                                  ]']                           \n",
            "                                                                                                  \n",
            " batch_normalization_187 (B  (None, 6, 6, 192)            576       ['conv2d_187[0][0]']          \n",
            " atchNormalization)                                                                               \n",
            "                                                                                                  \n",
            " activation_179 (Activation  (None, 6, 6, 320)            0         ['batch_normalization_179[0][0\n",
            " )                                                                  ]']                           \n",
            "                                                                                                  \n",
            " mixed9_1 (Concatenate)      (None, 6, 6, 768)            0         ['activation_181[0][0]',      \n",
            "                                                                     'activation_182[0][0]']      \n",
            "                                                                                                  \n",
            " concatenate_3 (Concatenate  (None, 6, 6, 768)            0         ['activation_185[0][0]',      \n",
            " )                                                                   'activation_186[0][0]']      \n",
            "                                                                                                  \n",
            " activation_187 (Activation  (None, 6, 6, 192)            0         ['batch_normalization_187[0][0\n",
            " )                                                                  ]']                           \n",
            "                                                                                                  \n",
            " mixed10 (Concatenate)       (None, 6, 6, 2048)           0         ['activation_179[0][0]',      \n",
            "                                                                     'mixed9_1[0][0]',            \n",
            "                                                                     'concatenate_3[0][0]',       \n",
            "                                                                     'activation_187[0][0]']      \n",
            "                                                                                                  \n",
            "==================================================================================================\n",
            "Total params: 21802784 (83.17 MB)\n",
            "Trainable params: 0 (0.00 Byte)\n",
            "Non-trainable params: 21802784 (83.17 MB)\n",
            "__________________________________________________________________________________________________\n"
          ]
        }
      ]
    },
    {
      "cell_type": "markdown",
      "source": [
        "# 我覺得5千多維的特徵已經非常大了，可能要做data balancing才能再改進mse的大小!"
      ],
      "metadata": {
        "id": "LL5udXp7Gq26"
      }
    },
    {
      "cell_type": "code",
      "source": [
        "# Choose `mixed8` as the last layer of your base model\n",
        "feature_extraction_layer = pre_trained_model.get_layer('mixed5') # 把InceptionV3的其中一層拿來當作特徵層\n",
        "maxpooling_feature= tf.keras.layers.MaxPooling2D(pool_size=(5, 5))(feature_extraction_layer.output)\n",
        "flatten_features = tf.keras.layers.Flatten()(maxpooling_feature)\n",
        "print('flatten_features layer shape: ', flatten_features.shape)\n",
        "#print('last feature extraction layer shape: ', flatten_features.output_shape)"
      ],
      "metadata": {
        "colab": {
          "base_uri": "https://localhost:8080/"
        },
        "id": "1Q7Bkj-5YO4n",
        "outputId": "6de401da-a43f-4384-ba67-09fa2390d115"
      },
      "execution_count": 86,
      "outputs": [
        {
          "output_type": "stream",
          "name": "stdout",
          "text": [
            "flatten_features layer shape:  (None, 3072)\n"
          ]
        }
      ]
    },
    {
      "cell_type": "code",
      "source": [
        "from keras.applications import InceptionV3\n",
        "from keras.models import Model\n",
        "\n",
        "feature_extraction_model = Model(inputs=pre_trained_model.input, outputs=flatten_features)"
      ],
      "metadata": {
        "id": "iBhiDduzIC7e"
      },
      "execution_count": 87,
      "outputs": []
    },
    {
      "cell_type": "code",
      "source": [
        "import numpy as np"
      ],
      "metadata": {
        "id": "qPtCxun9aLp4"
      },
      "execution_count": 88,
      "outputs": []
    },
    {
      "cell_type": "code",
      "source": [
        "train_features = feature_extraction_model.predict(train_generator)"
      ],
      "metadata": {
        "colab": {
          "base_uri": "https://localhost:8080/"
        },
        "id": "a53k5laq1HwY",
        "outputId": "b2a3feb2-1ecb-4ac3-e7f7-eab0fe9190af"
      },
      "execution_count": 89,
      "outputs": [
        {
          "output_type": "stream",
          "name": "stdout",
          "text": [
            "163/163 [==============================] - 303s 2s/step\n"
          ]
        }
      ]
    },
    {
      "cell_type": "code",
      "source": [
        "train_features.shape\n",
        "#train_features = train_features.reshape((20854, 1280))"
      ],
      "metadata": {
        "id": "RCCZ8uKL9l0M",
        "colab": {
          "base_uri": "https://localhost:8080/"
        },
        "outputId": "272621df-c938-4406-f0af-efdeae4a5c72"
      },
      "execution_count": 90,
      "outputs": [
        {
          "output_type": "execute_result",
          "data": {
            "text/plain": [
              "(20854, 3072)"
            ]
          },
          "metadata": {},
          "execution_count": 90
        }
      ]
    },
    {
      "cell_type": "code",
      "source": [
        "valid_features = feature_extraction_model.predict(validation_generator) #5214"
      ],
      "metadata": {
        "colab": {
          "base_uri": "https://localhost:8080/"
        },
        "id": "PfhhccbtCfJX",
        "outputId": "8d555326-0cca-4112-80c3-69f180e5013a"
      },
      "execution_count": 91,
      "outputs": [
        {
          "output_type": "stream",
          "name": "stdout",
          "text": [
            "41/41 [==============================] - 75s 2s/step\n"
          ]
        }
      ]
    },
    {
      "cell_type": "code",
      "source": [
        "# valid_features = valid_features.reshape((5214, 1280))"
      ],
      "metadata": {
        "id": "-h-CnGG-C06p"
      },
      "execution_count": 92,
      "outputs": []
    },
    {
      "cell_type": "code",
      "source": [
        "valid_features.shape"
      ],
      "metadata": {
        "id": "YsazXbY8WOW9",
        "colab": {
          "base_uri": "https://localhost:8080/"
        },
        "outputId": "d3506d86-bf06-456f-c6b0-d50559b8456a"
      },
      "execution_count": 93,
      "outputs": [
        {
          "output_type": "execute_result",
          "data": {
            "text/plain": [
              "(5214, 3072)"
            ]
          },
          "metadata": {},
          "execution_count": 93
        }
      ]
    },
    {
      "cell_type": "code",
      "source": [
        "validation_generator.labels"
      ],
      "metadata": {
        "id": "vdvhRiS3WRpK",
        "colab": {
          "base_uri": "https://localhost:8080/"
        },
        "outputId": "fc48225f-4791-4628-d512-b69f552b7d3d"
      },
      "execution_count": 94,
      "outputs": [
        {
          "output_type": "execute_result",
          "data": {
            "text/plain": [
              "array([40,  0,  0, ...,  0,  0,  0])"
            ]
          },
          "metadata": {},
          "execution_count": 94
        }
      ]
    },
    {
      "cell_type": "code",
      "source": [
        "train_features.shape"
      ],
      "metadata": {
        "id": "p0HlKCf79eub",
        "colab": {
          "base_uri": "https://localhost:8080/"
        },
        "outputId": "80ecd840-37c8-409f-a0db-c564adcaa259"
      },
      "execution_count": 95,
      "outputs": [
        {
          "output_type": "execute_result",
          "data": {
            "text/plain": [
              "(20854, 3072)"
            ]
          },
          "metadata": {},
          "execution_count": 95
        }
      ]
    },
    {
      "cell_type": "code",
      "source": [
        "train_generator.labels.shape"
      ],
      "metadata": {
        "id": "kBNqsY5l40Jt",
        "colab": {
          "base_uri": "https://localhost:8080/"
        },
        "outputId": "1c17b4d8-c92f-4c47-8b83-005280554011"
      },
      "execution_count": 96,
      "outputs": [
        {
          "output_type": "execute_result",
          "data": {
            "text/plain": [
              "(20854,)"
            ]
          },
          "metadata": {},
          "execution_count": 96
        }
      ]
    },
    {
      "cell_type": "code",
      "source": [
        "\"\"\"\n",
        "勿刪!!!\n",
        "\"\"\"\n",
        "#np.column_stack([predict,train_generator.labels]).shape"
      ],
      "metadata": {
        "id": "vFM4aQD19S0-",
        "colab": {
          "base_uri": "https://localhost:8080/",
          "height": 36
        },
        "outputId": "80009a2c-1420-40e3-cbbe-84d23c3cc4a7"
      },
      "execution_count": 97,
      "outputs": [
        {
          "output_type": "execute_result",
          "data": {
            "text/plain": [
              "'\\n勿刪!!!\\n'"
            ],
            "application/vnd.google.colaboratory.intrinsic+json": {
              "type": "string"
            }
          },
          "metadata": {},
          "execution_count": 97
        }
      ]
    },
    {
      "cell_type": "code",
      "source": [
        "!pip install catboost"
      ],
      "metadata": {
        "id": "MFgYYW5Dtpt0",
        "colab": {
          "base_uri": "https://localhost:8080/"
        },
        "outputId": "10d0482e-d91c-40cc-e991-0cbcb48d3a88"
      },
      "execution_count": 98,
      "outputs": [
        {
          "output_type": "stream",
          "name": "stdout",
          "text": [
            "Requirement already satisfied: catboost in /usr/local/lib/python3.10/dist-packages (1.2.1)\n",
            "Requirement already satisfied: graphviz in /usr/local/lib/python3.10/dist-packages (from catboost) (0.20.1)\n",
            "Requirement already satisfied: matplotlib in /usr/local/lib/python3.10/dist-packages (from catboost) (3.7.1)\n",
            "Requirement already satisfied: numpy>=1.16.0 in /usr/local/lib/python3.10/dist-packages (from catboost) (1.23.5)\n",
            "Requirement already satisfied: pandas>=0.24 in /usr/local/lib/python3.10/dist-packages (from catboost) (1.5.3)\n",
            "Requirement already satisfied: scipy in /usr/local/lib/python3.10/dist-packages (from catboost) (1.10.1)\n",
            "Requirement already satisfied: plotly in /usr/local/lib/python3.10/dist-packages (from catboost) (5.15.0)\n",
            "Requirement already satisfied: six in /usr/local/lib/python3.10/dist-packages (from catboost) (1.16.0)\n",
            "Requirement already satisfied: python-dateutil>=2.8.1 in /usr/local/lib/python3.10/dist-packages (from pandas>=0.24->catboost) (2.8.2)\n",
            "Requirement already satisfied: pytz>=2020.1 in /usr/local/lib/python3.10/dist-packages (from pandas>=0.24->catboost) (2023.3.post1)\n",
            "Requirement already satisfied: contourpy>=1.0.1 in /usr/local/lib/python3.10/dist-packages (from matplotlib->catboost) (1.1.0)\n",
            "Requirement already satisfied: cycler>=0.10 in /usr/local/lib/python3.10/dist-packages (from matplotlib->catboost) (0.11.0)\n",
            "Requirement already satisfied: fonttools>=4.22.0 in /usr/local/lib/python3.10/dist-packages (from matplotlib->catboost) (4.42.1)\n",
            "Requirement already satisfied: kiwisolver>=1.0.1 in /usr/local/lib/python3.10/dist-packages (from matplotlib->catboost) (1.4.5)\n",
            "Requirement already satisfied: packaging>=20.0 in /usr/local/lib/python3.10/dist-packages (from matplotlib->catboost) (23.1)\n",
            "Requirement already satisfied: pillow>=6.2.0 in /usr/local/lib/python3.10/dist-packages (from matplotlib->catboost) (9.4.0)\n",
            "Requirement already satisfied: pyparsing>=2.3.1 in /usr/local/lib/python3.10/dist-packages (from matplotlib->catboost) (3.1.1)\n",
            "Requirement already satisfied: tenacity>=6.2.0 in /usr/local/lib/python3.10/dist-packages (from plotly->catboost) (8.2.3)\n"
          ]
        }
      ]
    },
    {
      "cell_type": "code",
      "source": [
        "from catboost import CatBoostRegressor\n",
        "catboost_model = CatBoostRegressor(learning_rate=0.05, depth=6, n_estimators=1000, task_type=\"GPU\")\n",
        "catboost_model.fit(train_features, train_generator.labels, eval_set=(valid_features, validation_generator.labels), verbose=1, plot=True)\n"
      ],
      "metadata": {
        "id": "IiLmpBXAZNTO",
        "colab": {
          "base_uri": "https://localhost:8080/",
          "height": 1000,
          "referenced_widgets": [
            "da49fbb87d1f4810bff36635ecc36cd1"
          ]
        },
        "outputId": "27223d1f-8ec8-44c7-f920-1843cdc4385d"
      },
      "execution_count": 101,
      "outputs": [
        {
          "output_type": "stream",
          "name": "stderr",
          "text": [
            "Warning: less than 75% gpu memory available for training. Free: 6076.8125 Total: 15101.8125\n"
          ]
        },
        {
          "output_type": "display_data",
          "data": {
            "text/plain": [
              "MetricVisualizer(layout=Layout(align_self='stretch', height='500px'))"
            ],
            "application/vnd.jupyter.widget-view+json": {
              "version_major": 2,
              "version_minor": 0,
              "model_id": "da49fbb87d1f4810bff36635ecc36cd1"
            }
          },
          "metadata": {}
        },
        {
          "output_type": "stream",
          "name": "stdout",
          "text": [
            "0:\tlearn: 18.5400552\ttest: 17.9738641\tbest: 17.9738641 (0)\ttotal: 396ms\tremaining: 6m 36s\n",
            "1:\tlearn: 18.3707124\ttest: 17.8229187\tbest: 17.8229187 (1)\ttotal: 658ms\tremaining: 5m 28s\n",
            "2:\tlearn: 18.2188906\ttest: 17.6869806\tbest: 17.6869806 (2)\ttotal: 923ms\tremaining: 5m 6s\n",
            "3:\tlearn: 18.0681386\ttest: 17.5496235\tbest: 17.5496235 (3)\ttotal: 1.18s\tremaining: 4m 54s\n",
            "4:\tlearn: 17.9263616\ttest: 17.4121776\tbest: 17.4121776 (4)\ttotal: 1.46s\tremaining: 4m 49s\n",
            "5:\tlearn: 17.7859935\ttest: 17.2935241\tbest: 17.2935241 (5)\ttotal: 1.71s\tremaining: 4m 43s\n",
            "6:\tlearn: 17.6593357\ttest: 17.1817848\tbest: 17.1817848 (6)\ttotal: 1.99s\tremaining: 4m 42s\n",
            "7:\tlearn: 17.5489212\ttest: 17.0957059\tbest: 17.0957059 (7)\ttotal: 2.25s\tremaining: 4m 39s\n",
            "8:\tlearn: 17.4340707\ttest: 16.9880617\tbest: 16.9880617 (8)\ttotal: 2.52s\tremaining: 4m 38s\n",
            "9:\tlearn: 17.3233774\ttest: 16.8857215\tbest: 16.8857215 (9)\ttotal: 2.82s\tremaining: 4m 39s\n",
            "10:\tlearn: 17.2380448\ttest: 16.8062828\tbest: 16.8062828 (10)\ttotal: 3.14s\tremaining: 4m 42s\n",
            "11:\tlearn: 17.1477342\ttest: 16.7209177\tbest: 16.7209177 (11)\ttotal: 3.46s\tremaining: 4m 45s\n",
            "12:\tlearn: 17.0437293\ttest: 16.6270953\tbest: 16.6270953 (12)\ttotal: 3.78s\tremaining: 4m 47s\n",
            "13:\tlearn: 16.9435007\ttest: 16.5364531\tbest: 16.5364531 (13)\ttotal: 4.1s\tremaining: 4m 49s\n",
            "14:\tlearn: 16.8612212\ttest: 16.4655491\tbest: 16.4655491 (14)\ttotal: 4.42s\tremaining: 4m 50s\n",
            "15:\tlearn: 16.7818775\ttest: 16.4011946\tbest: 16.4011946 (15)\ttotal: 4.75s\tremaining: 4m 52s\n",
            "16:\tlearn: 16.6997759\ttest: 16.3384708\tbest: 16.3384708 (16)\ttotal: 5.08s\tremaining: 4m 53s\n",
            "17:\tlearn: 16.6247143\ttest: 16.2766165\tbest: 16.2766165 (17)\ttotal: 5.39s\tremaining: 4m 54s\n",
            "18:\tlearn: 16.5501576\ttest: 16.2182947\tbest: 16.2182947 (18)\ttotal: 5.71s\tremaining: 4m 54s\n",
            "19:\tlearn: 16.4806922\ttest: 16.1644513\tbest: 16.1644513 (19)\ttotal: 6.03s\tremaining: 4m 55s\n",
            "20:\tlearn: 16.4214800\ttest: 16.1224569\tbest: 16.1224569 (20)\ttotal: 6.34s\tremaining: 4m 55s\n",
            "21:\tlearn: 16.3631656\ttest: 16.0709493\tbest: 16.0709493 (21)\ttotal: 6.61s\tremaining: 4m 53s\n",
            "22:\tlearn: 16.2996981\ttest: 16.0246936\tbest: 16.0246936 (22)\ttotal: 6.87s\tremaining: 4m 51s\n",
            "23:\tlearn: 16.2349561\ttest: 15.9676167\tbest: 15.9676167 (23)\ttotal: 7.14s\tremaining: 4m 50s\n",
            "24:\tlearn: 16.1748176\ttest: 15.9187499\tbest: 15.9187499 (24)\ttotal: 7.4s\tremaining: 4m 48s\n",
            "25:\tlearn: 16.1185347\ttest: 15.8762430\tbest: 15.8762430 (25)\ttotal: 7.66s\tremaining: 4m 47s\n",
            "26:\tlearn: 16.0650344\ttest: 15.8405612\tbest: 15.8405612 (26)\ttotal: 7.94s\tremaining: 4m 46s\n",
            "27:\tlearn: 16.0087250\ttest: 15.7997567\tbest: 15.7997567 (27)\ttotal: 8.21s\tremaining: 4m 44s\n",
            "28:\tlearn: 15.9626952\ttest: 15.7644614\tbest: 15.7644614 (28)\ttotal: 8.47s\tremaining: 4m 43s\n",
            "29:\tlearn: 15.9084140\ttest: 15.7266222\tbest: 15.7266222 (29)\ttotal: 8.72s\tremaining: 4m 42s\n",
            "30:\tlearn: 15.8641442\ttest: 15.6916986\tbest: 15.6916986 (30)\ttotal: 9.01s\tremaining: 4m 41s\n",
            "31:\tlearn: 15.8175671\ttest: 15.6569170\tbest: 15.6569170 (31)\ttotal: 9.27s\tremaining: 4m 40s\n",
            "32:\tlearn: 15.7741239\ttest: 15.6238164\tbest: 15.6238164 (32)\ttotal: 9.53s\tremaining: 4m 39s\n",
            "33:\tlearn: 15.7323202\ttest: 15.5938206\tbest: 15.5938206 (33)\ttotal: 9.79s\tremaining: 4m 38s\n",
            "34:\tlearn: 15.6950719\ttest: 15.5687617\tbest: 15.5687617 (34)\ttotal: 10.1s\tremaining: 4m 37s\n",
            "35:\tlearn: 15.6548943\ttest: 15.5423235\tbest: 15.5423235 (35)\ttotal: 10.3s\tremaining: 4m 36s\n",
            "36:\tlearn: 15.6126532\ttest: 15.5066919\tbest: 15.5066919 (36)\ttotal: 10.6s\tremaining: 4m 35s\n",
            "37:\tlearn: 15.5790914\ttest: 15.4834515\tbest: 15.4834515 (37)\ttotal: 10.8s\tremaining: 4m 34s\n",
            "38:\tlearn: 15.5394279\ttest: 15.4581678\tbest: 15.4581678 (38)\ttotal: 11.1s\tremaining: 4m 33s\n",
            "39:\tlearn: 15.5146286\ttest: 15.4405055\tbest: 15.4405055 (39)\ttotal: 11.4s\tremaining: 4m 32s\n",
            "40:\tlearn: 15.4889035\ttest: 15.4286270\tbest: 15.4286270 (40)\ttotal: 11.6s\tremaining: 4m 31s\n",
            "41:\tlearn: 15.4560892\ttest: 15.4070528\tbest: 15.4070528 (41)\ttotal: 11.9s\tremaining: 4m 31s\n",
            "42:\tlearn: 15.4272844\ttest: 15.3874888\tbest: 15.3874888 (42)\ttotal: 12.2s\tremaining: 4m 30s\n",
            "43:\tlearn: 15.3992875\ttest: 15.3737044\tbest: 15.3737044 (43)\ttotal: 12.4s\tremaining: 4m 29s\n",
            "44:\tlearn: 15.3644779\ttest: 15.3409343\tbest: 15.3409343 (44)\ttotal: 12.7s\tremaining: 4m 29s\n",
            "45:\tlearn: 15.3287009\ttest: 15.3185364\tbest: 15.3185364 (45)\ttotal: 12.9s\tremaining: 4m 28s\n",
            "46:\tlearn: 15.2988617\ttest: 15.3024645\tbest: 15.3024645 (46)\ttotal: 13.2s\tremaining: 4m 27s\n",
            "47:\tlearn: 15.2685622\ttest: 15.2804448\tbest: 15.2804448 (47)\ttotal: 13.5s\tremaining: 4m 27s\n",
            "48:\tlearn: 15.2433467\ttest: 15.2651652\tbest: 15.2651652 (48)\ttotal: 13.7s\tremaining: 4m 26s\n",
            "49:\tlearn: 15.2171701\ttest: 15.2479609\tbest: 15.2479609 (49)\ttotal: 14s\tremaining: 4m 25s\n",
            "50:\tlearn: 15.1890101\ttest: 15.2296361\tbest: 15.2296361 (50)\ttotal: 14.2s\tremaining: 4m 25s\n",
            "51:\tlearn: 15.1706352\ttest: 15.2160545\tbest: 15.2160545 (51)\ttotal: 14.5s\tremaining: 4m 24s\n",
            "52:\tlearn: 15.1421607\ttest: 15.1968298\tbest: 15.1968298 (52)\ttotal: 14.8s\tremaining: 4m 23s\n",
            "53:\tlearn: 15.1159595\ttest: 15.1806876\tbest: 15.1806876 (53)\ttotal: 15s\tremaining: 4m 23s\n",
            "54:\tlearn: 15.0991822\ttest: 15.1670439\tbest: 15.1670439 (54)\ttotal: 15.3s\tremaining: 4m 22s\n",
            "55:\tlearn: 15.0767306\ttest: 15.1546947\tbest: 15.1546947 (55)\ttotal: 15.6s\tremaining: 4m 22s\n",
            "56:\tlearn: 15.0542671\ttest: 15.1339404\tbest: 15.1339404 (56)\ttotal: 15.8s\tremaining: 4m 21s\n",
            "57:\tlearn: 15.0343713\ttest: 15.1209483\tbest: 15.1209483 (57)\ttotal: 16.1s\tremaining: 4m 21s\n",
            "58:\tlearn: 15.0110601\ttest: 15.1075006\tbest: 15.1075006 (58)\ttotal: 16.3s\tremaining: 4m 20s\n",
            "59:\tlearn: 14.9877935\ttest: 15.0937114\tbest: 15.0937114 (59)\ttotal: 16.6s\tremaining: 4m 20s\n",
            "60:\tlearn: 14.9746237\ttest: 15.0849817\tbest: 15.0849817 (60)\ttotal: 16.8s\tremaining: 4m 19s\n",
            "61:\tlearn: 14.9586071\ttest: 15.0744532\tbest: 15.0744532 (61)\ttotal: 17.1s\tremaining: 4m 19s\n",
            "62:\tlearn: 14.9402818\ttest: 15.0630181\tbest: 15.0630181 (62)\ttotal: 17.4s\tremaining: 4m 19s\n",
            "63:\tlearn: 14.9228491\ttest: 15.0533868\tbest: 15.0533868 (63)\ttotal: 17.7s\tremaining: 4m 19s\n",
            "64:\tlearn: 14.9130130\ttest: 15.0468327\tbest: 15.0468327 (64)\ttotal: 18s\tremaining: 4m 19s\n",
            "65:\tlearn: 14.8968272\ttest: 15.0406925\tbest: 15.0406925 (65)\ttotal: 18.4s\tremaining: 4m 19s\n",
            "66:\tlearn: 14.8778723\ttest: 15.0268994\tbest: 15.0268994 (66)\ttotal: 18.7s\tremaining: 4m 19s\n",
            "67:\tlearn: 14.8567284\ttest: 15.0137491\tbest: 15.0137491 (67)\ttotal: 19s\tremaining: 4m 20s\n",
            "68:\tlearn: 14.8424917\ttest: 15.0048308\tbest: 15.0048308 (68)\ttotal: 19.3s\tremaining: 4m 20s\n",
            "69:\tlearn: 14.8230524\ttest: 14.9971548\tbest: 14.9971548 (69)\ttotal: 19.6s\tremaining: 4m 20s\n",
            "70:\tlearn: 14.8040784\ttest: 14.9862742\tbest: 14.9862742 (70)\ttotal: 19.9s\tremaining: 4m 20s\n",
            "71:\tlearn: 14.7866083\ttest: 14.9772219\tbest: 14.9772219 (71)\ttotal: 20.2s\tremaining: 4m 20s\n",
            "72:\tlearn: 14.7707490\ttest: 14.9676090\tbest: 14.9676090 (72)\ttotal: 20.6s\tremaining: 4m 20s\n",
            "73:\tlearn: 14.7570987\ttest: 14.9617504\tbest: 14.9617504 (73)\ttotal: 20.8s\tremaining: 4m 20s\n",
            "74:\tlearn: 14.7391167\ttest: 14.9503093\tbest: 14.9503093 (74)\ttotal: 21.1s\tremaining: 4m 20s\n",
            "75:\tlearn: 14.7245635\ttest: 14.9424377\tbest: 14.9424377 (75)\ttotal: 21.4s\tremaining: 4m 19s\n",
            "76:\tlearn: 14.7119093\ttest: 14.9340867\tbest: 14.9340867 (76)\ttotal: 21.6s\tremaining: 4m 19s\n",
            "77:\tlearn: 14.7007472\ttest: 14.9309721\tbest: 14.9309721 (77)\ttotal: 21.9s\tremaining: 4m 18s\n",
            "78:\tlearn: 14.6855226\ttest: 14.9253770\tbest: 14.9253770 (78)\ttotal: 22.1s\tremaining: 4m 17s\n",
            "79:\tlearn: 14.6701415\ttest: 14.9161052\tbest: 14.9161052 (79)\ttotal: 22.4s\tremaining: 4m 17s\n",
            "80:\tlearn: 14.6566691\ttest: 14.9109491\tbest: 14.9109491 (80)\ttotal: 22.6s\tremaining: 4m 16s\n",
            "81:\tlearn: 14.6438457\ttest: 14.9036350\tbest: 14.9036350 (81)\ttotal: 22.9s\tremaining: 4m 16s\n",
            "82:\tlearn: 14.6277325\ttest: 14.8926362\tbest: 14.8926362 (82)\ttotal: 23.2s\tremaining: 4m 16s\n",
            "83:\tlearn: 14.6169638\ttest: 14.8880073\tbest: 14.8880073 (83)\ttotal: 23.4s\tremaining: 4m 15s\n",
            "84:\tlearn: 14.6007888\ttest: 14.8829163\tbest: 14.8829163 (84)\ttotal: 23.7s\tremaining: 4m 14s\n",
            "85:\tlearn: 14.5930163\ttest: 14.8772693\tbest: 14.8772693 (85)\ttotal: 23.9s\tremaining: 4m 14s\n",
            "86:\tlearn: 14.5783945\ttest: 14.8685665\tbest: 14.8685665 (86)\ttotal: 24.2s\tremaining: 4m 13s\n",
            "87:\tlearn: 14.5675498\ttest: 14.8618518\tbest: 14.8618518 (87)\ttotal: 24.4s\tremaining: 4m 12s\n",
            "88:\tlearn: 14.5528201\ttest: 14.8538002\tbest: 14.8538002 (88)\ttotal: 24.7s\tremaining: 4m 12s\n",
            "89:\tlearn: 14.5385752\ttest: 14.8464467\tbest: 14.8464467 (89)\ttotal: 24.9s\tremaining: 4m 12s\n",
            "90:\tlearn: 14.5216905\ttest: 14.8406307\tbest: 14.8406307 (90)\ttotal: 25.2s\tremaining: 4m 11s\n",
            "91:\tlearn: 14.5080571\ttest: 14.8366239\tbest: 14.8366239 (91)\ttotal: 25.4s\tremaining: 4m 11s\n",
            "92:\tlearn: 14.4958829\ttest: 14.8324697\tbest: 14.8324697 (92)\ttotal: 25.7s\tremaining: 4m 10s\n",
            "93:\tlearn: 14.4802839\ttest: 14.8283225\tbest: 14.8283225 (93)\ttotal: 25.9s\tremaining: 4m 9s\n",
            "94:\tlearn: 14.4724566\ttest: 14.8251023\tbest: 14.8251023 (94)\ttotal: 26.1s\tremaining: 4m 8s\n",
            "95:\tlearn: 14.4621442\ttest: 14.8206675\tbest: 14.8206675 (95)\ttotal: 26.4s\tremaining: 4m 8s\n",
            "96:\tlearn: 14.4501695\ttest: 14.8144320\tbest: 14.8144320 (96)\ttotal: 26.6s\tremaining: 4m 7s\n",
            "97:\tlearn: 14.4408740\ttest: 14.8123394\tbest: 14.8123394 (97)\ttotal: 26.9s\tremaining: 4m 7s\n",
            "98:\tlearn: 14.4311447\ttest: 14.8064720\tbest: 14.8064720 (98)\ttotal: 27.1s\tremaining: 4m 6s\n",
            "99:\tlearn: 14.4190685\ttest: 14.8039297\tbest: 14.8039297 (99)\ttotal: 27.4s\tremaining: 4m 6s\n",
            "100:\tlearn: 14.4062708\ttest: 14.7968357\tbest: 14.7968357 (100)\ttotal: 27.6s\tremaining: 4m 5s\n",
            "101:\tlearn: 14.3998894\ttest: 14.7931687\tbest: 14.7931687 (101)\ttotal: 27.8s\tremaining: 4m 5s\n",
            "102:\tlearn: 14.3883453\ttest: 14.7869224\tbest: 14.7869224 (102)\ttotal: 28.1s\tremaining: 4m 4s\n",
            "103:\tlearn: 14.3796434\ttest: 14.7824259\tbest: 14.7824259 (103)\ttotal: 28.4s\tremaining: 4m 4s\n",
            "104:\tlearn: 14.3664468\ttest: 14.7787480\tbest: 14.7787480 (104)\ttotal: 28.6s\tremaining: 4m 3s\n",
            "105:\tlearn: 14.3559965\ttest: 14.7737248\tbest: 14.7737248 (105)\ttotal: 28.8s\tremaining: 4m 3s\n",
            "106:\tlearn: 14.3441638\ttest: 14.7716752\tbest: 14.7716752 (106)\ttotal: 29.1s\tremaining: 4m 2s\n",
            "107:\tlearn: 14.3321466\ttest: 14.7685052\tbest: 14.7685052 (107)\ttotal: 29.3s\tremaining: 4m 2s\n",
            "108:\tlearn: 14.3228439\ttest: 14.7650820\tbest: 14.7650820 (108)\ttotal: 29.6s\tremaining: 4m 1s\n",
            "109:\tlearn: 14.3176603\ttest: 14.7636515\tbest: 14.7636515 (109)\ttotal: 29.8s\tremaining: 4m 1s\n",
            "110:\tlearn: 14.3059459\ttest: 14.7563992\tbest: 14.7563992 (110)\ttotal: 30s\tremaining: 4m\n",
            "111:\tlearn: 14.2933564\ttest: 14.7486452\tbest: 14.7486452 (111)\ttotal: 30.3s\tremaining: 4m\n",
            "112:\tlearn: 14.2829517\ttest: 14.7454304\tbest: 14.7454304 (112)\ttotal: 30.5s\tremaining: 3m 59s\n",
            "113:\tlearn: 14.2734507\ttest: 14.7405293\tbest: 14.7405293 (113)\ttotal: 30.8s\tremaining: 3m 59s\n",
            "114:\tlearn: 14.2637173\ttest: 14.7387206\tbest: 14.7387206 (114)\ttotal: 31.1s\tremaining: 3m 59s\n",
            "115:\tlearn: 14.2530798\ttest: 14.7344087\tbest: 14.7344087 (115)\ttotal: 31.3s\tremaining: 3m 58s\n",
            "116:\tlearn: 14.2473668\ttest: 14.7318027\tbest: 14.7318027 (116)\ttotal: 31.6s\tremaining: 3m 58s\n",
            "117:\tlearn: 14.2348931\ttest: 14.7270598\tbest: 14.7270598 (117)\ttotal: 31.9s\tremaining: 3m 58s\n",
            "118:\tlearn: 14.2251923\ttest: 14.7213384\tbest: 14.7213384 (118)\ttotal: 32.2s\tremaining: 3m 58s\n",
            "119:\tlearn: 14.2178628\ttest: 14.7175622\tbest: 14.7175622 (119)\ttotal: 32.5s\tremaining: 3m 58s\n",
            "120:\tlearn: 14.2068306\ttest: 14.7150819\tbest: 14.7150819 (120)\ttotal: 32.7s\tremaining: 3m 57s\n",
            "121:\tlearn: 14.1985815\ttest: 14.7101324\tbest: 14.7101324 (121)\ttotal: 33s\tremaining: 3m 57s\n",
            "122:\tlearn: 14.1920281\ttest: 14.7090127\tbest: 14.7090127 (122)\ttotal: 33.3s\tremaining: 3m 57s\n",
            "123:\tlearn: 14.1871863\ttest: 14.7082303\tbest: 14.7082303 (123)\ttotal: 33.5s\tremaining: 3m 56s\n",
            "124:\tlearn: 14.1758360\ttest: 14.7004786\tbest: 14.7004786 (124)\ttotal: 33.8s\tremaining: 3m 56s\n",
            "125:\tlearn: 14.1660765\ttest: 14.6946097\tbest: 14.6946097 (125)\ttotal: 34.1s\tremaining: 3m 56s\n",
            "126:\tlearn: 14.1586601\ttest: 14.6903314\tbest: 14.6903314 (126)\ttotal: 34.4s\tremaining: 3m 56s\n",
            "127:\tlearn: 14.1543591\ttest: 14.6880668\tbest: 14.6880668 (127)\ttotal: 34.7s\tremaining: 3m 56s\n",
            "128:\tlearn: 14.1459544\ttest: 14.6857620\tbest: 14.6857620 (128)\ttotal: 35s\tremaining: 3m 56s\n",
            "129:\tlearn: 14.1388089\ttest: 14.6839450\tbest: 14.6839450 (129)\ttotal: 35.3s\tremaining: 3m 56s\n",
            "130:\tlearn: 14.1290565\ttest: 14.6815896\tbest: 14.6815896 (130)\ttotal: 35.5s\tremaining: 3m 55s\n",
            "131:\tlearn: 14.1246574\ttest: 14.6800024\tbest: 14.6800024 (131)\ttotal: 35.8s\tremaining: 3m 55s\n",
            "132:\tlearn: 14.1168842\ttest: 14.6776423\tbest: 14.6776423 (132)\ttotal: 36s\tremaining: 3m 54s\n",
            "133:\tlearn: 14.1102070\ttest: 14.6737561\tbest: 14.6737561 (133)\ttotal: 36.2s\tremaining: 3m 54s\n",
            "134:\tlearn: 14.1031803\ttest: 14.6696898\tbest: 14.6696898 (134)\ttotal: 36.5s\tremaining: 3m 53s\n",
            "135:\tlearn: 14.0952660\ttest: 14.6681274\tbest: 14.6681274 (135)\ttotal: 36.7s\tremaining: 3m 53s\n",
            "136:\tlearn: 14.0877660\ttest: 14.6675406\tbest: 14.6675406 (136)\ttotal: 36.9s\tremaining: 3m 52s\n",
            "137:\tlearn: 14.0822456\ttest: 14.6656943\tbest: 14.6656943 (137)\ttotal: 37.2s\tremaining: 3m 52s\n",
            "138:\tlearn: 14.0750720\ttest: 14.6668623\tbest: 14.6656943 (137)\ttotal: 37.5s\tremaining: 3m 52s\n",
            "139:\tlearn: 14.0685540\ttest: 14.6613879\tbest: 14.6613879 (139)\ttotal: 37.7s\tremaining: 3m 51s\n",
            "140:\tlearn: 14.0604395\ttest: 14.6576470\tbest: 14.6576470 (140)\ttotal: 37.9s\tremaining: 3m 50s\n",
            "141:\tlearn: 14.0550640\ttest: 14.6564971\tbest: 14.6564971 (141)\ttotal: 38.1s\tremaining: 3m 50s\n",
            "142:\tlearn: 14.0485004\ttest: 14.6579986\tbest: 14.6564971 (141)\ttotal: 38.4s\tremaining: 3m 49s\n",
            "143:\tlearn: 14.0405898\ttest: 14.6562109\tbest: 14.6562109 (143)\ttotal: 38.6s\tremaining: 3m 49s\n",
            "144:\tlearn: 14.0328705\ttest: 14.6559998\tbest: 14.6559998 (144)\ttotal: 38.9s\tremaining: 3m 49s\n",
            "145:\tlearn: 14.0258285\ttest: 14.6535738\tbest: 14.6535738 (145)\ttotal: 39.1s\tremaining: 3m 48s\n",
            "146:\tlearn: 14.0204432\ttest: 14.6531844\tbest: 14.6531844 (146)\ttotal: 39.3s\tremaining: 3m 48s\n",
            "147:\tlearn: 14.0103201\ttest: 14.6514975\tbest: 14.6514975 (147)\ttotal: 39.5s\tremaining: 3m 47s\n",
            "148:\tlearn: 13.9978685\ttest: 14.6466198\tbest: 14.6466198 (148)\ttotal: 39.8s\tremaining: 3m 47s\n",
            "149:\tlearn: 13.9871463\ttest: 14.6430388\tbest: 14.6430388 (149)\ttotal: 40s\tremaining: 3m 46s\n",
            "150:\tlearn: 13.9798326\ttest: 14.6415480\tbest: 14.6415480 (150)\ttotal: 40.3s\tremaining: 3m 46s\n",
            "151:\tlearn: 13.9707806\ttest: 14.6403035\tbest: 14.6403035 (151)\ttotal: 40.5s\tremaining: 3m 45s\n",
            "152:\tlearn: 13.9636271\ttest: 14.6396927\tbest: 14.6396927 (152)\ttotal: 40.7s\tremaining: 3m 45s\n",
            "153:\tlearn: 13.9545366\ttest: 14.6365204\tbest: 14.6365204 (153)\ttotal: 40.9s\tremaining: 3m 44s\n",
            "154:\tlearn: 13.9427721\ttest: 14.6329344\tbest: 14.6329344 (154)\ttotal: 41.2s\tremaining: 3m 44s\n",
            "155:\tlearn: 13.9358223\ttest: 14.6292878\tbest: 14.6292878 (155)\ttotal: 41.4s\tremaining: 3m 44s\n",
            "156:\tlearn: 13.9281361\ttest: 14.6280497\tbest: 14.6280497 (156)\ttotal: 41.7s\tremaining: 3m 43s\n",
            "157:\tlearn: 13.9204138\ttest: 14.6227944\tbest: 14.6227944 (157)\ttotal: 41.9s\tremaining: 3m 43s\n",
            "158:\tlearn: 13.9150023\ttest: 14.6202227\tbest: 14.6202227 (158)\ttotal: 42.2s\tremaining: 3m 43s\n",
            "159:\tlearn: 13.9074585\ttest: 14.6160447\tbest: 14.6160447 (159)\ttotal: 42.5s\tremaining: 3m 42s\n",
            "160:\tlearn: 13.9005026\ttest: 14.6171150\tbest: 14.6160447 (159)\ttotal: 42.7s\tremaining: 3m 42s\n",
            "161:\tlearn: 13.8937301\ttest: 14.6122438\tbest: 14.6122438 (161)\ttotal: 43s\tremaining: 3m 42s\n",
            "162:\tlearn: 13.8852803\ttest: 14.6097399\tbest: 14.6097399 (162)\ttotal: 43.2s\tremaining: 3m 41s\n",
            "163:\tlearn: 13.8760271\ttest: 14.6087085\tbest: 14.6087085 (163)\ttotal: 43.5s\tremaining: 3m 41s\n",
            "164:\tlearn: 13.8688428\ttest: 14.6083319\tbest: 14.6083319 (164)\ttotal: 43.7s\tremaining: 3m 41s\n",
            "165:\tlearn: 13.8629944\ttest: 14.6063706\tbest: 14.6063706 (165)\ttotal: 44s\tremaining: 3m 41s\n",
            "166:\tlearn: 13.8562295\ttest: 14.6044740\tbest: 14.6044740 (166)\ttotal: 44.2s\tremaining: 3m 40s\n",
            "167:\tlearn: 13.8483152\ttest: 14.6000518\tbest: 14.6000518 (167)\ttotal: 44.5s\tremaining: 3m 40s\n",
            "168:\tlearn: 13.8422130\ttest: 14.5993777\tbest: 14.5993777 (168)\ttotal: 44.7s\tremaining: 3m 39s\n",
            "169:\tlearn: 13.8353626\ttest: 14.5992956\tbest: 14.5992956 (169)\ttotal: 44.9s\tremaining: 3m 39s\n",
            "170:\tlearn: 13.8266478\ttest: 14.5947298\tbest: 14.5947298 (170)\ttotal: 45.2s\tremaining: 3m 38s\n",
            "171:\tlearn: 13.8217729\ttest: 14.5957572\tbest: 14.5947298 (170)\ttotal: 45.4s\tremaining: 3m 38s\n",
            "172:\tlearn: 13.8127380\ttest: 14.5931051\tbest: 14.5931051 (172)\ttotal: 45.7s\tremaining: 3m 38s\n",
            "173:\tlearn: 13.8052907\ttest: 14.5898479\tbest: 14.5898479 (173)\ttotal: 46s\tremaining: 3m 38s\n",
            "174:\tlearn: 13.7954611\ttest: 14.5852207\tbest: 14.5852207 (174)\ttotal: 46.3s\tremaining: 3m 38s\n",
            "175:\tlearn: 13.7871493\ttest: 14.5835580\tbest: 14.5835580 (175)\ttotal: 46.6s\tremaining: 3m 38s\n",
            "176:\tlearn: 13.7797626\ttest: 14.5807919\tbest: 14.5807919 (176)\ttotal: 46.9s\tremaining: 3m 38s\n",
            "177:\tlearn: 13.7701273\ttest: 14.5773411\tbest: 14.5773411 (177)\ttotal: 47.2s\tremaining: 3m 37s\n",
            "178:\tlearn: 13.7640662\ttest: 14.5791065\tbest: 14.5773411 (177)\ttotal: 47.4s\tremaining: 3m 37s\n",
            "179:\tlearn: 13.7565215\ttest: 14.5771700\tbest: 14.5771700 (179)\ttotal: 47.6s\tremaining: 3m 37s\n",
            "180:\tlearn: 13.7491793\ttest: 14.5728852\tbest: 14.5728852 (180)\ttotal: 47.9s\tremaining: 3m 36s\n",
            "181:\tlearn: 13.7429280\ttest: 14.5694128\tbest: 14.5694128 (181)\ttotal: 48.1s\tremaining: 3m 36s\n",
            "182:\tlearn: 13.7351666\ttest: 14.5639446\tbest: 14.5639446 (182)\ttotal: 48.4s\tremaining: 3m 36s\n",
            "183:\tlearn: 13.7266991\ttest: 14.5613336\tbest: 14.5613336 (183)\ttotal: 48.6s\tremaining: 3m 35s\n",
            "184:\tlearn: 13.7217320\ttest: 14.5607969\tbest: 14.5607969 (184)\ttotal: 48.8s\tremaining: 3m 35s\n",
            "185:\tlearn: 13.7160804\ttest: 14.5581730\tbest: 14.5581730 (185)\ttotal: 49.1s\tremaining: 3m 34s\n",
            "186:\tlearn: 13.7093366\ttest: 14.5568950\tbest: 14.5568950 (186)\ttotal: 49.4s\tremaining: 3m 34s\n",
            "187:\tlearn: 13.7007836\ttest: 14.5538817\tbest: 14.5538817 (187)\ttotal: 49.7s\tremaining: 3m 34s\n",
            "188:\tlearn: 13.6908396\ttest: 14.5524815\tbest: 14.5524815 (188)\ttotal: 49.9s\tremaining: 3m 34s\n",
            "189:\tlearn: 13.6851845\ttest: 14.5507516\tbest: 14.5507516 (189)\ttotal: 50.1s\tremaining: 3m 33s\n",
            "190:\tlearn: 13.6816319\ttest: 14.5486730\tbest: 14.5486730 (190)\ttotal: 50.4s\tremaining: 3m 33s\n",
            "191:\tlearn: 13.6756350\ttest: 14.5473785\tbest: 14.5473785 (191)\ttotal: 50.6s\tremaining: 3m 32s\n",
            "192:\tlearn: 13.6689563\ttest: 14.5445759\tbest: 14.5445759 (192)\ttotal: 50.8s\tremaining: 3m 32s\n",
            "193:\tlearn: 13.6637725\ttest: 14.5444086\tbest: 14.5444086 (193)\ttotal: 51.1s\tremaining: 3m 32s\n",
            "194:\tlearn: 13.6566723\ttest: 14.5441679\tbest: 14.5441679 (194)\ttotal: 51.3s\tremaining: 3m 31s\n",
            "195:\tlearn: 13.6463637\ttest: 14.5391033\tbest: 14.5391033 (195)\ttotal: 51.6s\tremaining: 3m 31s\n",
            "196:\tlearn: 13.6372917\ttest: 14.5387224\tbest: 14.5387224 (196)\ttotal: 51.8s\tremaining: 3m 31s\n",
            "197:\tlearn: 13.6284388\ttest: 14.5381840\tbest: 14.5381840 (197)\ttotal: 52.1s\tremaining: 3m 30s\n",
            "198:\tlearn: 13.6232158\ttest: 14.5371393\tbest: 14.5371393 (198)\ttotal: 52.3s\tremaining: 3m 30s\n",
            "199:\tlearn: 13.6156367\ttest: 14.5334752\tbest: 14.5334752 (199)\ttotal: 52.6s\tremaining: 3m 30s\n",
            "200:\tlearn: 13.6105404\ttest: 14.5329152\tbest: 14.5329152 (200)\ttotal: 52.8s\tremaining: 3m 29s\n",
            "201:\tlearn: 13.6065388\ttest: 14.5326084\tbest: 14.5326084 (201)\ttotal: 53s\tremaining: 3m 29s\n",
            "202:\tlearn: 13.5977484\ttest: 14.5267063\tbest: 14.5267063 (202)\ttotal: 53.2s\tremaining: 3m 29s\n",
            "203:\tlearn: 13.5906265\ttest: 14.5234358\tbest: 14.5234358 (203)\ttotal: 53.5s\tremaining: 3m 28s\n",
            "204:\tlearn: 13.5863305\ttest: 14.5230636\tbest: 14.5230636 (204)\ttotal: 53.7s\tremaining: 3m 28s\n",
            "205:\tlearn: 13.5818226\ttest: 14.5226517\tbest: 14.5226517 (205)\ttotal: 53.9s\tremaining: 3m 27s\n",
            "206:\tlearn: 13.5730409\ttest: 14.5190030\tbest: 14.5190030 (206)\ttotal: 54.2s\tremaining: 3m 27s\n",
            "207:\tlearn: 13.5699545\ttest: 14.5181493\tbest: 14.5181493 (207)\ttotal: 54.4s\tremaining: 3m 27s\n",
            "208:\tlearn: 13.5629785\ttest: 14.5165937\tbest: 14.5165937 (208)\ttotal: 54.6s\tremaining: 3m 26s\n",
            "209:\tlearn: 13.5554121\ttest: 14.5156812\tbest: 14.5156812 (209)\ttotal: 54.9s\tremaining: 3m 26s\n",
            "210:\tlearn: 13.5504688\ttest: 14.5161469\tbest: 14.5156812 (209)\ttotal: 55.1s\tremaining: 3m 25s\n",
            "211:\tlearn: 13.5446051\ttest: 14.5158455\tbest: 14.5156812 (209)\ttotal: 55.3s\tremaining: 3m 25s\n",
            "212:\tlearn: 13.5339795\ttest: 14.5099615\tbest: 14.5099615 (212)\ttotal: 55.5s\tremaining: 3m 25s\n",
            "213:\tlearn: 13.5235264\ttest: 14.5059873\tbest: 14.5059873 (213)\ttotal: 55.8s\tremaining: 3m 24s\n",
            "214:\tlearn: 13.5173614\ttest: 14.5005952\tbest: 14.5005952 (214)\ttotal: 56s\tremaining: 3m 24s\n",
            "215:\tlearn: 13.5086194\ttest: 14.4982548\tbest: 14.4982548 (215)\ttotal: 56.3s\tremaining: 3m 24s\n",
            "216:\tlearn: 13.4991466\ttest: 14.4962199\tbest: 14.4962199 (216)\ttotal: 56.5s\tremaining: 3m 23s\n",
            "217:\tlearn: 13.4916821\ttest: 14.4943444\tbest: 14.4943444 (217)\ttotal: 56.8s\tremaining: 3m 23s\n",
            "218:\tlearn: 13.4836881\ttest: 14.4904445\tbest: 14.4904445 (218)\ttotal: 57s\tremaining: 3m 23s\n",
            "219:\tlearn: 13.4774635\ttest: 14.4883506\tbest: 14.4883506 (219)\ttotal: 57.2s\tremaining: 3m 22s\n",
            "220:\tlearn: 13.4700996\ttest: 14.4850441\tbest: 14.4850441 (220)\ttotal: 57.5s\tremaining: 3m 22s\n",
            "221:\tlearn: 13.4645103\ttest: 14.4841322\tbest: 14.4841322 (221)\ttotal: 57.7s\tremaining: 3m 22s\n",
            "222:\tlearn: 13.4566783\ttest: 14.4820316\tbest: 14.4820316 (222)\ttotal: 57.9s\tremaining: 3m 21s\n",
            "223:\tlearn: 13.4501007\ttest: 14.4800383\tbest: 14.4800383 (223)\ttotal: 58.2s\tremaining: 3m 21s\n",
            "224:\tlearn: 13.4448749\ttest: 14.4790979\tbest: 14.4790979 (224)\ttotal: 58.4s\tremaining: 3m 21s\n",
            "225:\tlearn: 13.4384183\ttest: 14.4787460\tbest: 14.4787460 (225)\ttotal: 58.7s\tremaining: 3m 20s\n",
            "226:\tlearn: 13.4326448\ttest: 14.4760120\tbest: 14.4760120 (226)\ttotal: 58.9s\tremaining: 3m 20s\n",
            "227:\tlearn: 13.4253943\ttest: 14.4742921\tbest: 14.4742921 (227)\ttotal: 59.1s\tremaining: 3m 20s\n",
            "228:\tlearn: 13.4160084\ttest: 14.4716409\tbest: 14.4716409 (228)\ttotal: 59.4s\tremaining: 3m 19s\n",
            "229:\tlearn: 13.4102298\ttest: 14.4709782\tbest: 14.4709782 (229)\ttotal: 59.6s\tremaining: 3m 19s\n",
            "230:\tlearn: 13.4044161\ttest: 14.4722778\tbest: 14.4709782 (229)\ttotal: 59.8s\tremaining: 3m 19s\n",
            "231:\tlearn: 13.3983184\ttest: 14.4719697\tbest: 14.4709782 (229)\ttotal: 1m\tremaining: 3m 18s\n",
            "232:\tlearn: 13.3934662\ttest: 14.4726671\tbest: 14.4709782 (229)\ttotal: 1m\tremaining: 3m 18s\n",
            "233:\tlearn: 13.3860445\ttest: 14.4698318\tbest: 14.4698318 (233)\ttotal: 1m\tremaining: 3m 18s\n",
            "234:\tlearn: 13.3802274\ttest: 14.4677018\tbest: 14.4677018 (234)\ttotal: 1m\tremaining: 3m 18s\n",
            "235:\tlearn: 13.3722053\ttest: 14.4662890\tbest: 14.4662890 (235)\ttotal: 1m 1s\tremaining: 3m 18s\n",
            "236:\tlearn: 13.3684063\ttest: 14.4670431\tbest: 14.4662890 (235)\ttotal: 1m 1s\tremaining: 3m 17s\n",
            "237:\tlearn: 13.3635948\ttest: 14.4660993\tbest: 14.4660993 (237)\ttotal: 1m 1s\tremaining: 3m 17s\n",
            "238:\tlearn: 13.3579919\ttest: 14.4648041\tbest: 14.4648041 (238)\ttotal: 1m 1s\tremaining: 3m 17s\n",
            "239:\tlearn: 13.3521797\ttest: 14.4619912\tbest: 14.4619912 (239)\ttotal: 1m 2s\tremaining: 3m 16s\n",
            "240:\tlearn: 13.3485981\ttest: 14.4606235\tbest: 14.4606235 (240)\ttotal: 1m 2s\tremaining: 3m 16s\n",
            "241:\tlearn: 13.3426026\ttest: 14.4595517\tbest: 14.4595517 (241)\ttotal: 1m 2s\tremaining: 3m 16s\n",
            "242:\tlearn: 13.3369081\ttest: 14.4588553\tbest: 14.4588553 (242)\ttotal: 1m 2s\tremaining: 3m 15s\n",
            "243:\tlearn: 13.3278795\ttest: 14.4557345\tbest: 14.4557345 (243)\ttotal: 1m 3s\tremaining: 3m 15s\n",
            "244:\tlearn: 13.3210598\ttest: 14.4529986\tbest: 14.4529986 (244)\ttotal: 1m 3s\tremaining: 3m 15s\n",
            "245:\tlearn: 13.3147551\ttest: 14.4519353\tbest: 14.4519353 (245)\ttotal: 1m 3s\tremaining: 3m 14s\n",
            "246:\tlearn: 13.3067431\ttest: 14.4498682\tbest: 14.4498682 (246)\ttotal: 1m 3s\tremaining: 3m 14s\n",
            "247:\tlearn: 13.3008043\ttest: 14.4493481\tbest: 14.4493481 (247)\ttotal: 1m 4s\tremaining: 3m 14s\n",
            "248:\tlearn: 13.2924425\ttest: 14.4502979\tbest: 14.4493481 (247)\ttotal: 1m 4s\tremaining: 3m 13s\n",
            "249:\tlearn: 13.2861063\ttest: 14.4500947\tbest: 14.4493481 (247)\ttotal: 1m 4s\tremaining: 3m 13s\n",
            "250:\tlearn: 13.2816554\ttest: 14.4496517\tbest: 14.4493481 (247)\ttotal: 1m 4s\tremaining: 3m 13s\n",
            "251:\tlearn: 13.2768305\ttest: 14.4487615\tbest: 14.4487615 (251)\ttotal: 1m 4s\tremaining: 3m 12s\n",
            "252:\tlearn: 13.2750593\ttest: 14.4488412\tbest: 14.4487615 (251)\ttotal: 1m 5s\tremaining: 3m 12s\n",
            "253:\tlearn: 13.2695066\ttest: 14.4471271\tbest: 14.4471271 (253)\ttotal: 1m 5s\tremaining: 3m 12s\n",
            "254:\tlearn: 13.2639999\ttest: 14.4466118\tbest: 14.4466118 (254)\ttotal: 1m 5s\tremaining: 3m 11s\n",
            "255:\tlearn: 13.2577549\ttest: 14.4446809\tbest: 14.4446809 (255)\ttotal: 1m 5s\tremaining: 3m 11s\n",
            "256:\tlearn: 13.2525695\ttest: 14.4444137\tbest: 14.4444137 (256)\ttotal: 1m 6s\tremaining: 3m 10s\n",
            "257:\tlearn: 13.2474069\ttest: 14.4437680\tbest: 14.4437680 (257)\ttotal: 1m 6s\tremaining: 3m 10s\n",
            "258:\tlearn: 13.2406987\ttest: 14.4430734\tbest: 14.4430734 (258)\ttotal: 1m 6s\tremaining: 3m 10s\n",
            "259:\tlearn: 13.2367279\ttest: 14.4413976\tbest: 14.4413976 (259)\ttotal: 1m 6s\tremaining: 3m 9s\n",
            "260:\tlearn: 13.2302608\ttest: 14.4389662\tbest: 14.4389662 (260)\ttotal: 1m 6s\tremaining: 3m 9s\n",
            "261:\tlearn: 13.2229220\ttest: 14.4379235\tbest: 14.4379235 (261)\ttotal: 1m 7s\tremaining: 3m 9s\n",
            "262:\tlearn: 13.2177755\ttest: 14.4359773\tbest: 14.4359773 (262)\ttotal: 1m 7s\tremaining: 3m 8s\n",
            "263:\tlearn: 13.2107754\ttest: 14.4358187\tbest: 14.4358187 (263)\ttotal: 1m 7s\tremaining: 3m 8s\n",
            "264:\tlearn: 13.2068942\ttest: 14.4353528\tbest: 14.4353528 (264)\ttotal: 1m 7s\tremaining: 3m 8s\n",
            "265:\tlearn: 13.2028942\ttest: 14.4335890\tbest: 14.4335890 (265)\ttotal: 1m 8s\tremaining: 3m 7s\n",
            "266:\tlearn: 13.1945098\ttest: 14.4319345\tbest: 14.4319345 (266)\ttotal: 1m 8s\tremaining: 3m 7s\n",
            "267:\tlearn: 13.1873929\ttest: 14.4290172\tbest: 14.4290172 (267)\ttotal: 1m 8s\tremaining: 3m 7s\n",
            "268:\tlearn: 13.1799170\ttest: 14.4257528\tbest: 14.4257528 (268)\ttotal: 1m 8s\tremaining: 3m 7s\n",
            "269:\tlearn: 13.1726602\ttest: 14.4228949\tbest: 14.4228949 (269)\ttotal: 1m 9s\tremaining: 3m 6s\n",
            "270:\tlearn: 13.1677686\ttest: 14.4218984\tbest: 14.4218984 (270)\ttotal: 1m 9s\tremaining: 3m 6s\n",
            "271:\tlearn: 13.1618514\ttest: 14.4202493\tbest: 14.4202493 (271)\ttotal: 1m 9s\tremaining: 3m 6s\n",
            "272:\tlearn: 13.1547724\ttest: 14.4184395\tbest: 14.4184395 (272)\ttotal: 1m 9s\tremaining: 3m 5s\n",
            "273:\tlearn: 13.1515108\ttest: 14.4170818\tbest: 14.4170818 (273)\ttotal: 1m 9s\tremaining: 3m 5s\n",
            "274:\tlearn: 13.1456319\ttest: 14.4169014\tbest: 14.4169014 (274)\ttotal: 1m 10s\tremaining: 3m 5s\n",
            "275:\tlearn: 13.1387554\ttest: 14.4161265\tbest: 14.4161265 (275)\ttotal: 1m 10s\tremaining: 3m 4s\n",
            "276:\tlearn: 13.1321122\ttest: 14.4141000\tbest: 14.4141000 (276)\ttotal: 1m 10s\tremaining: 3m 4s\n",
            "277:\tlearn: 13.1253775\ttest: 14.4125290\tbest: 14.4125290 (277)\ttotal: 1m 10s\tremaining: 3m 4s\n",
            "278:\tlearn: 13.1195225\ttest: 14.4105910\tbest: 14.4105910 (278)\ttotal: 1m 11s\tremaining: 3m 4s\n",
            "279:\tlearn: 13.1144410\ttest: 14.4102092\tbest: 14.4102092 (279)\ttotal: 1m 11s\tremaining: 3m 3s\n",
            "280:\tlearn: 13.1077196\ttest: 14.4081294\tbest: 14.4081294 (280)\ttotal: 1m 11s\tremaining: 3m 3s\n",
            "281:\tlearn: 13.1043439\ttest: 14.4077251\tbest: 14.4077251 (281)\ttotal: 1m 11s\tremaining: 3m 3s\n",
            "282:\tlearn: 13.0978755\ttest: 14.4062840\tbest: 14.4062840 (282)\ttotal: 1m 12s\tremaining: 3m 2s\n",
            "283:\tlearn: 13.0913136\ttest: 14.4061134\tbest: 14.4061134 (283)\ttotal: 1m 12s\tremaining: 3m 2s\n",
            "284:\tlearn: 13.0866788\ttest: 14.4062582\tbest: 14.4061134 (283)\ttotal: 1m 12s\tremaining: 3m 2s\n",
            "285:\tlearn: 13.0811625\ttest: 14.4049160\tbest: 14.4049160 (285)\ttotal: 1m 12s\tremaining: 3m 1s\n",
            "286:\tlearn: 13.0743158\ttest: 14.4018434\tbest: 14.4018434 (286)\ttotal: 1m 13s\tremaining: 3m 1s\n",
            "287:\tlearn: 13.0695286\ttest: 14.4024893\tbest: 14.4018434 (286)\ttotal: 1m 13s\tremaining: 3m 1s\n",
            "288:\tlearn: 13.0649135\ttest: 14.4021581\tbest: 14.4018434 (286)\ttotal: 1m 13s\tremaining: 3m\n",
            "289:\tlearn: 13.0592380\ttest: 14.4032658\tbest: 14.4018434 (286)\ttotal: 1m 13s\tremaining: 3m\n",
            "290:\tlearn: 13.0553585\ttest: 14.4023278\tbest: 14.4018434 (286)\ttotal: 1m 13s\tremaining: 3m\n",
            "291:\tlearn: 13.0483967\ttest: 14.3997825\tbest: 14.3997825 (291)\ttotal: 1m 14s\tremaining: 2m 59s\n",
            "292:\tlearn: 13.0449827\ttest: 14.4002153\tbest: 14.3997825 (291)\ttotal: 1m 14s\tremaining: 2m 59s\n",
            "293:\tlearn: 13.0419038\ttest: 14.4001129\tbest: 14.3997825 (291)\ttotal: 1m 14s\tremaining: 2m 59s\n",
            "294:\tlearn: 13.0360982\ttest: 14.3996451\tbest: 14.3996451 (294)\ttotal: 1m 15s\tremaining: 2m 59s\n",
            "295:\tlearn: 13.0322086\ttest: 14.3992838\tbest: 14.3992838 (295)\ttotal: 1m 15s\tremaining: 2m 59s\n",
            "296:\tlearn: 13.0299984\ttest: 14.3982016\tbest: 14.3982016 (296)\ttotal: 1m 15s\tremaining: 2m 58s\n",
            "297:\tlearn: 13.0229867\ttest: 14.3966238\tbest: 14.3966238 (297)\ttotal: 1m 15s\tremaining: 2m 58s\n",
            "298:\tlearn: 13.0182649\ttest: 14.3974523\tbest: 14.3966238 (297)\ttotal: 1m 16s\tremaining: 2m 58s\n",
            "299:\tlearn: 13.0140964\ttest: 14.3967188\tbest: 14.3966238 (297)\ttotal: 1m 16s\tremaining: 2m 58s\n",
            "300:\tlearn: 13.0077176\ttest: 14.3948286\tbest: 14.3948286 (300)\ttotal: 1m 16s\tremaining: 2m 58s\n",
            "301:\tlearn: 13.0002176\ttest: 14.3934687\tbest: 14.3934687 (301)\ttotal: 1m 16s\tremaining: 2m 57s\n",
            "302:\tlearn: 12.9963108\ttest: 14.3946129\tbest: 14.3934687 (301)\ttotal: 1m 17s\tremaining: 2m 57s\n",
            "303:\tlearn: 12.9904881\ttest: 14.3918655\tbest: 14.3918655 (303)\ttotal: 1m 17s\tremaining: 2m 57s\n",
            "304:\tlearn: 12.9838614\ttest: 14.3895406\tbest: 14.3895406 (304)\ttotal: 1m 17s\tremaining: 2m 56s\n",
            "305:\tlearn: 12.9777190\ttest: 14.3900904\tbest: 14.3895406 (304)\ttotal: 1m 17s\tremaining: 2m 56s\n",
            "306:\tlearn: 12.9744083\ttest: 14.3902845\tbest: 14.3895406 (304)\ttotal: 1m 18s\tremaining: 2m 56s\n",
            "307:\tlearn: 12.9664768\ttest: 14.3887317\tbest: 14.3887317 (307)\ttotal: 1m 18s\tremaining: 2m 55s\n",
            "308:\tlearn: 12.9601379\ttest: 14.3855282\tbest: 14.3855282 (308)\ttotal: 1m 18s\tremaining: 2m 55s\n",
            "309:\tlearn: 12.9561926\ttest: 14.3844891\tbest: 14.3844891 (309)\ttotal: 1m 18s\tremaining: 2m 55s\n",
            "310:\tlearn: 12.9525641\ttest: 14.3842666\tbest: 14.3842666 (310)\ttotal: 1m 18s\tremaining: 2m 54s\n",
            "311:\tlearn: 12.9465694\ttest: 14.3836157\tbest: 14.3836157 (311)\ttotal: 1m 19s\tremaining: 2m 54s\n",
            "312:\tlearn: 12.9420744\ttest: 14.3835682\tbest: 14.3835682 (312)\ttotal: 1m 19s\tremaining: 2m 54s\n",
            "313:\tlearn: 12.9367129\ttest: 14.3815088\tbest: 14.3815088 (313)\ttotal: 1m 19s\tremaining: 2m 54s\n",
            "314:\tlearn: 12.9319267\ttest: 14.3800943\tbest: 14.3800943 (314)\ttotal: 1m 20s\tremaining: 2m 54s\n",
            "315:\tlearn: 12.9244078\ttest: 14.3783770\tbest: 14.3783770 (315)\ttotal: 1m 20s\tremaining: 2m 53s\n",
            "316:\tlearn: 12.9197367\ttest: 14.3769730\tbest: 14.3769730 (316)\ttotal: 1m 20s\tremaining: 2m 53s\n",
            "317:\tlearn: 12.9140925\ttest: 14.3731672\tbest: 14.3731672 (317)\ttotal: 1m 20s\tremaining: 2m 53s\n",
            "318:\tlearn: 12.9095114\ttest: 14.3725092\tbest: 14.3725092 (318)\ttotal: 1m 21s\tremaining: 2m 53s\n",
            "319:\tlearn: 12.9055855\ttest: 14.3718303\tbest: 14.3718303 (319)\ttotal: 1m 21s\tremaining: 2m 52s\n",
            "320:\tlearn: 12.9011813\ttest: 14.3705166\tbest: 14.3705166 (320)\ttotal: 1m 21s\tremaining: 2m 52s\n",
            "321:\tlearn: 12.8961202\ttest: 14.3677161\tbest: 14.3677161 (321)\ttotal: 1m 21s\tremaining: 2m 52s\n",
            "322:\tlearn: 12.8918601\ttest: 14.3653048\tbest: 14.3653048 (322)\ttotal: 1m 21s\tremaining: 2m 51s\n",
            "323:\tlearn: 12.8867647\ttest: 14.3667308\tbest: 14.3653048 (322)\ttotal: 1m 22s\tremaining: 2m 51s\n",
            "324:\tlearn: 12.8815071\ttest: 14.3669836\tbest: 14.3653048 (322)\ttotal: 1m 22s\tremaining: 2m 51s\n",
            "325:\tlearn: 12.8740757\ttest: 14.3649118\tbest: 14.3649118 (325)\ttotal: 1m 22s\tremaining: 2m 50s\n",
            "326:\tlearn: 12.8705045\ttest: 14.3644678\tbest: 14.3644678 (326)\ttotal: 1m 22s\tremaining: 2m 50s\n",
            "327:\tlearn: 12.8643127\ttest: 14.3633312\tbest: 14.3633312 (327)\ttotal: 1m 23s\tremaining: 2m 50s\n",
            "328:\tlearn: 12.8588437\ttest: 14.3637627\tbest: 14.3633312 (327)\ttotal: 1m 23s\tremaining: 2m 50s\n",
            "329:\tlearn: 12.8554078\ttest: 14.3640289\tbest: 14.3633312 (327)\ttotal: 1m 23s\tremaining: 2m 49s\n",
            "330:\tlearn: 12.8483825\ttest: 14.3635499\tbest: 14.3633312 (327)\ttotal: 1m 23s\tremaining: 2m 49s\n",
            "331:\tlearn: 12.8429085\ttest: 14.3622880\tbest: 14.3622880 (331)\ttotal: 1m 24s\tremaining: 2m 49s\n",
            "332:\tlearn: 12.8392891\ttest: 14.3615735\tbest: 14.3615735 (332)\ttotal: 1m 24s\tremaining: 2m 48s\n",
            "333:\tlearn: 12.8312044\ttest: 14.3593357\tbest: 14.3593357 (333)\ttotal: 1m 24s\tremaining: 2m 48s\n",
            "334:\tlearn: 12.8257334\ttest: 14.3619249\tbest: 14.3593357 (333)\ttotal: 1m 24s\tremaining: 2m 48s\n",
            "335:\tlearn: 12.8197378\ttest: 14.3618507\tbest: 14.3593357 (333)\ttotal: 1m 24s\tremaining: 2m 47s\n",
            "336:\tlearn: 12.8147446\ttest: 14.3609601\tbest: 14.3593357 (333)\ttotal: 1m 25s\tremaining: 2m 47s\n",
            "337:\tlearn: 12.8100963\ttest: 14.3605344\tbest: 14.3593357 (333)\ttotal: 1m 25s\tremaining: 2m 47s\n",
            "338:\tlearn: 12.8063435\ttest: 14.3597823\tbest: 14.3593357 (333)\ttotal: 1m 25s\tremaining: 2m 47s\n",
            "339:\tlearn: 12.8018541\ttest: 14.3583539\tbest: 14.3583539 (339)\ttotal: 1m 25s\tremaining: 2m 46s\n",
            "340:\tlearn: 12.7968802\ttest: 14.3587914\tbest: 14.3583539 (339)\ttotal: 1m 26s\tremaining: 2m 46s\n",
            "341:\tlearn: 12.7917314\ttest: 14.3581152\tbest: 14.3581152 (341)\ttotal: 1m 26s\tremaining: 2m 46s\n",
            "342:\tlearn: 12.7881322\ttest: 14.3576076\tbest: 14.3576076 (342)\ttotal: 1m 26s\tremaining: 2m 45s\n",
            "343:\tlearn: 12.7825138\ttest: 14.3550067\tbest: 14.3550067 (343)\ttotal: 1m 26s\tremaining: 2m 45s\n",
            "344:\tlearn: 12.7810113\ttest: 14.3543470\tbest: 14.3543470 (344)\ttotal: 1m 26s\tremaining: 2m 45s\n",
            "345:\tlearn: 12.7767011\ttest: 14.3540021\tbest: 14.3540021 (345)\ttotal: 1m 27s\tremaining: 2m 44s\n",
            "346:\tlearn: 12.7712410\ttest: 14.3541958\tbest: 14.3540021 (345)\ttotal: 1m 27s\tremaining: 2m 44s\n",
            "347:\tlearn: 12.7682641\ttest: 14.3537190\tbest: 14.3537190 (347)\ttotal: 1m 27s\tremaining: 2m 44s\n",
            "348:\tlearn: 12.7634405\ttest: 14.3516979\tbest: 14.3516979 (348)\ttotal: 1m 27s\tremaining: 2m 43s\n",
            "349:\tlearn: 12.7589252\ttest: 14.3491702\tbest: 14.3491702 (349)\ttotal: 1m 28s\tremaining: 2m 43s\n",
            "350:\tlearn: 12.7533880\ttest: 14.3488336\tbest: 14.3488336 (350)\ttotal: 1m 28s\tremaining: 2m 43s\n",
            "351:\tlearn: 12.7463398\ttest: 14.3471602\tbest: 14.3471602 (351)\ttotal: 1m 28s\tremaining: 2m 43s\n",
            "352:\tlearn: 12.7413894\ttest: 14.3471643\tbest: 14.3471602 (351)\ttotal: 1m 28s\tremaining: 2m 42s\n",
            "353:\tlearn: 12.7397874\ttest: 14.3464049\tbest: 14.3464049 (353)\ttotal: 1m 29s\tremaining: 2m 42s\n",
            "354:\tlearn: 12.7335109\ttest: 14.3462428\tbest: 14.3462428 (354)\ttotal: 1m 29s\tremaining: 2m 42s\n",
            "355:\tlearn: 12.7262454\ttest: 14.3458233\tbest: 14.3458233 (355)\ttotal: 1m 29s\tremaining: 2m 42s\n",
            "356:\tlearn: 12.7196926\ttest: 14.3451582\tbest: 14.3451582 (356)\ttotal: 1m 30s\tremaining: 2m 42s\n",
            "357:\tlearn: 12.7133288\ttest: 14.3428158\tbest: 14.3428158 (357)\ttotal: 1m 30s\tremaining: 2m 41s\n",
            "358:\tlearn: 12.7087489\ttest: 14.3428233\tbest: 14.3428158 (357)\ttotal: 1m 30s\tremaining: 2m 41s\n",
            "359:\tlearn: 12.7020526\ttest: 14.3398636\tbest: 14.3398636 (359)\ttotal: 1m 30s\tremaining: 2m 41s\n",
            "360:\tlearn: 12.6948032\ttest: 14.3403142\tbest: 14.3398636 (359)\ttotal: 1m 31s\tremaining: 2m 41s\n",
            "361:\tlearn: 12.6898364\ttest: 14.3410974\tbest: 14.3398636 (359)\ttotal: 1m 31s\tremaining: 2m 41s\n",
            "362:\tlearn: 12.6844264\ttest: 14.3378865\tbest: 14.3378865 (362)\ttotal: 1m 31s\tremaining: 2m 41s\n",
            "363:\tlearn: 12.6801283\ttest: 14.3384442\tbest: 14.3378865 (362)\ttotal: 1m 32s\tremaining: 2m 40s\n",
            "364:\tlearn: 12.6745594\ttest: 14.3385754\tbest: 14.3378865 (362)\ttotal: 1m 32s\tremaining: 2m 40s\n",
            "365:\tlearn: 12.6727130\ttest: 14.3390762\tbest: 14.3378865 (362)\ttotal: 1m 32s\tremaining: 2m 40s\n",
            "366:\tlearn: 12.6701463\ttest: 14.3381850\tbest: 14.3378865 (362)\ttotal: 1m 32s\tremaining: 2m 39s\n",
            "367:\tlearn: 12.6644803\ttest: 14.3369911\tbest: 14.3369911 (367)\ttotal: 1m 32s\tremaining: 2m 39s\n",
            "368:\tlearn: 12.6598686\ttest: 14.3365864\tbest: 14.3365864 (368)\ttotal: 1m 33s\tremaining: 2m 39s\n",
            "369:\tlearn: 12.6555859\ttest: 14.3347636\tbest: 14.3347636 (369)\ttotal: 1m 33s\tremaining: 2m 39s\n",
            "370:\tlearn: 12.6518147\ttest: 14.3347519\tbest: 14.3347519 (370)\ttotal: 1m 33s\tremaining: 2m 38s\n",
            "371:\tlearn: 12.6444924\ttest: 14.3347611\tbest: 14.3347519 (370)\ttotal: 1m 33s\tremaining: 2m 38s\n",
            "372:\tlearn: 12.6394651\ttest: 14.3322815\tbest: 14.3322815 (372)\ttotal: 1m 34s\tremaining: 2m 38s\n",
            "373:\tlearn: 12.6352646\ttest: 14.3325901\tbest: 14.3322815 (372)\ttotal: 1m 34s\tremaining: 2m 37s\n",
            "374:\tlearn: 12.6325645\ttest: 14.3327607\tbest: 14.3322815 (372)\ttotal: 1m 34s\tremaining: 2m 37s\n",
            "375:\tlearn: 12.6273616\ttest: 14.3333069\tbest: 14.3322815 (372)\ttotal: 1m 34s\tremaining: 2m 37s\n",
            "376:\tlearn: 12.6204297\ttest: 14.3347753\tbest: 14.3322815 (372)\ttotal: 1m 35s\tremaining: 2m 37s\n",
            "377:\tlearn: 12.6155121\ttest: 14.3330150\tbest: 14.3322815 (372)\ttotal: 1m 35s\tremaining: 2m 36s\n",
            "378:\tlearn: 12.6124509\ttest: 14.3328778\tbest: 14.3322815 (372)\ttotal: 1m 35s\tremaining: 2m 36s\n",
            "379:\tlearn: 12.6074817\ttest: 14.3334089\tbest: 14.3322815 (372)\ttotal: 1m 35s\tremaining: 2m 36s\n",
            "380:\tlearn: 12.6037675\ttest: 14.3338320\tbest: 14.3322815 (372)\ttotal: 1m 35s\tremaining: 2m 35s\n",
            "381:\tlearn: 12.5993372\ttest: 14.3329899\tbest: 14.3322815 (372)\ttotal: 1m 36s\tremaining: 2m 35s\n",
            "382:\tlearn: 12.5946979\ttest: 14.3318918\tbest: 14.3318918 (382)\ttotal: 1m 36s\tremaining: 2m 35s\n",
            "383:\tlearn: 12.5903244\ttest: 14.3296526\tbest: 14.3296526 (383)\ttotal: 1m 36s\tremaining: 2m 35s\n",
            "384:\tlearn: 12.5867780\ttest: 14.3292987\tbest: 14.3292987 (384)\ttotal: 1m 36s\tremaining: 2m 34s\n",
            "385:\tlearn: 12.5823636\ttest: 14.3277803\tbest: 14.3277803 (385)\ttotal: 1m 37s\tremaining: 2m 34s\n",
            "386:\tlearn: 12.5806133\ttest: 14.3282204\tbest: 14.3277803 (385)\ttotal: 1m 37s\tremaining: 2m 34s\n",
            "387:\tlearn: 12.5778967\ttest: 14.3278657\tbest: 14.3277803 (385)\ttotal: 1m 37s\tremaining: 2m 33s\n",
            "388:\tlearn: 12.5712065\ttest: 14.3256426\tbest: 14.3256426 (388)\ttotal: 1m 37s\tremaining: 2m 33s\n",
            "389:\tlearn: 12.5680935\ttest: 14.3252418\tbest: 14.3252418 (389)\ttotal: 1m 38s\tremaining: 2m 33s\n",
            "390:\tlearn: 12.5637351\ttest: 14.3237774\tbest: 14.3237774 (390)\ttotal: 1m 38s\tremaining: 2m 32s\n",
            "391:\tlearn: 12.5616920\ttest: 14.3226333\tbest: 14.3226333 (391)\ttotal: 1m 38s\tremaining: 2m 32s\n",
            "392:\tlearn: 12.5565456\ttest: 14.3196519\tbest: 14.3196519 (392)\ttotal: 1m 38s\tremaining: 2m 32s\n",
            "393:\tlearn: 12.5518676\ttest: 14.3201433\tbest: 14.3196519 (392)\ttotal: 1m 38s\tremaining: 2m 32s\n",
            "394:\tlearn: 12.5478723\ttest: 14.3196929\tbest: 14.3196519 (392)\ttotal: 1m 39s\tremaining: 2m 31s\n",
            "395:\tlearn: 12.5420684\ttest: 14.3187420\tbest: 14.3187420 (395)\ttotal: 1m 39s\tremaining: 2m 31s\n",
            "396:\tlearn: 12.5375283\ttest: 14.3158116\tbest: 14.3158116 (396)\ttotal: 1m 39s\tremaining: 2m 31s\n",
            "397:\tlearn: 12.5348828\ttest: 14.3155311\tbest: 14.3155311 (397)\ttotal: 1m 39s\tremaining: 2m 30s\n",
            "398:\tlearn: 12.5302286\ttest: 14.3151543\tbest: 14.3151543 (398)\ttotal: 1m 40s\tremaining: 2m 30s\n",
            "399:\tlearn: 12.5264810\ttest: 14.3156994\tbest: 14.3151543 (398)\ttotal: 1m 40s\tremaining: 2m 30s\n",
            "400:\tlearn: 12.5214087\ttest: 14.3161407\tbest: 14.3151543 (398)\ttotal: 1m 40s\tremaining: 2m 30s\n",
            "401:\tlearn: 12.5157171\ttest: 14.3157338\tbest: 14.3151543 (398)\ttotal: 1m 40s\tremaining: 2m 29s\n",
            "402:\tlearn: 12.5103118\ttest: 14.3139527\tbest: 14.3139527 (402)\ttotal: 1m 41s\tremaining: 2m 29s\n",
            "403:\tlearn: 12.5071299\ttest: 14.3128681\tbest: 14.3128681 (403)\ttotal: 1m 41s\tremaining: 2m 29s\n",
            "404:\tlearn: 12.5008377\ttest: 14.3140816\tbest: 14.3128681 (403)\ttotal: 1m 41s\tremaining: 2m 29s\n",
            "405:\tlearn: 12.4963306\ttest: 14.3124544\tbest: 14.3124544 (405)\ttotal: 1m 41s\tremaining: 2m 28s\n",
            "406:\tlearn: 12.4916401\ttest: 14.3119284\tbest: 14.3119284 (406)\ttotal: 1m 41s\tremaining: 2m 28s\n",
            "407:\tlearn: 12.4865253\ttest: 14.3118422\tbest: 14.3118422 (407)\ttotal: 1m 42s\tremaining: 2m 28s\n",
            "408:\tlearn: 12.4828467\ttest: 14.3110842\tbest: 14.3110842 (408)\ttotal: 1m 42s\tremaining: 2m 27s\n",
            "409:\tlearn: 12.4800772\ttest: 14.3096057\tbest: 14.3096057 (409)\ttotal: 1m 42s\tremaining: 2m 27s\n",
            "410:\tlearn: 12.4760142\ttest: 14.3096543\tbest: 14.3096057 (409)\ttotal: 1m 42s\tremaining: 2m 27s\n",
            "411:\tlearn: 12.4724127\ttest: 14.3101795\tbest: 14.3096057 (409)\ttotal: 1m 43s\tremaining: 2m 27s\n",
            "412:\tlearn: 12.4657856\ttest: 14.3060225\tbest: 14.3060225 (412)\ttotal: 1m 43s\tremaining: 2m 26s\n",
            "413:\tlearn: 12.4609859\ttest: 14.3046097\tbest: 14.3046097 (413)\ttotal: 1m 43s\tremaining: 2m 26s\n",
            "414:\tlearn: 12.4561839\ttest: 14.3047027\tbest: 14.3046097 (413)\ttotal: 1m 43s\tremaining: 2m 26s\n",
            "415:\tlearn: 12.4536313\ttest: 14.3049608\tbest: 14.3046097 (413)\ttotal: 1m 43s\tremaining: 2m 25s\n",
            "416:\tlearn: 12.4456842\ttest: 14.3052156\tbest: 14.3046097 (413)\ttotal: 1m 44s\tremaining: 2m 25s\n",
            "417:\tlearn: 12.4408565\ttest: 14.3060803\tbest: 14.3046097 (413)\ttotal: 1m 44s\tremaining: 2m 25s\n",
            "418:\tlearn: 12.4397006\ttest: 14.3061465\tbest: 14.3046097 (413)\ttotal: 1m 44s\tremaining: 2m 25s\n",
            "419:\tlearn: 12.4363431\ttest: 14.3059127\tbest: 14.3046097 (413)\ttotal: 1m 45s\tremaining: 2m 25s\n",
            "420:\tlearn: 12.4323045\ttest: 14.3058222\tbest: 14.3046097 (413)\ttotal: 1m 45s\tremaining: 2m 24s\n",
            "421:\tlearn: 12.4277928\ttest: 14.3046717\tbest: 14.3046097 (413)\ttotal: 1m 45s\tremaining: 2m 24s\n",
            "422:\tlearn: 12.4246632\ttest: 14.3051619\tbest: 14.3046097 (413)\ttotal: 1m 45s\tremaining: 2m 24s\n",
            "423:\tlearn: 12.4218454\ttest: 14.3054133\tbest: 14.3046097 (413)\ttotal: 1m 45s\tremaining: 2m 23s\n",
            "424:\tlearn: 12.4191917\ttest: 14.3050446\tbest: 14.3046097 (413)\ttotal: 1m 46s\tremaining: 2m 23s\n",
            "425:\tlearn: 12.4144348\ttest: 14.3050899\tbest: 14.3046097 (413)\ttotal: 1m 46s\tremaining: 2m 23s\n",
            "426:\tlearn: 12.4091356\ttest: 14.3056630\tbest: 14.3046097 (413)\ttotal: 1m 46s\tremaining: 2m 23s\n",
            "427:\tlearn: 12.4044096\ttest: 14.3038807\tbest: 14.3038807 (427)\ttotal: 1m 46s\tremaining: 2m 22s\n",
            "428:\tlearn: 12.3995794\ttest: 14.3041270\tbest: 14.3038807 (427)\ttotal: 1m 47s\tremaining: 2m 22s\n",
            "429:\tlearn: 12.3942844\ttest: 14.3040541\tbest: 14.3038807 (427)\ttotal: 1m 47s\tremaining: 2m 22s\n",
            "430:\tlearn: 12.3895852\ttest: 14.3039452\tbest: 14.3038807 (427)\ttotal: 1m 47s\tremaining: 2m 22s\n",
            "431:\tlearn: 12.3866502\ttest: 14.3026822\tbest: 14.3026822 (431)\ttotal: 1m 47s\tremaining: 2m 21s\n",
            "432:\tlearn: 12.3826713\ttest: 14.3021769\tbest: 14.3021769 (432)\ttotal: 1m 48s\tremaining: 2m 21s\n",
            "433:\tlearn: 12.3771125\ttest: 14.3015441\tbest: 14.3015441 (433)\ttotal: 1m 48s\tremaining: 2m 21s\n",
            "434:\tlearn: 12.3745183\ttest: 14.3000026\tbest: 14.3000026 (434)\ttotal: 1m 48s\tremaining: 2m 20s\n",
            "435:\tlearn: 12.3729222\ttest: 14.2999766\tbest: 14.2999766 (435)\ttotal: 1m 48s\tremaining: 2m 20s\n",
            "436:\tlearn: 12.3685459\ttest: 14.3004016\tbest: 14.2999766 (435)\ttotal: 1m 48s\tremaining: 2m 20s\n",
            "437:\tlearn: 12.3638621\ttest: 14.2991761\tbest: 14.2991761 (437)\ttotal: 1m 49s\tremaining: 2m 20s\n",
            "438:\tlearn: 12.3606930\ttest: 14.2991610\tbest: 14.2991610 (438)\ttotal: 1m 49s\tremaining: 2m 19s\n",
            "439:\tlearn: 12.3575862\ttest: 14.2988055\tbest: 14.2988055 (439)\ttotal: 1m 49s\tremaining: 2m 19s\n",
            "440:\tlearn: 12.3517758\ttest: 14.2964195\tbest: 14.2964195 (440)\ttotal: 1m 49s\tremaining: 2m 19s\n",
            "441:\tlearn: 12.3501136\ttest: 14.2964296\tbest: 14.2964195 (440)\ttotal: 1m 50s\tremaining: 2m 18s\n",
            "442:\tlearn: 12.3471600\ttest: 14.2955651\tbest: 14.2955651 (442)\ttotal: 1m 50s\tremaining: 2m 18s\n",
            "443:\tlearn: 12.3439939\ttest: 14.2945177\tbest: 14.2945177 (443)\ttotal: 1m 50s\tremaining: 2m 18s\n",
            "444:\tlearn: 12.3408527\ttest: 14.2929864\tbest: 14.2929864 (444)\ttotal: 1m 50s\tremaining: 2m 18s\n",
            "445:\tlearn: 12.3363188\ttest: 14.2907319\tbest: 14.2907319 (445)\ttotal: 1m 50s\tremaining: 2m 17s\n",
            "446:\tlearn: 12.3316801\ttest: 14.2905247\tbest: 14.2905247 (446)\ttotal: 1m 51s\tremaining: 2m 17s\n",
            "447:\tlearn: 12.3267825\ttest: 14.2900508\tbest: 14.2900508 (447)\ttotal: 1m 51s\tremaining: 2m 17s\n",
            "448:\tlearn: 12.3238680\ttest: 14.2893479\tbest: 14.2893479 (448)\ttotal: 1m 51s\tremaining: 2m 16s\n",
            "449:\tlearn: 12.3181721\ttest: 14.2906111\tbest: 14.2893479 (448)\ttotal: 1m 51s\tremaining: 2m 16s\n",
            "450:\tlearn: 12.3123091\ttest: 14.2895249\tbest: 14.2893479 (448)\ttotal: 1m 52s\tremaining: 2m 16s\n",
            "451:\tlearn: 12.3081460\ttest: 14.2870055\tbest: 14.2870055 (451)\ttotal: 1m 52s\tremaining: 2m 16s\n",
            "452:\tlearn: 12.3035025\ttest: 14.2876348\tbest: 14.2870055 (451)\ttotal: 1m 52s\tremaining: 2m 15s\n",
            "453:\tlearn: 12.2982325\ttest: 14.2882422\tbest: 14.2870055 (451)\ttotal: 1m 52s\tremaining: 2m 15s\n",
            "454:\tlearn: 12.2954263\ttest: 14.2879318\tbest: 14.2870055 (451)\ttotal: 1m 53s\tremaining: 2m 15s\n",
            "455:\tlearn: 12.2922444\ttest: 14.2881079\tbest: 14.2870055 (451)\ttotal: 1m 53s\tremaining: 2m 15s\n",
            "456:\tlearn: 12.2861466\ttest: 14.2900189\tbest: 14.2870055 (451)\ttotal: 1m 53s\tremaining: 2m 14s\n",
            "457:\tlearn: 12.2796913\ttest: 14.2879024\tbest: 14.2870055 (451)\ttotal: 1m 53s\tremaining: 2m 14s\n",
            "458:\tlearn: 12.2760157\ttest: 14.2875769\tbest: 14.2870055 (451)\ttotal: 1m 53s\tremaining: 2m 14s\n",
            "459:\tlearn: 12.2716659\ttest: 14.2876616\tbest: 14.2870055 (451)\ttotal: 1m 54s\tremaining: 2m 14s\n",
            "460:\tlearn: 12.2695712\ttest: 14.2872874\tbest: 14.2870055 (451)\ttotal: 1m 54s\tremaining: 2m 13s\n",
            "461:\tlearn: 12.2648892\ttest: 14.2880224\tbest: 14.2870055 (451)\ttotal: 1m 54s\tremaining: 2m 13s\n",
            "462:\tlearn: 12.2609657\ttest: 14.2881172\tbest: 14.2870055 (451)\ttotal: 1m 54s\tremaining: 2m 13s\n",
            "463:\tlearn: 12.2563567\ttest: 14.2875073\tbest: 14.2870055 (451)\ttotal: 1m 55s\tremaining: 2m 13s\n",
            "464:\tlearn: 12.2518066\ttest: 14.2864081\tbest: 14.2864081 (464)\ttotal: 1m 55s\tremaining: 2m 12s\n",
            "465:\tlearn: 12.2443117\ttest: 14.2855028\tbest: 14.2855028 (465)\ttotal: 1m 55s\tremaining: 2m 12s\n",
            "466:\tlearn: 12.2407556\ttest: 14.2834452\tbest: 14.2834452 (466)\ttotal: 1m 55s\tremaining: 2m 12s\n",
            "467:\tlearn: 12.2376899\ttest: 14.2826084\tbest: 14.2826084 (467)\ttotal: 1m 56s\tremaining: 2m 11s\n",
            "468:\tlearn: 12.2370727\ttest: 14.2828493\tbest: 14.2826084 (467)\ttotal: 1m 56s\tremaining: 2m 11s\n",
            "469:\tlearn: 12.2339207\ttest: 14.2840872\tbest: 14.2826084 (467)\ttotal: 1m 56s\tremaining: 2m 11s\n",
            "470:\tlearn: 12.2307165\ttest: 14.2836432\tbest: 14.2826084 (467)\ttotal: 1m 56s\tremaining: 2m 11s\n",
            "471:\tlearn: 12.2274644\ttest: 14.2832236\tbest: 14.2826084 (467)\ttotal: 1m 56s\tremaining: 2m 10s\n",
            "472:\tlearn: 12.2236872\ttest: 14.2831548\tbest: 14.2826084 (467)\ttotal: 1m 57s\tremaining: 2m 10s\n",
            "473:\tlearn: 12.2203714\ttest: 14.2830507\tbest: 14.2826084 (467)\ttotal: 1m 57s\tremaining: 2m 10s\n",
            "474:\tlearn: 12.2132385\ttest: 14.2829399\tbest: 14.2826084 (467)\ttotal: 1m 57s\tremaining: 2m 10s\n",
            "475:\tlearn: 12.2113694\ttest: 14.2829483\tbest: 14.2826084 (467)\ttotal: 1m 58s\tremaining: 2m 9s\n",
            "476:\tlearn: 12.2063391\ttest: 14.2818002\tbest: 14.2818002 (476)\ttotal: 1m 58s\tremaining: 2m 9s\n",
            "477:\tlearn: 12.2034808\ttest: 14.2818313\tbest: 14.2818002 (476)\ttotal: 1m 58s\tremaining: 2m 9s\n",
            "478:\tlearn: 12.1998367\ttest: 14.2813780\tbest: 14.2813780 (478)\ttotal: 1m 58s\tremaining: 2m 9s\n",
            "479:\tlearn: 12.1949809\ttest: 14.2793559\tbest: 14.2793559 (479)\ttotal: 1m 59s\tremaining: 2m 9s\n",
            "480:\tlearn: 12.1902919\ttest: 14.2798310\tbest: 14.2793559 (479)\ttotal: 1m 59s\tremaining: 2m 8s\n",
            "481:\tlearn: 12.1869631\ttest: 14.2790805\tbest: 14.2790805 (481)\ttotal: 1m 59s\tremaining: 2m 8s\n",
            "482:\tlearn: 12.1818592\ttest: 14.2778758\tbest: 14.2778758 (482)\ttotal: 1m 59s\tremaining: 2m 8s\n",
            "483:\tlearn: 12.1775122\ttest: 14.2753360\tbest: 14.2753360 (483)\ttotal: 2m\tremaining: 2m 8s\n",
            "484:\tlearn: 12.1753674\ttest: 14.2746004\tbest: 14.2746004 (484)\ttotal: 2m\tremaining: 2m 7s\n",
            "485:\tlearn: 12.1712347\ttest: 14.2747390\tbest: 14.2746004 (484)\ttotal: 2m\tremaining: 2m 7s\n",
            "486:\tlearn: 12.1671859\ttest: 14.2746491\tbest: 14.2746004 (484)\ttotal: 2m 1s\tremaining: 2m 7s\n",
            "487:\tlearn: 12.1628326\ttest: 14.2743669\tbest: 14.2743669 (487)\ttotal: 2m 1s\tremaining: 2m 7s\n",
            "488:\tlearn: 12.1585340\ttest: 14.2731879\tbest: 14.2731879 (488)\ttotal: 2m 1s\tremaining: 2m 6s\n",
            "489:\tlearn: 12.1552270\ttest: 14.2734633\tbest: 14.2731879 (488)\ttotal: 2m 1s\tremaining: 2m 6s\n",
            "490:\tlearn: 12.1509894\ttest: 14.2713393\tbest: 14.2713393 (490)\ttotal: 2m 1s\tremaining: 2m 6s\n",
            "491:\tlearn: 12.1479537\ttest: 14.2710932\tbest: 14.2710932 (491)\ttotal: 2m 2s\tremaining: 2m 6s\n",
            "492:\tlearn: 12.1439544\ttest: 14.2714166\tbest: 14.2710932 (491)\ttotal: 2m 2s\tremaining: 2m 5s\n",
            "493:\tlearn: 12.1408859\ttest: 14.2716618\tbest: 14.2710932 (491)\ttotal: 2m 2s\tremaining: 2m 5s\n",
            "494:\tlearn: 12.1381801\ttest: 14.2724967\tbest: 14.2710932 (491)\ttotal: 2m 2s\tremaining: 2m 5s\n",
            "495:\tlearn: 12.1346957\ttest: 14.2723699\tbest: 14.2710932 (491)\ttotal: 2m 3s\tremaining: 2m 5s\n",
            "496:\tlearn: 12.1312098\ttest: 14.2727403\tbest: 14.2710932 (491)\ttotal: 2m 3s\tremaining: 2m 4s\n",
            "497:\tlearn: 12.1262134\ttest: 14.2710630\tbest: 14.2710630 (497)\ttotal: 2m 3s\tremaining: 2m 4s\n",
            "498:\tlearn: 12.1204301\ttest: 14.2692418\tbest: 14.2692418 (498)\ttotal: 2m 3s\tremaining: 2m 4s\n",
            "499:\tlearn: 12.1153714\ttest: 14.2695216\tbest: 14.2692418 (498)\ttotal: 2m 4s\tremaining: 2m 4s\n",
            "500:\tlearn: 12.1108555\ttest: 14.2698131\tbest: 14.2692418 (498)\ttotal: 2m 4s\tremaining: 2m 3s\n",
            "501:\tlearn: 12.1069766\ttest: 14.2697005\tbest: 14.2692418 (498)\ttotal: 2m 4s\tremaining: 2m 3s\n",
            "502:\tlearn: 12.1030444\ttest: 14.2700214\tbest: 14.2692418 (498)\ttotal: 2m 4s\tremaining: 2m 3s\n",
            "503:\tlearn: 12.0995266\ttest: 14.2704599\tbest: 14.2692418 (498)\ttotal: 2m 4s\tremaining: 2m 3s\n",
            "504:\tlearn: 12.0969245\ttest: 14.2716929\tbest: 14.2692418 (498)\ttotal: 2m 5s\tremaining: 2m 2s\n",
            "505:\tlearn: 12.0908392\ttest: 14.2691486\tbest: 14.2691486 (505)\ttotal: 2m 5s\tremaining: 2m 2s\n",
            "506:\tlearn: 12.0884728\ttest: 14.2686992\tbest: 14.2686992 (506)\ttotal: 2m 5s\tremaining: 2m 2s\n",
            "507:\tlearn: 12.0814570\ttest: 14.2685849\tbest: 14.2685849 (507)\ttotal: 2m 5s\tremaining: 2m 1s\n",
            "508:\tlearn: 12.0767328\ttest: 14.2671844\tbest: 14.2671844 (508)\ttotal: 2m 6s\tremaining: 2m 1s\n",
            "509:\tlearn: 12.0747394\ttest: 14.2665022\tbest: 14.2665022 (509)\ttotal: 2m 6s\tremaining: 2m 1s\n",
            "510:\tlearn: 12.0732893\ttest: 14.2665635\tbest: 14.2665022 (509)\ttotal: 2m 6s\tremaining: 2m 1s\n",
            "511:\tlearn: 12.0678323\ttest: 14.2681615\tbest: 14.2665022 (509)\ttotal: 2m 6s\tremaining: 2m\n",
            "512:\tlearn: 12.0617249\ttest: 14.2670046\tbest: 14.2665022 (509)\ttotal: 2m 7s\tremaining: 2m\n",
            "513:\tlearn: 12.0578351\ttest: 14.2654409\tbest: 14.2654409 (513)\ttotal: 2m 7s\tremaining: 2m\n",
            "514:\tlearn: 12.0539436\ttest: 14.2663955\tbest: 14.2654409 (513)\ttotal: 2m 7s\tremaining: 2m\n",
            "515:\tlearn: 12.0481565\ttest: 14.2659367\tbest: 14.2654409 (513)\ttotal: 2m 7s\tremaining: 1m 59s\n",
            "516:\tlearn: 12.0430331\ttest: 14.2645796\tbest: 14.2645796 (516)\ttotal: 2m 7s\tremaining: 1m 59s\n",
            "517:\tlearn: 12.0391791\ttest: 14.2636443\tbest: 14.2636443 (517)\ttotal: 2m 8s\tremaining: 1m 59s\n",
            "518:\tlearn: 12.0358354\ttest: 14.2628442\tbest: 14.2628442 (518)\ttotal: 2m 8s\tremaining: 1m 59s\n",
            "519:\tlearn: 12.0324031\ttest: 14.2623677\tbest: 14.2623677 (519)\ttotal: 2m 8s\tremaining: 1m 58s\n",
            "520:\tlearn: 12.0276397\ttest: 14.2629417\tbest: 14.2623677 (519)\ttotal: 2m 8s\tremaining: 1m 58s\n",
            "521:\tlearn: 12.0236836\ttest: 14.2610952\tbest: 14.2610952 (521)\ttotal: 2m 9s\tremaining: 1m 58s\n",
            "522:\tlearn: 12.0210088\ttest: 14.2605648\tbest: 14.2605648 (522)\ttotal: 2m 9s\tremaining: 1m 57s\n",
            "523:\tlearn: 12.0193846\ttest: 14.2607321\tbest: 14.2605648 (522)\ttotal: 2m 9s\tremaining: 1m 57s\n",
            "524:\tlearn: 12.0153215\ttest: 14.2601731\tbest: 14.2601731 (524)\ttotal: 2m 9s\tremaining: 1m 57s\n",
            "525:\tlearn: 12.0118369\ttest: 14.2600764\tbest: 14.2600764 (525)\ttotal: 2m 9s\tremaining: 1m 57s\n",
            "526:\tlearn: 12.0088005\ttest: 14.2600789\tbest: 14.2600764 (525)\ttotal: 2m 10s\tremaining: 1m 56s\n",
            "527:\tlearn: 12.0058982\ttest: 14.2599394\tbest: 14.2599394 (527)\ttotal: 2m 10s\tremaining: 1m 56s\n",
            "528:\tlearn: 12.0009201\ttest: 14.2597150\tbest: 14.2597150 (528)\ttotal: 2m 10s\tremaining: 1m 56s\n",
            "529:\tlearn: 11.9976886\ttest: 14.2605816\tbest: 14.2597150 (528)\ttotal: 2m 10s\tremaining: 1m 56s\n",
            "530:\tlearn: 11.9928914\ttest: 14.2608825\tbest: 14.2597150 (528)\ttotal: 2m 11s\tremaining: 1m 55s\n",
            "531:\tlearn: 11.9907066\ttest: 14.2614482\tbest: 14.2597150 (528)\ttotal: 2m 11s\tremaining: 1m 55s\n",
            "532:\tlearn: 11.9886619\ttest: 14.2603715\tbest: 14.2597150 (528)\ttotal: 2m 11s\tremaining: 1m 55s\n",
            "533:\tlearn: 11.9818253\ttest: 14.2599554\tbest: 14.2597150 (528)\ttotal: 2m 11s\tremaining: 1m 55s\n",
            "534:\tlearn: 11.9782188\ttest: 14.2594645\tbest: 14.2594645 (534)\ttotal: 2m 12s\tremaining: 1m 54s\n",
            "535:\tlearn: 11.9748826\ttest: 14.2591030\tbest: 14.2591030 (535)\ttotal: 2m 12s\tremaining: 1m 54s\n",
            "536:\tlearn: 11.9710513\ttest: 14.2595426\tbest: 14.2591030 (535)\ttotal: 2m 12s\tremaining: 1m 54s\n",
            "537:\tlearn: 11.9661132\ttest: 14.2583960\tbest: 14.2583960 (537)\ttotal: 2m 12s\tremaining: 1m 54s\n",
            "538:\tlearn: 11.9619995\ttest: 14.2581236\tbest: 14.2581236 (538)\ttotal: 2m 13s\tremaining: 1m 53s\n",
            "539:\tlearn: 11.9582978\ttest: 14.2576788\tbest: 14.2576788 (539)\ttotal: 2m 13s\tremaining: 1m 53s\n",
            "540:\tlearn: 11.9521931\ttest: 14.2560376\tbest: 14.2560376 (540)\ttotal: 2m 13s\tremaining: 1m 53s\n",
            "541:\tlearn: 11.9494034\ttest: 14.2554852\tbest: 14.2554852 (541)\ttotal: 2m 14s\tremaining: 1m 53s\n",
            "542:\tlearn: 11.9459287\ttest: 14.2556677\tbest: 14.2554852 (541)\ttotal: 2m 14s\tremaining: 1m 53s\n",
            "543:\tlearn: 11.9425363\ttest: 14.2552464\tbest: 14.2552464 (543)\ttotal: 2m 14s\tremaining: 1m 52s\n",
            "544:\tlearn: 11.9392815\ttest: 14.2545442\tbest: 14.2545442 (544)\ttotal: 2m 14s\tremaining: 1m 52s\n",
            "545:\tlearn: 11.9331916\ttest: 14.2546737\tbest: 14.2545442 (544)\ttotal: 2m 15s\tremaining: 1m 52s\n",
            "546:\tlearn: 11.9293831\ttest: 14.2541717\tbest: 14.2541717 (546)\ttotal: 2m 15s\tremaining: 1m 52s\n",
            "547:\tlearn: 11.9249324\ttest: 14.2543365\tbest: 14.2541717 (546)\ttotal: 2m 15s\tremaining: 1m 51s\n",
            "548:\tlearn: 11.9194850\ttest: 14.2537075\tbest: 14.2537075 (548)\ttotal: 2m 15s\tremaining: 1m 51s\n",
            "549:\tlearn: 11.9163159\ttest: 14.2541902\tbest: 14.2537075 (548)\ttotal: 2m 16s\tremaining: 1m 51s\n",
            "550:\tlearn: 11.9123218\ttest: 14.2527605\tbest: 14.2527605 (550)\ttotal: 2m 16s\tremaining: 1m 51s\n",
            "551:\tlearn: 11.9078578\ttest: 14.2526562\tbest: 14.2526562 (551)\ttotal: 2m 16s\tremaining: 1m 50s\n",
            "552:\tlearn: 11.9037823\ttest: 14.2513248\tbest: 14.2513248 (552)\ttotal: 2m 16s\tremaining: 1m 50s\n",
            "553:\tlearn: 11.8988360\ttest: 14.2514527\tbest: 14.2513248 (552)\ttotal: 2m 16s\tremaining: 1m 50s\n",
            "554:\tlearn: 11.8947368\ttest: 14.2505434\tbest: 14.2505434 (554)\ttotal: 2m 17s\tremaining: 1m 50s\n",
            "555:\tlearn: 11.8928792\ttest: 14.2498806\tbest: 14.2498806 (555)\ttotal: 2m 17s\tremaining: 1m 49s\n",
            "556:\tlearn: 11.8902313\ttest: 14.2488122\tbest: 14.2488122 (556)\ttotal: 2m 17s\tremaining: 1m 49s\n",
            "557:\tlearn: 11.8866158\ttest: 14.2494137\tbest: 14.2488122 (556)\ttotal: 2m 17s\tremaining: 1m 49s\n",
            "558:\tlearn: 11.8836629\ttest: 14.2486515\tbest: 14.2486515 (558)\ttotal: 2m 18s\tremaining: 1m 48s\n",
            "559:\tlearn: 11.8785331\ttest: 14.2464581\tbest: 14.2464581 (559)\ttotal: 2m 18s\tremaining: 1m 48s\n",
            "560:\tlearn: 11.8766477\ttest: 14.2465398\tbest: 14.2464581 (559)\ttotal: 2m 18s\tremaining: 1m 48s\n",
            "561:\tlearn: 11.8733683\ttest: 14.2449957\tbest: 14.2449957 (561)\ttotal: 2m 18s\tremaining: 1m 48s\n",
            "562:\tlearn: 11.8705894\ttest: 14.2433741\tbest: 14.2433741 (562)\ttotal: 2m 18s\tremaining: 1m 47s\n",
            "563:\tlearn: 11.8679452\ttest: 14.2432571\tbest: 14.2432571 (563)\ttotal: 2m 19s\tremaining: 1m 47s\n",
            "564:\tlearn: 11.8637524\ttest: 14.2440229\tbest: 14.2432571 (563)\ttotal: 2m 19s\tremaining: 1m 47s\n",
            "565:\tlearn: 11.8609146\ttest: 14.2440978\tbest: 14.2432571 (563)\ttotal: 2m 19s\tremaining: 1m 47s\n",
            "566:\tlearn: 11.8577355\ttest: 14.2443023\tbest: 14.2432571 (563)\ttotal: 2m 19s\tremaining: 1m 46s\n",
            "567:\tlearn: 11.8507485\ttest: 14.2425973\tbest: 14.2425973 (567)\ttotal: 2m 20s\tremaining: 1m 46s\n",
            "568:\tlearn: 11.8468638\ttest: 14.2426495\tbest: 14.2425973 (567)\ttotal: 2m 20s\tremaining: 1m 46s\n",
            "569:\tlearn: 11.8425320\ttest: 14.2429533\tbest: 14.2425973 (567)\ttotal: 2m 20s\tremaining: 1m 46s\n",
            "570:\tlearn: 11.8392588\ttest: 14.2434061\tbest: 14.2425973 (567)\ttotal: 2m 20s\tremaining: 1m 45s\n",
            "571:\tlearn: 11.8342496\ttest: 14.2442316\tbest: 14.2425973 (567)\ttotal: 2m 21s\tremaining: 1m 45s\n",
            "572:\tlearn: 11.8286438\ttest: 14.2424618\tbest: 14.2424618 (572)\ttotal: 2m 21s\tremaining: 1m 45s\n",
            "573:\tlearn: 11.8245750\ttest: 14.2434557\tbest: 14.2424618 (572)\ttotal: 2m 21s\tremaining: 1m 45s\n",
            "574:\tlearn: 11.8231424\ttest: 14.2432420\tbest: 14.2424618 (572)\ttotal: 2m 21s\tremaining: 1m 44s\n",
            "575:\tlearn: 11.8185848\ttest: 14.2424492\tbest: 14.2424492 (575)\ttotal: 2m 22s\tremaining: 1m 44s\n",
            "576:\tlearn: 11.8155875\ttest: 14.2421411\tbest: 14.2421411 (576)\ttotal: 2m 22s\tremaining: 1m 44s\n",
            "577:\tlearn: 11.8119720\ttest: 14.2406808\tbest: 14.2406808 (577)\ttotal: 2m 22s\tremaining: 1m 44s\n",
            "578:\tlearn: 11.8086639\ttest: 14.2393583\tbest: 14.2393583 (578)\ttotal: 2m 22s\tremaining: 1m 43s\n",
            "579:\tlearn: 11.8030739\ttest: 14.2388187\tbest: 14.2388187 (579)\ttotal: 2m 22s\tremaining: 1m 43s\n",
            "580:\tlearn: 11.7995967\ttest: 14.2390645\tbest: 14.2388187 (579)\ttotal: 2m 23s\tremaining: 1m 43s\n",
            "581:\tlearn: 11.7933067\ttest: 14.2386419\tbest: 14.2386419 (581)\ttotal: 2m 23s\tremaining: 1m 43s\n",
            "582:\tlearn: 11.7887152\ttest: 14.2380408\tbest: 14.2380408 (582)\ttotal: 2m 23s\tremaining: 1m 42s\n",
            "583:\tlearn: 11.7828848\ttest: 14.2374128\tbest: 14.2374128 (583)\ttotal: 2m 23s\tremaining: 1m 42s\n",
            "584:\tlearn: 11.7802377\ttest: 14.2376401\tbest: 14.2374128 (583)\ttotal: 2m 24s\tremaining: 1m 42s\n",
            "585:\tlearn: 11.7758956\ttest: 14.2374052\tbest: 14.2374052 (585)\ttotal: 2m 24s\tremaining: 1m 42s\n",
            "586:\tlearn: 11.7691386\ttest: 14.2345280\tbest: 14.2345280 (586)\ttotal: 2m 24s\tremaining: 1m 41s\n",
            "587:\tlearn: 11.7649468\ttest: 14.2350939\tbest: 14.2345280 (586)\ttotal: 2m 24s\tremaining: 1m 41s\n",
            "588:\tlearn: 11.7630794\ttest: 14.2350063\tbest: 14.2345280 (586)\ttotal: 2m 25s\tremaining: 1m 41s\n",
            "589:\tlearn: 11.7598162\ttest: 14.2342206\tbest: 14.2342206 (589)\ttotal: 2m 25s\tremaining: 1m 41s\n",
            "590:\tlearn: 11.7565735\ttest: 14.2335831\tbest: 14.2335831 (590)\ttotal: 2m 25s\tremaining: 1m 40s\n",
            "591:\tlearn: 11.7530780\ttest: 14.2342888\tbest: 14.2335831 (590)\ttotal: 2m 25s\tremaining: 1m 40s\n",
            "592:\tlearn: 11.7500344\ttest: 14.2320495\tbest: 14.2320495 (592)\ttotal: 2m 26s\tremaining: 1m 40s\n",
            "593:\tlearn: 11.7466778\ttest: 14.2311685\tbest: 14.2311685 (593)\ttotal: 2m 26s\tremaining: 1m 39s\n",
            "594:\tlearn: 11.7431268\ttest: 14.2320242\tbest: 14.2311685 (593)\ttotal: 2m 26s\tremaining: 1m 39s\n",
            "595:\tlearn: 11.7402466\ttest: 14.2321278\tbest: 14.2311685 (593)\ttotal: 2m 26s\tremaining: 1m 39s\n",
            "596:\tlearn: 11.7365858\ttest: 14.2325102\tbest: 14.2311685 (593)\ttotal: 2m 26s\tremaining: 1m 39s\n",
            "597:\tlearn: 11.7339630\ttest: 14.2326753\tbest: 14.2311685 (593)\ttotal: 2m 27s\tremaining: 1m 38s\n",
            "598:\tlearn: 11.7305977\ttest: 14.2325186\tbest: 14.2311685 (593)\ttotal: 2m 27s\tremaining: 1m 38s\n",
            "599:\tlearn: 11.7275738\ttest: 14.2316300\tbest: 14.2311685 (593)\ttotal: 2m 27s\tremaining: 1m 38s\n",
            "600:\tlearn: 11.7252511\ttest: 14.2316233\tbest: 14.2311685 (593)\ttotal: 2m 28s\tremaining: 1m 38s\n",
            "601:\tlearn: 11.7213965\ttest: 14.2301543\tbest: 14.2301543 (601)\ttotal: 2m 28s\tremaining: 1m 38s\n",
            "602:\tlearn: 11.7186450\ttest: 14.2311887\tbest: 14.2301543 (601)\ttotal: 2m 28s\tremaining: 1m 37s\n",
            "603:\tlearn: 11.7157736\ttest: 14.2310143\tbest: 14.2301543 (601)\ttotal: 2m 28s\tremaining: 1m 37s\n",
            "604:\tlearn: 11.7123119\ttest: 14.2305426\tbest: 14.2301543 (601)\ttotal: 2m 29s\tremaining: 1m 37s\n",
            "605:\tlearn: 11.7077220\ttest: 14.2303944\tbest: 14.2301543 (601)\ttotal: 2m 29s\tremaining: 1m 37s\n",
            "606:\tlearn: 11.7026954\ttest: 14.2291493\tbest: 14.2291493 (606)\ttotal: 2m 29s\tremaining: 1m 36s\n",
            "607:\tlearn: 11.6992150\ttest: 14.2298215\tbest: 14.2291493 (606)\ttotal: 2m 29s\tremaining: 1m 36s\n",
            "608:\tlearn: 11.6969727\ttest: 14.2301669\tbest: 14.2291493 (606)\ttotal: 2m 30s\tremaining: 1m 36s\n",
            "609:\tlearn: 11.6926505\ttest: 14.2305620\tbest: 14.2291493 (606)\ttotal: 2m 30s\tremaining: 1m 36s\n",
            "610:\tlearn: 11.6891948\ttest: 14.2309503\tbest: 14.2291493 (606)\ttotal: 2m 30s\tremaining: 1m 35s\n",
            "611:\tlearn: 11.6862931\ttest: 14.2308846\tbest: 14.2291493 (606)\ttotal: 2m 30s\tremaining: 1m 35s\n",
            "612:\tlearn: 11.6819228\ttest: 14.2312198\tbest: 14.2291493 (606)\ttotal: 2m 31s\tremaining: 1m 35s\n",
            "613:\tlearn: 11.6786159\ttest: 14.2309714\tbest: 14.2291493 (606)\ttotal: 2m 31s\tremaining: 1m 35s\n",
            "614:\tlearn: 11.6754595\ttest: 14.2315188\tbest: 14.2291493 (606)\ttotal: 2m 31s\tremaining: 1m 34s\n",
            "615:\tlearn: 11.6715232\ttest: 14.2316208\tbest: 14.2291493 (606)\ttotal: 2m 31s\tremaining: 1m 34s\n",
            "616:\tlearn: 11.6683099\ttest: 14.2306100\tbest: 14.2291493 (606)\ttotal: 2m 31s\tremaining: 1m 34s\n",
            "617:\tlearn: 11.6648660\ttest: 14.2312165\tbest: 14.2291493 (606)\ttotal: 2m 32s\tremaining: 1m 34s\n",
            "618:\tlearn: 11.6628824\ttest: 14.2308416\tbest: 14.2291493 (606)\ttotal: 2m 32s\tremaining: 1m 33s\n",
            "619:\tlearn: 11.6604065\ttest: 14.2303329\tbest: 14.2291493 (606)\ttotal: 2m 32s\tremaining: 1m 33s\n",
            "620:\tlearn: 11.6570986\ttest: 14.2293970\tbest: 14.2291493 (606)\ttotal: 2m 32s\tremaining: 1m 33s\n",
            "621:\tlearn: 11.6533978\ttest: 14.2298628\tbest: 14.2291493 (606)\ttotal: 2m 33s\tremaining: 1m 33s\n",
            "622:\tlearn: 11.6483565\ttest: 14.2312897\tbest: 14.2291493 (606)\ttotal: 2m 33s\tremaining: 1m 32s\n",
            "623:\tlearn: 11.6444296\ttest: 14.2300894\tbest: 14.2291493 (606)\ttotal: 2m 33s\tremaining: 1m 32s\n",
            "624:\tlearn: 11.6408618\ttest: 14.2291375\tbest: 14.2291375 (624)\ttotal: 2m 33s\tremaining: 1m 32s\n",
            "625:\tlearn: 11.6390733\ttest: 14.2294703\tbest: 14.2291375 (624)\ttotal: 2m 34s\tremaining: 1m 32s\n",
            "626:\tlearn: 11.6335770\ttest: 14.2310084\tbest: 14.2291375 (624)\ttotal: 2m 34s\tremaining: 1m 31s\n",
            "627:\tlearn: 11.6289080\ttest: 14.2309781\tbest: 14.2291375 (624)\ttotal: 2m 34s\tremaining: 1m 31s\n",
            "628:\tlearn: 11.6259640\ttest: 14.2312005\tbest: 14.2291375 (624)\ttotal: 2m 34s\tremaining: 1m 31s\n",
            "629:\tlearn: 11.6218675\ttest: 14.2318305\tbest: 14.2291375 (624)\ttotal: 2m 34s\tremaining: 1m 31s\n",
            "630:\tlearn: 11.6190893\ttest: 14.2324563\tbest: 14.2291375 (624)\ttotal: 2m 35s\tremaining: 1m 30s\n",
            "631:\tlearn: 11.6158203\ttest: 14.2328016\tbest: 14.2291375 (624)\ttotal: 2m 35s\tremaining: 1m 30s\n",
            "632:\tlearn: 11.6097580\ttest: 14.2321514\tbest: 14.2291375 (624)\ttotal: 2m 35s\tremaining: 1m 30s\n",
            "633:\tlearn: 11.6057973\ttest: 14.2325649\tbest: 14.2291375 (624)\ttotal: 2m 35s\tremaining: 1m 29s\n",
            "634:\tlearn: 11.5979066\ttest: 14.2309680\tbest: 14.2291375 (624)\ttotal: 2m 36s\tremaining: 1m 29s\n",
            "635:\tlearn: 11.5932563\ttest: 14.2307566\tbest: 14.2291375 (624)\ttotal: 2m 36s\tremaining: 1m 29s\n",
            "636:\tlearn: 11.5880336\ttest: 14.2310303\tbest: 14.2291375 (624)\ttotal: 2m 36s\tremaining: 1m 29s\n",
            "637:\tlearn: 11.5833008\ttest: 14.2295495\tbest: 14.2291375 (624)\ttotal: 2m 36s\tremaining: 1m 29s\n",
            "638:\tlearn: 11.5793290\ttest: 14.2292445\tbest: 14.2291375 (624)\ttotal: 2m 37s\tremaining: 1m 28s\n",
            "639:\tlearn: 11.5739778\ttest: 14.2297087\tbest: 14.2291375 (624)\ttotal: 2m 37s\tremaining: 1m 28s\n",
            "640:\tlearn: 11.5702691\ttest: 14.2292066\tbest: 14.2291375 (624)\ttotal: 2m 37s\tremaining: 1m 28s\n",
            "641:\tlearn: 11.5664950\ttest: 14.2282875\tbest: 14.2282875 (641)\ttotal: 2m 37s\tremaining: 1m 28s\n",
            "642:\tlearn: 11.5626237\ttest: 14.2270616\tbest: 14.2270616 (642)\ttotal: 2m 38s\tremaining: 1m 27s\n",
            "643:\tlearn: 11.5611436\ttest: 14.2267735\tbest: 14.2267735 (643)\ttotal: 2m 38s\tremaining: 1m 27s\n",
            "644:\tlearn: 11.5599557\ttest: 14.2268198\tbest: 14.2267735 (643)\ttotal: 2m 38s\tremaining: 1m 27s\n",
            "645:\tlearn: 11.5559977\ttest: 14.2255087\tbest: 14.2255087 (645)\ttotal: 2m 38s\tremaining: 1m 26s\n",
            "646:\tlearn: 11.5530299\ttest: 14.2255500\tbest: 14.2255087 (645)\ttotal: 2m 38s\tremaining: 1m 26s\n",
            "647:\tlearn: 11.5484897\ttest: 14.2259899\tbest: 14.2255087 (645)\ttotal: 2m 39s\tremaining: 1m 26s\n",
            "648:\tlearn: 11.5433154\ttest: 14.2239456\tbest: 14.2239456 (648)\ttotal: 2m 39s\tremaining: 1m 26s\n",
            "649:\tlearn: 11.5408486\ttest: 14.2248093\tbest: 14.2239456 (648)\ttotal: 2m 39s\tremaining: 1m 25s\n",
            "650:\tlearn: 11.5370674\ttest: 14.2259570\tbest: 14.2239456 (648)\ttotal: 2m 39s\tremaining: 1m 25s\n",
            "651:\tlearn: 11.5324867\ttest: 14.2255542\tbest: 14.2239456 (648)\ttotal: 2m 40s\tremaining: 1m 25s\n",
            "652:\tlearn: 11.5298799\ttest: 14.2256478\tbest: 14.2239456 (648)\ttotal: 2m 40s\tremaining: 1m 25s\n",
            "653:\tlearn: 11.5248537\ttest: 14.2255281\tbest: 14.2239456 (648)\ttotal: 2m 40s\tremaining: 1m 25s\n",
            "654:\tlearn: 11.5198196\ttest: 14.2235874\tbest: 14.2235874 (654)\ttotal: 2m 41s\tremaining: 1m 24s\n",
            "655:\tlearn: 11.5164266\ttest: 14.2243905\tbest: 14.2235874 (654)\ttotal: 2m 41s\tremaining: 1m 24s\n",
            "656:\tlearn: 11.5118220\ttest: 14.2232907\tbest: 14.2232907 (656)\ttotal: 2m 41s\tremaining: 1m 24s\n",
            "657:\tlearn: 11.5091308\ttest: 14.2227016\tbest: 14.2227016 (657)\ttotal: 2m 41s\tremaining: 1m 24s\n",
            "658:\tlearn: 11.5048208\ttest: 14.2226738\tbest: 14.2226738 (658)\ttotal: 2m 42s\tremaining: 1m 23s\n",
            "659:\tlearn: 11.5028054\ttest: 14.2228053\tbest: 14.2226738 (658)\ttotal: 2m 42s\tremaining: 1m 23s\n",
            "660:\tlearn: 11.4978868\ttest: 14.2246248\tbest: 14.2226738 (658)\ttotal: 2m 42s\tremaining: 1m 23s\n",
            "661:\tlearn: 11.4938615\ttest: 14.2260733\tbest: 14.2226738 (658)\ttotal: 2m 43s\tremaining: 1m 23s\n",
            "662:\tlearn: 11.4896606\ttest: 14.2236380\tbest: 14.2226738 (658)\ttotal: 2m 43s\tremaining: 1m 23s\n",
            "663:\tlearn: 11.4870012\ttest: 14.2231837\tbest: 14.2226738 (658)\ttotal: 2m 43s\tremaining: 1m 22s\n",
            "664:\tlearn: 11.4852483\ttest: 14.2229418\tbest: 14.2226738 (658)\ttotal: 2m 43s\tremaining: 1m 22s\n",
            "665:\tlearn: 11.4802073\ttest: 14.2225912\tbest: 14.2225912 (665)\ttotal: 2m 44s\tremaining: 1m 22s\n",
            "666:\tlearn: 11.4762129\ttest: 14.2218714\tbest: 14.2218714 (666)\ttotal: 2m 44s\tremaining: 1m 22s\n",
            "667:\tlearn: 11.4743701\ttest: 14.2208768\tbest: 14.2208768 (667)\ttotal: 2m 44s\tremaining: 1m 21s\n",
            "668:\tlearn: 11.4697915\ttest: 14.2211365\tbest: 14.2208768 (667)\ttotal: 2m 44s\tremaining: 1m 21s\n",
            "669:\tlearn: 11.4657866\ttest: 14.2197144\tbest: 14.2197144 (669)\ttotal: 2m 44s\tremaining: 1m 21s\n",
            "670:\tlearn: 11.4636844\ttest: 14.2196166\tbest: 14.2196166 (670)\ttotal: 2m 45s\tremaining: 1m 20s\n",
            "671:\tlearn: 11.4619483\ttest: 14.2194902\tbest: 14.2194902 (671)\ttotal: 2m 45s\tremaining: 1m 20s\n",
            "672:\tlearn: 11.4566564\ttest: 14.2177232\tbest: 14.2177232 (672)\ttotal: 2m 45s\tremaining: 1m 20s\n",
            "673:\tlearn: 11.4548209\ttest: 14.2173631\tbest: 14.2173631 (673)\ttotal: 2m 45s\tremaining: 1m 20s\n",
            "674:\tlearn: 11.4527359\ttest: 14.2165950\tbest: 14.2165950 (674)\ttotal: 2m 46s\tremaining: 1m 19s\n",
            "675:\tlearn: 11.4486257\ttest: 14.2170377\tbest: 14.2165950 (674)\ttotal: 2m 46s\tremaining: 1m 19s\n",
            "676:\tlearn: 11.4459468\ttest: 14.2174871\tbest: 14.2165950 (674)\ttotal: 2m 46s\tremaining: 1m 19s\n",
            "677:\tlearn: 11.4420070\ttest: 14.2158556\tbest: 14.2158556 (677)\ttotal: 2m 46s\tremaining: 1m 19s\n",
            "678:\tlearn: 11.4384389\ttest: 14.2167519\tbest: 14.2158556 (677)\ttotal: 2m 46s\tremaining: 1m 18s\n",
            "679:\tlearn: 11.4341395\ttest: 14.2168530\tbest: 14.2158556 (677)\ttotal: 2m 47s\tremaining: 1m 18s\n",
            "680:\tlearn: 11.4301269\ttest: 14.2171178\tbest: 14.2158556 (677)\ttotal: 2m 47s\tremaining: 1m 18s\n",
            "681:\tlearn: 11.4275633\ttest: 14.2160385\tbest: 14.2158556 (677)\ttotal: 2m 47s\tremaining: 1m 18s\n",
            "682:\tlearn: 11.4241954\ttest: 14.2157974\tbest: 14.2157974 (682)\ttotal: 2m 47s\tremaining: 1m 17s\n",
            "683:\tlearn: 11.4216850\ttest: 14.2155680\tbest: 14.2155680 (683)\ttotal: 2m 48s\tremaining: 1m 17s\n",
            "684:\tlearn: 11.4191694\ttest: 14.2156195\tbest: 14.2155680 (683)\ttotal: 2m 48s\tremaining: 1m 17s\n",
            "685:\tlearn: 11.4166674\ttest: 14.2156911\tbest: 14.2155680 (683)\ttotal: 2m 48s\tremaining: 1m 17s\n",
            "686:\tlearn: 11.4152172\ttest: 14.2152560\tbest: 14.2152560 (686)\ttotal: 2m 48s\tremaining: 1m 16s\n",
            "687:\tlearn: 11.4127553\ttest: 14.2152181\tbest: 14.2152181 (687)\ttotal: 2m 49s\tremaining: 1m 16s\n",
            "688:\tlearn: 11.4095243\ttest: 14.2157712\tbest: 14.2152181 (687)\ttotal: 2m 49s\tremaining: 1m 16s\n",
            "689:\tlearn: 11.4082345\ttest: 14.2158834\tbest: 14.2152181 (687)\ttotal: 2m 49s\tremaining: 1m 16s\n",
            "690:\tlearn: 11.4035489\ttest: 14.2159669\tbest: 14.2152181 (687)\ttotal: 2m 49s\tremaining: 1m 15s\n",
            "691:\tlearn: 11.3991790\ttest: 14.2140113\tbest: 14.2140113 (691)\ttotal: 2m 49s\tremaining: 1m 15s\n",
            "692:\tlearn: 11.3964707\ttest: 14.2138030\tbest: 14.2138030 (692)\ttotal: 2m 50s\tremaining: 1m 15s\n",
            "693:\tlearn: 11.3931887\ttest: 14.2138267\tbest: 14.2138030 (692)\ttotal: 2m 50s\tremaining: 1m 15s\n",
            "694:\tlearn: 11.3903779\ttest: 14.2149162\tbest: 14.2138030 (692)\ttotal: 2m 50s\tremaining: 1m 14s\n",
            "695:\tlearn: 11.3882649\ttest: 14.2154711\tbest: 14.2138030 (692)\ttotal: 2m 50s\tremaining: 1m 14s\n",
            "696:\tlearn: 11.3830330\ttest: 14.2156178\tbest: 14.2138030 (692)\ttotal: 2m 51s\tremaining: 1m 14s\n",
            "697:\tlearn: 11.3778302\ttest: 14.2142433\tbest: 14.2138030 (692)\ttotal: 2m 51s\tremaining: 1m 14s\n",
            "698:\tlearn: 11.3735058\ttest: 14.2155056\tbest: 14.2138030 (692)\ttotal: 2m 51s\tremaining: 1m 13s\n",
            "699:\tlearn: 11.3706406\ttest: 14.2155225\tbest: 14.2138030 (692)\ttotal: 2m 51s\tremaining: 1m 13s\n",
            "700:\tlearn: 11.3638857\ttest: 14.2138165\tbest: 14.2138030 (692)\ttotal: 2m 51s\tremaining: 1m 13s\n",
            "701:\tlearn: 11.3611537\ttest: 14.2133350\tbest: 14.2133350 (701)\ttotal: 2m 52s\tremaining: 1m 13s\n",
            "702:\tlearn: 11.3567717\ttest: 14.2132119\tbest: 14.2132119 (702)\ttotal: 2m 52s\tremaining: 1m 12s\n",
            "703:\tlearn: 11.3553418\ttest: 14.2136259\tbest: 14.2132119 (702)\ttotal: 2m 52s\tremaining: 1m 12s\n",
            "704:\tlearn: 11.3539234\ttest: 14.2130078\tbest: 14.2130078 (704)\ttotal: 2m 52s\tremaining: 1m 12s\n",
            "705:\tlearn: 11.3522793\ttest: 14.2134666\tbest: 14.2130078 (704)\ttotal: 2m 53s\tremaining: 1m 12s\n",
            "706:\tlearn: 11.3487923\ttest: 14.2121998\tbest: 14.2121998 (706)\ttotal: 2m 53s\tremaining: 1m 11s\n",
            "707:\tlearn: 11.3483275\ttest: 14.2122285\tbest: 14.2121998 (706)\ttotal: 2m 53s\tremaining: 1m 11s\n",
            "708:\tlearn: 11.3434154\ttest: 14.2120184\tbest: 14.2120184 (708)\ttotal: 2m 53s\tremaining: 1m 11s\n",
            "709:\tlearn: 11.3409035\ttest: 14.2119923\tbest: 14.2119923 (709)\ttotal: 2m 53s\tremaining: 1m 11s\n",
            "710:\tlearn: 11.3382896\ttest: 14.2123347\tbest: 14.2119923 (709)\ttotal: 2m 54s\tremaining: 1m 10s\n",
            "711:\tlearn: 11.3347571\ttest: 14.2129816\tbest: 14.2119923 (709)\ttotal: 2m 54s\tremaining: 1m 10s\n",
            "712:\tlearn: 11.3317218\ttest: 14.2127800\tbest: 14.2119923 (709)\ttotal: 2m 54s\tremaining: 1m 10s\n",
            "713:\tlearn: 11.3283100\ttest: 14.2123769\tbest: 14.2119923 (709)\ttotal: 2m 54s\tremaining: 1m 10s\n",
            "714:\tlearn: 11.3264574\ttest: 14.2114171\tbest: 14.2114171 (714)\ttotal: 2m 55s\tremaining: 1m 9s\n",
            "715:\tlearn: 11.3224845\ttest: 14.2099401\tbest: 14.2099401 (715)\ttotal: 2m 55s\tremaining: 1m 9s\n",
            "716:\tlearn: 11.3210323\ttest: 14.2093150\tbest: 14.2093150 (716)\ttotal: 2m 55s\tremaining: 1m 9s\n",
            "717:\tlearn: 11.3187082\ttest: 14.2093133\tbest: 14.2093133 (717)\ttotal: 2m 55s\tremaining: 1m 9s\n",
            "718:\tlearn: 11.3166279\ttest: 14.2097258\tbest: 14.2093133 (717)\ttotal: 2m 56s\tremaining: 1m 8s\n",
            "719:\tlearn: 11.3144015\ttest: 14.2097798\tbest: 14.2093133 (717)\ttotal: 2m 56s\tremaining: 1m 8s\n",
            "720:\tlearn: 11.3132179\ttest: 14.2096583\tbest: 14.2093133 (717)\ttotal: 2m 56s\tremaining: 1m 8s\n",
            "721:\tlearn: 11.3089827\ttest: 14.2089050\tbest: 14.2089050 (721)\ttotal: 2m 56s\tremaining: 1m 8s\n",
            "722:\tlearn: 11.3069923\ttest: 14.2088476\tbest: 14.2088476 (722)\ttotal: 2m 57s\tremaining: 1m 7s\n",
            "723:\tlearn: 11.3039840\ttest: 14.2093681\tbest: 14.2088476 (722)\ttotal: 2m 57s\tremaining: 1m 7s\n",
            "724:\tlearn: 11.2986107\ttest: 14.2095259\tbest: 14.2088476 (722)\ttotal: 2m 57s\tremaining: 1m 7s\n",
            "725:\tlearn: 11.2930968\ttest: 14.2099949\tbest: 14.2088476 (722)\ttotal: 2m 58s\tremaining: 1m 7s\n",
            "726:\tlearn: 11.2912580\ttest: 14.2103660\tbest: 14.2088476 (722)\ttotal: 2m 58s\tremaining: 1m 6s\n",
            "727:\tlearn: 11.2857979\ttest: 14.2093242\tbest: 14.2088476 (722)\ttotal: 2m 58s\tremaining: 1m 6s\n",
            "728:\tlearn: 11.2823674\ttest: 14.2094027\tbest: 14.2088476 (722)\ttotal: 2m 58s\tremaining: 1m 6s\n",
            "729:\tlearn: 11.2782509\ttest: 14.2097747\tbest: 14.2088476 (722)\ttotal: 2m 58s\tremaining: 1m 6s\n",
            "730:\tlearn: 11.2742030\ttest: 14.2091716\tbest: 14.2088476 (722)\ttotal: 2m 59s\tremaining: 1m 5s\n",
            "731:\tlearn: 11.2720613\ttest: 14.2092365\tbest: 14.2088476 (722)\ttotal: 2m 59s\tremaining: 1m 5s\n",
            "732:\tlearn: 11.2703669\ttest: 14.2084772\tbest: 14.2084772 (732)\ttotal: 2m 59s\tremaining: 1m 5s\n",
            "733:\tlearn: 11.2669850\ttest: 14.2079238\tbest: 14.2079238 (733)\ttotal: 2m 59s\tremaining: 1m 5s\n",
            "734:\tlearn: 11.2621555\ttest: 14.2079500\tbest: 14.2079238 (733)\ttotal: 3m\tremaining: 1m 4s\n",
            "735:\tlearn: 11.2601243\ttest: 14.2076209\tbest: 14.2076209 (735)\ttotal: 3m\tremaining: 1m 4s\n",
            "736:\tlearn: 11.2569139\ttest: 14.2075644\tbest: 14.2075644 (736)\ttotal: 3m\tremaining: 1m 4s\n",
            "737:\tlearn: 11.2545660\ttest: 14.2074960\tbest: 14.2074960 (737)\ttotal: 3m\tremaining: 1m 4s\n",
            "738:\tlearn: 11.2530539\ttest: 14.2074395\tbest: 14.2074395 (738)\ttotal: 3m\tremaining: 1m 3s\n",
            "739:\tlearn: 11.2496113\ttest: 14.2066447\tbest: 14.2066447 (739)\ttotal: 3m 1s\tremaining: 1m 3s\n",
            "740:\tlearn: 11.2464049\ttest: 14.2060583\tbest: 14.2060583 (740)\ttotal: 3m 1s\tremaining: 1m 3s\n",
            "741:\tlearn: 11.2429986\ttest: 14.2067038\tbest: 14.2060583 (740)\ttotal: 3m 1s\tremaining: 1m 3s\n",
            "742:\tlearn: 11.2394575\ttest: 14.2057537\tbest: 14.2057537 (742)\ttotal: 3m 1s\tremaining: 1m 2s\n",
            "743:\tlearn: 11.2362439\ttest: 14.2055065\tbest: 14.2055065 (743)\ttotal: 3m 2s\tremaining: 1m 2s\n",
            "744:\tlearn: 11.2334520\ttest: 14.2062144\tbest: 14.2055065 (743)\ttotal: 3m 2s\tremaining: 1m 2s\n",
            "745:\tlearn: 11.2299948\ttest: 14.2059241\tbest: 14.2055065 (743)\ttotal: 3m 2s\tremaining: 1m 2s\n",
            "746:\tlearn: 11.2279370\ttest: 14.2043208\tbest: 14.2043208 (746)\ttotal: 3m 2s\tremaining: 1m 1s\n",
            "747:\tlearn: 11.2247767\ttest: 14.2035056\tbest: 14.2035056 (747)\ttotal: 3m 2s\tremaining: 1m 1s\n",
            "748:\tlearn: 11.2219643\ttest: 14.2037141\tbest: 14.2035056 (747)\ttotal: 3m 3s\tremaining: 1m 1s\n",
            "749:\tlearn: 11.2174104\ttest: 14.2026329\tbest: 14.2026329 (749)\ttotal: 3m 3s\tremaining: 1m 1s\n",
            "750:\tlearn: 11.2135982\ttest: 14.2038010\tbest: 14.2026329 (749)\ttotal: 3m 3s\tremaining: 1m\n",
            "751:\tlearn: 11.2091153\ttest: 14.2016522\tbest: 14.2016522 (751)\ttotal: 3m 3s\tremaining: 1m\n",
            "752:\tlearn: 11.2062679\ttest: 14.2022557\tbest: 14.2016522 (751)\ttotal: 3m 4s\tremaining: 1m\n",
            "753:\tlearn: 11.2034755\ttest: 14.2015568\tbest: 14.2015568 (753)\ttotal: 3m 4s\tremaining: 1m\n",
            "754:\tlearn: 11.1990543\ttest: 14.1996196\tbest: 14.1996196 (754)\ttotal: 3m 4s\tremaining: 59.9s\n",
            "755:\tlearn: 11.1948937\ttest: 14.1988868\tbest: 14.1988868 (755)\ttotal: 3m 4s\tremaining: 59.7s\n",
            "756:\tlearn: 11.1920920\ttest: 14.1991932\tbest: 14.1988868 (755)\ttotal: 3m 5s\tremaining: 59.4s\n",
            "757:\tlearn: 11.1881142\ttest: 14.1977648\tbest: 14.1977648 (757)\ttotal: 3m 5s\tremaining: 59.2s\n",
            "758:\tlearn: 11.1835701\ttest: 14.1971923\tbest: 14.1971923 (758)\ttotal: 3m 5s\tremaining: 58.9s\n",
            "759:\tlearn: 11.1813649\ttest: 14.1973274\tbest: 14.1971923 (758)\ttotal: 3m 5s\tremaining: 58.7s\n",
            "760:\tlearn: 11.1789711\ttest: 14.1966621\tbest: 14.1966621 (760)\ttotal: 3m 6s\tremaining: 58.4s\n",
            "761:\tlearn: 11.1760399\ttest: 14.1967609\tbest: 14.1966621 (760)\ttotal: 3m 6s\tremaining: 58.2s\n",
            "762:\tlearn: 11.1721428\ttest: 14.1966114\tbest: 14.1966114 (762)\ttotal: 3m 6s\tremaining: 57.9s\n",
            "763:\tlearn: 11.1696648\ttest: 14.1975242\tbest: 14.1966114 (762)\ttotal: 3m 6s\tremaining: 57.7s\n",
            "764:\tlearn: 11.1680532\ttest: 14.1979894\tbest: 14.1966114 (762)\ttotal: 3m 6s\tremaining: 57.4s\n",
            "765:\tlearn: 11.1625129\ttest: 14.1990219\tbest: 14.1966114 (762)\ttotal: 3m 7s\tremaining: 57.2s\n",
            "766:\tlearn: 11.1597982\ttest: 14.1981776\tbest: 14.1966114 (762)\ttotal: 3m 7s\tremaining: 56.9s\n",
            "767:\tlearn: 11.1577237\ttest: 14.1991949\tbest: 14.1966114 (762)\ttotal: 3m 7s\tremaining: 56.7s\n",
            "768:\tlearn: 11.1555418\ttest: 14.1989830\tbest: 14.1966114 (762)\ttotal: 3m 7s\tremaining: 56.4s\n",
            "769:\tlearn: 11.1533886\ttest: 14.1992726\tbest: 14.1966114 (762)\ttotal: 3m 8s\tremaining: 56.2s\n",
            "770:\tlearn: 11.1508232\ttest: 14.1993629\tbest: 14.1966114 (762)\ttotal: 3m 8s\tremaining: 56s\n",
            "771:\tlearn: 11.1483223\ttest: 14.1991460\tbest: 14.1966114 (762)\ttotal: 3m 8s\tremaining: 55.7s\n",
            "772:\tlearn: 11.1456164\ttest: 14.1990168\tbest: 14.1966114 (762)\ttotal: 3m 8s\tremaining: 55.5s\n",
            "773:\tlearn: 11.1450221\ttest: 14.1988218\tbest: 14.1966114 (762)\ttotal: 3m 9s\tremaining: 55.2s\n",
            "774:\tlearn: 11.1408182\ttest: 14.1975419\tbest: 14.1966114 (762)\ttotal: 3m 9s\tremaining: 55s\n",
            "775:\tlearn: 11.1385782\ttest: 14.1970995\tbest: 14.1966114 (762)\ttotal: 3m 9s\tremaining: 54.8s\n",
            "776:\tlearn: 11.1357343\ttest: 14.1970944\tbest: 14.1966114 (762)\ttotal: 3m 10s\tremaining: 54.5s\n",
            "777:\tlearn: 11.1319733\ttest: 14.1964552\tbest: 14.1964552 (777)\ttotal: 3m 10s\tremaining: 54.3s\n",
            "778:\tlearn: 11.1283942\ttest: 14.1968901\tbest: 14.1964552 (777)\ttotal: 3m 10s\tremaining: 54.1s\n",
            "779:\tlearn: 11.1247277\ttest: 14.1970961\tbest: 14.1964552 (777)\ttotal: 3m 10s\tremaining: 53.8s\n",
            "780:\tlearn: 11.1198375\ttest: 14.1972514\tbest: 14.1964552 (777)\ttotal: 3m 11s\tremaining: 53.6s\n",
            "781:\tlearn: 11.1182133\ttest: 14.1973055\tbest: 14.1964552 (777)\ttotal: 3m 11s\tremaining: 53.3s\n",
            "782:\tlearn: 11.1125289\ttest: 14.1958186\tbest: 14.1958186 (782)\ttotal: 3m 11s\tremaining: 53.1s\n",
            "783:\tlearn: 11.1098214\ttest: 14.1954361\tbest: 14.1954361 (783)\ttotal: 3m 11s\tremaining: 52.8s\n",
            "784:\tlearn: 11.1077375\ttest: 14.1957443\tbest: 14.1954361 (783)\ttotal: 3m 12s\tremaining: 52.6s\n",
            "785:\tlearn: 11.1039168\ttest: 14.1952545\tbest: 14.1952545 (785)\ttotal: 3m 12s\tremaining: 52.4s\n",
            "786:\tlearn: 11.0995505\ttest: 14.1944455\tbest: 14.1944455 (786)\ttotal: 3m 12s\tremaining: 52.1s\n",
            "787:\tlearn: 11.0959139\ttest: 14.1941271\tbest: 14.1941271 (787)\ttotal: 3m 12s\tremaining: 51.9s\n",
            "788:\tlearn: 11.0936902\ttest: 14.1920064\tbest: 14.1920064 (788)\ttotal: 3m 12s\tremaining: 51.6s\n",
            "789:\tlearn: 11.0899695\ttest: 14.1917944\tbest: 14.1917944 (789)\ttotal: 3m 13s\tremaining: 51.4s\n",
            "790:\tlearn: 11.0875954\ttest: 14.1917970\tbest: 14.1917944 (789)\ttotal: 3m 13s\tremaining: 51.1s\n",
            "791:\tlearn: 11.0856107\ttest: 14.1908729\tbest: 14.1908729 (791)\ttotal: 3m 13s\tremaining: 50.9s\n",
            "792:\tlearn: 11.0820950\ttest: 14.1908095\tbest: 14.1908095 (792)\ttotal: 3m 13s\tremaining: 50.6s\n",
            "793:\tlearn: 11.0793032\ttest: 14.1914684\tbest: 14.1908095 (792)\ttotal: 3m 14s\tremaining: 50.4s\n",
            "794:\tlearn: 11.0784397\ttest: 14.1913991\tbest: 14.1908095 (792)\ttotal: 3m 14s\tremaining: 50.1s\n",
            "795:\tlearn: 11.0754278\ttest: 14.1913628\tbest: 14.1908095 (792)\ttotal: 3m 14s\tremaining: 49.9s\n",
            "796:\tlearn: 11.0730527\ttest: 14.1906896\tbest: 14.1906896 (796)\ttotal: 3m 14s\tremaining: 49.6s\n",
            "797:\tlearn: 11.0697957\ttest: 14.1893194\tbest: 14.1893194 (797)\ttotal: 3m 15s\tremaining: 49.4s\n",
            "798:\tlearn: 11.0664786\ttest: 14.1893794\tbest: 14.1893194 (797)\ttotal: 3m 15s\tremaining: 49.1s\n",
            "799:\tlearn: 11.0638638\ttest: 14.1900721\tbest: 14.1893194 (797)\ttotal: 3m 15s\tremaining: 48.9s\n",
            "800:\tlearn: 11.0625299\ttest: 14.1895129\tbest: 14.1893194 (797)\ttotal: 3m 15s\tremaining: 48.6s\n",
            "801:\tlearn: 11.0584789\ttest: 14.1891167\tbest: 14.1891167 (801)\ttotal: 3m 15s\tremaining: 48.4s\n",
            "802:\tlearn: 11.0577282\ttest: 14.1889241\tbest: 14.1889241 (802)\ttotal: 3m 16s\tremaining: 48.1s\n",
            "803:\tlearn: 11.0550078\ttest: 14.1893921\tbest: 14.1889241 (802)\ttotal: 3m 16s\tremaining: 47.9s\n",
            "804:\tlearn: 11.0518864\ttest: 14.1882059\tbest: 14.1882059 (804)\ttotal: 3m 16s\tremaining: 47.6s\n",
            "805:\tlearn: 11.0482292\ttest: 14.1885506\tbest: 14.1882059 (804)\ttotal: 3m 16s\tremaining: 47.4s\n",
            "806:\tlearn: 11.0445562\ttest: 14.1884704\tbest: 14.1882059 (804)\ttotal: 3m 17s\tremaining: 47.1s\n",
            "807:\tlearn: 11.0427651\ttest: 14.1884805\tbest: 14.1882059 (804)\ttotal: 3m 17s\tremaining: 46.9s\n",
            "808:\tlearn: 11.0396756\ttest: 14.1894199\tbest: 14.1882059 (804)\ttotal: 3m 17s\tremaining: 46.6s\n",
            "809:\tlearn: 11.0382518\ttest: 14.1888590\tbest: 14.1882059 (804)\ttotal: 3m 17s\tremaining: 46.4s\n",
            "810:\tlearn: 11.0339133\ttest: 14.1891488\tbest: 14.1882059 (804)\ttotal: 3m 17s\tremaining: 46.1s\n",
            "811:\tlearn: 11.0318390\ttest: 14.1889621\tbest: 14.1882059 (804)\ttotal: 3m 18s\tremaining: 45.9s\n",
            "812:\tlearn: 11.0281882\ttest: 14.1901650\tbest: 14.1882059 (804)\ttotal: 3m 18s\tremaining: 45.6s\n",
            "813:\tlearn: 11.0256416\ttest: 14.1903086\tbest: 14.1882059 (804)\ttotal: 3m 18s\tremaining: 45.4s\n",
            "814:\tlearn: 11.0215031\ttest: 14.1891386\tbest: 14.1882059 (804)\ttotal: 3m 18s\tremaining: 45.1s\n",
            "815:\tlearn: 11.0183809\ttest: 14.1891614\tbest: 14.1882059 (804)\ttotal: 3m 19s\tremaining: 44.9s\n",
            "816:\tlearn: 11.0147486\ttest: 14.1888320\tbest: 14.1882059 (804)\ttotal: 3m 19s\tremaining: 44.6s\n",
            "817:\tlearn: 11.0133592\ttest: 14.1883758\tbest: 14.1882059 (804)\ttotal: 3m 19s\tremaining: 44.4s\n",
            "818:\tlearn: 11.0085246\ttest: 14.1885092\tbest: 14.1882059 (804)\ttotal: 3m 19s\tremaining: 44.1s\n",
            "819:\tlearn: 11.0047397\ttest: 14.1888463\tbest: 14.1882059 (804)\ttotal: 3m 19s\tremaining: 43.9s\n",
            "820:\tlearn: 11.0030990\ttest: 14.1895864\tbest: 14.1882059 (804)\ttotal: 3m 20s\tremaining: 43.6s\n",
            "821:\tlearn: 11.0009247\ttest: 14.1893912\tbest: 14.1882059 (804)\ttotal: 3m 20s\tremaining: 43.4s\n",
            "822:\tlearn: 10.9988747\ttest: 14.1900704\tbest: 14.1882059 (804)\ttotal: 3m 20s\tremaining: 43.1s\n",
            "823:\tlearn: 10.9970827\ttest: 14.1900147\tbest: 14.1882059 (804)\ttotal: 3m 20s\tremaining: 42.9s\n",
            "824:\tlearn: 10.9947267\ttest: 14.1899479\tbest: 14.1882059 (804)\ttotal: 3m 20s\tremaining: 42.6s\n",
            "825:\tlearn: 10.9909463\ttest: 14.1891538\tbest: 14.1882059 (804)\ttotal: 3m 21s\tremaining: 42.4s\n",
            "826:\tlearn: 10.9852633\ttest: 14.1875807\tbest: 14.1875807 (826)\ttotal: 3m 21s\tremaining: 42.1s\n",
            "827:\tlearn: 10.9811538\ttest: 14.1872064\tbest: 14.1872064 (827)\ttotal: 3m 21s\tremaining: 41.9s\n",
            "828:\tlearn: 10.9779923\ttest: 14.1864283\tbest: 14.1864283 (828)\ttotal: 3m 21s\tremaining: 41.7s\n",
            "829:\tlearn: 10.9752221\ttest: 14.1870096\tbest: 14.1864283 (828)\ttotal: 3m 22s\tremaining: 41.4s\n",
            "830:\tlearn: 10.9721704\ttest: 14.1870054\tbest: 14.1864283 (828)\ttotal: 3m 22s\tremaining: 41.2s\n",
            "831:\tlearn: 10.9688648\ttest: 14.1878469\tbest: 14.1864283 (828)\ttotal: 3m 22s\tremaining: 40.9s\n",
            "832:\tlearn: 10.9659485\ttest: 14.1869673\tbest: 14.1864283 (828)\ttotal: 3m 22s\tremaining: 40.7s\n",
            "833:\tlearn: 10.9631736\ttest: 14.1846428\tbest: 14.1846428 (833)\ttotal: 3m 23s\tremaining: 40.5s\n",
            "834:\tlearn: 10.9605018\ttest: 14.1848042\tbest: 14.1846428 (833)\ttotal: 3m 23s\tremaining: 40.2s\n",
            "835:\tlearn: 10.9583776\ttest: 14.1842768\tbest: 14.1842768 (835)\ttotal: 3m 23s\tremaining: 40s\n",
            "836:\tlearn: 10.9565280\ttest: 14.1836675\tbest: 14.1836675 (836)\ttotal: 3m 23s\tremaining: 39.7s\n",
            "837:\tlearn: 10.9550995\ttest: 14.1836650\tbest: 14.1836650 (837)\ttotal: 3m 24s\tremaining: 39.5s\n",
            "838:\tlearn: 10.9543488\ttest: 14.1838348\tbest: 14.1836650 (837)\ttotal: 3m 24s\tremaining: 39.2s\n",
            "839:\tlearn: 10.9508813\ttest: 14.1836007\tbest: 14.1836007 (839)\ttotal: 3m 24s\tremaining: 39s\n",
            "840:\tlearn: 10.9486199\ttest: 14.1833371\tbest: 14.1833371 (840)\ttotal: 3m 25s\tremaining: 38.8s\n",
            "841:\tlearn: 10.9447886\ttest: 14.1840241\tbest: 14.1833371 (840)\ttotal: 3m 25s\tremaining: 38.5s\n",
            "842:\tlearn: 10.9410365\ttest: 14.1832982\tbest: 14.1832982 (842)\ttotal: 3m 25s\tremaining: 38.3s\n",
            "843:\tlearn: 10.9396558\ttest: 14.1842811\tbest: 14.1832982 (842)\ttotal: 3m 25s\tremaining: 38s\n",
            "844:\tlearn: 10.9378990\ttest: 14.1827581\tbest: 14.1827581 (844)\ttotal: 3m 26s\tremaining: 37.8s\n",
            "845:\tlearn: 10.9337959\ttest: 14.1833345\tbest: 14.1827581 (844)\ttotal: 3m 26s\tremaining: 37.6s\n",
            "846:\tlearn: 10.9308066\ttest: 14.1826745\tbest: 14.1826745 (846)\ttotal: 3m 26s\tremaining: 37.3s\n",
            "847:\tlearn: 10.9280760\ttest: 14.1822045\tbest: 14.1822045 (847)\ttotal: 3m 26s\tremaining: 37.1s\n",
            "848:\tlearn: 10.9237886\ttest: 14.1823203\tbest: 14.1822045 (847)\ttotal: 3m 27s\tremaining: 36.8s\n",
            "849:\tlearn: 10.9210875\ttest: 14.1811902\tbest: 14.1811902 (849)\ttotal: 3m 27s\tremaining: 36.6s\n",
            "850:\tlearn: 10.9166233\ttest: 14.1804709\tbest: 14.1804709 (850)\ttotal: 3m 27s\tremaining: 36.3s\n",
            "851:\tlearn: 10.9148030\ttest: 14.1807139\tbest: 14.1804709 (850)\ttotal: 3m 27s\tremaining: 36.1s\n",
            "852:\tlearn: 10.9126358\ttest: 14.1811619\tbest: 14.1804709 (850)\ttotal: 3m 27s\tremaining: 35.8s\n",
            "853:\tlearn: 10.9101593\ttest: 14.1804172\tbest: 14.1804172 (853)\ttotal: 3m 28s\tremaining: 35.6s\n",
            "854:\tlearn: 10.9072993\ttest: 14.1805639\tbest: 14.1804172 (853)\ttotal: 3m 28s\tremaining: 35.3s\n",
            "855:\tlearn: 10.9044556\ttest: 14.1802727\tbest: 14.1802727 (855)\ttotal: 3m 28s\tremaining: 35.1s\n",
            "856:\tlearn: 10.9016458\ttest: 14.1800077\tbest: 14.1800077 (856)\ttotal: 3m 28s\tremaining: 34.9s\n",
            "857:\tlearn: 10.8981962\ttest: 14.1799383\tbest: 14.1799383 (857)\ttotal: 3m 29s\tremaining: 34.6s\n",
            "858:\tlearn: 10.8960927\ttest: 14.1797321\tbest: 14.1797321 (858)\ttotal: 3m 29s\tremaining: 34.4s\n",
            "859:\tlearn: 10.8924036\ttest: 14.1787645\tbest: 14.1787645 (859)\ttotal: 3m 29s\tremaining: 34.1s\n",
            "860:\tlearn: 10.8914163\ttest: 14.1790224\tbest: 14.1787645 (859)\ttotal: 3m 29s\tremaining: 33.9s\n",
            "861:\tlearn: 10.8876288\ttest: 14.1802203\tbest: 14.1787645 (859)\ttotal: 3m 29s\tremaining: 33.6s\n",
            "862:\tlearn: 10.8847331\ttest: 14.1790215\tbest: 14.1787645 (859)\ttotal: 3m 30s\tremaining: 33.4s\n",
            "863:\tlearn: 10.8806369\ttest: 14.1769041\tbest: 14.1769041 (863)\ttotal: 3m 30s\tremaining: 33.1s\n",
            "864:\tlearn: 10.8790915\ttest: 14.1766952\tbest: 14.1766952 (864)\ttotal: 3m 30s\tremaining: 32.9s\n",
            "865:\tlearn: 10.8741658\ttest: 14.1780679\tbest: 14.1766952 (864)\ttotal: 3m 30s\tremaining: 32.6s\n",
            "866:\tlearn: 10.8718758\ttest: 14.1772888\tbest: 14.1766952 (864)\ttotal: 3m 31s\tremaining: 32.4s\n",
            "867:\tlearn: 10.8684934\ttest: 14.1767950\tbest: 14.1766952 (864)\ttotal: 3m 31s\tremaining: 32.1s\n",
            "868:\tlearn: 10.8670445\ttest: 14.1769747\tbest: 14.1766952 (864)\ttotal: 3m 31s\tremaining: 31.9s\n",
            "869:\tlearn: 10.8631618\ttest: 14.1760179\tbest: 14.1760179 (869)\ttotal: 3m 31s\tremaining: 31.6s\n",
            "870:\tlearn: 10.8585965\ttest: 14.1760796\tbest: 14.1760179 (869)\ttotal: 3m 31s\tremaining: 31.4s\n",
            "871:\tlearn: 10.8562386\ttest: 14.1766157\tbest: 14.1760179 (869)\ttotal: 3m 32s\tremaining: 31.1s\n",
            "872:\tlearn: 10.8534086\ttest: 14.1762906\tbest: 14.1760179 (869)\ttotal: 3m 32s\tremaining: 30.9s\n",
            "873:\tlearn: 10.8490354\ttest: 14.1761917\tbest: 14.1760179 (869)\ttotal: 3m 32s\tremaining: 30.7s\n",
            "874:\tlearn: 10.8470887\ttest: 14.1760086\tbest: 14.1760086 (874)\ttotal: 3m 32s\tremaining: 30.4s\n",
            "875:\tlearn: 10.8435128\ttest: 14.1759351\tbest: 14.1759351 (875)\ttotal: 3m 33s\tremaining: 30.2s\n",
            "876:\tlearn: 10.8408083\ttest: 14.1756907\tbest: 14.1756907 (876)\ttotal: 3m 33s\tremaining: 29.9s\n",
            "877:\tlearn: 10.8369444\ttest: 14.1747182\tbest: 14.1747182 (877)\ttotal: 3m 33s\tremaining: 29.7s\n",
            "878:\tlearn: 10.8348335\ttest: 14.1750586\tbest: 14.1747182 (877)\ttotal: 3m 33s\tremaining: 29.4s\n",
            "879:\tlearn: 10.8317129\ttest: 14.1752011\tbest: 14.1747182 (877)\ttotal: 3m 33s\tremaining: 29.2s\n",
            "880:\tlearn: 10.8303216\ttest: 14.1746675\tbest: 14.1746675 (880)\ttotal: 3m 34s\tremaining: 28.9s\n",
            "881:\tlearn: 10.8266522\ttest: 14.1729587\tbest: 14.1729587 (881)\ttotal: 3m 34s\tremaining: 28.7s\n",
            "882:\tlearn: 10.8215913\ttest: 14.1720368\tbest: 14.1720368 (882)\ttotal: 3m 34s\tremaining: 28.4s\n",
            "883:\tlearn: 10.8214212\ttest: 14.1719915\tbest: 14.1719915 (883)\ttotal: 3m 34s\tremaining: 28.2s\n",
            "884:\tlearn: 10.8179931\ttest: 14.1702727\tbest: 14.1702727 (884)\ttotal: 3m 35s\tremaining: 28s\n",
            "885:\tlearn: 10.8153620\ttest: 14.1700291\tbest: 14.1700291 (885)\ttotal: 3m 35s\tremaining: 27.7s\n",
            "886:\tlearn: 10.8112933\ttest: 14.1704639\tbest: 14.1700291 (885)\ttotal: 3m 35s\tremaining: 27.5s\n",
            "887:\tlearn: 10.8073257\ttest: 14.1704250\tbest: 14.1700291 (885)\ttotal: 3m 35s\tremaining: 27.2s\n",
            "888:\tlearn: 10.8052661\ttest: 14.1701391\tbest: 14.1700291 (885)\ttotal: 3m 36s\tremaining: 27s\n",
            "889:\tlearn: 10.8006298\ttest: 14.1699365\tbest: 14.1699365 (889)\ttotal: 3m 36s\tremaining: 26.7s\n",
            "890:\tlearn: 10.7972522\ttest: 14.1700190\tbest: 14.1699365 (889)\ttotal: 3m 36s\tremaining: 26.5s\n",
            "891:\tlearn: 10.7943634\ttest: 14.1699259\tbest: 14.1699259 (891)\ttotal: 3m 36s\tremaining: 26.2s\n",
            "892:\tlearn: 10.7919954\ttest: 14.1696400\tbest: 14.1696400 (892)\ttotal: 3m 37s\tremaining: 26s\n",
            "893:\tlearn: 10.7891568\ttest: 14.1690609\tbest: 14.1690609 (893)\ttotal: 3m 37s\tremaining: 25.8s\n",
            "894:\tlearn: 10.7844697\ttest: 14.1684509\tbest: 14.1684509 (894)\ttotal: 3m 37s\tremaining: 25.5s\n",
            "895:\tlearn: 10.7839433\ttest: 14.1685165\tbest: 14.1684509 (894)\ttotal: 3m 37s\tremaining: 25.3s\n",
            "896:\tlearn: 10.7803943\ttest: 14.1694780\tbest: 14.1684509 (894)\ttotal: 3m 38s\tremaining: 25s\n",
            "897:\tlearn: 10.7788902\ttest: 14.1688760\tbest: 14.1684509 (894)\ttotal: 3m 38s\tremaining: 24.8s\n",
            "898:\tlearn: 10.7736316\ttest: 14.1673286\tbest: 14.1673286 (898)\ttotal: 3m 38s\tremaining: 24.6s\n",
            "899:\tlearn: 10.7705990\ttest: 14.1666775\tbest: 14.1666775 (899)\ttotal: 3m 39s\tremaining: 24.3s\n",
            "900:\tlearn: 10.7674597\ttest: 14.1662633\tbest: 14.1662633 (900)\ttotal: 3m 39s\tremaining: 24.1s\n",
            "901:\tlearn: 10.7636670\ttest: 14.1644575\tbest: 14.1644575 (901)\ttotal: 3m 39s\tremaining: 23.9s\n",
            "902:\tlearn: 10.7601569\ttest: 14.1647135\tbest: 14.1644575 (901)\ttotal: 3m 39s\tremaining: 23.6s\n",
            "903:\tlearn: 10.7557458\ttest: 14.1632511\tbest: 14.1632511 (903)\ttotal: 3m 40s\tremaining: 23.4s\n",
            "904:\tlearn: 10.7526697\ttest: 14.1637936\tbest: 14.1632511 (903)\ttotal: 3m 40s\tremaining: 23.1s\n",
            "905:\tlearn: 10.7504692\ttest: 14.1642311\tbest: 14.1632511 (903)\ttotal: 3m 40s\tremaining: 22.9s\n",
            "906:\tlearn: 10.7485309\ttest: 14.1646077\tbest: 14.1632511 (903)\ttotal: 3m 40s\tremaining: 22.6s\n",
            "907:\tlearn: 10.7426092\ttest: 14.1641313\tbest: 14.1632511 (903)\ttotal: 3m 41s\tremaining: 22.4s\n",
            "908:\tlearn: 10.7391883\ttest: 14.1643602\tbest: 14.1632511 (903)\ttotal: 3m 41s\tremaining: 22.2s\n",
            "909:\tlearn: 10.7357400\ttest: 14.1651332\tbest: 14.1632511 (903)\ttotal: 3m 41s\tremaining: 21.9s\n",
            "910:\tlearn: 10.7315205\ttest: 14.1643238\tbest: 14.1632511 (903)\ttotal: 3m 41s\tremaining: 21.7s\n",
            "911:\tlearn: 10.7291592\ttest: 14.1642426\tbest: 14.1632511 (903)\ttotal: 3m 42s\tremaining: 21.4s\n",
            "912:\tlearn: 10.7255373\ttest: 14.1632921\tbest: 14.1632511 (903)\ttotal: 3m 42s\tremaining: 21.2s\n",
            "913:\tlearn: 10.7231793\ttest: 14.1629426\tbest: 14.1629426 (913)\ttotal: 3m 42s\tremaining: 20.9s\n",
            "914:\tlearn: 10.7201167\ttest: 14.1632583\tbest: 14.1629426 (913)\ttotal: 3m 42s\tremaining: 20.7s\n",
            "915:\tlearn: 10.7178341\ttest: 14.1631986\tbest: 14.1629426 (913)\ttotal: 3m 43s\tremaining: 20.5s\n",
            "916:\tlearn: 10.7164571\ttest: 14.1635058\tbest: 14.1629426 (913)\ttotal: 3m 43s\tremaining: 20.2s\n",
            "917:\tlearn: 10.7143348\ttest: 14.1627348\tbest: 14.1627348 (917)\ttotal: 3m 43s\tremaining: 20s\n",
            "918:\tlearn: 10.7117493\ttest: 14.1614115\tbest: 14.1614115 (918)\ttotal: 3m 43s\tremaining: 19.7s\n",
            "919:\tlearn: 10.7100447\ttest: 14.1605713\tbest: 14.1605713 (919)\ttotal: 3m 43s\tremaining: 19.5s\n",
            "920:\tlearn: 10.7076574\ttest: 14.1607203\tbest: 14.1605713 (919)\ttotal: 3m 44s\tremaining: 19.2s\n",
            "921:\tlearn: 10.7052478\ttest: 14.1606606\tbest: 14.1605713 (919)\ttotal: 3m 44s\tremaining: 19s\n",
            "922:\tlearn: 10.7011865\ttest: 14.1602971\tbest: 14.1602971 (922)\ttotal: 3m 44s\tremaining: 18.7s\n",
            "923:\tlearn: 10.6979944\ttest: 14.1594895\tbest: 14.1594895 (923)\ttotal: 3m 44s\tremaining: 18.5s\n",
            "924:\tlearn: 10.6965331\ttest: 14.1596109\tbest: 14.1594895 (923)\ttotal: 3m 45s\tremaining: 18.2s\n",
            "925:\tlearn: 10.6931170\ttest: 14.1589489\tbest: 14.1589489 (925)\ttotal: 3m 45s\tremaining: 18s\n",
            "926:\tlearn: 10.6895956\ttest: 14.1588753\tbest: 14.1588753 (926)\ttotal: 3m 45s\tremaining: 17.8s\n",
            "927:\tlearn: 10.6858448\ttest: 14.1596897\tbest: 14.1588753 (926)\ttotal: 3m 45s\tremaining: 17.5s\n",
            "928:\tlearn: 10.6847829\ttest: 14.1589904\tbest: 14.1588753 (926)\ttotal: 3m 45s\tremaining: 17.3s\n",
            "929:\tlearn: 10.6813541\ttest: 14.1584850\tbest: 14.1584850 (929)\ttotal: 3m 46s\tremaining: 17s\n",
            "930:\tlearn: 10.6774606\ttest: 14.1577353\tbest: 14.1577353 (930)\ttotal: 3m 46s\tremaining: 16.8s\n",
            "931:\tlearn: 10.6750351\ttest: 14.1569317\tbest: 14.1569317 (931)\ttotal: 3m 46s\tremaining: 16.5s\n",
            "932:\tlearn: 10.6728872\ttest: 14.1575922\tbest: 14.1569317 (931)\ttotal: 3m 46s\tremaining: 16.3s\n",
            "933:\tlearn: 10.6708972\ttest: 14.1572107\tbest: 14.1569317 (931)\ttotal: 3m 47s\tremaining: 16s\n",
            "934:\tlearn: 10.6692097\ttest: 14.1578182\tbest: 14.1569317 (931)\ttotal: 3m 47s\tremaining: 15.8s\n",
            "935:\tlearn: 10.6677163\ttest: 14.1575240\tbest: 14.1569317 (931)\ttotal: 3m 47s\tremaining: 15.6s\n",
            "936:\tlearn: 10.6633849\ttest: 14.1557124\tbest: 14.1557124 (936)\ttotal: 3m 47s\tremaining: 15.3s\n",
            "937:\tlearn: 10.6603552\ttest: 14.1557306\tbest: 14.1557124 (936)\ttotal: 3m 47s\tremaining: 15.1s\n",
            "938:\tlearn: 10.6568714\ttest: 14.1562772\tbest: 14.1557124 (936)\ttotal: 3m 48s\tremaining: 14.8s\n",
            "939:\tlearn: 10.6546078\ttest: 14.1565249\tbest: 14.1557124 (936)\ttotal: 3m 48s\tremaining: 14.6s\n",
            "940:\tlearn: 10.6511496\ttest: 14.1556379\tbest: 14.1556379 (940)\ttotal: 3m 48s\tremaining: 14.3s\n",
            "941:\tlearn: 10.6482662\ttest: 14.1554194\tbest: 14.1554194 (941)\ttotal: 3m 48s\tremaining: 14.1s\n",
            "942:\tlearn: 10.6447953\ttest: 14.1552585\tbest: 14.1552585 (942)\ttotal: 3m 49s\tremaining: 13.8s\n",
            "943:\tlearn: 10.6415801\ttest: 14.1548753\tbest: 14.1548753 (943)\ttotal: 3m 49s\tremaining: 13.6s\n",
            "944:\tlearn: 10.6378624\ttest: 14.1547923\tbest: 14.1547923 (944)\ttotal: 3m 49s\tremaining: 13.4s\n",
            "945:\tlearn: 10.6331401\ttest: 14.1545561\tbest: 14.1545561 (945)\ttotal: 3m 49s\tremaining: 13.1s\n",
            "946:\tlearn: 10.6311449\ttest: 14.1531896\tbest: 14.1531896 (946)\ttotal: 3m 50s\tremaining: 12.9s\n",
            "947:\tlearn: 10.6289131\ttest: 14.1522118\tbest: 14.1522118 (947)\ttotal: 3m 50s\tremaining: 12.6s\n",
            "948:\tlearn: 10.6267462\ttest: 14.1517137\tbest: 14.1517137 (948)\ttotal: 3m 50s\tremaining: 12.4s\n",
            "949:\tlearn: 10.6245282\ttest: 14.1511691\tbest: 14.1511691 (949)\ttotal: 3m 50s\tremaining: 12.1s\n",
            "950:\tlearn: 10.6214981\ttest: 14.1513330\tbest: 14.1511691 (949)\ttotal: 3m 50s\tremaining: 11.9s\n",
            "951:\tlearn: 10.6182076\ttest: 14.1509315\tbest: 14.1509315 (951)\ttotal: 3m 51s\tremaining: 11.7s\n",
            "952:\tlearn: 10.6165478\ttest: 14.1501682\tbest: 14.1501682 (952)\ttotal: 3m 51s\tremaining: 11.4s\n",
            "953:\tlearn: 10.6147505\ttest: 14.1504622\tbest: 14.1501682 (952)\ttotal: 3m 51s\tremaining: 11.2s\n",
            "954:\tlearn: 10.6138312\ttest: 14.1499230\tbest: 14.1499230 (954)\ttotal: 3m 51s\tremaining: 10.9s\n",
            "955:\tlearn: 10.6113980\ttest: 14.1503669\tbest: 14.1499230 (954)\ttotal: 3m 52s\tremaining: 10.7s\n",
            "956:\tlearn: 10.6082455\ttest: 14.1502034\tbest: 14.1499230 (954)\ttotal: 3m 52s\tremaining: 10.4s\n",
            "957:\tlearn: 10.6071894\ttest: 14.1501043\tbest: 14.1499230 (954)\ttotal: 3m 52s\tremaining: 10.2s\n",
            "958:\tlearn: 10.6032800\ttest: 14.1493711\tbest: 14.1493711 (958)\ttotal: 3m 52s\tremaining: 9.96s\n",
            "959:\tlearn: 10.5998294\ttest: 14.1481913\tbest: 14.1481913 (959)\ttotal: 3m 53s\tremaining: 9.71s\n",
            "960:\tlearn: 10.5957147\ttest: 14.1470191\tbest: 14.1470191 (960)\ttotal: 3m 53s\tremaining: 9.47s\n",
            "961:\tlearn: 10.5921869\ttest: 14.1461870\tbest: 14.1461870 (961)\ttotal: 3m 53s\tremaining: 9.23s\n",
            "962:\tlearn: 10.5884604\ttest: 14.1466090\tbest: 14.1461870 (961)\ttotal: 3m 54s\tremaining: 8.99s\n",
            "963:\tlearn: 10.5847649\ttest: 14.1475368\tbest: 14.1461870 (961)\ttotal: 3m 54s\tremaining: 8.75s\n",
            "964:\tlearn: 10.5826728\ttest: 14.1476609\tbest: 14.1461870 (961)\ttotal: 3m 54s\tremaining: 8.51s\n",
            "965:\tlearn: 10.5802160\ttest: 14.1468975\tbest: 14.1461870 (961)\ttotal: 3m 54s\tremaining: 8.27s\n",
            "966:\tlearn: 10.5799044\ttest: 14.1469645\tbest: 14.1461870 (961)\ttotal: 3m 55s\tremaining: 8.02s\n",
            "967:\tlearn: 10.5774702\ttest: 14.1468280\tbest: 14.1461870 (961)\ttotal: 3m 55s\tremaining: 7.78s\n",
            "968:\tlearn: 10.5765890\ttest: 14.1471504\tbest: 14.1461870 (961)\ttotal: 3m 55s\tremaining: 7.53s\n",
            "969:\tlearn: 10.5750632\ttest: 14.1475652\tbest: 14.1461870 (961)\ttotal: 3m 55s\tremaining: 7.29s\n",
            "970:\tlearn: 10.5719164\ttest: 14.1482604\tbest: 14.1461870 (961)\ttotal: 3m 55s\tremaining: 7.04s\n",
            "971:\tlearn: 10.5676263\ttest: 14.1482879\tbest: 14.1461870 (961)\ttotal: 3m 56s\tremaining: 6.8s\n",
            "972:\tlearn: 10.5642231\ttest: 14.1475012\tbest: 14.1461870 (961)\ttotal: 3m 56s\tremaining: 6.56s\n",
            "973:\tlearn: 10.5616974\ttest: 14.1469619\tbest: 14.1461870 (961)\ttotal: 3m 56s\tremaining: 6.31s\n",
            "974:\tlearn: 10.5579465\ttest: 14.1470738\tbest: 14.1461870 (961)\ttotal: 3m 56s\tremaining: 6.07s\n",
            "975:\tlearn: 10.5556634\ttest: 14.1472174\tbest: 14.1461870 (961)\ttotal: 3m 57s\tremaining: 5.83s\n",
            "976:\tlearn: 10.5553618\ttest: 14.1472517\tbest: 14.1461870 (961)\ttotal: 3m 57s\tremaining: 5.58s\n",
            "977:\tlearn: 10.5513139\ttest: 14.1473042\tbest: 14.1461870 (961)\ttotal: 3m 57s\tremaining: 5.34s\n",
            "978:\tlearn: 10.5483833\ttest: 14.1448219\tbest: 14.1448219 (978)\ttotal: 3m 57s\tremaining: 5.1s\n",
            "979:\tlearn: 10.5464698\ttest: 14.1454329\tbest: 14.1448219 (978)\ttotal: 3m 57s\tremaining: 4.86s\n",
            "980:\tlearn: 10.5428187\ttest: 14.1450299\tbest: 14.1448219 (978)\ttotal: 3m 58s\tremaining: 4.61s\n",
            "981:\tlearn: 10.5372865\ttest: 14.1446032\tbest: 14.1446032 (981)\ttotal: 3m 58s\tremaining: 4.37s\n",
            "982:\tlearn: 10.5345818\ttest: 14.1436494\tbest: 14.1436494 (982)\ttotal: 3m 58s\tremaining: 4.13s\n",
            "983:\tlearn: 10.5322516\ttest: 14.1438676\tbest: 14.1436494 (982)\ttotal: 3m 58s\tremaining: 3.88s\n",
            "984:\tlearn: 10.5303938\ttest: 14.1446185\tbest: 14.1436494 (982)\ttotal: 3m 59s\tremaining: 3.64s\n",
            "985:\tlearn: 10.5266204\ttest: 14.1453557\tbest: 14.1436494 (982)\ttotal: 3m 59s\tremaining: 3.4s\n",
            "986:\tlearn: 10.5243596\ttest: 14.1456430\tbest: 14.1436494 (982)\ttotal: 3m 59s\tremaining: 3.15s\n",
            "987:\tlearn: 10.5209252\ttest: 14.1451668\tbest: 14.1436494 (982)\ttotal: 3m 59s\tremaining: 2.91s\n",
            "988:\tlearn: 10.5187099\ttest: 14.1455150\tbest: 14.1436494 (982)\ttotal: 3m 59s\tremaining: 2.67s\n",
            "989:\tlearn: 10.5149397\ttest: 14.1440850\tbest: 14.1436494 (982)\ttotal: 4m\tremaining: 2.43s\n",
            "990:\tlearn: 10.5123930\ttest: 14.1440108\tbest: 14.1436494 (982)\ttotal: 4m\tremaining: 2.18s\n",
            "991:\tlearn: 10.5100270\ttest: 14.1445439\tbest: 14.1436494 (982)\ttotal: 4m\tremaining: 1.94s\n",
            "992:\tlearn: 10.5085469\ttest: 14.1445469\tbest: 14.1436494 (982)\ttotal: 4m\tremaining: 1.7s\n",
            "993:\tlearn: 10.5062576\ttest: 14.1448888\tbest: 14.1436494 (982)\ttotal: 4m 1s\tremaining: 1.46s\n",
            "994:\tlearn: 10.5046304\ttest: 14.1448905\tbest: 14.1436494 (982)\ttotal: 4m 1s\tremaining: 1.21s\n",
            "995:\tlearn: 10.5009624\ttest: 14.1442511\tbest: 14.1436494 (982)\ttotal: 4m 1s\tremaining: 970ms\n",
            "996:\tlearn: 10.4994080\ttest: 14.1443083\tbest: 14.1436494 (982)\ttotal: 4m 1s\tremaining: 727ms\n",
            "997:\tlearn: 10.4967564\ttest: 14.1437731\tbest: 14.1436494 (982)\ttotal: 4m 1s\tremaining: 485ms\n",
            "998:\tlearn: 10.4963167\ttest: 14.1436892\tbest: 14.1436494 (982)\ttotal: 4m 2s\tremaining: 242ms\n",
            "999:\tlearn: 10.4932468\ttest: 14.1440689\tbest: 14.1436494 (982)\ttotal: 4m 2s\tremaining: 0us\n",
            "bestTest = 14.14364937\n",
            "bestIteration = 982\n",
            "Shrink model to first 983 iterations.\n"
          ]
        },
        {
          "output_type": "execute_result",
          "data": {
            "text/plain": [
              "<catboost.core.CatBoostRegressor at 0x7951ee706230>"
            ]
          },
          "metadata": {},
          "execution_count": 101
        }
      ]
    },
    {
      "cell_type": "code",
      "source": [
        "import matplotlib.pyplot as plt\n",
        "# 獲取訓練過程記錄\n",
        "train_metrics = catboost_model.evals_result_['learn']\n",
        "valid_metrics = catboost_model.evals_result_['validation']\n",
        "\n",
        "# 提取 RMSE（或其他損失指標）的數值\n",
        "train_rmse = train_metrics['RMSE']\n",
        "valid_rmse = valid_metrics['RMSE']\n",
        "\n",
        "# 獲取訓練迭代數\n",
        "iterations = range(len(train_rmse))\n",
        "\n",
        "# 繪製學習曲線\n",
        "plt.plot(iterations, train_rmse, label='Train RMSE', marker='o')\n",
        "plt.plot(iterations, valid_rmse, label='Validation RMSE', marker='o')\n",
        "plt.xlabel('Iterations')\n",
        "plt.ylabel('RMSE')\n",
        "plt.legend()\n",
        "plt.title('CatBoost Learning Curve')\n",
        "plt.savefig('learning_curve.png')  # 保存學習曲線圖為圖片文件\n",
        "plt.show()  # 顯示圖片（可選）\n"
      ],
      "metadata": {
        "id": "Sek8kYWyu0w_",
        "colab": {
          "base_uri": "https://localhost:8080/",
          "height": 472
        },
        "outputId": "fc0e5649-b486-4427-9a4d-89ac99334c74"
      },
      "execution_count": 102,
      "outputs": [
        {
          "output_type": "display_data",
          "data": {
            "text/plain": [
              "<Figure size 640x480 with 1 Axes>"
            ],
            "image/png": "[encoded data removed]"
          },
          "metadata": {}
        }
      ]
    },
    {
      "cell_type": "code",
      "source": [],
      "metadata": {
        "id": "IQAk-x8CJTBb"
      },
      "execution_count": null,
      "outputs": []
    }
  ],
  "metadata": {
    "colab": {
      "provenance": [],
      "gpuType": "T4",
      "include_colab_link": true
    },
    "kernelspec": {
      "display_name": "Python 3",
      "name": "python3"
    },
    "language_info": {
      "codemirror_mode": {
        "name": "ipython",
        "version": 3
      },
      "file_extension": ".py",
      "mimetype": "text/x-python",
      "name": "python",
      "nbconvert_exporter": "python",
      "pygments_lexer": "ipython3",
      "version": "3.10.9"
    },
    "widgets": {
      "application/vnd.jupyter.widget-state+json": {
        "da49fbb87d1f4810bff36635ecc36cd1": {
          "model_module": "catboost-widget",
          "model_name": "CatboostWidgetModel",
          "model_module_version": "^1.0.0",
          "state": {
            "_dom_classes": [],
            "_model_module": "catboost-widget",
            "_model_module_version": "^1.0.0",
            "_model_name": "CatboostWidgetModel",
            "_view_count": null,
            "_view_module": "catboost-widget",
            "_view_module_version": "^1.0.0",
            "_view_name": "CatboostWidgetView",
            "data": {
              "catboost_info": {
                "path": "catboost_info",
                "name": "catboost_info",
                "content": {
                  "passed_iterations": 999,
                  "total_iterations": 1000,
                  "data": {
                    "iterations": [
                      {
                        "learn": [
                          18.54005524
                        ],
                        "iteration": 0,
                        "passed_time": 0.3964870486,
                        "remaining_time": 396.0905615,
                        "test": [
                          17.97386411
                        ]
                      },
                      {
                        "learn": [
                          18.37071236
                        ],
                        "iteration": 1,
                        "passed_time": 0.6578849773,
                        "remaining_time": 328.2846037,
                        "test": [
                          17.82291867
                        ]
                      },
                      {
                        "learn": [
                          18.21889062
                        ],
                        "iteration": 2,
                        "passed_time": 0.9233902745,
                        "remaining_time": 306.8733679,
                        "test": [
                          17.68698057
                        ]
                      },
                      {
                        "learn": [
                          18.06813864
                        ],
                        "iteration": 3,
                        "passed_time": 1.184209791,
                        "remaining_time": 294.868238,
                        "test": [
                          17.54962346
                        ]
                      },
                      {
                        "learn": [
                          17.92636161
                        ],
                        "iteration": 4,
                        "passed_time": 1.456948798,
                        "remaining_time": 289.9328109,
                        "test": [
                          17.41217757
                        ]
                      },
                      {
                        "learn": [
                          17.78599351
                        ],
                        "iteration": 5,
                        "passed_time": 1.71382512,
                        "remaining_time": 283.9236948,
                        "test": [
                          17.29352411
                        ]
                      },
                      {
                        "learn": [
                          17.65933574
                        ],
                        "iteration": 6,
                        "passed_time": 1.992229448,
                        "remaining_time": 282.6119774,
                        "test": [
                          17.18178476
                        ]
                      },
                      {
                        "learn": [
                          17.54892119
                        ],
                        "iteration": 7,
                        "passed_time": 2.255965487,
                        "remaining_time": 279.7397204,
                        "test": [
                          17.09570594
                        ]
                      },
                      {
                        "learn": [
                          17.43407069
                        ],
                        "iteration": 8,
                        "passed_time": 2.525368285,
                        "remaining_time": 278.0711079,
                        "test": [
                          16.98806173
                        ]
                      },
                      {
                        "learn": [
                          17.32337742
                        ],
                        "iteration": 9,
                        "passed_time": 2.82367335,
                        "remaining_time": 279.5436617,
                        "test": [
                          16.88572146
                        ]
                      },
                      {
                        "learn": [
                          17.23804476
                        ],
                        "iteration": 10,
                        "passed_time": 3.139692461,
                        "remaining_time": 282.2868949,
                        "test": [
                          16.80628279
                        ]
                      },
                      {
                        "learn": [
                          17.14773418
                        ],
                        "iteration": 11,
                        "passed_time": 3.465759091,
                        "remaining_time": 285.3474985,
                        "test": [
                          16.72091765
                        ]
                      },
                      {
                        "learn": [
                          17.04372926
                        ],
                        "iteration": 12,
                        "passed_time": 3.780648417,
                        "remaining_time": 287.0384606,
                        "test": [
                          16.62709533
                        ]
                      },
                      {
                        "learn": [
                          16.94350065
                        ],
                        "iteration": 13,
                        "passed_time": 4.103546382,
                        "remaining_time": 289.0069095,
                        "test": [
                          16.53645312
                        ]
                      },
                      {
                        "learn": [
                          16.86122124
                        ],
                        "iteration": 14,
                        "passed_time": 4.419618812,
                        "remaining_time": 290.2216353,
                        "test": [
                          16.46554911
                        ]
                      },
                      {
                        "learn": [
                          16.78187754
                        ],
                        "iteration": 15,
                        "passed_time": 4.749712312,
                        "remaining_time": 292.1073072,
                        "test": [
                          16.40119462
                        ]
                      },
                      {
                        "learn": [
                          16.69977594
                        ],
                        "iteration": 16,
                        "passed_time": 5.075211532,
                        "remaining_time": 293.4666433,
                        "test": [
                          16.33847077
                        ]
                      },
                      {
                        "learn": [
                          16.62471431
                        ],
                        "iteration": 17,
                        "passed_time": 5.39570853,
                        "remaining_time": 294.3658764,
                        "test": [
                          16.27661654
                        ]
                      },
                      {
                        "learn": [
                          16.55015757
                        ],
                        "iteration": 18,
                        "passed_time": 5.71054312,
                        "remaining_time": 294.8443579,
                        "test": [
                          16.21829473
                        ]
                      },
                      {
                        "learn": [
                          16.48069221
                        ],
                        "iteration": 19,
                        "passed_time": 6.030940869,
                        "remaining_time": 295.5161026,
                        "test": [
                          16.16445128
                        ]
                      },
                      {
                        "learn": [
                          16.42147997
                        ],
                        "iteration": 20,
                        "passed_time": 6.342412287,
                        "remaining_time": 295.6772204,
                        "test": [
                          16.12245689
                        ]
                      },
                      {
                        "learn": [
                          16.36316561
                        ],
                        "iteration": 21,
                        "passed_time": 6.612297396,
                        "remaining_time": 293.9466751,
                        "test": [
                          16.07094933
                        ]
                      },
                      {
                        "learn": [
                          16.29969807
                        ],
                        "iteration": 22,
                        "passed_time": 6.869735745,
                        "remaining_time": 291.8144271,
                        "test": [
                          16.02469356
                        ]
                      },
                      {
                        "learn": [
                          16.23495608
                        ],
                        "iteration": 23,
                        "passed_time": 7.141979813,
                        "remaining_time": 290.4405124,
                        "test": [
                          15.96761668
                        ]
                      },
                      {
                        "learn": [
                          16.1748176
                        ],
                        "iteration": 24,
                        "passed_time": 7.404778092,
                        "remaining_time": 288.7863456,
                        "test": [
                          15.91874988
                        ]
                      },
                      {
                        "learn": [
                          16.11853465
                        ],
                        "iteration": 25,
                        "passed_time": 7.662196601,
                        "remaining_time": 287.0376727,
                        "test": [
                          15.87624301
                        ]
                      },
                      {
                        "learn": [
                          16.06503443
                        ],
                        "iteration": 26,
                        "passed_time": 7.937817985,
                        "remaining_time": 286.0554407,
                        "test": [
                          15.84056121
                        ]
                      },
                      {
                        "learn": [
                          16.00872496
                        ],
                        "iteration": 27,
                        "passed_time": 8.206268184,
                        "remaining_time": 284.8747384,
                        "test": [
                          15.79975671
                        ]
                      },
                      {
                        "learn": [
                          15.96269522
                        ],
                        "iteration": 28,
                        "passed_time": 8.468533487,
                        "remaining_time": 283.5498626,
                        "test": [
                          15.76446143
                        ]
                      },
                      {
                        "learn": [
                          15.90841397
                        ],
                        "iteration": 29,
                        "passed_time": 8.722804263,
                        "remaining_time": 282.0373378,
                        "test": [
                          15.72662216
                        ]
                      },
                      {
                        "learn": [
                          15.86414417
                        ],
                        "iteration": 30,
                        "passed_time": 9.007247223,
                        "remaining_time": 281.5491148,
                        "test": [
                          15.69169865
                        ]
                      },
                      {
                        "learn": [
                          15.81756714
                        ],
                        "iteration": 31,
                        "passed_time": 9.269542909,
                        "remaining_time": 280.403673,
                        "test": [
                          15.65691696
                        ]
                      },
                      {
                        "learn": [
                          15.77412386
                        ],
                        "iteration": 32,
                        "passed_time": 9.53190641,
                        "remaining_time": 279.3137424,
                        "test": [
                          15.62381641
                        ]
                      },
                      {
                        "learn": [
                          15.73232018
                        ],
                        "iteration": 33,
                        "passed_time": 9.795226578,
                        "remaining_time": 278.2996728,
                        "test": [
                          15.59382064
                        ]
                      },
                      {
                        "learn": [
                          15.69507195
                        ],
                        "iteration": 34,
                        "passed_time": 10.0610703,
                        "remaining_time": 277.398081,
                        "test": [
                          15.56876166
                        ]
                      },
                      {
                        "learn": [
                          15.65489434
                        ],
                        "iteration": 35,
                        "passed_time": 10.31820449,
                        "remaining_time": 276.298587,
                        "test": [
                          15.54232346
                        ]
                      },
                      {
                        "learn": [
                          15.61265317
                        ],
                        "iteration": 36,
                        "passed_time": 10.58109674,
                        "remaining_time": 275.3944909,
                        "test": [
                          15.50669192
                        ]
                      },
                      {
                        "learn": [
                          15.57909142
                        ],
                        "iteration": 37,
                        "passed_time": 10.84670467,
                        "remaining_time": 274.5928918,
                        "test": [
                          15.48345148
                        ]
                      },
                      {
                        "learn": [
                          15.53942785
                        ],
                        "iteration": 38,
                        "passed_time": 11.11319576,
                        "remaining_time": 273.8405416,
                        "test": [
                          15.45816784
                        ]
                      },
                      {
                        "learn": [
                          15.51462864
                        ],
                        "iteration": 39,
                        "passed_time": 11.36554513,
                        "remaining_time": 272.7730831,
                        "test": [
                          15.44050552
                        ]
                      },
                      {
                        "learn": [
                          15.48890355
                        ],
                        "iteration": 40,
                        "passed_time": 11.60965431,
                        "remaining_time": 271.552646,
                        "test": [
                          15.42862696
                        ]
                      },
                      {
                        "learn": [
                          15.45608917
                        ],
                        "iteration": 41,
                        "passed_time": 11.8906392,
                        "remaining_time": 271.219818,
                        "test": [
                          15.40705285
                        ]
                      },
                      {
                        "learn": [
                          15.42728437
                        ],
                        "iteration": 42,
                        "passed_time": 12.15565442,
                        "remaining_time": 270.5339832,
                        "test": [
                          15.38748885
                        ]
                      },
                      {
                        "learn": [
                          15.39928749
                        ],
                        "iteration": 43,
                        "passed_time": 12.4122429,
                        "remaining_time": 269.6841866,
                        "test": [
                          15.37370438
                        ]
                      },
                      {
                        "learn": [
                          15.36447791
                        ],
                        "iteration": 44,
                        "passed_time": 12.68168464,
                        "remaining_time": 269.1335295,
                        "test": [
                          15.34093431
                        ]
                      },
                      {
                        "learn": [
                          15.32870088
                        ],
                        "iteration": 45,
                        "passed_time": 12.93819071,
                        "remaining_time": 268.3268246,
                        "test": [
                          15.31853637
                        ]
                      },
                      {
                        "learn": [
                          15.2988617
                        ],
                        "iteration": 46,
                        "passed_time": 13.19234069,
                        "remaining_time": 267.4957591,
                        "test": [
                          15.30246451
                        ]
                      },
                      {
                        "learn": [
                          15.26856221
                        ],
                        "iteration": 47,
                        "passed_time": 13.46232395,
                        "remaining_time": 267.0027583,
                        "test": [
                          15.28044478
                        ]
                      },
                      {
                        "learn": [
                          15.24334672
                        ],
                        "iteration": 48,
                        "passed_time": 13.72568044,
                        "remaining_time": 266.390247,
                        "test": [
                          15.2651652
                        ]
                      },
                      {
                        "learn": [
                          15.21717011
                        ],
                        "iteration": 49,
                        "passed_time": 13.98682375,
                        "remaining_time": 265.7496512,
                        "test": [
                          15.2479609
                        ]
                      },
                      {
                        "learn": [
                          15.18901009
                        ],
                        "iteration": 50,
                        "passed_time": 14.24507096,
                        "remaining_time": 265.0700459,
                        "test": [
                          15.22963609
                        ]
                      },
                      {
                        "learn": [
                          15.17063522
                        ],
                        "iteration": 51,
                        "passed_time": 14.5034375,
                        "remaining_time": 264.4088221,
                        "test": [
                          15.21605446
                        ]
                      },
                      {
                        "learn": [
                          15.14216065
                        ],
                        "iteration": 52,
                        "passed_time": 14.76439614,
                        "remaining_time": 263.809116,
                        "test": [
                          15.19682984
                        ]
                      },
                      {
                        "learn": [
                          15.1159595
                        ],
                        "iteration": 53,
                        "passed_time": 15.0350111,
                        "remaining_time": 263.3911203,
                        "test": [
                          15.18068756
                        ]
                      },
                      {
                        "learn": [
                          15.09918218
                        ],
                        "iteration": 54,
                        "passed_time": 15.30259815,
                        "remaining_time": 262.9264591,
                        "test": [
                          15.16704392
                        ]
                      },
                      {
                        "learn": [
                          15.07673064
                        ],
                        "iteration": 55,
                        "passed_time": 15.56172088,
                        "remaining_time": 262.326152,
                        "test": [
                          15.15469474
                        ]
                      },
                      {
                        "learn": [
                          15.05426711
                        ],
                        "iteration": 56,
                        "passed_time": 15.83250039,
                        "remaining_time": 261.9306643,
                        "test": [
                          15.13394042
                        ]
                      },
                      {
                        "learn": [
                          15.03437129
                        ],
                        "iteration": 57,
                        "passed_time": 16.09024686,
                        "remaining_time": 261.3278025,
                        "test": [
                          15.12094826
                        ]
                      },
                      {
                        "learn": [
                          15.01106015
                        ],
                        "iteration": 58,
                        "passed_time": 16.34587199,
                        "remaining_time": 260.7028059,
                        "test": [
                          15.10750061
                        ]
                      },
                      {
                        "learn": [
                          14.98779354
                        ],
                        "iteration": 59,
                        "passed_time": 16.60618033,
                        "remaining_time": 260.1634918,
                        "test": [
                          15.0937114
                        ]
                      },
                      {
                        "learn": [
                          14.97462369
                        ],
                        "iteration": 60,
                        "passed_time": 16.83173524,
                        "remaining_time": 259.0983507,
                        "test": [
                          15.08498175
                        ]
                      },
                      {
                        "learn": [
                          14.95860709
                        ],
                        "iteration": 61,
                        "passed_time": 17.12547662,
                        "remaining_time": 259.0918882,
                        "test": [
                          15.07445322
                        ]
                      },
                      {
                        "learn": [
                          14.94028185
                        ],
                        "iteration": 62,
                        "passed_time": 17.44358739,
                        "remaining_time": 259.4387521,
                        "test": [
                          15.06301812
                        ]
                      },
                      {
                        "learn": [
                          14.92284913
                        ],
                        "iteration": 63,
                        "passed_time": 17.74624035,
                        "remaining_time": 259.5387651,
                        "test": [
                          15.05338681
                        ]
                      },
                      {
                        "learn": [
                          14.91301302
                        ],
                        "iteration": 64,
                        "passed_time": 18.04339764,
                        "remaining_time": 259.5473352,
                        "test": [
                          15.04683266
                        ]
                      },
                      {
                        "learn": [
                          14.89682717
                        ],
                        "iteration": 65,
                        "passed_time": 18.36111975,
                        "remaining_time": 259.8376644,
                        "test": [
                          15.04069247
                        ]
                      },
                      {
                        "learn": [
                          14.87787228
                        ],
                        "iteration": 66,
                        "passed_time": 18.66963096,
                        "remaining_time": 259.9815774,
                        "test": [
                          15.02689939
                        ]
                      },
                      {
                        "learn": [
                          14.85672842
                        ],
                        "iteration": 67,
                        "passed_time": 18.99516582,
                        "remaining_time": 260.345508,
                        "test": [
                          15.01374913
                        ]
                      },
                      {
                        "learn": [
                          14.84249167
                        ],
                        "iteration": 68,
                        "passed_time": 19.28139259,
                        "remaining_time": 260.1590797,
                        "test": [
                          15.00483077
                        ]
                      },
                      {
                        "learn": [
                          14.82305242
                        ],
                        "iteration": 69,
                        "passed_time": 19.58713706,
                        "remaining_time": 260.2291067,
                        "test": [
                          14.99715483
                        ]
                      },
                      {
                        "learn": [
                          14.80407838
                        ],
                        "iteration": 70,
                        "passed_time": 19.91075872,
                        "remaining_time": 260.5224627,
                        "test": [
                          14.98627425
                        ]
                      },
                      {
                        "learn": [
                          14.78660831
                        ],
                        "iteration": 71,
                        "passed_time": 20.22233844,
                        "remaining_time": 260.6434732,
                        "test": [
                          14.97722187
                        ]
                      },
                      {
                        "learn": [
                          14.77074901
                        ],
                        "iteration": 72,
                        "passed_time": 20.55014065,
                        "remaining_time": 260.9586354,
                        "test": [
                          14.96760903
                        ]
                      },
                      {
                        "learn": [
                          14.75709871
                        ],
                        "iteration": 73,
                        "passed_time": 20.82194137,
                        "remaining_time": 260.5556447,
                        "test": [
                          14.96175039
                        ]
                      },
                      {
                        "learn": [
                          14.73911668
                        ],
                        "iteration": 74,
                        "passed_time": 21.13352727,
                        "remaining_time": 260.6468364,
                        "test": [
                          14.95030927
                        ]
                      },
                      {
                        "learn": [
                          14.72456348
                        ],
                        "iteration": 75,
                        "passed_time": 21.37042163,
                        "remaining_time": 259.8193366,
                        "test": [
                          14.94243766
                        ]
                      },
                      {
                        "learn": [
                          14.7119093
                        ],
                        "iteration": 76,
                        "passed_time": 21.61836623,
                        "remaining_time": 259.1396367,
                        "test": [
                          14.93408674
                        ]
                      },
                      {
                        "learn": [
                          14.70074722
                        ],
                        "iteration": 77,
                        "passed_time": 21.8686672,
                        "remaining_time": 258.498861,
                        "test": [
                          14.9309721
                        ]
                      },
                      {
                        "learn": [
                          14.68552256
                        ],
                        "iteration": 78,
                        "passed_time": 22.12773279,
                        "remaining_time": 257.9701506,
                        "test": [
                          14.92537697
                        ]
                      },
                      {
                        "learn": [
                          14.67014153
                        ],
                        "iteration": 79,
                        "passed_time": 22.37993498,
                        "remaining_time": 257.3692522,
                        "test": [
                          14.91610521
                        ]
                      },
                      {
                        "learn": [
                          14.65666908
                        ],
                        "iteration": 80,
                        "passed_time": 22.64301089,
                        "remaining_time": 256.9003335,
                        "test": [
                          14.91094906
                        ]
                      },
                      {
                        "learn": [
                          14.64384571
                        ],
                        "iteration": 81,
                        "passed_time": 22.9153571,
                        "remaining_time": 256.5402172,
                        "test": [
                          14.90363497
                        ]
                      },
                      {
                        "learn": [
                          14.62773247
                        ],
                        "iteration": 82,
                        "passed_time": 23.18165559,
                        "remaining_time": 256.1153997,
                        "test": [
                          14.89263616
                        ]
                      },
                      {
                        "learn": [
                          14.61696376
                        ],
                        "iteration": 83,
                        "passed_time": 23.41928383,
                        "remaining_time": 255.3817141,
                        "test": [
                          14.88800731
                        ]
                      },
                      {
                        "learn": [
                          14.60078883
                        ],
                        "iteration": 84,
                        "passed_time": 23.67940305,
                        "remaining_time": 254.9018093,
                        "test": [
                          14.88291634
                        ]
                      },
                      {
                        "learn": [
                          14.59301626
                        ],
                        "iteration": 85,
                        "passed_time": 23.92024755,
                        "remaining_time": 254.2221659,
                        "test": [
                          14.87726929
                        ]
                      },
                      {
                        "learn": [
                          14.57839452
                        ],
                        "iteration": 86,
                        "passed_time": 24.17771228,
                        "remaining_time": 253.7270266,
                        "test": [
                          14.86856655
                        ]
                      },
                      {
                        "learn": [
                          14.56754984
                        ],
                        "iteration": 87,
                        "passed_time": 24.41163057,
                        "remaining_time": 252.9932623,
                        "test": [
                          14.86185185
                        ]
                      },
                      {
                        "learn": [
                          14.55282013
                        ],
                        "iteration": 88,
                        "passed_time": 24.65691162,
                        "remaining_time": 252.3870392,
                        "test": [
                          14.85380021
                        ]
                      },
                      {
                        "learn": [
                          14.5385752
                        ],
                        "iteration": 89,
                        "passed_time": 24.9250353,
                        "remaining_time": 252.0198014,
                        "test": [
                          14.84644666
                        ]
                      },
                      {
                        "learn": [
                          14.52169052
                        ],
                        "iteration": 90,
                        "passed_time": 25.1837254,
                        "remaining_time": 251.5605097,
                        "test": [
                          14.84063065
                        ]
                      },
                      {
                        "learn": [
                          14.50805708
                        ],
                        "iteration": 91,
                        "passed_time": 25.43738079,
                        "remaining_time": 251.0558887,
                        "test": [
                          14.83662386
                        ]
                      },
                      {
                        "learn": [
                          14.49588295
                        ],
                        "iteration": 92,
                        "passed_time": 25.66433221,
                        "remaining_time": 250.2962292,
                        "test": [
                          14.83246971
                        ]
                      },
                      {
                        "learn": [
                          14.48028393
                        ],
                        "iteration": 93,
                        "passed_time": 25.90536356,
                        "remaining_time": 249.6836105,
                        "test": [
                          14.82832248
                        ]
                      },
                      {
                        "learn": [
                          14.47245659
                        ],
                        "iteration": 94,
                        "passed_time": 26.12441922,
                        "remaining_time": 248.8694673,
                        "test": [
                          14.82510234
                        ]
                      },
                      {
                        "learn": [
                          14.46214423
                        ],
                        "iteration": 95,
                        "passed_time": 26.35612759,
                        "remaining_time": 248.1868681,
                        "test": [
                          14.82066754
                        ]
                      },
                      {
                        "learn": [
                          14.45016952
                        ],
                        "iteration": 96,
                        "passed_time": 26.62232377,
                        "remaining_time": 247.8346223,
                        "test": [
                          14.814432
                        ]
                      },
                      {
                        "learn": [
                          14.44087399
                        ],
                        "iteration": 97,
                        "passed_time": 26.86509605,
                        "remaining_time": 247.2685371,
                        "test": [
                          14.81233941
                        ]
                      },
                      {
                        "learn": [
                          14.43114466
                        ],
                        "iteration": 98,
                        "passed_time": 27.12208352,
                        "remaining_time": 246.8383561,
                        "test": [
                          14.80647196
                        ]
                      },
                      {
                        "learn": [
                          14.41906855
                        ],
                        "iteration": 99,
                        "passed_time": 27.36867899,
                        "remaining_time": 246.3181109,
                        "test": [
                          14.80392968
                        ]
                      },
                      {
                        "learn": [
                          14.40627085
                        ],
                        "iteration": 100,
                        "passed_time": 27.62394777,
                        "remaining_time": 245.8804856,
                        "test": [
                          14.79683569
                        ]
                      },
                      {
                        "learn": [
                          14.39988938
                        ],
                        "iteration": 101,
                        "passed_time": 27.83912965,
                        "remaining_time": 245.093514,
                        "test": [
                          14.79316871
                        ]
                      },
                      {
                        "learn": [
                          14.38834527
                        ],
                        "iteration": 102,
                        "passed_time": 28.10454651,
                        "remaining_time": 244.7551283,
                        "test": [
                          14.78692238
                        ]
                      },
                      {
                        "learn": [
                          14.37964339
                        ],
                        "iteration": 103,
                        "passed_time": 28.35570118,
                        "remaining_time": 244.2952717,
                        "test": [
                          14.78242585
                        ]
                      },
                      {
                        "learn": [
                          14.36644676
                        ],
                        "iteration": 104,
                        "passed_time": 28.62195217,
                        "remaining_time": 243.9680685,
                        "test": [
                          14.778748
                        ]
                      },
                      {
                        "learn": [
                          14.35599645
                        ],
                        "iteration": 105,
                        "passed_time": 28.84261903,
                        "remaining_time": 243.2575605,
                        "test": [
                          14.77372485
                        ]
                      },
                      {
                        "learn": [
                          14.3441638
                        ],
                        "iteration": 106,
                        "passed_time": 29.09141099,
                        "remaining_time": 242.7909348,
                        "test": [
                          14.77167519
                        ]
                      },
                      {
                        "learn": [
                          14.33214655
                        ],
                        "iteration": 107,
                        "passed_time": 29.34602165,
                        "remaining_time": 242.376401,
                        "test": [
                          14.76850519
                        ]
                      },
                      {
                        "learn": [
                          14.3228439
                        ],
                        "iteration": 108,
                        "passed_time": 29.56899749,
                        "remaining_time": 241.7062088,
                        "test": [
                          14.76508204
                        ]
                      },
                      {
                        "learn": [
                          14.3176603
                        ],
                        "iteration": 109,
                        "passed_time": 29.78654429,
                        "remaining_time": 241.000222,
                        "test": [
                          14.7636515
                        ]
                      },
                      {
                        "learn": [
                          14.30594594
                        ],
                        "iteration": 110,
                        "passed_time": 30.04665994,
                        "remaining_time": 240.6439701,
                        "test": [
                          14.75639924
                        ]
                      },
                      {
                        "learn": [
                          14.29335644
                        ],
                        "iteration": 111,
                        "passed_time": 30.28024861,
                        "remaining_time": 240.079114,
                        "test": [
                          14.74864521
                        ]
                      },
                      {
                        "learn": [
                          14.2829517
                        ],
                        "iteration": 112,
                        "passed_time": 30.52851668,
                        "remaining_time": 239.6353477,
                        "test": [
                          14.74543043
                        ]
                      },
                      {
                        "learn": [
                          14.27345068
                        ],
                        "iteration": 113,
                        "passed_time": 30.78713581,
                        "remaining_time": 239.2754591,
                        "test": [
                          14.74052929
                        ]
                      },
                      {
                        "learn": [
                          14.26371726
                        ],
                        "iteration": 114,
                        "passed_time": 31.06715291,
                        "remaining_time": 239.0820028,
                        "test": [
                          14.73872063
                        ]
                      },
                      {
                        "learn": [
                          14.25307977
                        ],
                        "iteration": 115,
                        "passed_time": 31.34321911,
                        "remaining_time": 238.8569456,
                        "test": [
                          14.73440871
                        ]
                      },
                      {
                        "learn": [
                          14.24736679
                        ],
                        "iteration": 116,
                        "passed_time": 31.60248024,
                        "remaining_time": 238.5041885,
                        "test": [
                          14.73180273
                        ]
                      },
                      {
                        "learn": [
                          14.23489308
                        ],
                        "iteration": 117,
                        "passed_time": 31.88588932,
                        "remaining_time": 238.3335117,
                        "test": [
                          14.72705985
                        ]
                      },
                      {
                        "learn": [
                          14.22519226
                        ],
                        "iteration": 118,
                        "passed_time": 32.18031143,
                        "remaining_time": 238.2424737,
                        "test": [
                          14.72133836
                        ]
                      },
                      {
                        "learn": [
                          14.21786276
                        ],
                        "iteration": 119,
                        "passed_time": 32.47190724,
                        "remaining_time": 238.1273198,
                        "test": [
                          14.71756216
                        ]
                      },
                      {
                        "learn": [
                          14.20683063
                        ],
                        "iteration": 120,
                        "passed_time": 32.72723249,
                        "remaining_time": 237.7457633,
                        "test": [
                          14.7150819
                        ]
                      },
                      {
                        "learn": [
                          14.19858152
                        ],
                        "iteration": 121,
                        "passed_time": 32.9962317,
                        "remaining_time": 237.4646839,
                        "test": [
                          14.71013235
                        ]
                      },
                      {
                        "learn": [
                          14.1920281
                        ],
                        "iteration": 122,
                        "passed_time": 33.25571504,
                        "remaining_time": 237.1159519,
                        "test": [
                          14.70901267
                        ]
                      },
                      {
                        "learn": [
                          14.18718626
                        ],
                        "iteration": 123,
                        "passed_time": 33.51745989,
                        "remaining_time": 236.784636,
                        "test": [
                          14.70823031
                        ]
                      },
                      {
                        "learn": [
                          14.17583597
                        ],
                        "iteration": 124,
                        "passed_time": 33.83467309,
                        "remaining_time": 236.8427116,
                        "test": [
                          14.70047859
                        ]
                      },
                      {
                        "learn": [
                          14.16607651
                        ],
                        "iteration": 125,
                        "passed_time": 34.15003721,
                        "remaining_time": 236.8820042,
                        "test": [
                          14.69460971
                        ]
                      },
                      {
                        "learn": [
                          14.15866011
                        ],
                        "iteration": 126,
                        "passed_time": 34.43477875,
                        "remaining_time": 236.7052114,
                        "test": [
                          14.69033135
                        ]
                      },
                      {
                        "learn": [
                          14.15435908
                        ],
                        "iteration": 127,
                        "passed_time": 34.71211795,
                        "remaining_time": 236.4763036,
                        "test": [
                          14.68806684
                        ]
                      },
                      {
                        "learn": [
                          14.14595436
                        ],
                        "iteration": 128,
                        "passed_time": 35.01120733,
                        "remaining_time": 236.3935006,
                        "test": [
                          14.68576199
                        ]
                      },
                      {
                        "learn": [
                          14.13880891
                        ],
                        "iteration": 129,
                        "passed_time": 35.2714868,
                        "remaining_time": 236.0476424,
                        "test": [
                          14.68394495
                        ]
                      },
                      {
                        "learn": [
                          14.12905654
                        ],
                        "iteration": 130,
                        "passed_time": 35.53176774,
                        "remaining_time": 235.7031005,
                        "test": [
                          14.68158965
                        ]
                      },
                      {
                        "learn": [
                          14.12465738
                        ],
                        "iteration": 131,
                        "passed_time": 35.75436131,
                        "remaining_time": 235.1120123,
                        "test": [
                          14.68000236
                        ]
                      },
                      {
                        "learn": [
                          14.11688421
                        ],
                        "iteration": 132,
                        "passed_time": 36.00297254,
                        "remaining_time": 234.6960691,
                        "test": [
                          14.67764234
                        ]
                      },
                      {
                        "learn": [
                          14.11020704
                        ],
                        "iteration": 133,
                        "passed_time": 36.21906526,
                        "remaining_time": 234.0724665,
                        "test": [
                          14.67375606
                        ]
                      },
                      {
                        "learn": [
                          14.10318033
                        ],
                        "iteration": 134,
                        "passed_time": 36.45581614,
                        "remaining_time": 233.5872664,
                        "test": [
                          14.66968979
                        ]
                      },
                      {
                        "learn": [
                          14.09526605
                        ],
                        "iteration": 135,
                        "passed_time": 36.70822439,
                        "remaining_time": 233.2051903,
                        "test": [
                          14.66812737
                        ]
                      },
                      {
                        "learn": [
                          14.08776599
                        ],
                        "iteration": 136,
                        "passed_time": 36.94959174,
                        "remaining_time": 232.7554575,
                        "test": [
                          14.6675406
                        ]
                      },
                      {
                        "learn": [
                          14.08224559
                        ],
                        "iteration": 137,
                        "passed_time": 37.19362574,
                        "remaining_time": 232.3254013,
                        "test": [
                          14.66569433
                        ]
                      },
                      {
                        "learn": [
                          14.07507205
                        ],
                        "iteration": 138,
                        "passed_time": 37.45552433,
                        "remaining_time": 232.0086795,
                        "test": [
                          14.66686227
                        ]
                      },
                      {
                        "learn": [
                          14.06855398
                        ],
                        "iteration": 139,
                        "passed_time": 37.67048715,
                        "remaining_time": 231.404421,
                        "test": [
                          14.66138791
                        ]
                      },
                      {
                        "learn": [
                          14.06043945
                        ],
                        "iteration": 140,
                        "passed_time": 37.89332152,
                        "remaining_time": 230.8536396,
                        "test": [
                          14.65764698
                        ]
                      },
                      {
                        "learn": [
                          14.05506398
                        ],
                        "iteration": 141,
                        "passed_time": 38.12904691,
                        "remaining_time": 230.385368,
                        "test": [
                          14.65649711
                        ]
                      },
                      {
                        "learn": [
                          14.04850037
                        ],
                        "iteration": 142,
                        "passed_time": 38.3721767,
                        "remaining_time": 229.9647233,
                        "test": [
                          14.65799862
                        ]
                      },
                      {
                        "learn": [
                          14.04058984
                        ],
                        "iteration": 143,
                        "passed_time": 38.62643006,
                        "remaining_time": 229.6126676,
                        "test": [
                          14.65621086
                        ]
                      },
                      {
                        "learn": [
                          14.03287048
                        ],
                        "iteration": 144,
                        "passed_time": 38.85884286,
                        "remaining_time": 229.1331769,
                        "test": [
                          14.65599984
                        ]
                      },
                      {
                        "learn": [
                          14.02582853
                        ],
                        "iteration": 145,
                        "passed_time": 39.08320638,
                        "remaining_time": 228.609988,
                        "test": [
                          14.65357379
                        ]
                      },
                      {
                        "learn": [
                          14.02044321
                        ],
                        "iteration": 146,
                        "passed_time": 39.29437719,
                        "remaining_time": 228.0143112,
                        "test": [
                          14.6531844
                        ]
                      },
                      {
                        "learn": [
                          14.0103201
                        ],
                        "iteration": 147,
                        "passed_time": 39.53760024,
                        "remaining_time": 227.6083473,
                        "test": [
                          14.6514975
                        ]
                      },
                      {
                        "learn": [
                          13.99786852
                        ],
                        "iteration": 148,
                        "passed_time": 39.79922154,
                        "remaining_time": 227.3096478,
                        "test": [
                          14.64661976
                        ]
                      },
                      {
                        "learn": [
                          13.98714627
                        ],
                        "iteration": 149,
                        "passed_time": 40.03557187,
                        "remaining_time": 226.8682406,
                        "test": [
                          14.64303878
                        ]
                      },
                      {
                        "learn": [
                          13.97983261
                        ],
                        "iteration": 150,
                        "passed_time": 40.26446042,
                        "remaining_time": 226.3875953,
                        "test": [
                          14.64154801
                        ]
                      },
                      {
                        "learn": [
                          13.97078061
                        ],
                        "iteration": 151,
                        "passed_time": 40.47798042,
                        "remaining_time": 225.8245224,
                        "test": [
                          14.64030354
                        ]
                      },
                      {
                        "learn": [
                          13.96362707
                        ],
                        "iteration": 152,
                        "passed_time": 40.67588561,
                        "remaining_time": 225.1795759,
                        "test": [
                          14.63969273
                        ]
                      },
                      {
                        "learn": [
                          13.95453664
                        ],
                        "iteration": 153,
                        "passed_time": 40.90845939,
                        "remaining_time": 224.7308873,
                        "test": [
                          14.63652036
                        ]
                      },
                      {
                        "learn": [
                          13.94277212
                        ],
                        "iteration": 154,
                        "passed_time": 41.18224865,
                        "remaining_time": 224.5096781,
                        "test": [
                          14.63293444
                        ]
                      },
                      {
                        "learn": [
                          13.93582228
                        ],
                        "iteration": 155,
                        "passed_time": 41.44206028,
                        "remaining_time": 224.2121723,
                        "test": [
                          14.62928783
                        ]
                      },
                      {
                        "learn": [
                          13.92813609
                        ],
                        "iteration": 156,
                        "passed_time": 41.66765733,
                        "remaining_time": 223.7314339,
                        "test": [
                          14.6280497
                        ]
                      },
                      {
                        "learn": [
                          13.9204138
                        ],
                        "iteration": 157,
                        "passed_time": 41.93347397,
                        "remaining_time": 223.46826,
                        "test": [
                          14.62279444
                        ]
                      },
                      {
                        "learn": [
                          13.91500233
                        ],
                        "iteration": 158,
                        "passed_time": 42.20483033,
                        "remaining_time": 223.2343541,
                        "test": [
                          14.62022267
                        ]
                      },
                      {
                        "learn": [
                          13.9074585
                        ],
                        "iteration": 159,
                        "passed_time": 42.4686004,
                        "remaining_time": 222.9601521,
                        "test": [
                          14.61604474
                        ]
                      },
                      {
                        "learn": [
                          13.90050265
                        ],
                        "iteration": 160,
                        "passed_time": 42.73199984,
                        "remaining_time": 222.6841482,
                        "test": [
                          14.61711496
                        ]
                      },
                      {
                        "learn": [
                          13.89373012
                        ],
                        "iteration": 161,
                        "passed_time": 42.96771133,
                        "remaining_time": 222.2650747,
                        "test": [
                          14.6122438
                        ]
                      },
                      {
                        "learn": [
                          13.88528031
                        ],
                        "iteration": 162,
                        "passed_time": 43.20457915,
                        "remaining_time": 221.8541886,
                        "test": [
                          14.60973991
                        ]
                      },
                      {
                        "learn": [
                          13.87602711
                        ],
                        "iteration": 163,
                        "passed_time": 43.45674318,
                        "remaining_time": 221.5233982,
                        "test": [
                          14.60870854
                        ]
                      },
                      {
                        "learn": [
                          13.86884285
                        ],
                        "iteration": 164,
                        "passed_time": 43.71308575,
                        "remaining_time": 221.2147067,
                        "test": [
                          14.60833191
                        ]
                      },
                      {
                        "learn": [
                          13.86299444
                        ],
                        "iteration": 165,
                        "passed_time": 43.98784703,
                        "remaining_time": 220.9991833,
                        "test": [
                          14.60637065
                        ]
                      },
                      {
                        "learn": [
                          13.85622953
                        ],
                        "iteration": 166,
                        "passed_time": 44.21572844,
                        "remaining_time": 220.5491125,
                        "test": [
                          14.60447396
                        ]
                      },
                      {
                        "learn": [
                          13.84831522
                        ],
                        "iteration": 167,
                        "passed_time": 44.45230031,
                        "remaining_time": 220.1447254,
                        "test": [
                          14.60005179
                        ]
                      },
                      {
                        "learn": [
                          13.84221305
                        ],
                        "iteration": 168,
                        "passed_time": 44.67258096,
                        "remaining_time": 219.6622176,
                        "test": [
                          14.59937772
                        ]
                      },
                      {
                        "learn": [
                          13.83536259
                        ],
                        "iteration": 169,
                        "passed_time": 44.90478524,
                        "remaining_time": 219.2410103,
                        "test": [
                          14.59929561
                        ]
                      },
                      {
                        "learn": [
                          13.82664779
                        ],
                        "iteration": 170,
                        "passed_time": 45.1654729,
                        "remaining_time": 218.9600996,
                        "test": [
                          14.59472978
                        ]
                      },
                      {
                        "learn": [
                          13.82177293
                        ],
                        "iteration": 171,
                        "passed_time": 45.3939991,
                        "remaining_time": 218.5246003,
                        "test": [
                          14.59575722
                        ]
                      },
                      {
                        "learn": [
                          13.81273798
                        ],
                        "iteration": 172,
                        "passed_time": 45.69793228,
                        "remaining_time": 218.4519653,
                        "test": [
                          14.59310512
                        ]
                      },
                      {
                        "learn": [
                          13.80529068
                        ],
                        "iteration": 173,
                        "passed_time": 46.00470585,
                        "remaining_time": 218.3901553,
                        "test": [
                          14.58984785
                        ]
                      },
                      {
                        "learn": [
                          13.79546113
                        ],
                        "iteration": 174,
                        "passed_time": 46.3167629,
                        "remaining_time": 218.3504537,
                        "test": [
                          14.58522071
                        ]
                      },
                      {
                        "learn": [
                          13.78714935
                        ],
                        "iteration": 175,
                        "passed_time": 46.6174976,
                        "remaining_time": 218.2546479,
                        "test": [
                          14.583558
                        ]
                      },
                      {
                        "learn": [
                          13.7797626
                        ],
                        "iteration": 176,
                        "passed_time": 46.9003286,
                        "remaining_time": 218.0732793,
                        "test": [
                          14.58079188
                        ]
                      },
                      {
                        "learn": [
                          13.77012725
                        ],
                        "iteration": 177,
                        "passed_time": 47.16235051,
                        "remaining_time": 217.7946748,
                        "test": [
                          14.57734109
                        ]
                      },
                      {
                        "learn": [
                          13.76406619
                        ],
                        "iteration": 178,
                        "passed_time": 47.40967338,
                        "remaining_time": 217.4488371,
                        "test": [
                          14.57910646
                        ]
                      },
                      {
                        "learn": [
                          13.75652151
                        ],
                        "iteration": 179,
                        "passed_time": 47.63745902,
                        "remaining_time": 217.0150911,
                        "test": [
                          14.57717005
                        ]
                      },
                      {
                        "learn": [
                          13.74917934
                        ],
                        "iteration": 180,
                        "passed_time": 47.86803787,
                        "remaining_time": 216.5962597,
                        "test": [
                          14.57288518
                        ]
                      },
                      {
                        "learn": [
                          13.74292803
                        ],
                        "iteration": 181,
                        "passed_time": 48.1263967,
                        "remaining_time": 216.3043544,
                        "test": [
                          14.56941278
                        ]
                      },
                      {
                        "learn": [
                          13.73516663
                        ],
                        "iteration": 182,
                        "passed_time": 48.3925088,
                        "remaining_time": 216.04743,
                        "test": [
                          14.56394459
                        ]
                      },
                      {
                        "learn": [
                          13.72669913
                        ],
                        "iteration": 183,
                        "passed_time": 48.62595474,
                        "remaining_time": 215.6455384,
                        "test": [
                          14.56133362
                        ]
                      },
                      {
                        "learn": [
                          13.72173197
                        ],
                        "iteration": 184,
                        "passed_time": 48.84694099,
                        "remaining_time": 215.1905779,
                        "test": [
                          14.56079688
                        ]
                      },
                      {
                        "learn": [
                          13.71608042
                        ],
                        "iteration": 185,
                        "passed_time": 49.1136484,
                        "remaining_time": 214.9382247,
                        "test": [
                          14.55817299
                        ]
                      },
                      {
                        "learn": [
                          13.70933659
                        ],
                        "iteration": 186,
                        "passed_time": 49.41638127,
                        "remaining_time": 214.8423421,
                        "test": [
                          14.55689504
                        ]
                      },
                      {
                        "learn": [
                          13.70078356
                        ],
                        "iteration": 187,
                        "passed_time": 49.68286568,
                        "remaining_time": 214.5876965,
                        "test": [
                          14.55388171
                        ]
                      },
                      {
                        "learn": [
                          13.69083958
                        ],
                        "iteration": 188,
                        "passed_time": 49.92451916,
                        "remaining_time": 214.2263759,
                        "test": [
                          14.55248148
                        ]
                      },
                      {
                        "learn": [
                          13.68518447
                        ],
                        "iteration": 189,
                        "passed_time": 50.15012833,
                        "remaining_time": 213.7979155,
                        "test": [
                          14.55075159
                        ]
                      },
                      {
                        "learn": [
                          13.68163186
                        ],
                        "iteration": 190,
                        "passed_time": 50.3755978,
                        "remaining_time": 213.3709875,
                        "test": [
                          14.54867299
                        ]
                      },
                      {
                        "learn": [
                          13.67563502
                        ],
                        "iteration": 191,
                        "passed_time": 50.59314793,
                        "remaining_time": 212.9128309,
                        "test": [
                          14.54737855
                        ]
                      },
                      {
                        "learn": [
                          13.6689563
                        ],
                        "iteration": 192,
                        "passed_time": 50.83127765,
                        "remaining_time": 212.543218,
                        "test": [
                          14.54457587
                        ]
                      },
                      {
                        "learn": [
                          13.6637725
                        ],
                        "iteration": 193,
                        "passed_time": 51.05667668,
                        "remaining_time": 212.1220691,
                        "test": [
                          14.54440857
                        ]
                      },
                      {
                        "learn": [
                          13.65667234
                        ],
                        "iteration": 194,
                        "passed_time": 51.29661636,
                        "remaining_time": 211.7629547,
                        "test": [
                          14.54416791
                        ]
                      },
                      {
                        "learn": [
                          13.64636371
                        ],
                        "iteration": 195,
                        "passed_time": 51.55558341,
                        "remaining_time": 211.4831075,
                        "test": [
                          14.53910329
                        ]
                      },
                      {
                        "learn": [
                          13.63729167
                        ],
                        "iteration": 196,
                        "passed_time": 51.81634975,
                        "remaining_time": 211.2108064,
                        "test": [
                          14.53872239
                        ]
                      },
                      {
                        "learn": [
                          13.62843878
                        ],
                        "iteration": 197,
                        "passed_time": 52.06707824,
                        "remaining_time": 210.8979634,
                        "test": [
                          14.53818399
                        ]
                      },
                      {
                        "learn": [
                          13.6232158
                        ],
                        "iteration": 198,
                        "passed_time": 52.3056018,
                        "remaining_time": 210.5366183,
                        "test": [
                          14.53713929
                        ]
                      },
                      {
                        "learn": [
                          13.61563666
                        ],
                        "iteration": 199,
                        "passed_time": 52.56907896,
                        "remaining_time": 210.2763158,
                        "test": [
                          14.53347524
                        ]
                      },
                      {
                        "learn": [
                          13.61054044
                        ],
                        "iteration": 200,
                        "passed_time": 52.78440242,
                        "remaining_time": 209.8245649,
                        "test": [
                          14.5329152
                        ]
                      },
                      {
                        "learn": [
                          13.60653884
                        ],
                        "iteration": 201,
                        "passed_time": 53.00264852,
                        "remaining_time": 209.3867006,
                        "test": [
                          14.53260837
                        ]
                      },
                      {
                        "learn": [
                          13.59774836
                        ],
                        "iteration": 202,
                        "passed_time": 53.24481173,
                        "remaining_time": 209.0449012,
                        "test": [
                          14.52670632
                        ]
                      },
                      {
                        "learn": [
                          13.59062649
                        ],
                        "iteration": 203,
                        "passed_time": 53.46027419,
                        "remaining_time": 208.5998934,
                        "test": [
                          14.52343582
                        ]
                      },
                      {
                        "learn": [
                          13.5863305
                        ],
                        "iteration": 204,
                        "passed_time": 53.67377371,
                        "remaining_time": 208.1495127,
                        "test": [
                          14.52306358
                        ]
                      },
                      {
                        "learn": [
                          13.58182263
                        ],
                        "iteration": 205,
                        "passed_time": 53.91090759,
                        "remaining_time": 207.7925273,
                        "test": [
                          14.52265171
                        ]
                      },
                      {
                        "learn": [
                          13.57304087
                        ],
                        "iteration": 206,
                        "passed_time": 54.18347816,
                        "remaining_time": 207.572455,
                        "test": [
                          14.519003
                        ]
                      },
                      {
                        "learn": [
                          13.56995451
                        ],
                        "iteration": 207,
                        "passed_time": 54.38318636,
                        "remaining_time": 207.0744404,
                        "test": [
                          14.5181493
                        ]
                      },
                      {
                        "learn": [
                          13.56297848
                        ],
                        "iteration": 208,
                        "passed_time": 54.61916721,
                        "remaining_time": 206.7165611,
                        "test": [
                          14.51659368
                        ]
                      },
                      {
                        "learn": [
                          13.55541209
                        ],
                        "iteration": 209,
                        "passed_time": 54.86009651,
                        "remaining_time": 206.3784583,
                        "test": [
                          14.51568121
                        ]
                      },
                      {
                        "learn": [
                          13.55046884
                        ],
                        "iteration": 210,
                        "passed_time": 55.05416365,
                        "remaining_time": 205.8660432,
                        "test": [
                          14.51614695
                        ]
                      },
                      {
                        "learn": [
                          13.5446051
                        ],
                        "iteration": 211,
                        "passed_time": 55.27846588,
                        "remaining_time": 205.4690147,
                        "test": [
                          14.51584554
                        ]
                      },
                      {
                        "learn": [
                          13.53397949
                        ],
                        "iteration": 212,
                        "passed_time": 55.53443106,
                        "remaining_time": 205.1905974,
                        "test": [
                          14.50996146
                        ]
                      },
                      {
                        "learn": [
                          13.52352636
                        ],
                        "iteration": 213,
                        "passed_time": 55.79364662,
                        "remaining_time": 204.9243282,
                        "test": [
                          14.50598728
                        ]
                      },
                      {
                        "learn": [
                          13.51736138
                        ],
                        "iteration": 214,
                        "passed_time": 56.01532375,
                        "remaining_time": 204.5210658,
                        "test": [
                          14.5005952
                        ]
                      },
                      {
                        "learn": [
                          13.50861936
                        ],
                        "iteration": 215,
                        "passed_time": 56.25681627,
                        "remaining_time": 204.1914072,
                        "test": [
                          14.49825476
                        ]
                      },
                      {
                        "learn": [
                          13.4991466
                        ],
                        "iteration": 216,
                        "passed_time": 56.52937164,
                        "remaining_time": 203.9746451,
                        "test": [
                          14.4962199
                        ]
                      },
                      {
                        "learn": [
                          13.49168213
                        ],
                        "iteration": 217,
                        "passed_time": 56.75523171,
                        "remaining_time": 203.5898679,
                        "test": [
                          14.49434436
                        ]
                      },
                      {
                        "learn": [
                          13.48368809
                        ],
                        "iteration": 218,
                        "passed_time": 56.98566589,
                        "remaining_time": 203.2228542,
                        "test": [
                          14.49044449
                        ]
                      },
                      {
                        "learn": [
                          13.47746353
                        ],
                        "iteration": 219,
                        "passed_time": 57.22476902,
                        "remaining_time": 202.8878174,
                        "test": [
                          14.48835061
                        ]
                      },
                      {
                        "learn": [
                          13.47009963
                        ],
                        "iteration": 220,
                        "passed_time": 57.46046109,
                        "remaining_time": 202.5416253,
                        "test": [
                          14.48504414
                        ]
                      },
                      {
                        "learn": [
                          13.46451029
                        ],
                        "iteration": 221,
                        "passed_time": 57.67350156,
                        "remaining_time": 202.117046,
                        "test": [
                          14.48413216
                        ]
                      },
                      {
                        "learn": [
                          13.45667829
                        ],
                        "iteration": 222,
                        "passed_time": 57.9281934,
                        "remaining_time": 201.83949,
                        "test": [
                          14.48203158
                        ]
                      },
                      {
                        "learn": [
                          13.45010074
                        ],
                        "iteration": 223,
                        "passed_time": 58.16088828,
                        "remaining_time": 201.4859344,
                        "test": [
                          14.48003831
                        ]
                      },
                      {
                        "learn": [
                          13.44487491
                        ],
                        "iteration": 224,
                        "passed_time": 58.38223311,
                        "remaining_time": 201.0943585,
                        "test": [
                          14.47909787
                        ]
                      },
                      {
                        "learn": [
                          13.43841827
                        ],
                        "iteration": 225,
                        "passed_time": 58.66173764,
                        "remaining_time": 200.9034731,
                        "test": [
                          14.47874601
                        ]
                      },
                      {
                        "learn": [
                          13.43264485
                        ],
                        "iteration": 226,
                        "passed_time": 58.8960807,
                        "remaining_time": 200.5580193,
                        "test": [
                          14.47601203
                        ]
                      },
                      {
                        "learn": [
                          13.42539432
                        ],
                        "iteration": 227,
                        "passed_time": 59.14533889,
                        "remaining_time": 200.2640422,
                        "test": [
                          14.47429205
                        ]
                      },
                      {
                        "learn": [
                          13.41600845
                        ],
                        "iteration": 228,
                        "passed_time": 59.4010859,
                        "remaining_time": 199.9923023,
                        "test": [
                          14.47164089
                        ]
                      },
                      {
                        "learn": [
                          13.41022984
                        ],
                        "iteration": 229,
                        "passed_time": 59.61773445,
                        "remaining_time": 199.5898066,
                        "test": [
                          14.47097822
                        ]
                      },
                      {
                        "learn": [
                          13.4044161
                        ],
                        "iteration": 230,
                        "passed_time": 59.84278771,
                        "remaining_time": 199.2168994,
                        "test": [
                          14.47227784
                        ]
                      },
                      {
                        "learn": [
                          13.39831845
                        ],
                        "iteration": 231,
                        "passed_time": 60.09859879,
                        "remaining_time": 198.9470857,
                        "test": [
                          14.47196972
                        ]
                      },
                      {
                        "learn": [
                          13.39346625
                        ],
                        "iteration": 232,
                        "passed_time": 60.38566708,
                        "remaining_time": 198.7802861,
                        "test": [
                          14.47266712
                        ]
                      },
                      {
                        "learn": [
                          13.3860445
                        ],
                        "iteration": 233,
                        "passed_time": 60.6690926,
                        "remaining_time": 198.6005339,
                        "test": [
                          14.46983175
                        ]
                      },
                      {
                        "learn": [
                          13.38022742
                        ],
                        "iteration": 234,
                        "passed_time": 60.91237198,
                        "remaining_time": 198.2892109,
                        "test": [
                          14.46770175
                        ]
                      },
                      {
                        "learn": [
                          13.3722053
                        ],
                        "iteration": 235,
                        "passed_time": 61.17701007,
                        "remaining_time": 198.0476089,
                        "test": [
                          14.46628903
                        ]
                      },
                      {
                        "learn": [
                          13.36840632
                        ],
                        "iteration": 236,
                        "passed_time": 61.39322482,
                        "remaining_time": 197.6499179,
                        "test": [
                          14.46704305
                        ]
                      },
                      {
                        "learn": [
                          13.36359484
                        ],
                        "iteration": 237,
                        "passed_time": 61.64642835,
                        "remaining_time": 197.3721782,
                        "test": [
                          14.46609928
                        ]
                      },
                      {
                        "learn": [
                          13.3579919
                        ],
                        "iteration": 238,
                        "passed_time": 61.88655224,
                        "remaining_time": 197.0529969,
                        "test": [
                          14.46480408
                        ]
                      },
                      {
                        "learn": [
                          13.35217966
                        ],
                        "iteration": 239,
                        "passed_time": 62.11733352,
                        "remaining_time": 196.7048895,
                        "test": [
                          14.46199121
                        ]
                      },
                      {
                        "learn": [
                          13.34859814
                        ],
                        "iteration": 240,
                        "passed_time": 62.32948986,
                        "remaining_time": 196.2990988,
                        "test": [
                          14.46062352
                        ]
                      },
                      {
                        "learn": [
                          13.34260256
                        ],
                        "iteration": 241,
                        "passed_time": 62.57869671,
                        "remaining_time": 196.0109591,
                        "test": [
                          14.45955167
                        ]
                      },
                      {
                        "learn": [
                          13.33690811
                        ],
                        "iteration": 242,
                        "passed_time": 62.80183798,
                        "remaining_time": 195.6419397,
                        "test": [
                          14.45885529
                        ]
                      },
                      {
                        "learn": [
                          13.32787953
                        ],
                        "iteration": 243,
                        "passed_time": 63.06230381,
                        "remaining_time": 195.389761,
                        "test": [
                          14.45573445
                        ]
                      },
                      {
                        "learn": [
                          13.32105975
                        ],
                        "iteration": 244,
                        "passed_time": 63.32368983,
                        "remaining_time": 195.1403503,
                        "test": [
                          14.4529986
                        ]
                      },
                      {
                        "learn": [
                          13.31475511
                        ],
                        "iteration": 245,
                        "passed_time": 63.55922041,
                        "remaining_time": 194.8115943,
                        "test": [
                          14.4519353
                        ]
                      },
                      {
                        "learn": [
                          13.30674307
                        ],
                        "iteration": 246,
                        "passed_time": 63.80308647,
                        "remaining_time": 194.5090045,
                        "test": [
                          14.4498682
                        ]
                      },
                      {
                        "learn": [
                          13.30080433
                        ],
                        "iteration": 247,
                        "passed_time": 64.03311791,
                        "remaining_time": 194.1649382,
                        "test": [
                          14.44934806
                        ]
                      },
                      {
                        "learn": [
                          13.29244253
                        ],
                        "iteration": 248,
                        "passed_time": 64.27283111,
                        "remaining_time": 193.8509886,
                        "test": [
                          14.4502979
                        ]
                      },
                      {
                        "learn": [
                          13.28610626
                        ],
                        "iteration": 249,
                        "passed_time": 64.52781688,
                        "remaining_time": 193.5834506,
                        "test": [
                          14.45009467
                        ]
                      },
                      {
                        "learn": [
                          13.28165535
                        ],
                        "iteration": 250,
                        "passed_time": 64.75406238,
                        "remaining_time": 193.2302499,
                        "test": [
                          14.44965169
                        ]
                      },
                      {
                        "learn": [
                          13.27683049
                        ],
                        "iteration": 251,
                        "passed_time": 64.96875817,
                        "remaining_time": 192.8437743,
                        "test": [
                          14.44876153
                        ]
                      },
                      {
                        "learn": [
                          13.27505927
                        ],
                        "iteration": 252,
                        "passed_time": 65.16317886,
                        "remaining_time": 192.3987929,
                        "test": [
                          14.44884118
                        ]
                      },
                      {
                        "learn": [
                          13.26950658
                        ],
                        "iteration": 253,
                        "passed_time": 65.3902795,
                        "remaining_time": 192.0517658,
                        "test": [
                          14.44712709
                        ]
                      },
                      {
                        "learn": [
                          13.26399992
                        ],
                        "iteration": 254,
                        "passed_time": 65.60086052,
                        "remaining_time": 191.657416,
                        "test": [
                          14.44661183
                        ]
                      },
                      {
                        "learn": [
                          13.25775494
                        ],
                        "iteration": 255,
                        "passed_time": 65.83241073,
                        "remaining_time": 191.3254437,
                        "test": [
                          14.44468089
                        ]
                      },
                      {
                        "learn": [
                          13.2525695
                        ],
                        "iteration": 256,
                        "passed_time": 66.04518685,
                        "remaining_time": 190.939976,
                        "test": [
                          14.44441368
                        ]
                      },
                      {
                        "learn": [
                          13.24740692
                        ],
                        "iteration": 257,
                        "passed_time": 66.29909052,
                        "remaining_time": 190.6741285,
                        "test": [
                          14.44376803
                        ]
                      },
                      {
                        "learn": [
                          13.24069871
                        ],
                        "iteration": 258,
                        "passed_time": 66.52795257,
                        "remaining_time": 190.3367292,
                        "test": [
                          14.44307338
                        ]
                      },
                      {
                        "learn": [
                          13.23672795
                        ],
                        "iteration": 259,
                        "passed_time": 66.72448655,
                        "remaining_time": 189.908154,
                        "test": [
                          14.44139762
                        ]
                      },
                      {
                        "learn": [
                          13.23026079
                        ],
                        "iteration": 260,
                        "passed_time": 66.95852074,
                        "remaining_time": 189.5875357,
                        "test": [
                          14.43896623
                        ]
                      },
                      {
                        "learn": [
                          13.22292196
                        ],
                        "iteration": 261,
                        "passed_time": 67.19384165,
                        "remaining_time": 189.2712028,
                        "test": [
                          14.43792348
                        ]
                      },
                      {
                        "learn": [
                          13.21777546
                        ],
                        "iteration": 262,
                        "passed_time": 67.41838455,
                        "remaining_time": 188.9252829,
                        "test": [
                          14.43597726
                        ]
                      },
                      {
                        "learn": [
                          13.21077544
                        ],
                        "iteration": 263,
                        "passed_time": 67.65674839,
                        "remaining_time": 188.6188137,
                        "test": [
                          14.43581867
                        ]
                      },
                      {
                        "learn": [
                          13.20689416
                        ],
                        "iteration": 264,
                        "passed_time": 67.8686433,
                        "remaining_time": 188.2394446,
                        "test": [
                          14.43535283
                        ]
                      },
                      {
                        "learn": [
                          13.20289416
                        ],
                        "iteration": 265,
                        "passed_time": 68.10419128,
                        "remaining_time": 187.926603,
                        "test": [
                          14.43358897
                        ]
                      },
                      {
                        "learn": [
                          13.19450983
                        ],
                        "iteration": 266,
                        "passed_time": 68.33567591,
                        "remaining_time": 187.6031852,
                        "test": [
                          14.43193454
                        ]
                      },
                      {
                        "learn": [
                          13.18739292
                        ],
                        "iteration": 267,
                        "passed_time": 68.59501165,
                        "remaining_time": 187.3565244,
                        "test": [
                          14.42901723
                        ]
                      },
                      {
                        "learn": [
                          13.17991698
                        ],
                        "iteration": 268,
                        "passed_time": 68.83134433,
                        "remaining_time": 187.0472591,
                        "test": [
                          14.42575283
                        ]
                      },
                      {
                        "learn": [
                          13.17266022
                        ],
                        "iteration": 269,
                        "passed_time": 69.08902821,
                        "remaining_time": 186.7962615,
                        "test": [
                          14.42289494
                        ]
                      },
                      {
                        "learn": [
                          13.16776857
                        ],
                        "iteration": 270,
                        "passed_time": 69.30335396,
                        "remaining_time": 186.4285795,
                        "test": [
                          14.42189841
                        ]
                      },
                      {
                        "learn": [
                          13.16185137
                        ],
                        "iteration": 271,
                        "passed_time": 69.55439394,
                        "remaining_time": 186.1602897,
                        "test": [
                          14.42024928
                        ]
                      },
                      {
                        "learn": [
                          13.15477238
                        ],
                        "iteration": 272,
                        "passed_time": 69.80671135,
                        "remaining_time": 185.895528,
                        "test": [
                          14.41843952
                        ]
                      },
                      {
                        "learn": [
                          13.15151084
                        ],
                        "iteration": 273,
                        "passed_time": 69.99636066,
                        "remaining_time": 185.4648096,
                        "test": [
                          14.41708184
                        ]
                      },
                      {
                        "learn": [
                          13.14563193
                        ],
                        "iteration": 274,
                        "passed_time": 70.23465195,
                        "remaining_time": 185.1640824,
                        "test": [
                          14.41690142
                        ]
                      },
                      {
                        "learn": [
                          13.13875543
                        ],
                        "iteration": 275,
                        "passed_time": 70.50203659,
                        "remaining_time": 184.940125,
                        "test": [
                          14.41612648
                        ]
                      },
                      {
                        "learn": [
                          13.13211222
                        ],
                        "iteration": 276,
                        "passed_time": 70.76367923,
                        "remaining_time": 184.7008667,
                        "test": [
                          14.41409998
                        ]
                      },
                      {
                        "learn": [
                          13.12537751
                        ],
                        "iteration": 277,
                        "passed_time": 70.99362806,
                        "remaining_time": 184.3791347,
                        "test": [
                          14.41252898
                        ]
                      },
                      {
                        "learn": [
                          13.11952252
                        ],
                        "iteration": 278,
                        "passed_time": 71.24250574,
                        "remaining_time": 184.1069772,
                        "test": [
                          14.41059098
                        ]
                      },
                      {
                        "learn": [
                          13.11444102
                        ],
                        "iteration": 279,
                        "passed_time": 71.46638579,
                        "remaining_time": 183.7707063,
                        "test": [
                          14.41020917
                        ]
                      },
                      {
                        "learn": [
                          13.10771964
                        ],
                        "iteration": 280,
                        "passed_time": 71.72084633,
                        "remaining_time": 183.5134822,
                        "test": [
                          14.40812942
                        ]
                      },
                      {
                        "learn": [
                          13.10434393
                        ],
                        "iteration": 281,
                        "passed_time": 71.93136199,
                        "remaining_time": 183.1443897,
                        "test": [
                          14.40772509
                        ]
                      },
                      {
                        "learn": [
                          13.09787548
                        ],
                        "iteration": 282,
                        "passed_time": 72.16311297,
                        "remaining_time": 182.8302191,
                        "test": [
                          14.40628402
                        ]
                      },
                      {
                        "learn": [
                          13.09131363
                        ],
                        "iteration": 283,
                        "passed_time": 72.40114035,
                        "remaining_time": 182.5324524,
                        "test": [
                          14.40611345
                        ]
                      },
                      {
                        "learn": [
                          13.08667876
                        ],
                        "iteration": 284,
                        "passed_time": 72.61550309,
                        "remaining_time": 182.1757358,
                        "test": [
                          14.40625823
                        ]
                      },
                      {
                        "learn": [
                          13.08116249
                        ],
                        "iteration": 285,
                        "passed_time": 72.84032906,
                        "remaining_time": 181.8461362,
                        "test": [
                          14.40491604
                        ]
                      },
                      {
                        "learn": [
                          13.0743158
                        ],
                        "iteration": 286,
                        "passed_time": 73.07245841,
                        "remaining_time": 181.5354106,
                        "test": [
                          14.40184344
                        ]
                      },
                      {
                        "learn": [
                          13.0695286
                        ],
                        "iteration": 287,
                        "passed_time": 73.28984557,
                        "remaining_time": 181.1887849,
                        "test": [
                          14.40248931
                        ]
                      },
                      {
                        "learn": [
                          13.06491353
                        ],
                        "iteration": 288,
                        "passed_time": 73.52566109,
                        "remaining_time": 180.8883911,
                        "test": [
                          14.40215806
                        ]
                      },
                      {
                        "learn": [
                          13.05923798
                        ],
                        "iteration": 289,
                        "passed_time": 73.77766509,
                        "remaining_time": 180.6280766,
                        "test": [
                          14.40326581
                        ]
                      },
                      {
                        "learn": [
                          13.05535848
                        ],
                        "iteration": 290,
                        "passed_time": 73.98987142,
                        "remaining_time": 180.2708551,
                        "test": [
                          14.40232785
                        ]
                      },
                      {
                        "learn": [
                          13.04839674
                        ],
                        "iteration": 291,
                        "passed_time": 74.23378835,
                        "remaining_time": 179.9915142,
                        "test": [
                          14.39978247
                        ]
                      },
                      {
                        "learn": [
                          13.04498271
                        ],
                        "iteration": 292,
                        "passed_time": 74.4971224,
                        "remaining_time": 179.759268,
                        "test": [
                          14.40021533
                        ]
                      },
                      {
                        "learn": [
                          13.04190375
                        ],
                        "iteration": 293,
                        "passed_time": 74.75640513,
                        "remaining_time": 179.5170817,
                        "test": [
                          14.40011294
                        ]
                      },
                      {
                        "learn": [
                          13.03609818
                        ],
                        "iteration": 294,
                        "passed_time": 75.02354006,
                        "remaining_time": 179.2935449,
                        "test": [
                          14.39964512
                        ]
                      },
                      {
                        "learn": [
                          13.03220857
                        ],
                        "iteration": 295,
                        "passed_time": 75.28457534,
                        "remaining_time": 179.0552062,
                        "test": [
                          14.39928383
                        ]
                      },
                      {
                        "learn": [
                          13.02999836
                        ],
                        "iteration": 296,
                        "passed_time": 75.5466611,
                        "remaining_time": 178.8192012,
                        "test": [
                          14.39820158
                        ]
                      },
                      {
                        "learn": [
                          13.0229867
                        ],
                        "iteration": 297,
                        "passed_time": 75.8712587,
                        "remaining_time": 178.7302806,
                        "test": [
                          14.39662384
                        ]
                      },
                      {
                        "learn": [
                          13.01826488
                        ],
                        "iteration": 298,
                        "passed_time": 76.13232947,
                        "remaining_time": 178.490846,
                        "test": [
                          14.39745228
                        ]
                      },
                      {
                        "learn": [
                          13.01409637
                        ],
                        "iteration": 299,
                        "passed_time": 76.40790673,
                        "remaining_time": 178.2851157,
                        "test": [
                          14.39671876
                        ]
                      },
                      {
                        "learn": [
                          13.00771759
                        ],
                        "iteration": 300,
                        "passed_time": 76.67869946,
                        "remaining_time": 178.0678104,
                        "test": [
                          14.3948286
                        ]
                      },
                      {
                        "learn": [
                          13.00021763
                        ],
                        "iteration": 301,
                        "passed_time": 76.91527304,
                        "remaining_time": 177.7710615,
                        "test": [
                          14.39346869
                        ]
                      },
                      {
                        "learn": [
                          12.99631083
                        ],
                        "iteration": 302,
                        "passed_time": 77.12961582,
                        "remaining_time": 177.4235717,
                        "test": [
                          14.39461292
                        ]
                      },
                      {
                        "learn": [
                          12.99048811
                        ],
                        "iteration": 303,
                        "passed_time": 77.3569469,
                        "remaining_time": 177.1066942,
                        "test": [
                          14.39186545
                        ]
                      },
                      {
                        "learn": [
                          12.98386137
                        ],
                        "iteration": 304,
                        "passed_time": 77.58824999,
                        "remaining_time": 176.7994549,
                        "test": [
                          14.38954064
                        ]
                      },
                      {
                        "learn": [
                          12.97771899
                        ],
                        "iteration": 305,
                        "passed_time": 77.82400624,
                        "remaining_time": 176.5028115,
                        "test": [
                          14.39009043
                        ]
                      },
                      {
                        "learn": [
                          12.97440833
                        ],
                        "iteration": 306,
                        "passed_time": 78.05924184,
                        "remaining_time": 176.2053896,
                        "test": [
                          14.39028452
                        ]
                      },
                      {
                        "learn": [
                          12.96647676
                        ],
                        "iteration": 307,
                        "passed_time": 78.30699079,
                        "remaining_time": 175.9364858,
                        "test": [
                          14.38873175
                        ]
                      },
                      {
                        "learn": [
                          12.96013791
                        ],
                        "iteration": 308,
                        "passed_time": 78.55259507,
                        "remaining_time": 175.662923,
                        "test": [
                          14.3855282
                        ]
                      },
                      {
                        "learn": [
                          12.95619265
                        ],
                        "iteration": 309,
                        "passed_time": 78.77765605,
                        "remaining_time": 175.3438151,
                        "test": [
                          14.38448908
                        ]
                      },
                      {
                        "learn": [
                          12.95256412
                        ],
                        "iteration": 310,
                        "passed_time": 78.96277636,
                        "remaining_time": 174.9368261,
                        "test": [
                          14.38426658
                        ]
                      },
                      {
                        "learn": [
                          12.9465694
                        ],
                        "iteration": 311,
                        "passed_time": 79.21052826,
                        "remaining_time": 174.66937,
                        "test": [
                          14.38361573
                        ]
                      },
                      {
                        "learn": [
                          12.94207444
                        ],
                        "iteration": 312,
                        "passed_time": 79.46421887,
                        "remaining_time": 174.4150746,
                        "test": [
                          14.38356823
                        ]
                      },
                      {
                        "learn": [
                          12.93671289
                        ],
                        "iteration": 313,
                        "passed_time": 79.78990511,
                        "remaining_time": 174.3180729,
                        "test": [
                          14.3815088
                        ]
                      },
                      {
                        "learn": [
                          12.93192666
                        ],
                        "iteration": 314,
                        "passed_time": 80.08014937,
                        "remaining_time": 174.142547,
                        "test": [
                          14.38009428
                        ]
                      },
                      {
                        "learn": [
                          12.92440776
                        ],
                        "iteration": 315,
                        "passed_time": 80.32125519,
                        "remaining_time": 173.8599321,
                        "test": [
                          14.37837701
                        ]
                      },
                      {
                        "learn": [
                          12.91973668
                        ],
                        "iteration": 316,
                        "passed_time": 80.5625845,
                        "remaining_time": 173.5780606,
                        "test": [
                          14.37697302
                        ]
                      },
                      {
                        "learn": [
                          12.91409247
                        ],
                        "iteration": 317,
                        "passed_time": 80.84110408,
                        "remaining_time": 173.3762043,
                        "test": [
                          14.37316723
                        ]
                      },
                      {
                        "learn": [
                          12.90951145
                        ],
                        "iteration": 318,
                        "passed_time": 81.10870119,
                        "remaining_time": 173.1505502,
                        "test": [
                          14.37250921
                        ]
                      },
                      {
                        "learn": [
                          12.90558555
                        ],
                        "iteration": 319,
                        "passed_time": 81.33109121,
                        "remaining_time": 172.8285688,
                        "test": [
                          14.3718303
                        ]
                      },
                      {
                        "learn": [
                          12.9011813
                        ],
                        "iteration": 320,
                        "passed_time": 81.5449604,
                        "remaining_time": 172.4891842,
                        "test": [
                          14.3705166
                        ]
                      },
                      {
                        "learn": [
                          12.89612021
                        ],
                        "iteration": 321,
                        "passed_time": 81.77228207,
                        "remaining_time": 172.1789045,
                        "test": [
                          14.36771613
                        ]
                      },
                      {
                        "learn": [
                          12.89186013
                        ],
                        "iteration": 322,
                        "passed_time": 81.994943,
                        "remaining_time": 171.8593697,
                        "test": [
                          14.36530481
                        ]
                      },
                      {
                        "learn": [
                          12.88676468
                        ],
                        "iteration": 323,
                        "passed_time": 82.20998231,
                        "remaining_time": 171.524531,
                        "test": [
                          14.36673079
                        ]
                      },
                      {
                        "learn": [
                          12.88150714
                        ],
                        "iteration": 324,
                        "passed_time": 82.419488,
                        "remaining_time": 171.1789366,
                        "test": [
                          14.3669836
                        ]
                      },
                      {
                        "learn": [
                          12.87407566
                        ],
                        "iteration": 325,
                        "passed_time": 82.65564888,
                        "remaining_time": 170.8892863,
                        "test": [
                          14.36491178
                        ]
                      },
                      {
                        "learn": [
                          12.87050455
                        ],
                        "iteration": 326,
                        "passed_time": 82.87229491,
                        "remaining_time": 170.5597996,
                        "test": [
                          14.36446784
                        ]
                      },
                      {
                        "learn": [
                          12.86431271
                        ],
                        "iteration": 327,
                        "passed_time": 83.10474132,
                        "remaining_time": 170.2633725,
                        "test": [
                          14.36333122
                        ]
                      },
                      {
                        "learn": [
                          12.85884369
                        ],
                        "iteration": 328,
                        "passed_time": 83.35694851,
                        "remaining_time": 170.0076366,
                        "test": [
                          14.36376268
                        ]
                      },
                      {
                        "learn": [
                          12.85540776
                        ],
                        "iteration": 329,
                        "passed_time": 83.54426962,
                        "remaining_time": 169.6201838,
                        "test": [
                          14.36402889
                        ]
                      },
                      {
                        "learn": [
                          12.84838246
                        ],
                        "iteration": 330,
                        "passed_time": 83.79350941,
                        "remaining_time": 169.359087,
                        "test": [
                          14.36354988
                        ]
                      },
                      {
                        "learn": [
                          12.84290852
                        ],
                        "iteration": 331,
                        "passed_time": 84.04276012,
                        "remaining_time": 169.0980836,
                        "test": [
                          14.362288
                        ]
                      },
                      {
                        "learn": [
                          12.83928905
                        ],
                        "iteration": 332,
                        "passed_time": 84.25323874,
                        "remaining_time": 168.7594902,
                        "test": [
                          14.36157355
                        ]
                      },
                      {
                        "learn": [
                          12.83120436
                        ],
                        "iteration": 333,
                        "passed_time": 84.49615685,
                        "remaining_time": 168.4863487,
                        "test": [
                          14.35933566
                        ]
                      },
                      {
                        "learn": [
                          12.82573337
                        ],
                        "iteration": 334,
                        "passed_time": 84.71776721,
                        "remaining_time": 168.1710901,
                        "test": [
                          14.36192493
                        ]
                      },
                      {
                        "learn": [
                          12.81973779
                        ],
                        "iteration": 335,
                        "passed_time": 84.9808384,
                        "remaining_time": 167.9383235,
                        "test": [
                          14.36185065
                        ]
                      },
                      {
                        "learn": [
                          12.81474464
                        ],
                        "iteration": 336,
                        "passed_time": 85.20843948,
                        "remaining_time": 167.6355946,
                        "test": [
                          14.36096006
                        ]
                      },
                      {
                        "learn": [
                          12.81009626
                        ],
                        "iteration": 337,
                        "passed_time": 85.44034445,
                        "remaining_time": 167.3417397,
                        "test": [
                          14.36053437
                        ]
                      },
                      {
                        "learn": [
                          12.80634349
                        ],
                        "iteration": 338,
                        "passed_time": 85.64776432,
                        "remaining_time": 167.000508,
                        "test": [
                          14.35978227
                        ]
                      },
                      {
                        "learn": [
                          12.80185407
                        ],
                        "iteration": 339,
                        "passed_time": 85.86362376,
                        "remaining_time": 166.6764461,
                        "test": [
                          14.35835392
                        ]
                      },
                      {
                        "learn": [
                          12.79688016
                        ],
                        "iteration": 340,
                        "passed_time": 86.1039743,
                        "remaining_time": 166.4003492,
                        "test": [
                          14.35879137
                        ]
                      },
                      {
                        "learn": [
                          12.79173142
                        ],
                        "iteration": 341,
                        "passed_time": 86.33123487,
                        "remaining_time": 166.0992764,
                        "test": [
                          14.35811516
                        ]
                      },
                      {
                        "learn": [
                          12.78813215
                        ],
                        "iteration": 342,
                        "passed_time": 86.52097453,
                        "remaining_time": 165.7267646,
                        "test": [
                          14.35760756
                        ]
                      },
                      {
                        "learn": [
                          12.78251378
                        ],
                        "iteration": 343,
                        "passed_time": 86.75646123,
                        "remaining_time": 165.442554,
                        "test": [
                          14.35500665
                        ]
                      },
                      {
                        "learn": [
                          12.78101125
                        ],
                        "iteration": 344,
                        "passed_time": 86.95493873,
                        "remaining_time": 165.0883619,
                        "test": [
                          14.35434696
                        ]
                      },
                      {
                        "learn": [
                          12.77670106
                        ],
                        "iteration": 345,
                        "passed_time": 87.2025113,
                        "remaining_time": 164.8278682,
                        "test": [
                          14.35400207
                        ]
                      },
                      {
                        "learn": [
                          12.77124098
                        ],
                        "iteration": 346,
                        "passed_time": 87.43080001,
                        "remaining_time": 164.5311597,
                        "test": [
                          14.35419581
                        ]
                      },
                      {
                        "learn": [
                          12.76826408
                        ],
                        "iteration": 347,
                        "passed_time": 87.62826302,
                        "remaining_time": 164.1770905,
                        "test": [
                          14.35371897
                        ]
                      },
                      {
                        "learn": [
                          12.76344052
                        ],
                        "iteration": 348,
                        "passed_time": 87.84606975,
                        "remaining_time": 163.8618665,
                        "test": [
                          14.35169785
                        ]
                      },
                      {
                        "learn": [
                          12.7589252
                        ],
                        "iteration": 349,
                        "passed_time": 88.09357754,
                        "remaining_time": 163.6023583,
                        "test": [
                          14.34917023
                        ]
                      },
                      {
                        "learn": [
                          12.75338795
                        ],
                        "iteration": 350,
                        "passed_time": 88.33351258,
                        "remaining_time": 163.3289164,
                        "test": [
                          14.34883357
                        ]
                      },
                      {
                        "learn": [
                          12.74633981
                        ],
                        "iteration": 351,
                        "passed_time": 88.58906412,
                        "remaining_time": 163.0844135,
                        "test": [
                          14.34716017
                        ]
                      },
                      {
                        "learn": [
                          12.7413894
                        ],
                        "iteration": 352,
                        "passed_time": 88.90648897,
                        "remaining_time": 162.9532532,
                        "test": [
                          14.34716435
                        ]
                      },
                      {
                        "learn": [
                          12.73978745
                        ],
                        "iteration": 353,
                        "passed_time": 89.17202318,
                        "remaining_time": 162.7263474,
                        "test": [
                          14.34640487
                        ]
                      },
                      {
                        "learn": [
                          12.73351086
                        ],
                        "iteration": 354,
                        "passed_time": 89.46094279,
                        "remaining_time": 162.541713,
                        "test": [
                          14.34624277
                        ]
                      },
                      {
                        "learn": [
                          12.72624541
                        ],
                        "iteration": 355,
                        "passed_time": 89.73794931,
                        "remaining_time": 162.334942,
                        "test": [
                          14.34582332
                        ]
                      },
                      {
                        "learn": [
                          12.7196926
                        ],
                        "iteration": 356,
                        "passed_time": 90.03642832,
                        "remaining_time": 162.1664521,
                        "test": [
                          14.34515819
                        ]
                      },
                      {
                        "learn": [
                          12.71332877
                        ],
                        "iteration": 357,
                        "passed_time": 90.33164422,
                        "remaining_time": 161.9913843,
                        "test": [
                          14.34281578
                        ]
                      },
                      {
                        "learn": [
                          12.70874895
                        ],
                        "iteration": 358,
                        "passed_time": 90.62828997,
                        "remaining_time": 161.8182002,
                        "test": [
                          14.34282331
                        ]
                      },
                      {
                        "learn": [
                          12.70205261
                        ],
                        "iteration": 359,
                        "passed_time": 90.93520185,
                        "remaining_time": 161.6625811,
                        "test": [
                          14.33986362
                        ]
                      },
                      {
                        "learn": [
                          12.69480316
                        ],
                        "iteration": 360,
                        "passed_time": 91.24791337,
                        "remaining_time": 161.5163896,
                        "test": [
                          14.34031418
                        ]
                      },
                      {
                        "learn": [
                          12.68983642
                        ],
                        "iteration": 361,
                        "passed_time": 91.5106521,
                        "remaining_time": 161.2812045,
                        "test": [
                          14.34109739
                        ]
                      },
                      {
                        "learn": [
                          12.68442638
                        ],
                        "iteration": 362,
                        "passed_time": 91.80685749,
                        "remaining_time": 161.1045956,
                        "test": [
                          14.33788654
                        ]
                      },
                      {
                        "learn": [
                          12.68012826
                        ],
                        "iteration": 363,
                        "passed_time": 92.07041575,
                        "remaining_time": 160.8702869,
                        "test": [
                          14.33844416
                        ]
                      },
                      {
                        "learn": [
                          12.67455943
                        ],
                        "iteration": 364,
                        "passed_time": 92.35254254,
                        "remaining_time": 160.6681219,
                        "test": [
                          14.33857541
                        ]
                      },
                      {
                        "learn": [
                          12.67271301
                        ],
                        "iteration": 365,
                        "passed_time": 92.54863613,
                        "remaining_time": 160.3164899,
                        "test": [
                          14.33907617
                        ]
                      },
                      {
                        "learn": [
                          12.67014632
                        ],
                        "iteration": 366,
                        "passed_time": 92.74641959,
                        "remaining_time": 159.9686202,
                        "test": [
                          14.338185
                        ]
                      },
                      {
                        "learn": [
                          12.66448033
                        ],
                        "iteration": 367,
                        "passed_time": 92.99118024,
                        "remaining_time": 159.7022443,
                        "test": [
                          14.33699112
                        ]
                      },
                      {
                        "learn": [
                          12.65986864
                        ],
                        "iteration": 368,
                        "passed_time": 93.21837507,
                        "remaining_time": 159.4059476,
                        "test": [
                          14.33658645
                        ]
                      },
                      {
                        "learn": [
                          12.65558586
                        ],
                        "iteration": 369,
                        "passed_time": 93.44190088,
                        "remaining_time": 159.1037772,
                        "test": [
                          14.33476361
                        ]
                      },
                      {
                        "learn": [
                          12.65181474
                        ],
                        "iteration": 370,
                        "passed_time": 93.68622327,
                        "remaining_time": 158.8372896,
                        "test": [
                          14.33475191
                        ]
                      },
                      {
                        "learn": [
                          12.64449239
                        ],
                        "iteration": 371,
                        "passed_time": 93.91907382,
                        "remaining_time": 158.5515547,
                        "test": [
                          14.3347611
                        ]
                      },
                      {
                        "learn": [
                          12.6394651
                        ],
                        "iteration": 372,
                        "passed_time": 94.16144054,
                        "remaining_time": 158.2820998,
                        "test": [
                          14.33228151
                        ]
                      },
                      {
                        "learn": [
                          12.63526459
                        ],
                        "iteration": 373,
                        "passed_time": 94.38960029,
                        "remaining_time": 157.9890101,
                        "test": [
                          14.33259012
                        ]
                      },
                      {
                        "learn": [
                          12.63256454
                        ],
                        "iteration": 374,
                        "passed_time": 94.60221781,
                        "remaining_time": 157.670363,
                        "test": [
                          14.33276074
                        ]
                      },
                      {
                        "learn": [
                          12.62736161
                        ],
                        "iteration": 375,
                        "passed_time": 94.82474581,
                        "remaining_time": 157.3687271,
                        "test": [
                          14.33330685
                        ]
                      },
                      {
                        "learn": [
                          12.62042975
                        ],
                        "iteration": 376,
                        "passed_time": 95.05530006,
                        "remaining_time": 157.0807744,
                        "test": [
                          14.33477532
                        ]
                      },
                      {
                        "learn": [
                          12.61551212
                        ],
                        "iteration": 377,
                        "passed_time": 95.3170852,
                        "remaining_time": 156.8445159,
                        "test": [
                          14.33301498
                        ]
                      },
                      {
                        "learn": [
                          12.61245094
                        ],
                        "iteration": 378,
                        "passed_time": 95.52559933,
                        "remaining_time": 156.5208369,
                        "test": [
                          14.33287782
                        ]
                      },
                      {
                        "learn": [
                          12.60748171
                        ],
                        "iteration": 379,
                        "passed_time": 95.76910826,
                        "remaining_time": 156.2548608,
                        "test": [
                          14.33340888
                        ]
                      },
                      {
                        "learn": [
                          12.60376753
                        ],
                        "iteration": 380,
                        "passed_time": 95.99101662,
                        "remaining_time": 155.9539089,
                        "test": [
                          14.33383204
                        ]
                      },
                      {
                        "learn": [
                          12.59933723
                        ],
                        "iteration": 381,
                        "passed_time": 96.21768385,
                        "remaining_time": 155.6610697,
                        "test": [
                          14.33298989
                        ]
                      },
                      {
                        "learn": [
                          12.59469788
                        ],
                        "iteration": 382,
                        "passed_time": 96.45436982,
                        "remaining_time": 155.3847159,
                        "test": [
                          14.33189176
                        ]
                      },
                      {
                        "learn": [
                          12.59032437
                        ],
                        "iteration": 383,
                        "passed_time": 96.68897893,
                        "remaining_time": 155.105237,
                        "test": [
                          14.32965259
                        ]
                      },
                      {
                        "learn": [
                          12.586778
                        ],
                        "iteration": 384,
                        "passed_time": 96.90649323,
                        "remaining_time": 154.798684,
                        "test": [
                          14.32929874
                        ]
                      },
                      {
                        "learn": [
                          12.58236364
                        ],
                        "iteration": 385,
                        "passed_time": 97.14875522,
                        "remaining_time": 154.5319578,
                        "test": [
                          14.32778034
                        ]
                      },
                      {
                        "learn": [
                          12.58061327
                        ],
                        "iteration": 386,
                        "passed_time": 97.35494154,
                        "remaining_time": 154.2082149,
                        "test": [
                          14.3282204
                        ]
                      },
                      {
                        "learn": [
                          12.57789673
                        ],
                        "iteration": 387,
                        "passed_time": 97.55294912,
                        "remaining_time": 153.8721775,
                        "test": [
                          14.32786568
                        ]
                      },
                      {
                        "learn": [
                          12.57120651
                        ],
                        "iteration": 388,
                        "passed_time": 97.78028748,
                        "remaining_time": 153.5829194,
                        "test": [
                          14.32564261
                        ]
                      },
                      {
                        "learn": [
                          12.56809352
                        ],
                        "iteration": 389,
                        "passed_time": 98.00291716,
                        "remaining_time": 153.286614,
                        "test": [
                          14.3252418
                        ]
                      },
                      {
                        "learn": [
                          12.56373509
                        ],
                        "iteration": 390,
                        "passed_time": 98.22347482,
                        "remaining_time": 152.9874582,
                        "test": [
                          14.32377738
                        ]
                      },
                      {
                        "learn": [
                          12.56169201
                        ],
                        "iteration": 391,
                        "passed_time": 98.44323346,
                        "remaining_time": 152.6874641,
                        "test": [
                          14.32263335
                        ]
                      },
                      {
                        "learn": [
                          12.55654564
                        ],
                        "iteration": 392,
                        "passed_time": 98.68364546,
                        "remaining_time": 152.4197781,
                        "test": [
                          14.31965191
                        ]
                      },
                      {
                        "learn": [
                          12.55186755
                        ],
                        "iteration": 393,
                        "passed_time": 98.92366981,
                        "remaining_time": 152.1516343,
                        "test": [
                          14.32014328
                        ]
                      },
                      {
                        "learn": [
                          12.54787227
                        ],
                        "iteration": 394,
                        "passed_time": 99.14176434,
                        "remaining_time": 151.8500441,
                        "test": [
                          14.31969293
                        ]
                      },
                      {
                        "learn": [
                          12.54206837
                        ],
                        "iteration": 395,
                        "passed_time": 99.37377794,
                        "remaining_time": 151.5701057,
                        "test": [
                          14.31874196
                        ]
                      },
                      {
                        "learn": [
                          12.5375283
                        ],
                        "iteration": 396,
                        "passed_time": 99.59800237,
                        "remaining_time": 151.2785779,
                        "test": [
                          14.31581163
                        ]
                      },
                      {
                        "learn": [
                          12.53488276
                        ],
                        "iteration": 397,
                        "passed_time": 99.80418699,
                        "remaining_time": 150.9601019,
                        "test": [
                          14.31553112
                        ]
                      },
                      {
                        "learn": [
                          12.53022863
                        ],
                        "iteration": 398,
                        "passed_time": 100.0533345,
                        "remaining_time": 150.7069024,
                        "test": [
                          14.31515432
                        ]
                      },
                      {
                        "learn": [
                          12.52648101
                        ],
                        "iteration": 399,
                        "passed_time": 100.2844725,
                        "remaining_time": 150.4267088,
                        "test": [
                          14.31569943
                        ]
                      },
                      {
                        "learn": [
                          12.52140873
                        ],
                        "iteration": 400,
                        "passed_time": 100.5319513,
                        "remaining_time": 150.1711691,
                        "test": [
                          14.31614069
                        ]
                      },
                      {
                        "learn": [
                          12.51571708
                        ],
                        "iteration": 401,
                        "passed_time": 100.7498054,
                        "remaining_time": 149.871601,
                        "test": [
                          14.31573376
                        ]
                      },
                      {
                        "learn": [
                          12.51031175
                        ],
                        "iteration": 402,
                        "passed_time": 101.0018057,
                        "remaining_time": 149.6230223,
                        "test": [
                          14.31395265
                        ]
                      },
                      {
                        "learn": [
                          12.50712993
                        ],
                        "iteration": 403,
                        "passed_time": 101.2172933,
                        "remaining_time": 149.3205614,
                        "test": [
                          14.31286814
                        ]
                      },
                      {
                        "learn": [
                          12.5008377
                        ],
                        "iteration": 404,
                        "passed_time": 101.4527182,
                        "remaining_time": 149.0478206,
                        "test": [
                          14.31408162
                        ]
                      },
                      {
                        "learn": [
                          12.49633062
                        ],
                        "iteration": 405,
                        "passed_time": 101.6689506,
                        "remaining_time": 148.7471838,
                        "test": [
                          14.31245441
                        ]
                      },
                      {
                        "learn": [
                          12.49164005
                        ],
                        "iteration": 406,
                        "passed_time": 101.8923694,
                        "remaining_time": 148.4574326,
                        "test": [
                          14.31192844
                        ]
                      },
                      {
                        "learn": [
                          12.4865253
                        ],
                        "iteration": 407,
                        "passed_time": 102.1451054,
                        "remaining_time": 148.2105451,
                        "test": [
                          14.31184217
                        ]
                      },
                      {
                        "learn": [
                          12.48284667
                        ],
                        "iteration": 408,
                        "passed_time": 102.3587746,
                        "remaining_time": 147.907178,
                        "test": [
                          14.31108416
                        ]
                      },
                      {
                        "learn": [
                          12.48007715
                        ],
                        "iteration": 409,
                        "passed_time": 102.5863828,
                        "remaining_time": 147.624307,
                        "test": [
                          14.30960572
                        ]
                      },
                      {
                        "learn": [
                          12.4760142
                        ],
                        "iteration": 410,
                        "passed_time": 102.7970648,
                        "remaining_time": 147.3174481,
                        "test": [
                          14.30965431
                        ]
                      },
                      {
                        "learn": [
                          12.47241273
                        ],
                        "iteration": 411,
                        "passed_time": 103.0070171,
                        "remaining_time": 147.0100147,
                        "test": [
                          14.31017952
                        ]
                      },
                      {
                        "learn": [
                          12.46578563
                        ],
                        "iteration": 412,
                        "passed_time": 103.2584699,
                        "remaining_time": 146.7620384,
                        "test": [
                          14.30602249
                        ]
                      },
                      {
                        "learn": [
                          12.46098592
                        ],
                        "iteration": 413,
                        "passed_time": 103.5282645,
                        "remaining_time": 146.5400073,
                        "test": [
                          14.30460973
                        ]
                      },
                      {
                        "learn": [
                          12.45618388
                        ],
                        "iteration": 414,
                        "passed_time": 103.7450312,
                        "remaining_time": 146.2429958,
                        "test": [
                          14.30470274
                        ]
                      },
                      {
                        "learn": [
                          12.45363127
                        ],
                        "iteration": 415,
                        "passed_time": 103.9335207,
                        "remaining_time": 145.9066733,
                        "test": [
                          14.30496083
                        ]
                      },
                      {
                        "learn": [
                          12.44568424
                        ],
                        "iteration": 416,
                        "passed_time": 104.222005,
                        "remaining_time": 145.7108608,
                        "test": [
                          14.30521557
                        ]
                      },
                      {
                        "learn": [
                          12.44085653
                        ],
                        "iteration": 417,
                        "passed_time": 104.5254753,
                        "remaining_time": 145.5354703,
                        "test": [
                          14.3060803
                        ]
                      },
                      {
                        "learn": [
                          12.43970063
                        ],
                        "iteration": 418,
                        "passed_time": 104.8012186,
                        "remaining_time": 145.3210215,
                        "test": [
                          14.3061465
                        ]
                      },
                      {
                        "learn": [
                          12.43634314
                        ],
                        "iteration": 419,
                        "passed_time": 105.0462467,
                        "remaining_time": 145.0638645,
                        "test": [
                          14.30591272
                        ]
                      },
                      {
                        "learn": [
                          12.43230446
                        ],
                        "iteration": 420,
                        "passed_time": 105.281342,
                        "remaining_time": 144.7931046,
                        "test": [
                          14.30582223
                        ]
                      },
                      {
                        "learn": [
                          12.42779279
                        ],
                        "iteration": 421,
                        "passed_time": 105.5118763,
                        "remaining_time": 144.5162666,
                        "test": [
                          14.30467174
                        ]
                      },
                      {
                        "learn": [
                          12.42466316
                        ],
                        "iteration": 422,
                        "passed_time": 105.745476,
                        "remaining_time": 144.243829,
                        "test": [
                          14.30516194
                        ]
                      },
                      {
                        "learn": [
                          12.42184544
                        ],
                        "iteration": 423,
                        "passed_time": 105.9421889,
                        "remaining_time": 143.9214641,
                        "test": [
                          14.30541333
                        ]
                      },
                      {
                        "learn": [
                          12.41919166
                        ],
                        "iteration": 424,
                        "passed_time": 106.1837095,
                        "remaining_time": 143.6603129,
                        "test": [
                          14.30504463
                        ]
                      },
                      {
                        "learn": [
                          12.41443477
                        ],
                        "iteration": 425,
                        "passed_time": 106.429364,
                        "remaining_time": 143.4048238,
                        "test": [
                          14.30508988
                        ]
                      },
                      {
                        "learn": [
                          12.40913556
                        ],
                        "iteration": 426,
                        "passed_time": 106.6940904,
                        "remaining_time": 143.1749738,
                        "test": [
                          14.30566303
                        ]
                      },
                      {
                        "learn": [
                          12.4044096
                        ],
                        "iteration": 427,
                        "passed_time": 106.9330456,
                        "remaining_time": 142.9105189,
                        "test": [
                          14.30388067
                        ]
                      },
                      {
                        "learn": [
                          12.39957936
                        ],
                        "iteration": 428,
                        "passed_time": 107.1671825,
                        "remaining_time": 142.6397697,
                        "test": [
                          14.30412704
                        ]
                      },
                      {
                        "learn": [
                          12.39428444
                        ],
                        "iteration": 429,
                        "passed_time": 107.3880884,
                        "remaining_time": 142.351652,
                        "test": [
                          14.30405414
                        ]
                      },
                      {
                        "learn": [
                          12.38958523
                        ],
                        "iteration": 430,
                        "passed_time": 107.5975614,
                        "remaining_time": 142.0487527,
                        "test": [
                          14.30394519
                        ]
                      },
                      {
                        "learn": [
                          12.38665017
                        ],
                        "iteration": 431,
                        "passed_time": 107.8234382,
                        "remaining_time": 141.7678539,
                        "test": [
                          14.30268225
                        ]
                      },
                      {
                        "learn": [
                          12.38267128
                        ],
                        "iteration": 432,
                        "passed_time": 108.0437784,
                        "remaining_time": 141.4799592,
                        "test": [
                          14.30217687
                        ]
                      },
                      {
                        "learn": [
                          12.37711245
                        ],
                        "iteration": 433,
                        "passed_time": 108.2824865,
                        "remaining_time": 141.2163303,
                        "test": [
                          14.30154407
                        ]
                      },
                      {
                        "learn": [
                          12.37451835
                        ],
                        "iteration": 434,
                        "passed_time": 108.4960195,
                        "remaining_time": 140.9201173,
                        "test": [
                          14.30000262
                        ]
                      },
                      {
                        "learn": [
                          12.37292219
                        ],
                        "iteration": 435,
                        "passed_time": 108.6914435,
                        "remaining_time": 140.600858,
                        "test": [
                          14.29997663
                        ]
                      },
                      {
                        "learn": [
                          12.36854587
                        ],
                        "iteration": 436,
                        "passed_time": 108.9247224,
                        "remaining_time": 140.3309353,
                        "test": [
                          14.30040162
                        ]
                      },
                      {
                        "learn": [
                          12.36386209
                        ],
                        "iteration": 437,
                        "passed_time": 109.143852,
                        "remaining_time": 140.0430247,
                        "test": [
                          14.29917608
                        ]
                      },
                      {
                        "learn": [
                          12.360693
                        ],
                        "iteration": 438,
                        "passed_time": 109.3645374,
                        "remaining_time": 139.7574157,
                        "test": [
                          14.29916099
                        ]
                      },
                      {
                        "learn": [
                          12.35758616
                        ],
                        "iteration": 439,
                        "passed_time": 109.5743541,
                        "remaining_time": 139.4582688,
                        "test": [
                          14.29880555
                        ]
                      },
                      {
                        "learn": [
                          12.35177583
                        ],
                        "iteration": 440,
                        "passed_time": 109.811787,
                        "remaining_time": 139.1945327,
                        "test": [
                          14.29641949
                        ]
                      },
                      {
                        "learn": [
                          12.35011364
                        ],
                        "iteration": 441,
                        "passed_time": 110.0301264,
                        "remaining_time": 138.9068111,
                        "test": [
                          14.29642955
                        ]
                      },
                      {
                        "learn": [
                          12.34715997
                        ],
                        "iteration": 442,
                        "passed_time": 110.2499291,
                        "remaining_time": 138.6212426,
                        "test": [
                          14.29556508
                        ]
                      },
                      {
                        "learn": [
                          12.34399388
                        ],
                        "iteration": 443,
                        "passed_time": 110.4628444,
                        "remaining_time": 138.3273457,
                        "test": [
                          14.29451774
                        ]
                      },
                      {
                        "learn": [
                          12.34085271
                        ],
                        "iteration": 444,
                        "passed_time": 110.7041088,
                        "remaining_time": 138.0691695,
                        "test": [
                          14.29298643
                        ]
                      },
                      {
                        "learn": [
                          12.33631877
                        ],
                        "iteration": 445,
                        "passed_time": 110.9432014,
                        "remaining_time": 137.8083713,
                        "test": [
                          14.29073193
                        ]
                      },
                      {
                        "learn": [
                          12.33168011
                        ],
                        "iteration": 446,
                        "passed_time": 111.1686019,
                        "remaining_time": 137.5307312,
                        "test": [
                          14.29052475
                        ]
                      },
                      {
                        "learn": [
                          12.32678247
                        ],
                        "iteration": 447,
                        "passed_time": 111.3859627,
                        "remaining_time": 137.2434184,
                        "test": [
                          14.29005082
                        ]
                      },
                      {
                        "learn": [
                          12.32386795
                        ],
                        "iteration": 448,
                        "passed_time": 111.5977905,
                        "remaining_time": 136.9496271,
                        "test": [
                          14.28934786
                        ]
                      },
                      {
                        "learn": [
                          12.31817213
                        ],
                        "iteration": 449,
                        "passed_time": 111.8544027,
                        "remaining_time": 136.7109366,
                        "test": [
                          14.29061115
                        ]
                      },
                      {
                        "learn": [
                          12.31230912
                        ],
                        "iteration": 450,
                        "passed_time": 112.0991564,
                        "remaining_time": 136.4577314,
                        "test": [
                          14.28952486
                        ]
                      },
                      {
                        "learn": [
                          12.30814598
                        ],
                        "iteration": 451,
                        "passed_time": 112.3308439,
                        "remaining_time": 136.1887223,
                        "test": [
                          14.28700553
                        ]
                      },
                      {
                        "learn": [
                          12.30350254
                        ],
                        "iteration": 452,
                        "passed_time": 112.5897123,
                        "remaining_time": 135.952699,
                        "test": [
                          14.28763478
                        ]
                      },
                      {
                        "learn": [
                          12.29823253
                        ],
                        "iteration": 453,
                        "passed_time": 112.8377356,
                        "remaining_time": 135.7035322,
                        "test": [
                          14.28824218
                        ]
                      },
                      {
                        "learn": [
                          12.2954263
                        ],
                        "iteration": 454,
                        "passed_time": 113.0538509,
                        "remaining_time": 135.4161511,
                        "test": [
                          14.28793177
                        ]
                      },
                      {
                        "learn": [
                          12.29224445
                        ],
                        "iteration": 455,
                        "passed_time": 113.2631008,
                        "remaining_time": 135.1208922,
                        "test": [
                          14.28810795
                        ]
                      },
                      {
                        "learn": [
                          12.2861466
                        ],
                        "iteration": 456,
                        "passed_time": 113.5103787,
                        "remaining_time": 134.871194,
                        "test": [
                          14.29001894
                        ]
                      },
                      {
                        "learn": [
                          12.27969134
                        ],
                        "iteration": 457,
                        "passed_time": 113.7597463,
                        "remaining_time": 134.6239793,
                        "test": [
                          14.28790241
                        ]
                      },
                      {
                        "learn": [
                          12.27601568
                        ],
                        "iteration": 458,
                        "passed_time": 113.9972662,
                        "remaining_time": 134.3627909,
                        "test": [
                          14.28757689
                        ]
                      },
                      {
                        "learn": [
                          12.27166586
                        ],
                        "iteration": 459,
                        "passed_time": 114.2309592,
                        "remaining_time": 134.097213,
                        "test": [
                          14.28766162
                        ]
                      },
                      {
                        "learn": [
                          12.26957122
                        ],
                        "iteration": 460,
                        "passed_time": 114.45826,
                        "remaining_time": 133.8242997,
                        "test": [
                          14.28728744
                        ]
                      },
                      {
                        "learn": [
                          12.26488923
                        ],
                        "iteration": 461,
                        "passed_time": 114.6928538,
                        "remaining_time": 133.5600765,
                        "test": [
                          14.28802238
                        ]
                      },
                      {
                        "learn": [
                          12.26096568
                        ],
                        "iteration": 462,
                        "passed_time": 114.8945696,
                        "remaining_time": 133.2578485,
                        "test": [
                          14.28811718
                        ]
                      },
                      {
                        "learn": [
                          12.2563567
                        ],
                        "iteration": 463,
                        "passed_time": 115.1447439,
                        "remaining_time": 133.0120318,
                        "test": [
                          14.28750725
                        ]
                      },
                      {
                        "learn": [
                          12.25180665
                        ],
                        "iteration": 464,
                        "passed_time": 115.3564092,
                        "remaining_time": 132.7218901,
                        "test": [
                          14.28640814
                        ]
                      },
                      {
                        "learn": [
                          12.24431167
                        ],
                        "iteration": 465,
                        "passed_time": 115.6205512,
                        "remaining_time": 132.4922196,
                        "test": [
                          14.28550278
                        ]
                      },
                      {
                        "learn": [
                          12.24075564
                        ],
                        "iteration": 466,
                        "passed_time": 115.8300423,
                        "remaining_time": 132.2000269,
                        "test": [
                          14.28344516
                        ]
                      },
                      {
                        "learn": [
                          12.23768986
                        ],
                        "iteration": 467,
                        "passed_time": 116.0374602,
                        "remaining_time": 131.9058308,
                        "test": [
                          14.28260844
                        ]
                      },
                      {
                        "learn": [
                          12.23707269
                        ],
                        "iteration": 468,
                        "passed_time": 116.21464,
                        "remaining_time": 131.5777694,
                        "test": [
                          14.2828493
                        ]
                      },
                      {
                        "learn": [
                          12.23392073
                        ],
                        "iteration": 469,
                        "passed_time": 116.4342569,
                        "remaining_time": 131.2982046,
                        "test": [
                          14.28408715
                        ]
                      },
                      {
                        "learn": [
                          12.23071651
                        ],
                        "iteration": 470,
                        "passed_time": 116.6598854,
                        "remaining_time": 131.0256463,
                        "test": [
                          14.28364322
                        ]
                      },
                      {
                        "learn": [
                          12.22746438
                        ],
                        "iteration": 471,
                        "passed_time": 116.8955383,
                        "remaining_time": 130.7645004,
                        "test": [
                          14.28322361
                        ]
                      },
                      {
                        "learn": [
                          12.2236872
                        ],
                        "iteration": 472,
                        "passed_time": 117.2156408,
                        "remaining_time": 130.5975533,
                        "test": [
                          14.28315479
                        ]
                      },
                      {
                        "learn": [
                          12.2203714
                        ],
                        "iteration": 473,
                        "passed_time": 117.4816144,
                        "remaining_time": 130.3698928,
                        "test": [
                          14.28305072
                        ]
                      },
                      {
                        "learn": [
                          12.21323848
                        ],
                        "iteration": 474,
                        "passed_time": 117.7707087,
                        "remaining_time": 130.1676254,
                        "test": [
                          14.28293994
                        ]
                      },
                      {
                        "learn": [
                          12.21136943
                        ],
                        "iteration": 475,
                        "passed_time": 118.0287807,
                        "remaining_time": 129.9308426,
                        "test": [
                          14.28294834
                        ]
                      },
                      {
                        "learn": [
                          12.20633906
                        ],
                        "iteration": 476,
                        "passed_time": 118.3117766,
                        "remaining_time": 129.721298,
                        "test": [
                          14.2818002
                        ]
                      },
                      {
                        "learn": [
                          12.20348075
                        ],
                        "iteration": 477,
                        "passed_time": 118.5607323,
                        "remaining_time": 129.4742725,
                        "test": [
                          14.28183125
                        ]
                      },
                      {
                        "learn": [
                          12.19983667
                        ],
                        "iteration": 478,
                        "passed_time": 118.8338416,
                        "remaining_time": 129.2535104,
                        "test": [
                          14.28137801
                        ]
                      },
                      {
                        "learn": [
                          12.19498094
                        ],
                        "iteration": 479,
                        "passed_time": 119.1263191,
                        "remaining_time": 129.0535124,
                        "test": [
                          14.2793559
                        ]
                      },
                      {
                        "learn": [
                          12.19029194
                        ],
                        "iteration": 480,
                        "passed_time": 119.4075202,
                        "remaining_time": 128.8409626,
                        "test": [
                          14.27983102
                        ]
                      },
                      {
                        "learn": [
                          12.18696312
                        ],
                        "iteration": 481,
                        "passed_time": 119.6745038,
                        "remaining_time": 128.6128485,
                        "test": [
                          14.27908055
                        ]
                      },
                      {
                        "learn": [
                          12.1818592
                        ],
                        "iteration": 482,
                        "passed_time": 119.9782609,
                        "remaining_time": 128.4239356,
                        "test": [
                          14.27787585
                        ]
                      },
                      {
                        "learn": [
                          12.17751217
                        ],
                        "iteration": 483,
                        "passed_time": 120.2634691,
                        "remaining_time": 128.2147728,
                        "test": [
                          14.27533599
                        ]
                      },
                      {
                        "learn": [
                          12.17536736
                        ],
                        "iteration": 484,
                        "passed_time": 120.5179488,
                        "remaining_time": 127.9726672,
                        "test": [
                          14.2746004
                        ]
                      },
                      {
                        "learn": [
                          12.1712347
                        ],
                        "iteration": 485,
                        "passed_time": 120.7817579,
                        "remaining_time": 127.7403777,
                        "test": [
                          14.27473895
                        ]
                      },
                      {
                        "learn": [
                          12.16718587
                        ],
                        "iteration": 486,
                        "passed_time": 121.0429897,
                        "remaining_time": 127.5052438,
                        "test": [
                          14.2746491
                        ]
                      },
                      {
                        "learn": [
                          12.16283261
                        ],
                        "iteration": 487,
                        "passed_time": 121.2844918,
                        "remaining_time": 127.2493029,
                        "test": [
                          14.27436695
                        ]
                      },
                      {
                        "learn": [
                          12.15853399
                        ],
                        "iteration": 488,
                        "passed_time": 121.5056493,
                        "remaining_time": 126.9721611,
                        "test": [
                          14.27318789
                        ]
                      },
                      {
                        "learn": [
                          12.15522704
                        ],
                        "iteration": 489,
                        "passed_time": 121.7291128,
                        "remaining_time": 126.697648,
                        "test": [
                          14.27346334
                        ]
                      },
                      {
                        "learn": [
                          12.15098937
                        ],
                        "iteration": 490,
                        "passed_time": 121.9555346,
                        "remaining_time": 126.4264096,
                        "test": [
                          14.27133931
                        ]
                      },
                      {
                        "learn": [
                          12.14795373
                        ],
                        "iteration": 491,
                        "passed_time": 122.1744605,
                        "remaining_time": 126.1476136,
                        "test": [
                          14.27109321
                        ]
                      },
                      {
                        "learn": [
                          12.14395439
                        ],
                        "iteration": 492,
                        "passed_time": 122.397461,
                        "remaining_time": 125.873251,
                        "test": [
                          14.27141659
                        ]
                      },
                      {
                        "learn": [
                          12.14088589
                        ],
                        "iteration": 493,
                        "passed_time": 122.610816,
                        "remaining_time": 125.5892164,
                        "test": [
                          14.27166184
                        ]
                      },
                      {
                        "learn": [
                          12.13818006
                        ],
                        "iteration": 494,
                        "passed_time": 122.8206318,
                        "remaining_time": 125.3018567,
                        "test": [
                          14.27249669
                        ]
                      },
                      {
                        "learn": [
                          12.13469568
                        ],
                        "iteration": 495,
                        "passed_time": 123.0518331,
                        "remaining_time": 125.0365401,
                        "test": [
                          14.27236987
                        ]
                      },
                      {
                        "learn": [
                          12.13120979
                        ],
                        "iteration": 496,
                        "passed_time": 123.2845184,
                        "remaining_time": 124.7728627,
                        "test": [
                          14.27274025
                        ]
                      },
                      {
                        "learn": [
                          12.1262134
                        ],
                        "iteration": 497,
                        "passed_time": 123.5385142,
                        "remaining_time": 124.5307914,
                        "test": [
                          14.27106297
                        ]
                      },
                      {
                        "learn": [
                          12.12043012
                        ],
                        "iteration": 498,
                        "passed_time": 123.808599,
                        "remaining_time": 124.3048258,
                        "test": [
                          14.26924185
                        ]
                      },
                      {
                        "learn": [
                          12.11537139
                        ],
                        "iteration": 499,
                        "passed_time": 124.0682362,
                        "remaining_time": 124.0682362,
                        "test": [
                          14.26952158
                        ]
                      },
                      {
                        "learn": [
                          12.11085548
                        ],
                        "iteration": 500,
                        "passed_time": 124.3051076,
                        "remaining_time": 123.8088796,
                        "test": [
                          14.26981308
                        ]
                      },
                      {
                        "learn": [
                          12.10697657
                        ],
                        "iteration": 501,
                        "passed_time": 124.5406318,
                        "remaining_time": 123.5482762,
                        "test": [
                          14.26970051
                        ]
                      },
                      {
                        "learn": [
                          12.10304442
                        ],
                        "iteration": 502,
                        "passed_time": 124.7723279,
                        "remaining_time": 123.28399,
                        "test": [
                          14.2700214
                        ]
                      },
                      {
                        "learn": [
                          12.09952663
                        ],
                        "iteration": 503,
                        "passed_time": 124.9916808,
                        "remaining_time": 123.0076859,
                        "test": [
                          14.27045988
                        ]
                      },
                      {
                        "learn": [
                          12.09692453
                        ],
                        "iteration": 504,
                        "passed_time": 125.2229147,
                        "remaining_time": 122.7432531,
                        "test": [
                          14.27169292
                        ]
                      },
                      {
                        "learn": [
                          12.09083922
                        ],
                        "iteration": 505,
                        "passed_time": 125.4832082,
                        "remaining_time": 122.5073218,
                        "test": [
                          14.2691486
                        ]
                      },
                      {
                        "learn": [
                          12.08847277
                        ],
                        "iteration": 506,
                        "passed_time": 125.7051228,
                        "remaining_time": 122.2339754,
                        "test": [
                          14.26869916
                        ]
                      },
                      {
                        "learn": [
                          12.08145695
                        ],
                        "iteration": 507,
                        "passed_time": 125.9536275,
                        "remaining_time": 121.9865841,
                        "test": [
                          14.26858491
                        ]
                      },
                      {
                        "learn": [
                          12.07673281
                        ],
                        "iteration": 508,
                        "passed_time": 126.1914982,
                        "remaining_time": 121.7289305,
                        "test": [
                          14.2671844
                        ]
                      },
                      {
                        "learn": [
                          12.07473938
                        ],
                        "iteration": 509,
                        "passed_time": 126.3843351,
                        "remaining_time": 121.4280867,
                        "test": [
                          14.26650216
                        ]
                      },
                      {
                        "learn": [
                          12.07328927
                        ],
                        "iteration": 510,
                        "passed_time": 126.5962551,
                        "remaining_time": 121.1459271,
                        "test": [
                          14.2665635
                        ]
                      },
                      {
                        "learn": [
                          12.0678323
                        ],
                        "iteration": 511,
                        "passed_time": 126.8677198,
                        "remaining_time": 120.9207954,
                        "test": [
                          14.2681615
                        ]
                      },
                      {
                        "learn": [
                          12.06172486
                        ],
                        "iteration": 512,
                        "passed_time": 127.093455,
                        "remaining_time": 120.6520713,
                        "test": [
                          14.26700461
                        ]
                      },
                      {
                        "learn": [
                          12.05783512
                        ],
                        "iteration": 513,
                        "passed_time": 127.3054806,
                        "remaining_time": 120.3705517,
                        "test": [
                          14.26544093
                        ]
                      },
                      {
                        "learn": [
                          12.05394362
                        ],
                        "iteration": 514,
                        "passed_time": 127.5390726,
                        "remaining_time": 120.1096121,
                        "test": [
                          14.26639546
                        ]
                      },
                      {
                        "learn": [
                          12.04815651
                        ],
                        "iteration": 515,
                        "passed_time": 127.7720928,
                        "remaining_time": 119.8482421,
                        "test": [
                          14.26593669
                        ]
                      },
                      {
                        "learn": [
                          12.04303307
                        ],
                        "iteration": 516,
                        "passed_time": 127.9942234,
                        "remaining_time": 119.5768084,
                        "test": [
                          14.26457962
                        ]
                      },
                      {
                        "learn": [
                          12.03917911
                        ],
                        "iteration": 517,
                        "passed_time": 128.2176927,
                        "remaining_time": 119.3068106,
                        "test": [
                          14.2636443
                        ]
                      },
                      {
                        "learn": [
                          12.03583539
                        ],
                        "iteration": 518,
                        "passed_time": 128.4302798,
                        "remaining_time": 119.0269067,
                        "test": [
                          14.26284423
                        ]
                      },
                      {
                        "learn": [
                          12.03240306
                        ],
                        "iteration": 519,
                        "passed_time": 128.6387693,
                        "remaining_time": 118.7434794,
                        "test": [
                          14.2623677
                        ]
                      },
                      {
                        "learn": [
                          12.02763972
                        ],
                        "iteration": 520,
                        "passed_time": 128.8789764,
                        "remaining_time": 118.4895004,
                        "test": [
                          14.26294172
                        ]
                      },
                      {
                        "learn": [
                          12.02368361
                        ],
                        "iteration": 521,
                        "passed_time": 129.0982697,
                        "remaining_time": 118.2164232,
                        "test": [
                          14.26109518
                        ]
                      },
                      {
                        "learn": [
                          12.02100875
                        ],
                        "iteration": 522,
                        "passed_time": 129.312473,
                        "remaining_time": 117.9389094,
                        "test": [
                          14.2605648
                        ]
                      },
                      {
                        "learn": [
                          12.0193846
                        ],
                        "iteration": 523,
                        "passed_time": 129.5035933,
                        "remaining_time": 117.6406687,
                        "test": [
                          14.26073207
                        ]
                      },
                      {
                        "learn": [
                          12.01532151
                        ],
                        "iteration": 524,
                        "passed_time": 129.7640558,
                        "remaining_time": 117.4055743,
                        "test": [
                          14.26017309
                        ]
                      },
                      {
                        "learn": [
                          12.01183691
                        ],
                        "iteration": 525,
                        "passed_time": 129.9747562,
                        "remaining_time": 117.1255408,
                        "test": [
                          14.26007642
                        ]
                      },
                      {
                        "learn": [
                          12.00880054
                        ],
                        "iteration": 526,
                        "passed_time": 130.185636,
                        "remaining_time": 116.8459314,
                        "test": [
                          14.26007894
                        ]
                      },
                      {
                        "learn": [
                          12.0058982
                        ],
                        "iteration": 527,
                        "passed_time": 130.3969199,
                        "remaining_time": 116.5669435,
                        "test": [
                          14.2599394
                        ]
                      },
                      {
                        "learn": [
                          12.00092005
                        ],
                        "iteration": 528,
                        "passed_time": 130.6165876,
                        "remaining_time": 116.2956763,
                        "test": [
                          14.25971496
                        ]
                      },
                      {
                        "learn": [
                          11.99768857
                        ],
                        "iteration": 529,
                        "passed_time": 130.8407542,
                        "remaining_time": 116.0285933,
                        "test": [
                          14.26058161
                        ]
                      },
                      {
                        "learn": [
                          11.99289144
                        ],
                        "iteration": 530,
                        "passed_time": 131.08349,
                        "remaining_time": 115.7780731,
                        "test": [
                          14.26088253
                        ]
                      },
                      {
                        "learn": [
                          11.99070662
                        ],
                        "iteration": 531,
                        "passed_time": 131.3483729,
                        "remaining_time": 115.5470648,
                        "test": [
                          14.2614482
                        ]
                      },
                      {
                        "learn": [
                          11.98866189
                        ],
                        "iteration": 532,
                        "passed_time": 131.5953628,
                        "remaining_time": 115.3002522,
                        "test": [
                          14.26037146
                        ]
                      },
                      {
                        "learn": [
                          11.98182525
                        ],
                        "iteration": 533,
                        "passed_time": 131.9124008,
                        "remaining_time": 115.114567,
                        "test": [
                          14.25995537
                        ]
                      },
                      {
                        "learn": [
                          11.97821882
                        ],
                        "iteration": 534,
                        "passed_time": 132.1837766,
                        "remaining_time": 114.888703,
                        "test": [
                          14.25946445
                        ]
                      },
                      {
                        "learn": [
                          11.9748826
                        ],
                        "iteration": 535,
                        "passed_time": 132.4477759,
                        "remaining_time": 114.6562836,
                        "test": [
                          14.25910297
                        ]
                      },
                      {
                        "learn": [
                          11.97105126
                        ],
                        "iteration": 536,
                        "passed_time": 132.6653655,
                        "remaining_time": 114.3837322,
                        "test": [
                          14.25954263
                        ]
                      },
                      {
                        "learn": [
                          11.96611322
                        ],
                        "iteration": 537,
                        "passed_time": 132.9425225,
                        "remaining_time": 114.1625379,
                        "test": [
                          14.25839597
                        ]
                      },
                      {
                        "learn": [
                          11.96199947
                        ],
                        "iteration": 538,
                        "passed_time": 133.2232859,
                        "remaining_time": 113.9442204,
                        "test": [
                          14.25812358
                        ]
                      },
                      {
                        "learn": [
                          11.95829784
                        ],
                        "iteration": 539,
                        "passed_time": 133.5209217,
                        "remaining_time": 113.7400444,
                        "test": [
                          14.25767884
                        ]
                      },
                      {
                        "learn": [
                          11.9521931
                        ],
                        "iteration": 540,
                        "passed_time": 133.8182104,
                        "remaining_time": 113.5352284,
                        "test": [
                          14.25603762
                        ]
                      },
                      {
                        "learn": [
                          11.94940342
                        ],
                        "iteration": 541,
                        "passed_time": 134.1336722,
                        "remaining_time": 113.3454278,
                        "test": [
                          14.25548519
                        ]
                      },
                      {
                        "learn": [
                          11.9459287
                        ],
                        "iteration": 542,
                        "passed_time": 134.3963803,
                        "remaining_time": 113.1107657,
                        "test": [
                          14.25566765
                        ]
                      },
                      {
                        "learn": [
                          11.94253628
                        ],
                        "iteration": 543,
                        "passed_time": 134.6271114,
                        "remaining_time": 112.8491963,
                        "test": [
                          14.25524638
                        ]
                      },
                      {
                        "learn": [
                          11.93928147
                        ],
                        "iteration": 544,
                        "passed_time": 134.8953224,
                        "remaining_time": 112.6190307,
                        "test": [
                          14.25454423
                        ]
                      },
                      {
                        "learn": [
                          11.93319162
                        ],
                        "iteration": 545,
                        "passed_time": 135.1654788,
                        "remaining_time": 112.3903432,
                        "test": [
                          14.25467373
                        ]
                      },
                      {
                        "learn": [
                          11.92938306
                        ],
                        "iteration": 546,
                        "passed_time": 135.3905667,
                        "remaining_time": 112.1241805,
                        "test": [
                          14.25417169
                        ]
                      },
                      {
                        "learn": [
                          11.92493244
                        ],
                        "iteration": 547,
                        "passed_time": 135.6239276,
                        "remaining_time": 111.8649914,
                        "test": [
                          14.25433652
                        ]
                      },
                      {
                        "learn": [
                          11.91948499
                        ],
                        "iteration": 548,
                        "passed_time": 135.872215,
                        "remaining_time": 111.6181584,
                        "test": [
                          14.25370748
                        ]
                      },
                      {
                        "learn": [
                          11.91631593
                        ],
                        "iteration": 549,
                        "passed_time": 136.0879735,
                        "remaining_time": 111.3447056,
                        "test": [
                          14.25419019
                        ]
                      },
                      {
                        "learn": [
                          11.91232185
                        ],
                        "iteration": 550,
                        "passed_time": 136.3141274,
                        "remaining_time": 111.0799332,
                        "test": [
                          14.25276052
                        ]
                      },
                      {
                        "learn": [
                          11.9078578
                        ],
                        "iteration": 551,
                        "passed_time": 136.5441527,
                        "remaining_time": 110.8184428,
                        "test": [
                          14.25265623
                        ]
                      },
                      {
                        "learn": [
                          11.90378232
                        ],
                        "iteration": 552,
                        "passed_time": 136.7720912,
                        "remaining_time": 110.5553794,
                        "test": [
                          14.25132481
                        ]
                      },
                      {
                        "learn": [
                          11.89883601
                        ],
                        "iteration": 553,
                        "passed_time": 136.9882464,
                        "remaining_time": 110.2829565,
                        "test": [
                          14.25145266
                        ]
                      },
                      {
                        "learn": [
                          11.89473678
                        ],
                        "iteration": 554,
                        "passed_time": 137.2252014,
                        "remaining_time": 110.0274138,
                        "test": [
                          14.2505434
                        ]
                      },
                      {
                        "learn": [
                          11.89287917
                        ],
                        "iteration": 555,
                        "passed_time": 137.4143593,
                        "remaining_time": 109.7337689,
                        "test": [
                          14.24988055
                        ]
                      },
                      {
                        "learn": [
                          11.89023134
                        ],
                        "iteration": 556,
                        "passed_time": 137.6266066,
                        "remaining_time": 109.4588631,
                        "test": [
                          14.24881219
                        ]
                      },
                      {
                        "learn": [
                          11.88661578
                        ],
                        "iteration": 557,
                        "passed_time": 137.8501732,
                        "remaining_time": 109.1931479,
                        "test": [
                          14.24941368
                        ]
                      },
                      {
                        "learn": [
                          11.88366292
                        ],
                        "iteration": 558,
                        "passed_time": 138.0783847,
                        "remaining_time": 108.931248,
                        "test": [
                          14.24865151
                        ]
                      },
                      {
                        "learn": [
                          11.87853313
                        ],
                        "iteration": 559,
                        "passed_time": 138.3404432,
                        "remaining_time": 108.6960625,
                        "test": [
                          14.24645815
                        ]
                      },
                      {
                        "learn": [
                          11.87664775
                        ],
                        "iteration": 560,
                        "passed_time": 138.5372075,
                        "remaining_time": 108.4096864,
                        "test": [
                          14.24653977
                        ]
                      },
                      {
                        "learn": [
                          11.87336831
                        ],
                        "iteration": 561,
                        "passed_time": 138.7291576,
                        "remaining_time": 108.1198772,
                        "test": [
                          14.24499572
                        ]
                      },
                      {
                        "learn": [
                          11.87058939
                        ],
                        "iteration": 562,
                        "passed_time": 138.9730493,
                        "remaining_time": 107.8707327,
                        "test": [
                          14.24337409
                        ]
                      },
                      {
                        "learn": [
                          11.86794517
                        ],
                        "iteration": 563,
                        "passed_time": 139.1935073,
                        "remaining_time": 107.6034915,
                        "test": [
                          14.24325711
                        ]
                      },
                      {
                        "learn": [
                          11.86375242
                        ],
                        "iteration": 564,
                        "passed_time": 139.422819,
                        "remaining_time": 107.3432323,
                        "test": [
                          14.24402293
                        ]
                      },
                      {
                        "learn": [
                          11.86091464
                        ],
                        "iteration": 565,
                        "passed_time": 139.6316664,
                        "remaining_time": 107.0673908,
                        "test": [
                          14.24409783
                        ]
                      },
                      {
                        "learn": [
                          11.85773549
                        ],
                        "iteration": 566,
                        "passed_time": 139.8652845,
                        "remaining_time": 106.8107023,
                        "test": [
                          14.24430232
                        ]
                      },
                      {
                        "learn": [
                          11.85074847
                        ],
                        "iteration": 567,
                        "passed_time": 140.1450913,
                        "remaining_time": 106.5892244,
                        "test": [
                          14.24259729
                        ]
                      },
                      {
                        "learn": [
                          11.84686383
                        ],
                        "iteration": 568,
                        "passed_time": 140.3858437,
                        "remaining_time": 106.337959,
                        "test": [
                          14.24264947
                        ]
                      },
                      {
                        "learn": [
                          11.84253201
                        ],
                        "iteration": 569,
                        "passed_time": 140.6401419,
                        "remaining_time": 106.0969491,
                        "test": [
                          14.24295329
                        ]
                      },
                      {
                        "learn": [
                          11.83925882
                        ],
                        "iteration": 570,
                        "passed_time": 140.8811124,
                        "remaining_time": 105.8458795,
                        "test": [
                          14.24340607
                        ]
                      },
                      {
                        "learn": [
                          11.83424957
                        ],
                        "iteration": 571,
                        "passed_time": 141.1219686,
                        "remaining_time": 105.5947597,
                        "test": [
                          14.24423163
                        ]
                      },
                      {
                        "learn": [
                          11.82864382
                        ],
                        "iteration": 572,
                        "passed_time": 141.3576036,
                        "remaining_time": 105.3397849,
                        "test": [
                          14.24246178
                        ]
                      },
                      {
                        "learn": [
                          11.824575
                        ],
                        "iteration": 573,
                        "passed_time": 141.5940931,
                        "remaining_time": 105.0855116,
                        "test": [
                          14.24345572
                        ]
                      },
                      {
                        "learn": [
                          11.82314237
                        ],
                        "iteration": 574,
                        "passed_time": 141.7902891,
                        "remaining_time": 104.801518,
                        "test": [
                          14.24324196
                        ]
                      },
                      {
                        "learn": [
                          11.81858479
                        ],
                        "iteration": 575,
                        "passed_time": 142.0390107,
                        "remaining_time": 104.556494,
                        "test": [
                          14.24244916
                        ]
                      },
                      {
                        "learn": [
                          11.81558753
                        ],
                        "iteration": 576,
                        "passed_time": 142.263548,
                        "remaining_time": 104.2937276,
                        "test": [
                          14.24214112
                        ]
                      },
                      {
                        "learn": [
                          11.81197196
                        ],
                        "iteration": 577,
                        "passed_time": 142.4984903,
                        "remaining_time": 104.0386901,
                        "test": [
                          14.24068077
                        ]
                      },
                      {
                        "learn": [
                          11.8086639
                        ],
                        "iteration": 578,
                        "passed_time": 142.7488007,
                        "remaining_time": 103.7948965,
                        "test": [
                          14.23935834
                        ]
                      },
                      {
                        "learn": [
                          11.80307392
                        ],
                        "iteration": 579,
                        "passed_time": 142.9969725,
                        "remaining_time": 103.5495318,
                        "test": [
                          14.23881872
                        ]
                      },
                      {
                        "learn": [
                          11.79959675
                        ],
                        "iteration": 580,
                        "passed_time": 143.236768,
                        "remaining_time": 103.2981167,
                        "test": [
                          14.23906454
                        ]
                      },
                      {
                        "learn": [
                          11.79330669
                        ],
                        "iteration": 581,
                        "passed_time": 143.4723104,
                        "remaining_time": 103.0436868,
                        "test": [
                          14.23864193
                        ]
                      },
                      {
                        "learn": [
                          11.7887152
                        ],
                        "iteration": 582,
                        "passed_time": 143.7082613,
                        "remaining_time": 102.789614,
                        "test": [
                          14.23804083
                        ]
                      },
                      {
                        "learn": [
                          11.7828848
                        ],
                        "iteration": 583,
                        "passed_time": 143.9784398,
                        "remaining_time": 102.5599845,
                        "test": [
                          14.23741276
                        ]
                      },
                      {
                        "learn": [
                          11.7802377
                        ],
                        "iteration": 584,
                        "passed_time": 144.2037345,
                        "remaining_time": 102.2983758,
                        "test": [
                          14.23764008
                        ]
                      },
                      {
                        "learn": [
                          11.77589562
                        ],
                        "iteration": 585,
                        "passed_time": 144.4577546,
                        "remaining_time": 102.057185,
                        "test": [
                          14.23740518
                        ]
                      },
                      {
                        "learn": [
                          11.7691386
                        ],
                        "iteration": 586,
                        "passed_time": 144.6940657,
                        "remaining_time": 101.8034909,
                        "test": [
                          14.234528
                        ]
                      },
                      {
                        "learn": [
                          11.76494681
                        ],
                        "iteration": 587,
                        "passed_time": 144.9345549,
                        "remaining_time": 101.5527834,
                        "test": [
                          14.23509389
                        ]
                      },
                      {
                        "learn": [
                          11.7630794
                        ],
                        "iteration": 588,
                        "passed_time": 145.1441376,
                        "remaining_time": 101.2805442,
                        "test": [
                          14.23500631
                        ]
                      },
                      {
                        "learn": [
                          11.7598162
                        ],
                        "iteration": 589,
                        "passed_time": 145.3830789,
                        "remaining_time": 101.0289192,
                        "test": [
                          14.23422063
                        ]
                      },
                      {
                        "learn": [
                          11.75657351
                        ],
                        "iteration": 590,
                        "passed_time": 145.5985675,
                        "remaining_time": 100.7611068,
                        "test": [
                          14.23358313
                        ]
                      },
                      {
                        "learn": [
                          11.75307799
                        ],
                        "iteration": 591,
                        "passed_time": 145.8439559,
                        "remaining_time": 100.5140777,
                        "test": [
                          14.23428884
                        ]
                      },
                      {
                        "learn": [
                          11.75003443
                        ],
                        "iteration": 592,
                        "passed_time": 146.0689822,
                        "remaining_time": 100.2530788,
                        "test": [
                          14.23204948
                        ]
                      },
                      {
                        "learn": [
                          11.7466778
                        ],
                        "iteration": 593,
                        "passed_time": 146.2947202,
                        "remaining_time": 99.99268756,
                        "test": [
                          14.23116845
                        ]
                      },
                      {
                        "learn": [
                          11.74312676
                        ],
                        "iteration": 594,
                        "passed_time": 146.5157352,
                        "remaining_time": 99.72919793,
                        "test": [
                          14.23202421
                        ]
                      },
                      {
                        "learn": [
                          11.74024656
                        ],
                        "iteration": 595,
                        "passed_time": 146.7323071,
                        "remaining_time": 99.46283902,
                        "test": [
                          14.2321278
                        ]
                      },
                      {
                        "learn": [
                          11.73658581
                        ],
                        "iteration": 596,
                        "passed_time": 146.9837111,
                        "remaining_time": 99.2201601,
                        "test": [
                          14.23251018
                        ]
                      },
                      {
                        "learn": [
                          11.733963
                        ],
                        "iteration": 597,
                        "passed_time": 147.2268887,
                        "remaining_time": 98.97192181,
                        "test": [
                          14.23267525
                        ]
                      },
                      {
                        "learn": [
                          11.73059768
                        ],
                        "iteration": 598,
                        "passed_time": 147.50155,
                        "remaining_time": 98.74477722,
                        "test": [
                          14.2325186
                        ]
                      },
                      {
                        "learn": [
                          11.72757385
                        ],
                        "iteration": 599,
                        "passed_time": 147.8062236,
                        "remaining_time": 98.53748239,
                        "test": [
                          14.23163003
                        ]
                      },
                      {
                        "learn": [
                          11.72525114
                        ],
                        "iteration": 600,
                        "passed_time": 148.0872749,
                        "remaining_time": 98.31418081,
                        "test": [
                          14.23162329
                        ]
                      },
                      {
                        "learn": [
                          11.7213965
                        ],
                        "iteration": 601,
                        "passed_time": 148.3772678,
                        "remaining_time": 98.096599,
                        "test": [
                          14.23015428
                        ]
                      },
                      {
                        "learn": [
                          11.71864497
                        ],
                        "iteration": 602,
                        "passed_time": 148.6637877,
                        "remaining_time": 97.87649039,
                        "test": [
                          14.23118867
                        ]
                      },
                      {
                        "learn": [
                          11.71577359
                        ],
                        "iteration": 603,
                        "passed_time": 148.9320143,
                        "remaining_time": 97.64416831,
                        "test": [
                          14.23101431
                        ]
                      },
                      {
                        "learn": [
                          11.71231195
                        ],
                        "iteration": 604,
                        "passed_time": 149.2116905,
                        "remaining_time": 97.4192029,
                        "test": [
                          14.23054261
                        ]
                      },
                      {
                        "learn": [
                          11.70772197
                        ],
                        "iteration": 605,
                        "passed_time": 149.4928347,
                        "remaining_time": 97.19501135,
                        "test": [
                          14.23039436
                        ]
                      },
                      {
                        "learn": [
                          11.70269535
                        ],
                        "iteration": 606,
                        "passed_time": 149.7453064,
                        "remaining_time": 96.9520682,
                        "test": [
                          14.22914931
                        ]
                      },
                      {
                        "learn": [
                          11.69921499
                        ],
                        "iteration": 607,
                        "passed_time": 149.9889043,
                        "remaining_time": 96.7033725,
                        "test": [
                          14.22982155
                        ]
                      },
                      {
                        "learn": [
                          11.69697274
                        ],
                        "iteration": 608,
                        "passed_time": 150.1989903,
                        "remaining_time": 96.43317765,
                        "test": [
                          14.23016692
                        ]
                      },
                      {
                        "learn": [
                          11.6926505
                        ],
                        "iteration": 609,
                        "passed_time": 150.4225292,
                        "remaining_time": 96.17178094,
                        "test": [
                          14.23056198
                        ]
                      },
                      {
                        "learn": [
                          11.68919483
                        ],
                        "iteration": 610,
                        "passed_time": 150.6351134,
                        "remaining_time": 95.90353374,
                        "test": [
                          14.23095029
                        ]
                      },
                      {
                        "learn": [
                          11.68629313
                        ],
                        "iteration": 611,
                        "passed_time": 150.8744152,
                        "remaining_time": 95.65240702,
                        "test": [
                          14.23088459
                        ]
                      },
                      {
                        "learn": [
                          11.6819228
                        ],
                        "iteration": 612,
                        "passed_time": 151.1153138,
                        "remaining_time": 95.40232695,
                        "test": [
                          14.23121983
                        ]
                      },
                      {
                        "learn": [
                          11.67861589
                        ],
                        "iteration": 613,
                        "passed_time": 151.3275379,
                        "remaining_time": 95.13425022,
                        "test": [
                          14.23097135
                        ]
                      },
                      {
                        "learn": [
                          11.67545948
                        ],
                        "iteration": 614,
                        "passed_time": 151.5587623,
                        "remaining_time": 94.87824956,
                        "test": [
                          14.23151885
                        ]
                      },
                      {
                        "learn": [
                          11.67152318
                        ],
                        "iteration": 615,
                        "passed_time": 151.7855379,
                        "remaining_time": 94.61955608,
                        "test": [
                          14.23162076
                        ]
                      },
                      {
                        "learn": [
                          11.66830989
                        ],
                        "iteration": 616,
                        "passed_time": 151.996128,
                        "remaining_time": 94.35091901,
                        "test": [
                          14.23061
                        ]
                      },
                      {
                        "learn": [
                          11.66486603
                        ],
                        "iteration": 617,
                        "passed_time": 152.2150399,
                        "remaining_time": 94.08761365,
                        "test": [
                          14.23121646
                        ]
                      },
                      {
                        "learn": [
                          11.66288238
                        ],
                        "iteration": 618,
                        "passed_time": 152.4219516,
                        "remaining_time": 93.81706551,
                        "test": [
                          14.23084164
                        ]
                      },
                      {
                        "learn": [
                          11.66040645
                        ],
                        "iteration": 619,
                        "passed_time": 152.642013,
                        "remaining_time": 93.55478216,
                        "test": [
                          14.23033286
                        ]
                      },
                      {
                        "learn": [
                          11.65709857
                        ],
                        "iteration": 620,
                        "passed_time": 152.8699662,
                        "remaining_time": 93.29745117,
                        "test": [
                          14.22939698
                        ]
                      },
                      {
                        "learn": [
                          11.65339782
                        ],
                        "iteration": 621,
                        "passed_time": 153.0898773,
                        "remaining_time": 93.03532735,
                        "test": [
                          14.22986282
                        ]
                      },
                      {
                        "learn": [
                          11.6483565
                        ],
                        "iteration": 622,
                        "passed_time": 153.3320175,
                        "remaining_time": 92.78679071,
                        "test": [
                          14.23128974
                        ]
                      },
                      {
                        "learn": [
                          11.64442957
                        ],
                        "iteration": 623,
                        "passed_time": 153.5684569,
                        "remaining_time": 92.53483939,
                        "test": [
                          14.23008942
                        ]
                      },
                      {
                        "learn": [
                          11.64086176
                        ],
                        "iteration": 624,
                        "passed_time": 153.7950124,
                        "remaining_time": 92.27700747,
                        "test": [
                          14.22913752
                        ]
                      },
                      {
                        "learn": [
                          11.63907332
                        ],
                        "iteration": 625,
                        "passed_time": 154.0217767,
                        "remaining_time": 92.01940017,
                        "test": [
                          14.22947027
                        ]
                      },
                      {
                        "learn": [
                          11.63357703
                        ],
                        "iteration": 626,
                        "passed_time": 154.2697253,
                        "remaining_time": 91.77449366,
                        "test": [
                          14.23100841
                        ]
                      },
                      {
                        "learn": [
                          11.62890805
                        ],
                        "iteration": 627,
                        "passed_time": 154.496675,
                        "remaining_time": 91.51713872,
                        "test": [
                          14.23097809
                        ]
                      },
                      {
                        "learn": [
                          11.62596397
                        ],
                        "iteration": 628,
                        "passed_time": 154.7232775,
                        "remaining_time": 91.25967558,
                        "test": [
                          14.23120046
                        ]
                      },
                      {
                        "learn": [
                          11.62186752
                        ],
                        "iteration": 629,
                        "passed_time": 154.9477363,
                        "remaining_time": 91.0010515,
                        "test": [
                          14.23183049
                        ]
                      },
                      {
                        "learn": [
                          11.61908933
                        ],
                        "iteration": 630,
                        "passed_time": 155.1701917,
                        "remaining_time": 90.74136408,
                        "test": [
                          14.23245628
                        ]
                      },
                      {
                        "learn": [
                          11.61582025
                        ],
                        "iteration": 631,
                        "passed_time": 155.3823989,
                        "remaining_time": 90.47582721,
                        "test": [
                          14.23280159
                        ]
                      },
                      {
                        "learn": [
                          11.60975796
                        ],
                        "iteration": 632,
                        "passed_time": 155.6287972,
                        "remaining_time": 90.23028208,
                        "test": [
                          14.23215139
                        ]
                      },
                      {
                        "learn": [
                          11.6057973
                        ],
                        "iteration": 633,
                        "passed_time": 155.8715358,
                        "remaining_time": 89.98262163,
                        "test": [
                          14.23256492
                        ]
                      },
                      {
                        "learn": [
                          11.59790656
                        ],
                        "iteration": 634,
                        "passed_time": 156.1257011,
                        "remaining_time": 89.7415447,
                        "test": [
                          14.23096798
                        ]
                      },
                      {
                        "learn": [
                          11.5932563
                        ],
                        "iteration": 635,
                        "passed_time": 156.3708492,
                        "remaining_time": 89.49526587,
                        "test": [
                          14.23075656
                        ]
                      },
                      {
                        "learn": [
                          11.58803364
                        ],
                        "iteration": 636,
                        "passed_time": 156.6133606,
                        "remaining_time": 89.24748807,
                        "test": [
                          14.23103031
                        ]
                      },
                      {
                        "learn": [
                          11.58330076
                        ],
                        "iteration": 637,
                        "passed_time": 156.8585331,
                        "remaining_time": 89.00123664,
                        "test": [
                          14.22954945
                        ]
                      },
                      {
                        "learn": [
                          11.57932899
                        ],
                        "iteration": 638,
                        "passed_time": 157.1264677,
                        "remaining_time": 88.76784796,
                        "test": [
                          14.2292445
                        ]
                      },
                      {
                        "learn": [
                          11.57397782
                        ],
                        "iteration": 639,
                        "passed_time": 157.3732179,
                        "remaining_time": 88.52243506,
                        "test": [
                          14.22970867
                        ]
                      },
                      {
                        "learn": [
                          11.57026913
                        ],
                        "iteration": 640,
                        "passed_time": 157.6010331,
                        "remaining_time": 88.26641321,
                        "test": [
                          14.22920659
                        ]
                      },
                      {
                        "learn": [
                          11.56649499
                        ],
                        "iteration": 641,
                        "passed_time": 157.8540537,
                        "remaining_time": 88.02453462,
                        "test": [
                          14.22828748
                        ]
                      },
                      {
                        "learn": [
                          11.56262372
                        ],
                        "iteration": 642,
                        "passed_time": 158.0921313,
                        "remaining_time": 87.77432485,
                        "test": [
                          14.22706163
                        ]
                      },
                      {
                        "learn": [
                          11.5611436
                        ],
                        "iteration": 643,
                        "passed_time": 158.3025039,
                        "remaining_time": 87.50883757,
                        "test": [
                          14.22677348
                        ]
                      },
                      {
                        "learn": [
                          11.55995573
                        ],
                        "iteration": 644,
                        "passed_time": 158.4918634,
                        "remaining_time": 87.23195583,
                        "test": [
                          14.22681982
                        ]
                      },
                      {
                        "learn": [
                          11.55599772
                        ],
                        "iteration": 645,
                        "passed_time": 158.7284957,
                        "remaining_time": 86.98124998,
                        "test": [
                          14.22550874
                        ]
                      },
                      {
                        "learn": [
                          11.55302987
                        ],
                        "iteration": 646,
                        "passed_time": 158.9734506,
                        "remaining_time": 86.73512836,
                        "test": [
                          14.22555002
                        ]
                      },
                      {
                        "learn": [
                          11.54848974
                        ],
                        "iteration": 647,
                        "passed_time": 159.2231767,
                        "remaining_time": 86.49160214,
                        "test": [
                          14.22598987
                        ]
                      },
                      {
                        "learn": [
                          11.54331538
                        ],
                        "iteration": 648,
                        "passed_time": 159.4584077,
                        "remaining_time": 86.24021743,
                        "test": [
                          14.22394556
                        ]
                      },
                      {
                        "learn": [
                          11.5408486
                        ],
                        "iteration": 649,
                        "passed_time": 159.6801394,
                        "remaining_time": 85.98161353,
                        "test": [
                          14.22480933
                        ]
                      },
                      {
                        "learn": [
                          11.53706743
                        ],
                        "iteration": 650,
                        "passed_time": 159.9733274,
                        "remaining_time": 85.76143054,
                        "test": [
                          14.22595701
                        ]
                      },
                      {
                        "learn": [
                          11.53248671
                        ],
                        "iteration": 651,
                        "passed_time": 160.2818345,
                        "remaining_time": 85.54920002,
                        "test": [
                          14.22555424
                        ]
                      },
                      {
                        "learn": [
                          11.52987985
                        ],
                        "iteration": 652,
                        "passed_time": 160.5422341,
                        "remaining_time": 85.31111059,
                        "test": [
                          14.22564777
                        ]
                      },
                      {
                        "learn": [
                          11.52485368
                        ],
                        "iteration": 653,
                        "passed_time": 160.8304512,
                        "remaining_time": 85.08766989,
                        "test": [
                          14.22552812
                        ]
                      },
                      {
                        "learn": [
                          11.51981959
                        ],
                        "iteration": 654,
                        "passed_time": 161.114787,
                        "remaining_time": 84.86198703,
                        "test": [
                          14.22358739
                        ]
                      },
                      {
                        "learn": [
                          11.51642657
                        ],
                        "iteration": 655,
                        "passed_time": 161.3659735,
                        "remaining_time": 84.6187422,
                        "test": [
                          14.22439051
                        ]
                      },
                      {
                        "learn": [
                          11.51182202
                        ],
                        "iteration": 656,
                        "passed_time": 161.6587734,
                        "remaining_time": 84.39719829,
                        "test": [
                          14.22329074
                        ]
                      },
                      {
                        "learn": [
                          11.50913079
                        ],
                        "iteration": 657,
                        "passed_time": 161.9159952,
                        "remaining_time": 84.15694582,
                        "test": [
                          14.22270163
                        ]
                      },
                      {
                        "learn": [
                          11.50482081
                        ],
                        "iteration": 658,
                        "passed_time": 162.2047079,
                        "remaining_time": 83.93293686,
                        "test": [
                          14.22267382
                        ]
                      },
                      {
                        "learn": [
                          11.5028054
                        ],
                        "iteration": 659,
                        "passed_time": 162.4732131,
                        "remaining_time": 83.69832192,
                        "test": [
                          14.22280529
                        ]
                      },
                      {
                        "learn": [
                          11.49788677
                        ],
                        "iteration": 660,
                        "passed_time": 162.7548245,
                        "remaining_time": 83.47032602,
                        "test": [
                          14.22462478
                        ]
                      },
                      {
                        "learn": [
                          11.49386149
                        ],
                        "iteration": 661,
                        "passed_time": 163.0428601,
                        "remaining_time": 83.24544819,
                        "test": [
                          14.22607329
                        ]
                      },
                      {
                        "learn": [
                          11.48966056
                        ],
                        "iteration": 662,
                        "passed_time": 163.3485358,
                        "remaining_time": 83.02934624,
                        "test": [
                          14.22363796
                        ]
                      },
                      {
                        "learn": [
                          11.48700119
                        ],
                        "iteration": 663,
                        "passed_time": 163.5519033,
                        "remaining_time": 82.76120408,
                        "test": [
                          14.22318371
                        ]
                      },
                      {
                        "learn": [
                          11.48524829
                        ],
                        "iteration": 664,
                        "passed_time": 163.7548725,
                        "remaining_time": 82.49305606,
                        "test": [
                          14.22294183
                        ]
                      },
                      {
                        "learn": [
                          11.48020728
                        ],
                        "iteration": 665,
                        "passed_time": 164.01377,
                        "remaining_time": 82.25315191,
                        "test": [
                          14.22259122
                        ]
                      },
                      {
                        "learn": [
                          11.47621288
                        ],
                        "iteration": 666,
                        "passed_time": 164.266453,
                        "remaining_time": 82.01008822,
                        "test": [
                          14.22187144
                        ]
                      },
                      {
                        "learn": [
                          11.47437005
                        ],
                        "iteration": 667,
                        "passed_time": 164.4657436,
                        "remaining_time": 81.7404594,
                        "test": [
                          14.22087684
                        ]
                      },
                      {
                        "learn": [
                          11.46979147
                        ],
                        "iteration": 668,
                        "passed_time": 164.7049646,
                        "remaining_time": 81.49079715,
                        "test": [
                          14.22113646
                        ]
                      },
                      {
                        "learn": [
                          11.46578665
                        ],
                        "iteration": 669,
                        "passed_time": 164.9367514,
                        "remaining_time": 81.23750442,
                        "test": [
                          14.21971442
                        ]
                      },
                      {
                        "learn": [
                          11.46368437
                        ],
                        "iteration": 670,
                        "passed_time": 165.14845,
                        "remaining_time": 80.97442629,
                        "test": [
                          14.21961663
                        ]
                      },
                      {
                        "learn": [
                          11.4619483
                        ],
                        "iteration": 671,
                        "passed_time": 165.3570795,
                        "remaining_time": 80.71000307,
                        "test": [
                          14.21949018
                        ]
                      },
                      {
                        "learn": [
                          11.45665636
                        ],
                        "iteration": 672,
                        "passed_time": 165.5958141,
                        "remaining_time": 80.46037326,
                        "test": [
                          14.21772315
                        ]
                      },
                      {
                        "learn": [
                          11.45482085
                        ],
                        "iteration": 673,
                        "passed_time": 165.7959393,
                        "remaining_time": 80.19210121,
                        "test": [
                          14.21736315
                        ]
                      },
                      {
                        "learn": [
                          11.45273592
                        ],
                        "iteration": 674,
                        "passed_time": 166.0188864,
                        "remaining_time": 79.93501939,
                        "test": [
                          14.21659504
                        ]
                      },
                      {
                        "learn": [
                          11.44862566
                        ],
                        "iteration": 675,
                        "passed_time": 166.2732181,
                        "remaining_time": 79.69308084,
                        "test": [
                          14.2170377
                        ]
                      },
                      {
                        "learn": [
                          11.44594681
                        ],
                        "iteration": 676,
                        "passed_time": 166.5135184,
                        "remaining_time": 79.4444113,
                        "test": [
                          14.21748708
                        ]
                      },
                      {
                        "learn": [
                          11.44200698
                        ],
                        "iteration": 677,
                        "passed_time": 166.7639986,
                        "remaining_time": 79.2006011,
                        "test": [
                          14.21585557
                        ]
                      },
                      {
                        "learn": [
                          11.43843892
                        ],
                        "iteration": 678,
                        "passed_time": 166.9892242,
                        "remaining_time": 78.94483207,
                        "test": [
                          14.21675187
                        ]
                      },
                      {
                        "learn": [
                          11.43413951
                        ],
                        "iteration": 679,
                        "passed_time": 167.2215551,
                        "remaining_time": 78.69249651,
                        "test": [
                          14.21685305
                        ]
                      },
                      {
                        "learn": [
                          11.43012692
                        ],
                        "iteration": 680,
                        "passed_time": 167.4735824,
                        "remaining_time": 78.44944607,
                        "test": [
                          14.2171178
                        ]
                      },
                      {
                        "learn": [
                          11.42756332
                        ],
                        "iteration": 681,
                        "passed_time": 167.6977552,
                        "remaining_time": 78.19338147,
                        "test": [
                          14.21603854
                        ]
                      },
                      {
                        "learn": [
                          11.42419537
                        ],
                        "iteration": 682,
                        "passed_time": 167.9417327,
                        "remaining_time": 77.94660213,
                        "test": [
                          14.21579738
                        ]
                      },
                      {
                        "learn": [
                          11.42168502
                        ],
                        "iteration": 683,
                        "passed_time": 168.1526443,
                        "remaining_time": 77.68455499,
                        "test": [
                          14.21556803
                        ]
                      },
                      {
                        "learn": [
                          11.4191694
                        ],
                        "iteration": 684,
                        "passed_time": 168.3806759,
                        "remaining_time": 77.43052981,
                        "test": [
                          14.21561947
                        ]
                      },
                      {
                        "learn": [
                          11.4166674
                        ],
                        "iteration": 685,
                        "passed_time": 168.6096071,
                        "remaining_time": 77.17699215,
                        "test": [
                          14.21569114
                        ]
                      },
                      {
                        "learn": [
                          11.41521718
                        ],
                        "iteration": 686,
                        "passed_time": 168.7968681,
                        "remaining_time": 76.90454109,
                        "test": [
                          14.21525603
                        ]
                      },
                      {
                        "learn": [
                          11.41275528
                        ],
                        "iteration": 687,
                        "passed_time": 169.0232709,
                        "remaining_time": 76.65008798,
                        "test": [
                          14.21521808
                        ]
                      },
                      {
                        "learn": [
                          11.40952427
                        ],
                        "iteration": 688,
                        "passed_time": 169.2403091,
                        "remaining_time": 76.39148931,
                        "test": [
                          14.21577125
                        ]
                      },
                      {
                        "learn": [
                          11.40823445
                        ],
                        "iteration": 689,
                        "passed_time": 169.4309405,
                        "remaining_time": 76.12114719,
                        "test": [
                          14.21588339
                        ]
                      },
                      {
                        "learn": [
                          11.40354889
                        ],
                        "iteration": 690,
                        "passed_time": 169.6448145,
                        "remaining_time": 75.86142933,
                        "test": [
                          14.21596687
                        ]
                      },
                      {
                        "learn": [
                          11.39917902
                        ],
                        "iteration": 691,
                        "passed_time": 169.891839,
                        "remaining_time": 75.61659884,
                        "test": [
                          14.21401135
                        ]
                      },
                      {
                        "learn": [
                          11.39647066
                        ],
                        "iteration": 692,
                        "passed_time": 170.1049753,
                        "remaining_time": 75.35674951,
                        "test": [
                          14.21380304
                        ]
                      },
                      {
                        "learn": [
                          11.39318874
                        ],
                        "iteration": 693,
                        "passed_time": 170.3381788,
                        "remaining_time": 75.10588286,
                        "test": [
                          14.21382666
                        ]
                      },
                      {
                        "learn": [
                          11.39037792
                        ],
                        "iteration": 694,
                        "passed_time": 170.5480717,
                        "remaining_time": 74.84483723,
                        "test": [
                          14.2149162
                        ]
                      },
                      {
                        "learn": [
                          11.38826488
                        ],
                        "iteration": 695,
                        "passed_time": 170.771635,
                        "remaining_time": 74.58990954,
                        "test": [
                          14.21547106
                        ]
                      },
                      {
                        "learn": [
                          11.38303295
                        ],
                        "iteration": 696,
                        "passed_time": 171.017234,
                        "remaining_time": 74.34465122,
                        "test": [
                          14.21561778
                        ]
                      },
                      {
                        "learn": [
                          11.37783022
                        ],
                        "iteration": 697,
                        "passed_time": 171.2489566,
                        "remaining_time": 74.09338811,
                        "test": [
                          14.21424326
                        ]
                      },
                      {
                        "learn": [
                          11.3735058
                        ],
                        "iteration": 698,
                        "passed_time": 171.4782432,
                        "remaining_time": 73.84113192,
                        "test": [
                          14.21550563
                        ]
                      },
                      {
                        "learn": [
                          11.37064057
                        ],
                        "iteration": 699,
                        "passed_time": 171.6917446,
                        "remaining_time": 73.58217625,
                        "test": [
                          14.21552249
                        ]
                      },
                      {
                        "learn": [
                          11.36388574
                        ],
                        "iteration": 700,
                        "passed_time": 171.9414639,
                        "remaining_time": 73.33879842,
                        "test": [
                          14.21381654
                        ]
                      },
                      {
                        "learn": [
                          11.36115367
                        ],
                        "iteration": 701,
                        "passed_time": 172.159092,
                        "remaining_time": 73.08177979,
                        "test": [
                          14.21333499
                        ]
                      },
                      {
                        "learn": [
                          11.3567717
                        ],
                        "iteration": 702,
                        "passed_time": 172.3992349,
                        "remaining_time": 72.83438515,
                        "test": [
                          14.21321186
                        ]
                      },
                      {
                        "learn": [
                          11.35534182
                        ],
                        "iteration": 703,
                        "passed_time": 172.6126937,
                        "remaining_time": 72.57579167,
                        "test": [
                          14.21362594
                        ]
                      },
                      {
                        "learn": [
                          11.35392336
                        ],
                        "iteration": 704,
                        "passed_time": 172.8221899,
                        "remaining_time": 72.31566811,
                        "test": [
                          14.21300776
                        ]
                      },
                      {
                        "learn": [
                          11.35227928
                        ],
                        "iteration": 705,
                        "passed_time": 173.0222611,
                        "remaining_time": 72.05176312,
                        "test": [
                          14.21346655
                        ]
                      },
                      {
                        "learn": [
                          11.34879233
                        ],
                        "iteration": 706,
                        "passed_time": 173.2334457,
                        "remaining_time": 71.7926444,
                        "test": [
                          14.21219978
                        ]
                      },
                      {
                        "learn": [
                          11.34832753
                        ],
                        "iteration": 707,
                        "passed_time": 173.4218322,
                        "remaining_time": 71.52425847,
                        "test": [
                          14.21222846
                        ]
                      },
                      {
                        "learn": [
                          11.34341537
                        ],
                        "iteration": 708,
                        "passed_time": 173.6800313,
                        "remaining_time": 71.28475191,
                        "test": [
                          14.21201844
                        ]
                      },
                      {
                        "learn": [
                          11.34090353
                        ],
                        "iteration": 709,
                        "passed_time": 173.9011271,
                        "remaining_time": 71.03003783,
                        "test": [
                          14.21199229
                        ]
                      },
                      {
                        "learn": [
                          11.33828963
                        ],
                        "iteration": 710,
                        "passed_time": 174.1464283,
                        "remaining_time": 70.78525708,
                        "test": [
                          14.21233473
                        ]
                      },
                      {
                        "learn": [
                          11.33475713
                        ],
                        "iteration": 711,
                        "passed_time": 174.4253587,
                        "remaining_time": 70.55407768,
                        "test": [
                          14.21298161
                        ]
                      },
                      {
                        "learn": [
                          11.33172182
                        ],
                        "iteration": 712,
                        "passed_time": 174.6953163,
                        "remaining_time": 70.31915256,
                        "test": [
                          14.21278005
                        ]
                      },
                      {
                        "learn": [
                          11.32831003
                        ],
                        "iteration": 713,
                        "passed_time": 174.9800162,
                        "remaining_time": 70.09003448,
                        "test": [
                          14.2123769
                        ]
                      },
                      {
                        "learn": [
                          11.32645742
                        ],
                        "iteration": 714,
                        "passed_time": 175.2329719,
                        "remaining_time": 69.84810767,
                        "test": [
                          14.21141706
                        ]
                      },
                      {
                        "learn": [
                          11.32248449
                        ],
                        "iteration": 715,
                        "passed_time": 175.4924274,
                        "remaining_time": 69.60872819,
                        "test": [
                          14.20994006
                        ]
                      },
                      {
                        "learn": [
                          11.32103227
                        ],
                        "iteration": 716,
                        "passed_time": 175.7012663,
                        "remaining_time": 69.34931433,
                        "test": [
                          14.20931496
                        ]
                      },
                      {
                        "learn": [
                          11.31870822
                        ],
                        "iteration": 717,
                        "passed_time": 175.9272218,
                        "remaining_time": 69.09676399,
                        "test": [
                          14.20931328
                        ]
                      },
                      {
                        "learn": [
                          11.31662788
                        ],
                        "iteration": 718,
                        "passed_time": 176.1575065,
                        "remaining_time": 68.84597959,
                        "test": [
                          14.20972579
                        ]
                      },
                      {
                        "learn": [
                          11.31440146
                        ],
                        "iteration": 719,
                        "passed_time": 176.3962885,
                        "remaining_time": 68.59855664,
                        "test": [
                          14.20977978
                        ]
                      },
                      {
                        "learn": [
                          11.31321789
                        ],
                        "iteration": 720,
                        "passed_time": 176.6428427,
                        "remaining_time": 68.35416521,
                        "test": [
                          14.2096583
                        ]
                      },
                      {
                        "learn": [
                          11.30898272
                        ],
                        "iteration": 721,
                        "passed_time": 176.9262884,
                        "remaining_time": 68.12397254,
                        "test": [
                          14.20890497
                        ]
                      },
                      {
                        "learn": [
                          11.30699229
                        ],
                        "iteration": 722,
                        "passed_time": 177.1972821,
                        "remaining_time": 67.8888619,
                        "test": [
                          14.2088476
                        ]
                      },
                      {
                        "learn": [
                          11.303984
                        ],
                        "iteration": 723,
                        "passed_time": 177.4821148,
                        "remaining_time": 67.65892776,
                        "test": [
                          14.20936811
                        ]
                      },
                      {
                        "learn": [
                          11.29861065
                        ],
                        "iteration": 724,
                        "passed_time": 177.8049059,
                        "remaining_time": 67.44324017,
                        "test": [
                          14.20952586
                        ]
                      },
                      {
                        "learn": [
                          11.29309675
                        ],
                        "iteration": 725,
                        "passed_time": 178.0456413,
                        "remaining_time": 67.19628887,
                        "test": [
                          14.20999489
                        ]
                      },
                      {
                        "learn": [
                          11.29125801
                        ],
                        "iteration": 726,
                        "passed_time": 178.2597273,
                        "remaining_time": 66.93934739,
                        "test": [
                          14.21036605
                        ]
                      },
                      {
                        "learn": [
                          11.28579788
                        ],
                        "iteration": 727,
                        "passed_time": 178.5212806,
                        "remaining_time": 66.70025868,
                        "test": [
                          14.20932424
                        ]
                      },
                      {
                        "learn": [
                          11.28236742
                        ],
                        "iteration": 728,
                        "passed_time": 178.7659294,
                        "remaining_time": 66.45482423,
                        "test": [
                          14.2094027
                        ]
                      },
                      {
                        "learn": [
                          11.27825087
                        ],
                        "iteration": 729,
                        "passed_time": 178.9810965,
                        "remaining_time": 66.19848776,
                        "test": [
                          14.20977472
                        ]
                      },
                      {
                        "learn": [
                          11.274203
                        ],
                        "iteration": 730,
                        "passed_time": 179.236149,
                        "remaining_time": 65.95694129,
                        "test": [
                          14.20917155
                        ]
                      },
                      {
                        "learn": [
                          11.27206126
                        ],
                        "iteration": 731,
                        "passed_time": 179.4482183,
                        "remaining_time": 65.69962089,
                        "test": [
                          14.20923651
                        ]
                      },
                      {
                        "learn": [
                          11.27036694
                        ],
                        "iteration": 732,
                        "passed_time": 179.6463815,
                        "remaining_time": 65.43735859,
                        "test": [
                          14.20847725
                        ]
                      },
                      {
                        "learn": [
                          11.26698498
                        ],
                        "iteration": 733,
                        "passed_time": 179.8457333,
                        "remaining_time": 65.1757017,
                        "test": [
                          14.2079238
                        ]
                      },
                      {
                        "learn": [
                          11.2621555
                        ],
                        "iteration": 734,
                        "passed_time": 180.0761192,
                        "remaining_time": 64.92540353,
                        "test": [
                          14.20794996
                        ]
                      },
                      {
                        "learn": [
                          11.26012433
                        ],
                        "iteration": 735,
                        "passed_time": 180.2873084,
                        "remaining_time": 64.66827366,
                        "test": [
                          14.20762092
                        ]
                      },
                      {
                        "learn": [
                          11.25691395
                        ],
                        "iteration": 736,
                        "passed_time": 180.5236988,
                        "remaining_time": 64.42026158,
                        "test": [
                          14.20756439
                        ]
                      },
                      {
                        "learn": [
                          11.25456601
                        ],
                        "iteration": 737,
                        "passed_time": 180.7364741,
                        "remaining_time": 64.16389729,
                        "test": [
                          14.20749605
                        ]
                      },
                      {
                        "learn": [
                          11.25305389
                        ],
                        "iteration": 738,
                        "passed_time": 180.9354105,
                        "remaining_time": 63.90276339,
                        "test": [
                          14.20743952
                        ]
                      },
                      {
                        "learn": [
                          11.24961131
                        ],
                        "iteration": 739,
                        "passed_time": 181.175691,
                        "remaining_time": 63.65632387,
                        "test": [
                          14.20664472
                        ]
                      },
                      {
                        "learn": [
                          11.24640486
                        ],
                        "iteration": 740,
                        "passed_time": 181.3966293,
                        "remaining_time": 63.40314032,
                        "test": [
                          14.2060583
                        ]
                      },
                      {
                        "learn": [
                          11.24299863
                        ],
                        "iteration": 741,
                        "passed_time": 181.6290542,
                        "remaining_time": 63.1540377,
                        "test": [
                          14.20670379
                        ]
                      },
                      {
                        "learn": [
                          11.23945751
                        ],
                        "iteration": 742,
                        "passed_time": 181.8587807,
                        "remaining_time": 62.90404662,
                        "test": [
                          14.20575369
                        ]
                      },
                      {
                        "learn": [
                          11.23624389
                        ],
                        "iteration": 743,
                        "passed_time": 182.1001229,
                        "remaining_time": 62.6581068,
                        "test": [
                          14.20550645
                        ]
                      },
                      {
                        "learn": [
                          11.23345197
                        ],
                        "iteration": 744,
                        "passed_time": 182.3331764,
                        "remaining_time": 62.40934226,
                        "test": [
                          14.2062144
                        ]
                      },
                      {
                        "learn": [
                          11.22999484
                        ],
                        "iteration": 745,
                        "passed_time": 182.5550032,
                        "remaining_time": 62.15679732,
                        "test": [
                          14.20592414
                        ]
                      },
                      {
                        "learn": [
                          11.22793703
                        ],
                        "iteration": 746,
                        "passed_time": 182.7670826,
                        "remaining_time": 61.90103334,
                        "test": [
                          14.20432083
                        ]
                      },
                      {
                        "learn": [
                          11.22477672
                        ],
                        "iteration": 747,
                        "passed_time": 182.9846191,
                        "remaining_time": 61.64722462,
                        "test": [
                          14.2035056
                        ]
                      },
                      {
                        "learn": [
                          11.22196431
                        ],
                        "iteration": 748,
                        "passed_time": 183.1991485,
                        "remaining_time": 61.39250505,
                        "test": [
                          14.20371405
                        ]
                      },
                      {
                        "learn": [
                          11.21741041
                        ],
                        "iteration": 749,
                        "passed_time": 183.467424,
                        "remaining_time": 61.155808,
                        "test": [
                          14.20263294
                        ]
                      },
                      {
                        "learn": [
                          11.21359823
                        ],
                        "iteration": 750,
                        "passed_time": 183.7082409,
                        "remaining_time": 60.90992275,
                        "test": [
                          14.20380098
                        ]
                      },
                      {
                        "learn": [
                          11.20911526
                        ],
                        "iteration": 751,
                        "passed_time": 183.9596221,
                        "remaining_time": 60.66753495,
                        "test": [
                          14.20165218
                        ]
                      },
                      {
                        "learn": [
                          11.2062679
                        ],
                        "iteration": 752,
                        "passed_time": 184.1699932,
                        "remaining_time": 60.41167108,
                        "test": [
                          14.20225567
                        ]
                      },
                      {
                        "learn": [
                          11.20347546
                        ],
                        "iteration": 753,
                        "passed_time": 184.3858026,
                        "remaining_time": 60.15770217,
                        "test": [
                          14.2015568
                        ]
                      },
                      {
                        "learn": [
                          11.19905427
                        ],
                        "iteration": 754,
                        "passed_time": 184.6193618,
                        "remaining_time": 59.90959422,
                        "test": [
                          14.19961955
                        ]
                      },
                      {
                        "learn": [
                          11.1948937
                        ],
                        "iteration": 755,
                        "passed_time": 184.876188,
                        "remaining_time": 59.66903423,
                        "test": [
                          14.19888679
                        ]
                      },
                      {
                        "learn": [
                          11.19209199
                        ],
                        "iteration": 756,
                        "passed_time": 185.0994797,
                        "remaining_time": 59.41766655,
                        "test": [
                          14.19919324
                        ]
                      },
                      {
                        "learn": [
                          11.18811421
                        ],
                        "iteration": 757,
                        "passed_time": 185.3123105,
                        "remaining_time": 59.16303315,
                        "test": [
                          14.19776478
                        ]
                      },
                      {
                        "learn": [
                          11.18357011
                        ],
                        "iteration": 758,
                        "passed_time": 185.56576,
                        "remaining_time": 58.92140732,
                        "test": [
                          14.19719234
                        ]
                      },
                      {
                        "learn": [
                          11.18136491
                        ],
                        "iteration": 759,
                        "passed_time": 185.8063305,
                        "remaining_time": 58.67568331,
                        "test": [
                          14.19732743
                        ]
                      },
                      {
                        "learn": [
                          11.17897108
                        ],
                        "iteration": 760,
                        "passed_time": 186.0289254,
                        "remaining_time": 58.42432742,
                        "test": [
                          14.1966621
                        ]
                      },
                      {
                        "learn": [
                          11.17603988
                        ],
                        "iteration": 761,
                        "passed_time": 186.2404974,
                        "remaining_time": 58.16960419,
                        "test": [
                          14.19676089
                        ]
                      },
                      {
                        "learn": [
                          11.17214276
                        ],
                        "iteration": 762,
                        "passed_time": 186.4604329,
                        "remaining_time": 57.91759188,
                        "test": [
                          14.19661144
                        ]
                      },
                      {
                        "learn": [
                          11.16966484
                        ],
                        "iteration": 763,
                        "passed_time": 186.6917031,
                        "remaining_time": 57.66916483,
                        "test": [
                          14.19752416
                        ]
                      },
                      {
                        "learn": [
                          11.16805321
                        ],
                        "iteration": 764,
                        "passed_time": 186.8847295,
                        "remaining_time": 57.40903455,
                        "test": [
                          14.19798936
                        ]
                      },
                      {
                        "learn": [
                          11.16251294
                        ],
                        "iteration": 765,
                        "passed_time": 187.1590019,
                        "remaining_time": 57.17389876,
                        "test": [
                          14.19902186
                        ]
                      },
                      {
                        "learn": [
                          11.15979817
                        ],
                        "iteration": 766,
                        "passed_time": 187.3831072,
                        "remaining_time": 56.92342108,
                        "test": [
                          14.19817763
                        ]
                      },
                      {
                        "learn": [
                          11.15772365
                        ],
                        "iteration": 767,
                        "passed_time": 187.6002025,
                        "remaining_time": 56.67089449,
                        "test": [
                          14.19919493
                        ]
                      },
                      {
                        "learn": [
                          11.15554183
                        ],
                        "iteration": 768,
                        "passed_time": 187.833869,
                        "remaining_time": 56.4234379,
                        "test": [
                          14.19898303
                        ]
                      },
                      {
                        "learn": [
                          11.15338859
                        ],
                        "iteration": 769,
                        "passed_time": 188.1090263,
                        "remaining_time": 56.18841045,
                        "test": [
                          14.19927259
                        ]
                      },
                      {
                        "learn": [
                          11.15082319
                        ],
                        "iteration": 770,
                        "passed_time": 188.389426,
                        "remaining_time": 55.95483598,
                        "test": [
                          14.19936292
                        ]
                      },
                      {
                        "learn": [
                          11.14832226
                        ],
                        "iteration": 771,
                        "passed_time": 188.6406527,
                        "remaining_time": 55.71252439,
                        "test": [
                          14.19914596
                        ]
                      },
                      {
                        "learn": [
                          11.1456164
                        ],
                        "iteration": 772,
                        "passed_time": 188.9175945,
                        "remaining_time": 55.4777412,
                        "test": [
                          14.1990168
                        ]
                      },
                      {
                        "learn": [
                          11.14502213
                        ],
                        "iteration": 773,
                        "passed_time": 189.1728655,
                        "remaining_time": 55.23652146,
                        "test": [
                          14.19882179
                        ]
                      },
                      {
                        "learn": [
                          11.14081824
                        ],
                        "iteration": 774,
                        "passed_time": 189.4564313,
                        "remaining_time": 55.00348006,
                        "test": [
                          14.19754189
                        ]
                      },
                      {
                        "learn": [
                          11.13857821
                        ],
                        "iteration": 775,
                        "passed_time": 189.731599,
                        "remaining_time": 54.76788425,
                        "test": [
                          14.19709947
                        ]
                      },
                      {
                        "learn": [
                          11.13573435
                        ],
                        "iteration": 776,
                        "passed_time": 190.0186932,
                        "remaining_time": 54.53560951,
                        "test": [
                          14.1970944
                        ]
                      },
                      {
                        "learn": [
                          11.13197334
                        ],
                        "iteration": 777,
                        "passed_time": 190.2955181,
                        "remaining_time": 54.30026352,
                        "test": [
                          14.19645523
                        ]
                      },
                      {
                        "learn": [
                          11.1283942
                        ],
                        "iteration": 778,
                        "passed_time": 190.563247,
                        "remaining_time": 54.06223054,
                        "test": [
                          14.19689007
                        ]
                      },
                      {
                        "learn": [
                          11.1247277
                        ],
                        "iteration": 779,
                        "passed_time": 190.7988058,
                        "remaining_time": 53.81504779,
                        "test": [
                          14.19709609
                        ]
                      },
                      {
                        "learn": [
                          11.11983752
                        ],
                        "iteration": 780,
                        "passed_time": 191.0350416,
                        "remaining_time": 53.56808464,
                        "test": [
                          14.19725145
                        ]
                      },
                      {
                        "learn": [
                          11.11821327
                        ],
                        "iteration": 781,
                        "passed_time": 191.2425792,
                        "remaining_time": 53.31314868,
                        "test": [
                          14.19730548
                        ]
                      },
                      {
                        "learn": [
                          11.11252895
                        ],
                        "iteration": 782,
                        "passed_time": 191.507515,
                        "remaining_time": 53.07424107,
                        "test": [
                          14.19581857
                        ]
                      },
                      {
                        "learn": [
                          11.10982139
                        ],
                        "iteration": 783,
                        "passed_time": 191.7770863,
                        "remaining_time": 52.83654419,
                        "test": [
                          14.19543605
                        ]
                      },
                      {
                        "learn": [
                          11.10773754
                        ],
                        "iteration": 784,
                        "passed_time": 192.0344793,
                        "remaining_time": 52.59543064,
                        "test": [
                          14.19574426
                        ]
                      },
                      {
                        "learn": [
                          11.10391685
                        ],
                        "iteration": 785,
                        "passed_time": 192.2895341,
                        "remaining_time": 52.35363904,
                        "test": [
                          14.1952545
                        ]
                      },
                      {
                        "learn": [
                          11.09955051
                        ],
                        "iteration": 786,
                        "passed_time": 192.5480346,
                        "remaining_time": 52.11274635,
                        "test": [
                          14.19444551
                        ]
                      },
                      {
                        "learn": [
                          11.09591392
                        ],
                        "iteration": 787,
                        "passed_time": 192.7752822,
                        "remaining_time": 51.86340078,
                        "test": [
                          14.19412713
                        ]
                      },
                      {
                        "learn": [
                          11.09369022
                        ],
                        "iteration": 788,
                        "passed_time": 192.9963036,
                        "remaining_time": 51.6124462,
                        "test": [
                          14.19200643
                        ]
                      },
                      {
                        "learn": [
                          11.08996954
                        ],
                        "iteration": 789,
                        "passed_time": 193.2397597,
                        "remaining_time": 51.36753107,
                        "test": [
                          14.19179443
                        ]
                      },
                      {
                        "learn": [
                          11.08759544
                        ],
                        "iteration": 790,
                        "passed_time": 193.4534533,
                        "remaining_time": 51.11475566,
                        "test": [
                          14.19179696
                        ]
                      },
                      {
                        "learn": [
                          11.08561069
                        ],
                        "iteration": 791,
                        "passed_time": 193.6714857,
                        "remaining_time": 50.86321846,
                        "test": [
                          14.1908729
                        ]
                      },
                      {
                        "learn": [
                          11.082095
                        ],
                        "iteration": 792,
                        "passed_time": 193.9186893,
                        "remaining_time": 50.61938043,
                        "test": [
                          14.19080955
                        ]
                      },
                      {
                        "learn": [
                          11.07930318
                        ],
                        "iteration": 793,
                        "passed_time": 194.133358,
                        "remaining_time": 50.36709288,
                        "test": [
                          14.1914684
                        ]
                      },
                      {
                        "learn": [
                          11.07843969
                        ],
                        "iteration": 794,
                        "passed_time": 194.3316217,
                        "remaining_time": 50.11066974,
                        "test": [
                          14.19139913
                        ]
                      },
                      {
                        "learn": [
                          11.07542777
                        ],
                        "iteration": 795,
                        "passed_time": 194.5583236,
                        "remaining_time": 49.86168093,
                        "test": [
                          14.19136281
                        ]
                      },
                      {
                        "learn": [
                          11.07305271
                        ],
                        "iteration": 796,
                        "passed_time": 194.780478,
                        "remaining_time": 49.61158976,
                        "test": [
                          14.1906896
                        ]
                      },
                      {
                        "learn": [
                          11.06979566
                        ],
                        "iteration": 797,
                        "passed_time": 195.0024369,
                        "remaining_time": 49.36151912,
                        "test": [
                          14.18931942
                        ]
                      },
                      {
                        "learn": [
                          11.06647861
                        ],
                        "iteration": 798,
                        "passed_time": 195.2407793,
                        "remaining_time": 49.11564036,
                        "test": [
                          14.1893794
                        ]
                      },
                      {
                        "learn": [
                          11.0638638
                        ],
                        "iteration": 799,
                        "passed_time": 195.476785,
                        "remaining_time": 48.86919625,
                        "test": [
                          14.1900721
                        ]
                      },
                      {
                        "learn": [
                          11.06252989
                        ],
                        "iteration": 800,
                        "passed_time": 195.6644802,
                        "remaining_time": 48.61077598,
                        "test": [
                          14.18951287
                        ]
                      },
                      {
                        "learn": [
                          11.05847894
                        ],
                        "iteration": 801,
                        "passed_time": 195.9013563,
                        "remaining_time": 48.364674,
                        "test": [
                          14.18911667
                        ]
                      },
                      {
                        "learn": [
                          11.05772819
                        ],
                        "iteration": 802,
                        "passed_time": 196.1000519,
                        "remaining_time": 48.10922818,
                        "test": [
                          14.18892405
                        ]
                      },
                      {
                        "learn": [
                          11.05500776
                        ],
                        "iteration": 803,
                        "passed_time": 196.3133624,
                        "remaining_time": 47.85748637,
                        "test": [
                          14.18939207
                        ]
                      },
                      {
                        "learn": [
                          11.0518864
                        ],
                        "iteration": 804,
                        "passed_time": 196.5303763,
                        "remaining_time": 47.60673711,
                        "test": [
                          14.18820595
                        ]
                      },
                      {
                        "learn": [
                          11.04822923
                        ],
                        "iteration": 805,
                        "passed_time": 196.8001588,
                        "remaining_time": 47.3687727,
                        "test": [
                          14.18855064
                        ]
                      },
                      {
                        "learn": [
                          11.0445562
                        ],
                        "iteration": 806,
                        "passed_time": 197.0402648,
                        "remaining_time": 47.1236321,
                        "test": [
                          14.18847038
                        ]
                      },
                      {
                        "learn": [
                          11.04276509
                        ],
                        "iteration": 807,
                        "passed_time": 197.2575609,
                        "remaining_time": 46.87308377,
                        "test": [
                          14.18848052
                        ]
                      },
                      {
                        "learn": [
                          11.03967556
                        ],
                        "iteration": 808,
                        "passed_time": 197.492384,
                        "remaining_time": 46.62675568,
                        "test": [
                          14.18941995
                        ]
                      },
                      {
                        "learn": [
                          11.03825184
                        ],
                        "iteration": 809,
                        "passed_time": 197.7031772,
                        "remaining_time": 46.37481935,
                        "test": [
                          14.188859
                        ]
                      },
                      {
                        "learn": [
                          11.0339133
                        ],
                        "iteration": 810,
                        "passed_time": 197.9417021,
                        "remaining_time": 46.12944722,
                        "test": [
                          14.18914877
                        ]
                      },
                      {
                        "learn": [
                          11.03183902
                        ],
                        "iteration": 811,
                        "passed_time": 198.1389455,
                        "remaining_time": 45.87453418,
                        "test": [
                          14.18896207
                        ]
                      },
                      {
                        "learn": [
                          11.02818825
                        ],
                        "iteration": 812,
                        "passed_time": 198.3624816,
                        "remaining_time": 45.62581066,
                        "test": [
                          14.19016503
                        ]
                      },
                      {
                        "learn": [
                          11.02564156
                        ],
                        "iteration": 813,
                        "passed_time": 198.5688685,
                        "remaining_time": 45.3732304,
                        "test": [
                          14.19030863
                        ]
                      },
                      {
                        "learn": [
                          11.02150309
                        ],
                        "iteration": 814,
                        "passed_time": 198.8260913,
                        "remaining_time": 45.13230294,
                        "test": [
                          14.18913863
                        ]
                      },
                      {
                        "learn": [
                          11.01838094
                        ],
                        "iteration": 815,
                        "passed_time": 199.0652157,
                        "remaining_time": 44.88725453,
                        "test": [
                          14.18916144
                        ]
                      },
                      {
                        "learn": [
                          11.01474856
                        ],
                        "iteration": 816,
                        "passed_time": 199.2973371,
                        "remaining_time": 44.640652,
                        "test": [
                          14.18883197
                        ]
                      },
                      {
                        "learn": [
                          11.01335917
                        ],
                        "iteration": 817,
                        "passed_time": 199.4963612,
                        "remaining_time": 44.38672096,
                        "test": [
                          14.18837576
                        ]
                      },
                      {
                        "learn": [
                          11.0085246
                        ],
                        "iteration": 818,
                        "passed_time": 199.7448504,
                        "remaining_time": 44.14385583,
                        "test": [
                          14.18850924
                        ]
                      },
                      {
                        "learn": [
                          11.00473973
                        ],
                        "iteration": 819,
                        "passed_time": 199.963526,
                        "remaining_time": 43.89443255,
                        "test": [
                          14.18884633
                        ]
                      },
                      {
                        "learn": [
                          11.00309903
                        ],
                        "iteration": 820,
                        "passed_time": 200.1604793,
                        "remaining_time": 43.6403481,
                        "test": [
                          14.18958637
                        ]
                      },
                      {
                        "learn": [
                          11.00092468
                        ],
                        "iteration": 821,
                        "passed_time": 200.3692302,
                        "remaining_time": 43.38895739,
                        "test": [
                          14.18939123
                        ]
                      },
                      {
                        "learn": [
                          10.9988747
                        ],
                        "iteration": 822,
                        "passed_time": 200.5750942,
                        "remaining_time": 43.13704942,
                        "test": [
                          14.19007042
                        ]
                      },
                      {
                        "learn": [
                          10.99708269
                        ],
                        "iteration": 823,
                        "passed_time": 200.78458,
                        "remaining_time": 42.88602679,
                        "test": [
                          14.19001466
                        ]
                      },
                      {
                        "learn": [
                          10.99472669
                        ],
                        "iteration": 824,
                        "passed_time": 200.9940972,
                        "remaining_time": 42.63511154,
                        "test": [
                          14.18994793
                        ]
                      },
                      {
                        "learn": [
                          10.99094634
                        ],
                        "iteration": 825,
                        "passed_time": 201.2350475,
                        "remaining_time": 42.39091799,
                        "test": [
                          14.18915384
                        ]
                      },
                      {
                        "learn": [
                          10.98526328
                        ],
                        "iteration": 826,
                        "passed_time": 201.4685994,
                        "remaining_time": 42.14518465,
                        "test": [
                          14.18758074
                        ]
                      },
                      {
                        "learn": [
                          10.98115381
                        ],
                        "iteration": 827,
                        "passed_time": 201.7355387,
                        "remaining_time": 41.90641625,
                        "test": [
                          14.18720645
                        ]
                      },
                      {
                        "learn": [
                          10.97799234
                        ],
                        "iteration": 828,
                        "passed_time": 201.9573803,
                        "remaining_time": 41.65827748,
                        "test": [
                          14.18642826
                        ]
                      },
                      {
                        "learn": [
                          10.9752221
                        ],
                        "iteration": 829,
                        "passed_time": 202.1576847,
                        "remaining_time": 41.40579084,
                        "test": [
                          14.18700958
                        ]
                      },
                      {
                        "learn": [
                          10.97217037
                        ],
                        "iteration": 830,
                        "passed_time": 202.4259155,
                        "remaining_time": 41.16724394,
                        "test": [
                          14.18700536
                        ]
                      },
                      {
                        "learn": [
                          10.96886478
                        ],
                        "iteration": 831,
                        "passed_time": 202.7430701,
                        "remaining_time": 40.93850454,
                        "test": [
                          14.18784688
                        ]
                      },
                      {
                        "learn": [
                          10.96594848
                        ],
                        "iteration": 832,
                        "passed_time": 202.998424,
                        "remaining_time": 40.69716304,
                        "test": [
                          14.18696734
                        ]
                      },
                      {
                        "learn": [
                          10.96317355
                        ],
                        "iteration": 833,
                        "passed_time": 203.231856,
                        "remaining_time": 40.45142457,
                        "test": [
                          14.18464275
                        ]
                      },
                      {
                        "learn": [
                          10.96050183
                        ],
                        "iteration": 834,
                        "passed_time": 203.4652508,
                        "remaining_time": 40.20570825,
                        "test": [
                          14.18480416
                        ]
                      },
                      {
                        "learn": [
                          10.95837756
                        ],
                        "iteration": 835,
                        "passed_time": 203.7172605,
                        "remaining_time": 39.96367311,
                        "test": [
                          14.18427683
                        ]
                      },
                      {
                        "learn": [
                          10.95652805
                        ],
                        "iteration": 836,
                        "passed_time": 203.9611941,
                        "remaining_time": 39.72004138,
                        "test": [
                          14.18366751
                        ]
                      },
                      {
                        "learn": [
                          10.95509954
                        ],
                        "iteration": 837,
                        "passed_time": 204.2116957,
                        "remaining_time": 39.47767863,
                        "test": [
                          14.18366498
                        ]
                      },
                      {
                        "learn": [
                          10.95434883
                        ],
                        "iteration": 838,
                        "passed_time": 204.4715978,
                        "remaining_time": 39.23710041,
                        "test": [
                          14.18383484
                        ]
                      },
                      {
                        "learn": [
                          10.95088131
                        ],
                        "iteration": 839,
                        "passed_time": 204.768791,
                        "remaining_time": 39.00357924,
                        "test": [
                          14.18360075
                        ]
                      },
                      {
                        "learn": [
                          10.94861994
                        ],
                        "iteration": 840,
                        "passed_time": 205.0510158,
                        "remaining_time": 38.76707671,
                        "test": [
                          14.18333706
                        ]
                      },
                      {
                        "learn": [
                          10.94478862
                        ],
                        "iteration": 841,
                        "passed_time": 205.3355228,
                        "remaining_time": 38.53089382,
                        "test": [
                          14.18402415
                        ]
                      },
                      {
                        "learn": [
                          10.94103649
                        ],
                        "iteration": 842,
                        "passed_time": 205.6045112,
                        "remaining_time": 38.29170612,
                        "test": [
                          14.18329819
                        ]
                      },
                      {
                        "learn": [
                          10.93965581
                        ],
                        "iteration": 843,
                        "passed_time": 205.8540353,
                        "remaining_time": 38.04885012,
                        "test": [
                          14.18428106
                        ]
                      },
                      {
                        "learn": [
                          10.93789904
                        ],
                        "iteration": 844,
                        "passed_time": 206.1125792,
                        "remaining_time": 37.80763287,
                        "test": [
                          14.18275813
                        ]
                      },
                      {
                        "learn": [
                          10.93379589
                        ],
                        "iteration": 845,
                        "passed_time": 206.3726288,
                        "remaining_time": 37.56664874,
                        "test": [
                          14.18333453
                        ]
                      },
                      {
                        "learn": [
                          10.93080662
                        ],
                        "iteration": 846,
                        "passed_time": 206.6097101,
                        "remaining_time": 37.32147066,
                        "test": [
                          14.18267446
                        ]
                      },
                      {
                        "learn": [
                          10.92807598
                        ],
                        "iteration": 847,
                        "passed_time": 206.8220433,
                        "remaining_time": 37.07187568,
                        "test": [
                          14.18220453
                        ]
                      },
                      {
                        "learn": [
                          10.9237886
                        ],
                        "iteration": 848,
                        "passed_time": 207.086953,
                        "remaining_time": 36.83171955,
                        "test": [
                          14.18232032
                        ]
                      },
                      {
                        "learn": [
                          10.92108749
                        ],
                        "iteration": 849,
                        "passed_time": 207.3099121,
                        "remaining_time": 36.58410213,
                        "test": [
                          14.18119024
                        ]
                      },
                      {
                        "learn": [
                          10.91662332
                        ],
                        "iteration": 850,
                        "passed_time": 207.5396604,
                        "remaining_time": 36.33773137,
                        "test": [
                          14.18047089
                        ]
                      },
                      {
                        "learn": [
                          10.91480298
                        ],
                        "iteration": 851,
                        "passed_time": 207.7607778,
                        "remaining_time": 36.08990037,
                        "test": [
                          14.18071392
                        ]
                      },
                      {
                        "learn": [
                          10.91263575
                        ],
                        "iteration": 852,
                        "passed_time": 207.9787115,
                        "remaining_time": 35.84158334,
                        "test": [
                          14.18116192
                        ]
                      },
                      {
                        "learn": [
                          10.91015933
                        ],
                        "iteration": 853,
                        "passed_time": 208.2086067,
                        "remaining_time": 35.59538241,
                        "test": [
                          14.18041721
                        ]
                      },
                      {
                        "learn": [
                          10.90729933
                        ],
                        "iteration": 854,
                        "passed_time": 208.4209662,
                        "remaining_time": 35.34624574,
                        "test": [
                          14.18056388
                        ]
                      },
                      {
                        "learn": [
                          10.90445561
                        ],
                        "iteration": 855,
                        "passed_time": 208.645819,
                        "remaining_time": 35.09929665,
                        "test": [
                          14.18027266
                        ]
                      },
                      {
                        "learn": [
                          10.90164579
                        ],
                        "iteration": 856,
                        "passed_time": 208.8587313,
                        "remaining_time": 34.85040675,
                        "test": [
                          14.18000765
                        ]
                      },
                      {
                        "learn": [
                          10.89819616
                        ],
                        "iteration": 857,
                        "passed_time": 209.0870077,
                        "remaining_time": 34.60414347,
                        "test": [
                          14.17993833
                        ]
                      },
                      {
                        "learn": [
                          10.89609274
                        ],
                        "iteration": 858,
                        "passed_time": 209.3064669,
                        "remaining_time": 34.35647477,
                        "test": [
                          14.17973207
                        ]
                      },
                      {
                        "learn": [
                          10.89240362
                        ],
                        "iteration": 859,
                        "passed_time": 209.5185538,
                        "remaining_time": 34.10767155,
                        "test": [
                          14.17876452
                        ]
                      },
                      {
                        "learn": [
                          10.89141635
                        ],
                        "iteration": 860,
                        "passed_time": 209.7104943,
                        "remaining_time": 33.85570116,
                        "test": [
                          14.17902237
                        ]
                      },
                      {
                        "learn": [
                          10.88762875
                        ],
                        "iteration": 861,
                        "passed_time": 209.9503687,
                        "remaining_time": 33.61154395,
                        "test": [
                          14.18022025
                        ]
                      },
                      {
                        "learn": [
                          10.88473309
                        ],
                        "iteration": 862,
                        "passed_time": 210.1674928,
                        "remaining_time": 33.36378506,
                        "test": [
                          14.17902153
                        ]
                      },
                      {
                        "learn": [
                          10.88063688
                        ],
                        "iteration": 863,
                        "passed_time": 210.3913876,
                        "remaining_time": 33.11716287,
                        "test": [
                          14.17690406
                        ]
                      },
                      {
                        "learn": [
                          10.87909152
                        ],
                        "iteration": 864,
                        "passed_time": 210.5999324,
                        "remaining_time": 32.86819754,
                        "test": [
                          14.17669521
                        ]
                      },
                      {
                        "learn": [
                          10.87416583
                        ],
                        "iteration": 865,
                        "passed_time": 210.8240721,
                        "remaining_time": 32.62173864,
                        "test": [
                          14.17806788
                        ]
                      },
                      {
                        "learn": [
                          10.87187582
                        ],
                        "iteration": 866,
                        "passed_time": 211.0413442,
                        "remaining_time": 32.37427771,
                        "test": [
                          14.17728877
                        ]
                      },
                      {
                        "learn": [
                          10.8684934
                        ],
                        "iteration": 867,
                        "passed_time": 211.2700007,
                        "remaining_time": 32.12861761,
                        "test": [
                          14.17679499
                        ]
                      },
                      {
                        "learn": [
                          10.8670445
                        ],
                        "iteration": 868,
                        "passed_time": 211.4678265,
                        "remaining_time": 31.878349,
                        "test": [
                          14.17697466
                        ]
                      },
                      {
                        "learn": [
                          10.86316178
                        ],
                        "iteration": 869,
                        "passed_time": 211.7105482,
                        "remaining_time": 31.63490949,
                        "test": [
                          14.17601792
                        ]
                      },
                      {
                        "learn": [
                          10.85859651
                        ],
                        "iteration": 870,
                        "passed_time": 211.9588997,
                        "remaining_time": 31.39230546,
                        "test": [
                          14.17607965
                        ]
                      },
                      {
                        "learn": [
                          10.85623862
                        ],
                        "iteration": 871,
                        "passed_time": 212.203884,
                        "remaining_time": 31.14919398,
                        "test": [
                          14.17661573
                        ]
                      },
                      {
                        "learn": [
                          10.85340858
                        ],
                        "iteration": 872,
                        "passed_time": 212.413955,
                        "remaining_time": 30.90099918,
                        "test": [
                          14.17629062
                        ]
                      },
                      {
                        "learn": [
                          10.84903535
                        ],
                        "iteration": 873,
                        "passed_time": 212.6525837,
                        "remaining_time": 30.65700863,
                        "test": [
                          14.17619169
                        ]
                      },
                      {
                        "learn": [
                          10.84708873
                        ],
                        "iteration": 874,
                        "passed_time": 212.8517642,
                        "remaining_time": 30.40739489,
                        "test": [
                          14.17600862
                        ]
                      },
                      {
                        "learn": [
                          10.84351285
                        ],
                        "iteration": 875,
                        "passed_time": 213.0642978,
                        "remaining_time": 30.15978645,
                        "test": [
                          14.17593505
                        ]
                      },
                      {
                        "learn": [
                          10.84080832
                        ],
                        "iteration": 876,
                        "passed_time": 213.2744173,
                        "remaining_time": 29.91191941,
                        "test": [
                          14.17569068
                        ]
                      },
                      {
                        "learn": [
                          10.83694441
                        ],
                        "iteration": 877,
                        "passed_time": 213.5318579,
                        "remaining_time": 29.67071375,
                        "test": [
                          14.1747182
                        ]
                      },
                      {
                        "learn": [
                          10.83483353
                        ],
                        "iteration": 878,
                        "passed_time": 213.7469295,
                        "remaining_time": 29.42363876,
                        "test": [
                          14.17505858
                        ]
                      },
                      {
                        "learn": [
                          10.83171291
                        ],
                        "iteration": 879,
                        "passed_time": 213.9839268,
                        "remaining_time": 29.17962639,
                        "test": [
                          14.17520107
                        ]
                      },
                      {
                        "learn": [
                          10.83032162
                        ],
                        "iteration": 880,
                        "passed_time": 214.1770149,
                        "remaining_time": 28.92969894,
                        "test": [
                          14.17466746
                        ]
                      },
                      {
                        "learn": [
                          10.82665218
                        ],
                        "iteration": 881,
                        "passed_time": 214.4428156,
                        "remaining_time": 28.68962839,
                        "test": [
                          14.1729587
                        ]
                      },
                      {
                        "learn": [
                          10.82159129
                        ],
                        "iteration": 882,
                        "passed_time": 214.7016434,
                        "remaining_time": 28.44857563,
                        "test": [
                          14.17203679
                        ]
                      },
                      {
                        "learn": [
                          10.82142124
                        ],
                        "iteration": 883,
                        "passed_time": 214.8844965,
                        "remaining_time": 28.19751312,
                        "test": [
                          14.17199154
                        ]
                      },
                      {
                        "learn": [
                          10.81799313
                        ],
                        "iteration": 884,
                        "passed_time": 215.1271107,
                        "remaining_time": 27.95437031,
                        "test": [
                          14.17027273
                        ]
                      },
                      {
                        "learn": [
                          10.81536202
                        ],
                        "iteration": 885,
                        "passed_time": 215.3609128,
                        "remaining_time": 27.71009488,
                        "test": [
                          14.1700291
                        ]
                      },
                      {
                        "learn": [
                          10.81129331
                        ],
                        "iteration": 886,
                        "passed_time": 215.602499,
                        "remaining_time": 27.46683471,
                        "test": [
                          14.17046391
                        ]
                      },
                      {
                        "learn": [
                          10.80732567
                        ],
                        "iteration": 887,
                        "passed_time": 215.8284746,
                        "remaining_time": 27.22160941,
                        "test": [
                          14.170425
                        ]
                      },
                      {
                        "learn": [
                          10.80526614
                        ],
                        "iteration": 888,
                        "passed_time": 216.0444093,
                        "remaining_time": 26.97517371,
                        "test": [
                          14.17013907
                        ]
                      },
                      {
                        "learn": [
                          10.80062978
                        ],
                        "iteration": 889,
                        "passed_time": 216.272021,
                        "remaining_time": 26.73024979,
                        "test": [
                          14.16993647
                        ]
                      },
                      {
                        "learn": [
                          10.79725224
                        ],
                        "iteration": 890,
                        "passed_time": 216.5109764,
                        "remaining_time": 26.48675245,
                        "test": [
                          14.17001895
                        ]
                      },
                      {
                        "learn": [
                          10.79436343
                        ],
                        "iteration": 891,
                        "passed_time": 216.7652789,
                        "remaining_time": 26.24512345,
                        "test": [
                          14.1699259
                        ]
                      },
                      {
                        "learn": [
                          10.79199539
                        ],
                        "iteration": 892,
                        "passed_time": 217.0246466,
                        "remaining_time": 26.00407299,
                        "test": [
                          14.16963997
                        ]
                      },
                      {
                        "learn": [
                          10.78915684
                        ],
                        "iteration": 893,
                        "passed_time": 217.2879165,
                        "remaining_time": 25.76344424,
                        "test": [
                          14.16906089
                        ]
                      },
                      {
                        "learn": [
                          10.78446965
                        ],
                        "iteration": 894,
                        "passed_time": 217.6066986,
                        "remaining_time": 25.52927749,
                        "test": [
                          14.16845092
                        ]
                      },
                      {
                        "learn": [
                          10.78394329
                        ],
                        "iteration": 895,
                        "passed_time": 217.8580841,
                        "remaining_time": 25.28709905,
                        "test": [
                          14.16851649
                        ]
                      },
                      {
                        "learn": [
                          10.78039428
                        ],
                        "iteration": 896,
                        "passed_time": 218.1525257,
                        "remaining_time": 25.04984408,
                        "test": [
                          14.16947796
                        ]
                      },
                      {
                        "learn": [
                          10.77889016
                        ],
                        "iteration": 897,
                        "passed_time": 218.4128625,
                        "remaining_time": 24.80858794,
                        "test": [
                          14.16887604
                        ]
                      },
                      {
                        "learn": [
                          10.77363158
                        ],
                        "iteration": 898,
                        "passed_time": 218.7238318,
                        "remaining_time": 24.57297777,
                        "test": [
                          14.16732861
                        ]
                      },
                      {
                        "learn": [
                          10.77059897
                        ],
                        "iteration": 899,
                        "passed_time": 219.0289674,
                        "remaining_time": 24.33655193,
                        "test": [
                          14.16667753
                        ]
                      },
                      {
                        "learn": [
                          10.76745974
                        ],
                        "iteration": 900,
                        "passed_time": 219.3345411,
                        "remaining_time": 24.10002172,
                        "test": [
                          14.16626334
                        ]
                      },
                      {
                        "learn": [
                          10.76366696
                        ],
                        "iteration": 901,
                        "passed_time": 219.6143006,
                        "remaining_time": 23.86053377,
                        "test": [
                          14.16445751
                        ]
                      },
                      {
                        "learn": [
                          10.76015694
                        ],
                        "iteration": 902,
                        "passed_time": 219.9094459,
                        "remaining_time": 23.62260937,
                        "test": [
                          14.1647135
                        ]
                      },
                      {
                        "learn": [
                          10.75574579
                        ],
                        "iteration": 903,
                        "passed_time": 220.1875555,
                        "remaining_time": 23.38274925,
                        "test": [
                          14.1632511
                        ]
                      },
                      {
                        "learn": [
                          10.75266967
                        ],
                        "iteration": 904,
                        "passed_time": 220.458175,
                        "remaining_time": 23.14201837,
                        "test": [
                          14.1637936
                        ]
                      },
                      {
                        "learn": [
                          10.7504692
                        ],
                        "iteration": 905,
                        "passed_time": 220.6713844,
                        "remaining_time": 22.89526505,
                        "test": [
                          14.16423113
                        ]
                      },
                      {
                        "learn": [
                          10.74853094
                        ],
                        "iteration": 906,
                        "passed_time": 220.884371,
                        "remaining_time": 22.64856285,
                        "test": [
                          14.16460772
                        ]
                      },
                      {
                        "learn": [
                          10.74260916
                        ],
                        "iteration": 907,
                        "passed_time": 221.1337093,
                        "remaining_time": 22.40561812,
                        "test": [
                          14.16413127
                        ]
                      },
                      {
                        "learn": [
                          10.73918826
                        ],
                        "iteration": 908,
                        "passed_time": 221.3876852,
                        "remaining_time": 22.1631236,
                        "test": [
                          14.16436019
                        ]
                      },
                      {
                        "learn": [
                          10.73574003
                        ],
                        "iteration": 909,
                        "passed_time": 221.6255177,
                        "remaining_time": 21.91900724,
                        "test": [
                          14.16513324
                        ]
                      },
                      {
                        "learn": [
                          10.73152048
                        ],
                        "iteration": 910,
                        "passed_time": 221.8836712,
                        "remaining_time": 21.67688994,
                        "test": [
                          14.1643238
                        ]
                      },
                      {
                        "learn": [
                          10.72915924
                        ],
                        "iteration": 911,
                        "passed_time": 222.1162674,
                        "remaining_time": 21.43227142,
                        "test": [
                          14.16424256
                        ]
                      },
                      {
                        "learn": [
                          10.72553734
                        ],
                        "iteration": 912,
                        "passed_time": 222.3541477,
                        "remaining_time": 21.18818275,
                        "test": [
                          14.16329215
                        ]
                      },
                      {
                        "learn": [
                          10.72317925
                        ],
                        "iteration": 913,
                        "passed_time": 222.5655107,
                        "remaining_time": 20.9416126,
                        "test": [
                          14.1629426
                        ]
                      },
                      {
                        "learn": [
                          10.72011672
                        ],
                        "iteration": 914,
                        "passed_time": 222.7976721,
                        "remaining_time": 20.69705151,
                        "test": [
                          14.16325829
                        ]
                      },
                      {
                        "learn": [
                          10.71783406
                        ],
                        "iteration": 915,
                        "passed_time": 223.0272863,
                        "remaining_time": 20.4522839,
                        "test": [
                          14.16319863
                        ]
                      },
                      {
                        "learn": [
                          10.71645708
                        ],
                        "iteration": 916,
                        "passed_time": 223.244821,
                        "remaining_time": 20.20645599,
                        "test": [
                          14.16350585
                        ]
                      },
                      {
                        "learn": [
                          10.71433476
                        ],
                        "iteration": 917,
                        "passed_time": 223.4654871,
                        "remaining_time": 19.96096944,
                        "test": [
                          14.16273482
                        ]
                      },
                      {
                        "learn": [
                          10.71174927
                        ],
                        "iteration": 918,
                        "passed_time": 223.6824924,
                        "remaining_time": 19.71521424,
                        "test": [
                          14.16141146
                        ]
                      },
                      {
                        "learn": [
                          10.71004466
                        ],
                        "iteration": 919,
                        "passed_time": 223.8919024,
                        "remaining_time": 19.46886108,
                        "test": [
                          14.16057133
                        ]
                      },
                      {
                        "learn": [
                          10.70765741
                        ],
                        "iteration": 920,
                        "passed_time": 224.1412356,
                        "remaining_time": 19.22601261,
                        "test": [
                          14.16072031
                        ]
                      },
                      {
                        "learn": [
                          10.7052478
                        ],
                        "iteration": 921,
                        "passed_time": 224.3680319,
                        "remaining_time": 18.98124348,
                        "test": [
                          14.16066063
                        ]
                      },
                      {
                        "learn": [
                          10.70118651
                        ],
                        "iteration": 922,
                        "passed_time": 224.6193085,
                        "remaining_time": 18.73855553,
                        "test": [
                          14.16029706
                        ]
                      },
                      {
                        "learn": [
                          10.69799441
                        ],
                        "iteration": 923,
                        "passed_time": 224.8458333,
                        "remaining_time": 18.49381313,
                        "test": [
                          14.15948946
                        ]
                      },
                      {
                        "learn": [
                          10.69653306
                        ],
                        "iteration": 924,
                        "passed_time": 225.0333752,
                        "remaining_time": 18.24594934,
                        "test": [
                          14.15961094
                        ]
                      },
                      {
                        "learn": [
                          10.69311704
                        ],
                        "iteration": 925,
                        "passed_time": 225.2454274,
                        "remaining_time": 18.00017454,
                        "test": [
                          14.15894891
                        ]
                      },
                      {
                        "learn": [
                          10.68959563
                        ],
                        "iteration": 926,
                        "passed_time": 225.4643493,
                        "remaining_time": 17.75501348,
                        "test": [
                          14.15887526
                        ]
                      },
                      {
                        "learn": [
                          10.68584476
                        ],
                        "iteration": 927,
                        "passed_time": 225.7147276,
                        "remaining_time": 17.51234955,
                        "test": [
                          14.15968967
                        ]
                      },
                      {
                        "learn": [
                          10.68478286
                        ],
                        "iteration": 928,
                        "passed_time": 225.9232963,
                        "remaining_time": 17.26647367,
                        "test": [
                          14.1589904
                        ]
                      },
                      {
                        "learn": [
                          10.6813541
                        ],
                        "iteration": 929,
                        "passed_time": 226.1778277,
                        "remaining_time": 17.02413757,
                        "test": [
                          14.15848497
                        ]
                      },
                      {
                        "learn": [
                          10.67746055
                        ],
                        "iteration": 930,
                        "passed_time": 226.4069598,
                        "remaining_time": 16.77989283,
                        "test": [
                          14.15773526
                        ]
                      },
                      {
                        "learn": [
                          10.67503514
                        ],
                        "iteration": 931,
                        "passed_time": 226.6506291,
                        "remaining_time": 16.53674118,
                        "test": [
                          14.15693175
                        ]
                      },
                      {
                        "learn": [
                          10.67288718
                        ],
                        "iteration": 932,
                        "passed_time": 226.8610956,
                        "remaining_time": 16.29120408,
                        "test": [
                          14.15759217
                        ]
                      },
                      {
                        "learn": [
                          10.67089719
                        ],
                        "iteration": 933,
                        "passed_time": 227.0758353,
                        "remaining_time": 16.04604403,
                        "test": [
                          14.15721074
                        ]
                      },
                      {
                        "learn": [
                          10.66920965
                        ],
                        "iteration": 934,
                        "passed_time": 227.2868172,
                        "remaining_time": 15.80068783,
                        "test": [
                          14.15781823
                        ]
                      },
                      {
                        "learn": [
                          10.66771626
                        ],
                        "iteration": 935,
                        "passed_time": 227.5087949,
                        "remaining_time": 15.55615692,
                        "test": [
                          14.15752401
                        ]
                      },
                      {
                        "learn": [
                          10.66338492
                        ],
                        "iteration": 936,
                        "passed_time": 227.7530757,
                        "remaining_time": 15.31317371,
                        "test": [
                          14.15571242
                        ]
                      },
                      {
                        "learn": [
                          10.66035525
                        ],
                        "iteration": 937,
                        "passed_time": 227.9695848,
                        "remaining_time": 15.06835209,
                        "test": [
                          14.15573062
                        ]
                      },
                      {
                        "learn": [
                          10.65687138
                        ],
                        "iteration": 938,
                        "passed_time": 228.1956103,
                        "remaining_time": 14.82420898,
                        "test": [
                          14.15627722
                        ]
                      },
                      {
                        "learn": [
                          10.65460781
                        ],
                        "iteration": 939,
                        "passed_time": 228.4296499,
                        "remaining_time": 14.58061595,
                        "test": [
                          14.15652489
                        ]
                      },
                      {
                        "learn": [
                          10.65114964
                        ],
                        "iteration": 940,
                        "passed_time": 228.6520514,
                        "remaining_time": 14.33631353,
                        "test": [
                          14.1556379
                        ]
                      },
                      {
                        "learn": [
                          10.64826622
                        ],
                        "iteration": 941,
                        "passed_time": 228.8642723,
                        "remaining_time": 14.09143078,
                        "test": [
                          14.15541942
                        ]
                      },
                      {
                        "learn": [
                          10.64479529
                        ],
                        "iteration": 942,
                        "passed_time": 229.1132917,
                        "remaining_time": 13.8488416,
                        "test": [
                          14.15525853
                        ]
                      },
                      {
                        "learn": [
                          10.64158009
                        ],
                        "iteration": 943,
                        "passed_time": 229.3511941,
                        "remaining_time": 13.60557931,
                        "test": [
                          14.15487534
                        ]
                      },
                      {
                        "learn": [
                          10.63786244
                        ],
                        "iteration": 944,
                        "passed_time": 229.582567,
                        "remaining_time": 13.36194835,
                        "test": [
                          14.15479235
                        ]
                      },
                      {
                        "learn": [
                          10.63314012
                        ],
                        "iteration": 945,
                        "passed_time": 229.8435209,
                        "remaining_time": 13.12003185,
                        "test": [
                          14.15455607
                        ]
                      },
                      {
                        "learn": [
                          10.63114495
                        ],
                        "iteration": 946,
                        "passed_time": 230.058773,
                        "remaining_time": 12.87551739,
                        "test": [
                          14.15318959
                        ]
                      },
                      {
                        "learn": [
                          10.62891311
                        ],
                        "iteration": 947,
                        "passed_time": 230.2738409,
                        "remaining_time": 12.63105456,
                        "test": [
                          14.15221176
                        ]
                      },
                      {
                        "learn": [
                          10.62674624
                        ],
                        "iteration": 948,
                        "passed_time": 230.504056,
                        "remaining_time": 12.38746771,
                        "test": [
                          14.15171372
                        ]
                      },
                      {
                        "learn": [
                          10.62452815
                        ],
                        "iteration": 949,
                        "passed_time": 230.7628119,
                        "remaining_time": 12.14541115,
                        "test": [
                          14.15116907
                        ]
                      },
                      {
                        "learn": [
                          10.62149812
                        ],
                        "iteration": 950,
                        "passed_time": 230.97429,
                        "remaining_time": 11.9008835,
                        "test": [
                          14.15133297
                        ]
                      },
                      {
                        "learn": [
                          10.61820755
                        ],
                        "iteration": 951,
                        "passed_time": 231.1878785,
                        "remaining_time": 11.65653169,
                        "test": [
                          14.15093146
                        ]
                      },
                      {
                        "learn": [
                          10.61654777
                        ],
                        "iteration": 952,
                        "passed_time": 231.4102778,
                        "remaining_time": 11.41267897,
                        "test": [
                          14.15016822
                        ]
                      },
                      {
                        "learn": [
                          10.61475051
                        ],
                        "iteration": 953,
                        "passed_time": 231.6307443,
                        "remaining_time": 11.16877803,
                        "test": [
                          14.15046217
                        ]
                      },
                      {
                        "learn": [
                          10.61383116
                        ],
                        "iteration": 954,
                        "passed_time": 231.8333997,
                        "remaining_time": 10.9240869,
                        "test": [
                          14.14992298
                        ]
                      },
                      {
                        "learn": [
                          10.61139798
                        ],
                        "iteration": 955,
                        "passed_time": 232.0642432,
                        "remaining_time": 10.68078107,
                        "test": [
                          14.15036687
                        ]
                      },
                      {
                        "learn": [
                          10.60824554
                        ],
                        "iteration": 956,
                        "passed_time": 232.3435489,
                        "remaining_time": 10.43967879,
                        "test": [
                          14.15020338
                        ]
                      },
                      {
                        "learn": [
                          10.60718943
                        ],
                        "iteration": 957,
                        "passed_time": 232.5812148,
                        "remaining_time": 10.19667121,
                        "test": [
                          14.15010426
                        ]
                      },
                      {
                        "learn": [
                          10.60327996
                        ],
                        "iteration": 958,
                        "passed_time": 232.8733044,
                        "remaining_time": 9.956001542,
                        "test": [
                          14.14937106
                        ]
                      },
                      {
                        "learn": [
                          10.59982936
                        ],
                        "iteration": 959,
                        "passed_time": 233.1798249,
                        "remaining_time": 9.715826038,
                        "test": [
                          14.14819132
                        ]
                      },
                      {
                        "learn": [
                          10.59571465
                        ],
                        "iteration": 960,
                        "passed_time": 233.4677242,
                        "remaining_time": 9.474756757,
                        "test": [
                          14.14701911
                        ]
                      },
                      {
                        "learn": [
                          10.59218689
                        ],
                        "iteration": 961,
                        "passed_time": 233.7600399,
                        "remaining_time": 9.233764569,
                        "test": [
                          14.14618702
                        ]
                      },
                      {
                        "learn": [
                          10.58846039
                        ],
                        "iteration": 962,
                        "passed_time": 234.0819223,
                        "remaining_time": 8.99380179,
                        "test": [
                          14.146609
                        ]
                      },
                      {
                        "learn": [
                          10.58476486
                        ],
                        "iteration": 963,
                        "passed_time": 234.3220611,
                        "remaining_time": 8.750616389,
                        "test": [
                          14.14753681
                        ]
                      },
                      {
                        "learn": [
                          10.58267277
                        ],
                        "iteration": 964,
                        "passed_time": 234.5730678,
                        "remaining_time": 8.507831476,
                        "test": [
                          14.14766094
                        ]
                      },
                      {
                        "learn": [
                          10.580216
                        ],
                        "iteration": 965,
                        "passed_time": 234.8286925,
                        "remaining_time": 8.265192076,
                        "test": [
                          14.14689752
                        ]
                      },
                      {
                        "learn": [
                          10.5799044
                        ],
                        "iteration": 966,
                        "passed_time": 235.0199665,
                        "remaining_time": 8.020329777,
                        "test": [
                          14.14696446
                        ]
                      },
                      {
                        "learn": [
                          10.57747022
                        ],
                        "iteration": 967,
                        "passed_time": 235.2451071,
                        "remaining_time": 7.776697756,
                        "test": [
                          14.14682804
                        ]
                      },
                      {
                        "learn": [
                          10.57658899
                        ],
                        "iteration": 968,
                        "passed_time": 235.4317514,
                        "remaining_time": 7.531872334,
                        "test": [
                          14.14715044
                        ]
                      },
                      {
                        "learn": [
                          10.57506325
                        ],
                        "iteration": 969,
                        "passed_time": 235.6306532,
                        "remaining_time": 7.287545974,
                        "test": [
                          14.14756519
                        ]
                      },
                      {
                        "learn": [
                          10.57191642
                        ],
                        "iteration": 970,
                        "passed_time": 235.8523049,
                        "remaining_time": 7.043992629,
                        "test": [
                          14.14826037
                        ]
                      },
                      {
                        "learn": [
                          10.56762635
                        ],
                        "iteration": 971,
                        "passed_time": 236.074773,
                        "remaining_time": 6.800507865,
                        "test": [
                          14.1482879
                        ]
                      },
                      {
                        "learn": [
                          10.56422311
                        ],
                        "iteration": 972,
                        "passed_time": 236.3330399,
                        "remaining_time": 6.558059688,
                        "test": [
                          14.14750122
                        ]
                      },
                      {
                        "learn": [
                          10.56169735
                        ],
                        "iteration": 973,
                        "passed_time": 236.5556442,
                        "remaining_time": 6.314627053,
                        "test": [
                          14.14696192
                        ]
                      },
                      {
                        "learn": [
                          10.55794646
                        ],
                        "iteration": 974,
                        "passed_time": 236.8235025,
                        "remaining_time": 6.0723975,
                        "test": [
                          14.14707376
                        ]
                      },
                      {
                        "learn": [
                          10.55566338
                        ],
                        "iteration": 975,
                        "passed_time": 237.0495984,
                        "remaining_time": 5.829088485,
                        "test": [
                          14.14721738
                        ]
                      },
                      {
                        "learn": [
                          10.55536184
                        ],
                        "iteration": 976,
                        "passed_time": 237.2405092,
                        "remaining_time": 5.584986399,
                        "test": [
                          14.1472517
                        ]
                      },
                      {
                        "learn": [
                          10.55131387
                        ],
                        "iteration": 977,
                        "passed_time": 237.482197,
                        "remaining_time": 5.342135311,
                        "test": [
                          14.14730423
                        ]
                      },
                      {
                        "learn": [
                          10.54838328
                        ],
                        "iteration": 978,
                        "passed_time": 237.7213481,
                        "remaining_time": 5.099232185,
                        "test": [
                          14.14482186
                        ]
                      },
                      {
                        "learn": [
                          10.54646983
                        ],
                        "iteration": 979,
                        "passed_time": 237.9172462,
                        "remaining_time": 4.855454005,
                        "test": [
                          14.14543285
                        ]
                      },
                      {
                        "learn": [
                          10.5428187
                        ],
                        "iteration": 980,
                        "passed_time": 238.1434942,
                        "remaining_time": 4.612361254,
                        "test": [
                          14.1450299
                        ]
                      },
                      {
                        "learn": [
                          10.53728646
                        ],
                        "iteration": 981,
                        "passed_time": 238.4119791,
                        "remaining_time": 4.37007701,
                        "test": [
                          14.14460321
                        ]
                      },
                      {
                        "learn": [
                          10.53458183
                        ],
                        "iteration": 982,
                        "passed_time": 238.6395229,
                        "remaining_time": 4.127031424,
                        "test": [
                          14.14364937
                        ]
                      },
                      {
                        "learn": [
                          10.53225157
                        ],
                        "iteration": 983,
                        "passed_time": 238.8754873,
                        "remaining_time": 3.884154265,
                        "test": [
                          14.1438676
                        ]
                      },
                      {
                        "learn": [
                          10.53039382
                        ],
                        "iteration": 984,
                        "passed_time": 239.0836239,
                        "remaining_time": 3.640867369,
                        "test": [
                          14.14461847
                        ]
                      },
                      {
                        "learn": [
                          10.52662039
                        ],
                        "iteration": 985,
                        "passed_time": 239.315001,
                        "remaining_time": 3.397981759,
                        "test": [
                          14.14535574
                        ]
                      },
                      {
                        "learn": [
                          10.52435955
                        ],
                        "iteration": 986,
                        "passed_time": 239.5337768,
                        "remaining_time": 3.154953494,
                        "test": [
                          14.14564301
                        ]
                      },
                      {
                        "learn": [
                          10.52092523
                        ],
                        "iteration": 987,
                        "passed_time": 239.7560364,
                        "remaining_time": 2.912016637,
                        "test": [
                          14.14516676
                        ]
                      },
                      {
                        "learn": [
                          10.5187099
                        ],
                        "iteration": 988,
                        "passed_time": 239.9718011,
                        "remaining_time": 2.669049356,
                        "test": [
                          14.14551505
                        ]
                      },
                      {
                        "learn": [
                          10.51493968
                        ],
                        "iteration": 989,
                        "passed_time": 240.2077829,
                        "remaining_time": 2.426341242,
                        "test": [
                          14.14408498
                        ]
                      },
                      {
                        "learn": [
                          10.51239296
                        ],
                        "iteration": 990,
                        "passed_time": 240.431653,
                        "remaining_time": 2.183536707,
                        "test": [
                          14.14401083
                        ]
                      },
                      {
                        "learn": [
                          10.51002698
                        ],
                        "iteration": 991,
                        "passed_time": 240.6546679,
                        "remaining_time": 1.940763451,
                        "test": [
                          14.14454389
                        ]
                      },
                      {
                        "learn": [
                          10.5085469
                        ],
                        "iteration": 992,
                        "passed_time": 240.8781031,
                        "remaining_time": 1.698032952,
                        "test": [
                          14.14454686
                        ]
                      },
                      {
                        "learn": [
                          10.50625764
                        ],
                        "iteration": 993,
                        "passed_time": 241.0729215,
                        "remaining_time": 1.455168541,
                        "test": [
                          14.1448888
                        ]
                      },
                      {
                        "learn": [
                          10.50463038
                        ],
                        "iteration": 994,
                        "passed_time": 241.2771348,
                        "remaining_time": 1.212447913,
                        "test": [
                          14.1448905
                        ]
                      },
                      {
                        "learn": [
                          10.50096243
                        ],
                        "iteration": 995,
                        "passed_time": 241.5083764,
                        "remaining_time": 0.9699131582,
                        "test": [
                          14.14425109
                        ]
                      },
                      {
                        "learn": [
                          10.499408
                        ],
                        "iteration": 996,
                        "passed_time": 241.7241812,
                        "remaining_time": 0.7273546074,
                        "test": [
                          14.14430829
                        ]
                      },
                      {
                        "learn": [
                          10.49675643
                        ],
                        "iteration": 997,
                        "passed_time": 241.9355577,
                        "remaining_time": 0.4848407969,
                        "test": [
                          14.1437731
                        ]
                      },
                      {
                        "learn": [
                          10.49631672
                        ],
                        "iteration": 998,
                        "passed_time": 242.1468949,
                        "remaining_time": 0.2423892842,
                        "test": [
                          14.1436892
                        ]
                      },
                      {
                        "learn": [
                          10.49324681
                        ],
                        "iteration": 999,
                        "passed_time": 242.3739414,
                        "remaining_time": 0,
                        "test": [
                          14.14406888
                        ]
                      }
                    ],
                    "meta": {
                      "test_sets": [
                        "test"
                      ],
                      "test_metrics": [
                        {
                          "best_value": "Min",
                          "name": "RMSE"
                        }
                      ],
                      "learn_metrics": [
                        {
                          "best_value": "Min",
                          "name": "RMSE"
                        }
                      ],
                      "launch_mode": "Train",
                      "parameters": "",
                      "iteration_count": 1000,
                      "learn_sets": [
                        "learn"
                      ],
                      "name": "experiment"
                    }
                  }
                }
              }
            },
            "layout": "IPY_MODEL_bf39baf482034b3797f886c4d071ed66"
          }
        }
      }
    },
    "accelerator": "GPU"
  },
  "nbformat": 4,
  "nbformat_minor": 0
}